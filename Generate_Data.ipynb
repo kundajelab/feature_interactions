{
  "nbformat": 4,
  "nbformat_minor": 0,
  "metadata": {
    "colab": {
      "name": "Generate_Data.ipynb",
      "provenance": [],
      "authorship_tag": "ABX9TyNP7C4WO3k+napdxCqCWucE",
      "include_colab_link": true
    },
    "kernelspec": {
      "name": "python3",
      "display_name": "Python 3"
    }
  },
  "cells": [
    {
      "cell_type": "markdown",
      "metadata": {
        "id": "view-in-github",
        "colab_type": "text"
      },
      "source": [
        "<a href=\"https://colab.research.google.com/github/kundajelab/feature_interactions/blob/master/Generate_Data.ipynb\" target=\"_parent\"><img src=\"https://colab.research.google.com/assets/colab-badge.svg\" alt=\"Open In Colab\"/></a>"
      ]
    },
    {
      "cell_type": "code",
      "metadata": {
        "id": "hGRxOSCMpU2U",
        "colab_type": "code",
        "colab": {}
      },
      "source": [
        "from __future__ import division, print_function"
      ],
      "execution_count": 0,
      "outputs": []
    },
    {
      "cell_type": "code",
      "metadata": {
        "id": "IQ_hbCn5pZIt",
        "colab_type": "code",
        "outputId": "8936250f-9e2c-4a85-d807-1aff272214d8",
        "colab": {
          "base_uri": "https://localhost:8080/",
          "height": 340
        }
      },
      "source": [
        "!pip install simdna"
      ],
      "execution_count": 2,
      "outputs": [
        {
          "output_type": "stream",
          "text": [
            "Collecting simdna\n",
            "\u001b[?25l  Downloading https://files.pythonhosted.org/packages/14/c6/dc6cc2e9ac09c85d5ec6d896c6c43c8dd5ef50bb9c14423e9290131dce27/simdna-0.4.3.2.tar.gz (634kB)\n",
            "\u001b[K     |████████████████████████████████| 634kB 2.8MB/s \n",
            "\u001b[?25hRequirement already satisfied: numpy>=1.9 in /usr/local/lib/python3.6/dist-packages (from simdna) (1.18.4)\n",
            "Requirement already satisfied: matplotlib in /usr/local/lib/python3.6/dist-packages (from simdna) (3.2.1)\n",
            "Requirement already satisfied: scipy in /usr/local/lib/python3.6/dist-packages (from simdna) (1.4.1)\n",
            "Requirement already satisfied: cycler>=0.10 in /usr/local/lib/python3.6/dist-packages (from matplotlib->simdna) (0.10.0)\n",
            "Requirement already satisfied: python-dateutil>=2.1 in /usr/local/lib/python3.6/dist-packages (from matplotlib->simdna) (2.8.1)\n",
            "Requirement already satisfied: pyparsing!=2.0.4,!=2.1.2,!=2.1.6,>=2.0.1 in /usr/local/lib/python3.6/dist-packages (from matplotlib->simdna) (2.4.7)\n",
            "Requirement already satisfied: kiwisolver>=1.0.1 in /usr/local/lib/python3.6/dist-packages (from matplotlib->simdna) (1.2.0)\n",
            "Requirement already satisfied: six in /usr/local/lib/python3.6/dist-packages (from cycler>=0.10->matplotlib->simdna) (1.12.0)\n",
            "Building wheels for collected packages: simdna\n",
            "  Building wheel for simdna (setup.py) ... \u001b[?25lerror\n",
            "\u001b[31m  ERROR: Failed building wheel for simdna\u001b[0m\n",
            "\u001b[?25h  Running setup.py clean for simdna\n",
            "Failed to build simdna\n",
            "Installing collected packages: simdna\n",
            "    Running setup.py install for simdna ... \u001b[?25l\u001b[?25hdone\n",
            "Successfully installed simdna-0.4.3.2\n"
          ],
          "name": "stdout"
        }
      ]
    },
    {
      "cell_type": "code",
      "metadata": {
        "id": "mEcJTmxMpafK",
        "colab_type": "code",
        "colab": {}
      },
      "source": [
        "import simdna\n",
        "from simdna import synthetic\n",
        "import numpy as np\n",
        "from collections import OrderedDict\n",
        "import matplotlib.pyplot as plt"
      ],
      "execution_count": 0,
      "outputs": []
    },
    {
      "cell_type": "code",
      "metadata": {
        "id": "ZmhYykCJphSf",
        "colab_type": "code",
        "outputId": "4673d658-c70f-40e0-be8a-d75edd83d331",
        "colab": {
          "base_uri": "https://localhost:8080/",
          "height": 34
        }
      },
      "source": [
        "#set up the simulation\n",
        "simdna.random.seed(1234)\n",
        "np.random.seed(1234)\n",
        "\n",
        "seqLength = 100\n",
        "\n",
        "background_letter_freq = OrderedDict(\n",
        "    [('A', 0.27), ('C', 0.23), ('G', 0.23), ('T', 0.27)])\n",
        "letter_distribution = simdna.util.DiscreteDistribution(background_letter_freq)\n",
        "\n",
        "def get_single_embedder(loadedMotifs, motif_name):\n",
        "  return synthetic.SubstringEmbedder(\n",
        "            substringGenerator=synthetic.PwmSamplerFromLoadedMotifs(loadedMotifs, motif_name),\n",
        "            positionGenerator=synthetic.UniformPositionGenerator(),\n",
        "            name=motif_name)\n",
        "\n",
        "def get_embedder_or_none(loadedMotifs, motif_name):\n",
        "  return synthetic.XOREmbedder(\n",
        "            embedder1 = get_single_embedder(loadedMotifs = loadedMotifs, motif_name = motif_name),\n",
        "            embedder2 = synthetic.RandomSubsetOfEmbedders(\n",
        "                quantityGenerator = synthetic.FixedQuantityGenerator(0),\n",
        "                embedders = \n",
        "                [get_single_embedder(loadedMotifs = loadedMotifs, motif_name = motif_name)]),\n",
        "            probOfFirst = 0.5)\n",
        "\n",
        "loadedMotifs = synthetic.LoadedEncodeMotifs(simdna.ENCODE_MOTIFS_PATH, pseudocountProb=0.001)\n",
        "pwm_GATA_orig = loadedMotifs.loadedMotifs[\"GATA_disc1\"].getRows()\n",
        "pwm_TAL_orig = loadedMotifs.loadedMotifs[\"TAL1_known1\"].getRows()\n",
        "\n",
        "embedInBackground = synthetic.EmbedInABackground(\n",
        "        backgroundGenerator=synthetic.ZeroOrderBackgroundGenerator(\n",
        "            seqLength=seqLength,\n",
        "            discreteDistribution=letter_distribution), \n",
        "        embedders=[\n",
        "            get_embedder_or_none(loadedMotifs, \"GATA_disc1\"),\n",
        "            get_embedder_or_none(loadedMotifs, \"TAL1_known1\")] \n",
        "    )\n",
        "\n",
        "train_sequenceSet = synthetic.GenerateSequenceNTimes(embedInBackground, 50000)\n",
        "test_sequenceSet = synthetic.GenerateSequenceNTimes(embedInBackground, 50000)\n",
        "\n",
        "labelNames = [\"has_gata\", \"has_tal\", \"has_talandgata\"]\n",
        "\n",
        "def labelingFunc(self, generatedSequence):\n",
        "  has_gata = 1 if generatedSequence.additionalInfo.isInTrace(\"GATA_disc1\") else 0\n",
        "  has_tal = 1 if generatedSequence.additionalInfo.isInTrace(\"TAL1_known1\") else 0\n",
        "  has_talandgata = 1 if (has_gata and has_tal) else 0\n",
        "  return [has_gata, has_tal, has_talandgata]\n",
        "\n",
        "synthetic.printSequences(\"train_simulation.simdata\", train_sequenceSet,\n",
        "                         includeFasta=True,\n",
        "                         includeEmbeddings=True,\n",
        "                         labelGenerator=synthetic.LabelGenerator(\n",
        "                             labelNames=labelNames,\n",
        "                             labelsFromGeneratedSequenceFunction=labelingFunc),\n",
        "                         prefix=\"trainsim\")\n",
        "synthetic.printSequences(\"test_simulation.simdata\", test_sequenceSet,\n",
        "                         includeFasta=True,\n",
        "                         includeEmbeddings=True,\n",
        "                         labelGenerator=synthetic.LabelGenerator(\n",
        "                             labelNames=labelNames,\n",
        "                             labelsFromGeneratedSequenceFunction=labelingFunc),\n",
        "                         prefix=\"testsim\")"
      ],
      "execution_count": 4,
      "outputs": [
        {
          "output_type": "stream",
          "text": [
            "Warning: made 10 attemps at trying to embed TAL1_known1-GAGAACAGGTGTGCCG in region of length 100 with 10.0 occupied sites\n"
          ],
          "name": "stdout"
        }
      ]
    },
    {
      "cell_type": "code",
      "metadata": {
        "id": "h-YWPpZlprm2",
        "colab_type": "code",
        "outputId": "a90e8d0f-e52e-4ed1-edbb-8979e46c0291",
        "colab": {
          "base_uri": "https://localhost:8080/",
          "height": 68
        }
      },
      "source": [
        "!md5sum train_simulation.simdata\n",
        "!md5sum test_simulation.simdata\n",
        "\n",
        "train_data = synthetic.read_simdata_file(\"train_simulation.simdata\")\n",
        "test_data = synthetic.read_simdata_file(\"test_simulation.simdata\")\n",
        "count_hasgata, count_hastal, count_tal_and_gata =\\\n",
        "  np.sum(train_data.labels, axis=0)\n",
        "count_only_gata = count_hasgata - count_tal_and_gata\n",
        "count_only_tal = count_hastal - count_tal_and_gata\n",
        "print(count_only_gata, count_only_tal, count_tal_and_gata,\n",
        "      len(train_data.labels)\n",
        "      - (count_only_gata + count_only_tal + count_tal_and_gata))"
      ],
      "execution_count": 5,
      "outputs": [
        {
          "output_type": "stream",
          "text": [
            "fb82dd3c7dc4b53d34b4fd456394de42  train_simulation.simdata\n",
            "85c3688d157254921f64904e71c0372c  test_simulation.simdata\n",
            "12390 12430 12597 12583\n"
          ],
          "name": "stdout"
        }
      ]
    },
    {
      "cell_type": "code",
      "metadata": {
        "id": "c2Lldv9MpzgF",
        "colab_type": "code",
        "colab": {}
      },
      "source": [
        "#this is set up for 1d convolutions where examples\n",
        "#have dimensions (len, num_channels) \n",
        "#the channel axis is the axis for one-hot encoding.\n",
        "def one_hot_encode_along_channel_axis(sequence):\n",
        "    to_return = np.zeros((len(sequence),4), dtype=np.int8)\n",
        "    seq_to_one_hot_fill_in_array(zeros_array=to_return,\n",
        "                                 sequence=sequence, one_hot_axis=1)\n",
        "    return to_return\n",
        "\n",
        "def seq_to_one_hot_fill_in_array(zeros_array, sequence, one_hot_axis):\n",
        "    assert one_hot_axis==0 or one_hot_axis==1\n",
        "    if (one_hot_axis==0):\n",
        "        assert zeros_array.shape[1] == len(sequence)\n",
        "    elif (one_hot_axis==1): \n",
        "        assert zeros_array.shape[0] == len(sequence)\n",
        "    #will mutate zeros_array\n",
        "    for (i,char) in enumerate(sequence):\n",
        "        if (char==\"A\" or char==\"a\"):\n",
        "            char_idx = 0\n",
        "        elif (char==\"C\" or char==\"c\"):\n",
        "            char_idx = 1\n",
        "        elif (char==\"G\" or char==\"g\"):\n",
        "            char_idx = 2\n",
        "        elif (char==\"T\" or char==\"t\"):\n",
        "            char_idx = 3\n",
        "        elif (char==\"N\" or char==\"n\"):\n",
        "            continue #leave that pos as all 0's\n",
        "        else:\n",
        "            raise RuntimeError(\"Unsupported character: \"+str(char))\n",
        "        if (one_hot_axis==0):\n",
        "            zeros_array[char_idx,i] = 1\n",
        "        elif (one_hot_axis==1):\n",
        "            zeros_array[i,char_idx] = 1\n",
        "            \n",
        "train_onehot_data = np.array([one_hot_encode_along_channel_axis(seq)\n",
        "                              for seq in train_data.sequences])\n",
        "test_onehot_data = np.array([one_hot_encode_along_channel_axis(seq)\n",
        "                              for seq in test_data.sequences])"
      ],
      "execution_count": 0,
      "outputs": []
    },
    {
      "cell_type": "code",
      "metadata": {
        "id": "cgvPvOKWp-NJ",
        "colab_type": "code",
        "colab": {}
      },
      "source": [
        "def convert_pwm_to_deltadeltaG(pwm):\n",
        "  deltadeltaG = -np.log(pwm/np.array([background_letter_freq[x]\n",
        "                              for x in ['A', 'C', 'G', 'T']])[None,:])\n",
        "  return deltadeltaG\n",
        "\n",
        "pwm_GATA = convert_pwm_to_deltadeltaG(pwm_GATA_orig)\n",
        "pwm_TAL = convert_pwm_to_deltadeltaG(pwm_TAL_orig)"
      ],
      "execution_count": 0,
      "outputs": []
    },
    {
      "cell_type": "code",
      "metadata": {
        "id": "-61fKncrqFCY",
        "colab_type": "code",
        "colab": {}
      },
      "source": [
        "#do a fast PWM scan with numpy rolling statistics\n",
        "# based on http://www.rigtorp.se/2011/01/01/rolling-statistics-numpy.html\n",
        "MU = 0 #-5\n",
        "def rolling_window(a, window):\n",
        "    shape = a.shape[:-1] + (a.shape[-1] - window + 1, window)\n",
        "    strides = a.strides + (a.strides[-1],)\n",
        "    return np.lib.stride_tricks.as_strided(a, shape=shape, strides=strides)\n",
        "\n",
        "\n",
        "def score_pwm(pwm, onehot_data):\n",
        "  pwm = pwm.transpose((1,0)) #ACGT first\n",
        "  strided_onehot = rolling_window(a=onehot_data.transpose(0,2,1),\n",
        "                                  window=pwm.shape[-1])\n",
        "  strided_scores = np.sum(strided_onehot*pwm[None,:,None,:],axis=(1,3))\n",
        "  return strided_scores\n",
        "\n",
        "\n",
        "def get_count(pwm, onehot_data):\n",
        "  deltadeltaG_mat = score_pwm(pwm=pwm, onehot_data=onehot_data)\n",
        "  pStormo_mat = 1.0/(1.0 + np.exp(deltadeltaG_mat - MU))\n",
        "  expected_count = np.sum(pStormo_mat, axis=-1)\n",
        "  return deltadeltaG_mat, expected_count\n",
        "\n",
        "\n",
        "def get_oracle_preds(onehot_data):\n",
        "  deltadeltaG_mat_GATA, expected_count_GATA = get_count(pwm_GATA, onehot_data)\n",
        "  deltadeltaG_mat_TAL, expected_count_TAL = get_count(pwm_TAL, onehot_data)\n",
        "  sum_gata_and_tal_probs = expected_count_GATA + expected_count_TAL\n",
        "  expected_count_neg = 100 * (expected_count_GATA + expected_count_TAL)\n",
        "  expected_count_pos = 60*((expected_count_GATA + expected_count_TAL)**1.5)\n",
        "  return (expected_count_neg, expected_count_pos, sum_gata_and_tal_probs)\n",
        "\n",
        "\n",
        "def get_noisy_labels(expected_counts, rng):\n",
        "  return rng.poisson(lam=expected_counts,\n",
        "                     size=len(expected_counts))\n",
        "\n",
        "\n",
        "(train_expected_count_neg, train_expected_count_pos,\n",
        " train_sum_gata_and_tal_probs) =\\\n",
        "  get_oracle_preds(train_onehot_data)\n",
        "(test_expected_count_neg, test_expected_count_pos,\n",
        " test_sum_gata_and_tal_probs) =\\\n",
        "  get_oracle_preds(test_onehot_data)\n",
        "rng = np.random.RandomState(1234)\n",
        "train_labels_neg = get_noisy_labels(train_expected_count_neg, rng)\n",
        "train_labels_pos = get_noisy_labels(train_expected_count_pos, rng)\n",
        "test_labels_neg = get_noisy_labels(test_expected_count_neg, rng)\n",
        "test_labels_pos = get_noisy_labels(test_expected_count_pos, rng)\n"
      ],
      "execution_count": 0,
      "outputs": []
    },
    {
      "cell_type": "code",
      "metadata": {
        "id": "91BluooOMuyS",
        "colab_type": "code",
        "colab": {
          "base_uri": "https://localhost:8080/",
          "height": 304
        },
        "outputId": "4c8c6803-5e5f-420c-f257-13e0067dceb5"
      },
      "source": [
        "%matplotlib inline\n",
        "\n",
        "plt.rc('font', size=13)\n",
        "handles = []\n",
        "handles.append(plt.scatter(test_sum_gata_and_tal_probs, test_expected_count_neg, color=\"red\", s=5))\n",
        "handles.append(plt.scatter(test_sum_gata_and_tal_probs, test_expected_count_pos, color=\"blue\", s=5))\n",
        "plt.xlabel(\"$q_i$ (Sum of occupancy probabilities\\nfor TAL1 and GATA1 across sequence)\")\n",
        "plt.ylabel(\"Expected counts\")\n",
        "plt.legend(handles, [\"Negative control\", \"Positive control\"])\n",
        "plt.show()"
      ],
      "execution_count": 31,
      "outputs": [
        {
          "output_type": "display_data",
          "data": {
            "image/png": "[encoded data removed]",
            "text/plain": [
              "<Figure size 432x288 with 1 Axes>"
            ]
          },
          "metadata": {
            "tags": [],
            "needs_background": "light"
          }
        }
      ]
    },
    {
      "cell_type": "code",
      "metadata": {
        "id": "0BxCEbbjqce4",
        "colab_type": "code",
        "outputId": "45591568-f16d-4209-ca08-f95a96d313e2",
        "colab": {
          "base_uri": "https://localhost:8080/",
          "height": 573
        }
      },
      "source": [
        "%matplotlib inline\n",
        "from matplotlib import pyplot as plt\n",
        "plt.plot(train_expected_count_neg, train_expected_count_neg, color=\"black\")\n",
        "plt.scatter(train_expected_count_neg, train_labels_neg, alpha=0.01)\n",
        "plt.title(\"Negative Control\")\n",
        "plt.xlabel(\"Oracle label\")\n",
        "plt.ylabel(\"Sampled label\")\n",
        "plt.show()\n",
        "\n",
        "plt.plot(train_expected_count_pos, train_expected_count_pos, color=\"black\")\n",
        "plt.scatter(train_expected_count_pos, train_labels_pos, alpha=0.01)\n",
        "plt.title(\"Positive Control\")\n",
        "plt.xlabel(\"Oracle label\")\n",
        "plt.ylabel(\"Sampled label\")\n",
        "plt.show()"
      ],
      "execution_count": 9,
      "outputs": [
        {
          "output_type": "display_data",
          "data": {
            "image/png": "[encoded data removed]",
            "text/plain": [
              "<Figure size 432x288 with 1 Axes>"
            ]
          },
          "metadata": {
            "tags": [],
            "needs_background": "light"
          }
        },
        {
          "output_type": "display_data",
          "data": {
            "image/png": "[encoded data removed]",
            "text/plain": [
              "<Figure size 432x288 with 1 Axes>"
            ]
          },
          "metadata": {
            "tags": [],
            "needs_background": "light"
          }
        }
      ]
    },
    {
      "cell_type": "code",
      "metadata": {
        "id": "FBFXTfJ9-8UZ",
        "colab_type": "code",
        "outputId": "16e6576d-243d-4a32-b728-10b57092d124",
        "colab": {
          "base_uri": "https://localhost:8080/",
          "height": 279
        }
      },
      "source": [
        "plt.plot(train_expected_count_neg, train_expected_count_neg, color=\"black\")\n",
        "plt.xlabel(\"Negative control oracle label\")\n",
        "plt.ylabel(\"Positive control oracle label\")\n",
        "plt.scatter(train_expected_count_neg, train_expected_count_pos)\n",
        "plt.show()"
      ],
      "execution_count": 10,
      "outputs": [
        {
          "output_type": "display_data",
          "data": {
            "image/png": "[encoded data removed]",
            "text/plain": [
              "<Figure size 432x288 with 1 Axes>"
            ]
          },
          "metadata": {
            "tags": [],
            "needs_background": "light"
          }
        }
      ]
    },
    {
      "cell_type": "code",
      "metadata": {
        "id": "cV-mcQyZaKb5",
        "colab_type": "code",
        "outputId": "bd075348-327f-47dc-c7d1-471c93c46092",
        "colab": {
          "base_uri": "https://localhost:8080/",
          "height": 513
        }
      },
      "source": [
        "plt.hist(train_labels_neg, density=True, alpha=0.5, bins=20)\n",
        "plt.hist(test_labels_neg, density=True, alpha=0.5, bins=20)\n",
        "plt.show()\n",
        "\n",
        "plt.hist(train_labels_pos, density=True, alpha=0.5, bins=20)\n",
        "plt.hist(test_labels_pos, density=True, alpha=0.5, bins=20)\n",
        "plt.show()"
      ],
      "execution_count": 11,
      "outputs": [
        {
          "output_type": "display_data",
          "data": {
            "image/png": "[encoded data removed]",
            "text/plain": [
              "<Figure size 432x288 with 1 Axes>"
            ]
          },
          "metadata": {
            "tags": [],
            "needs_background": "light"
          }
        },
        {
          "output_type": "display_data",
          "data": {
            "image/png": "[encoded data removed]",
            "text/plain": [
              "<Figure size 432x288 with 1 Axes>"
            ]
          },
          "metadata": {
            "tags": [],
            "needs_background": "light"
          }
        }
      ]
    },
    {
      "cell_type": "code",
      "metadata": {
        "id": "PIHg5e9Nqk1u",
        "colab_type": "code",
        "colab": {}
      },
      "source": [
        "def save_labels(filename, exp_count, labels):\n",
        "  labels_fh = open(filename, \"w\")\n",
        "  labels_fh.write(\"\\n\".join([str(lab)+\"\\t\"+str(exp) for (exp, lab)\n",
        "                      in zip(exp_count, labels)]))\n",
        "  labels_fh.close()  \n",
        "\n",
        "save_labels(\"train_neg_labels.txt\", train_expected_count_neg, train_labels_neg)\n",
        "save_labels(\"train_pos_labels.txt\", train_expected_count_pos, train_labels_pos)\n",
        "save_labels(\"test_neg_labels.txt\", test_expected_count_neg, test_labels_neg)\n",
        "save_labels(\"test_pos_labels.txt\", test_expected_count_pos, test_labels_pos)"
      ],
      "execution_count": 0,
      "outputs": []
    },
    {
      "cell_type": "markdown",
      "metadata": {
        "id": "aVhne3RGe6k6",
        "colab_type": "text"
      },
      "source": [
        "Prep the \"knocked out\" sequences"
      ]
    },
    {
      "cell_type": "code",
      "metadata": {
        "id": "2NpUVUVnkSCr",
        "colab_type": "code",
        "colab": {}
      },
      "source": [
        "\n",
        "def is_separation_valid(gata_start, tal_start):\n",
        "  #separation_needed is the separation needed between\n",
        "  # motifs so that there's no ground-truth interaction\n",
        "  separation_needed = max(len(pwm_TAL), len(pwm_GATA))-1\n",
        "  return ((gata_start-tal_start >= len(pwm_TAL)+separation_needed) or\n",
        "          (tal_start-gata_start >= len(pwm_GATA)+separation_needed))\n",
        "  \n",
        "def sample_gata_and_tal_positions(seqlen, rng):\n",
        "  while True:\n",
        "    gata_start = rng.randint(0, (seqlen-len(pwm_GATA)+1))\n",
        "    tal_start = rng.randint(0, (seqlen-len(pwm_TAL)+1))\n",
        "    if is_separation_valid(gata_start=gata_start, tal_start=tal_start):\n",
        "      return (gata_start, tal_start)\n",
        "\n",
        "def get_indices_and_motif_positions_to_analyze(embeddings_list, onehot_data):\n",
        "  rng = np.random.RandomState(1234)\n",
        "  #only consider sequences \n",
        "  toanalyze_info = []\n",
        "  toanalyze_info_control = [] #also get random positions as a control\n",
        "  for i in range(len(embeddings_list)):\n",
        "    embeddings = embeddings_list[i]\n",
        "    if (len(embeddings)==2):\n",
        "      if embeddings[0].what.stringDescription==\"GATA_disc1\":\n",
        "        assert embeddings[1].what.stringDescription==\"TAL1_known1\"\n",
        "        gata_start = embeddings[0].startPos\n",
        "        tal_start = embeddings[1].startPos\n",
        "      else:\n",
        "        assert embeddings[0].what.stringDescription==\"TAL1_known1\"\n",
        "        assert embeddings[1].what.stringDescription==\"GATA_disc1\"\n",
        "        gata_start = embeddings[1].startPos\n",
        "        tal_start = embeddings[0].startPos\n",
        "      if is_separation_valid(gata_start=gata_start, tal_start=tal_start):\n",
        "        gata_onehot = onehot_data[i][gata_start:gata_start+len(pwm_GATA)]\n",
        "        tal_onehot = onehot_data[i][tal_start:tal_start+len(pwm_TAL)]\n",
        "        gata_score = np.sum(pwm_GATA*gata_onehot)\n",
        "        tal_score = np.sum(pwm_TAL*tal_onehot)\n",
        "        if (gata_score < -2 and tal_score < -2):\n",
        "          toanalyze_info.append( (i, gata_start, tal_start) )\n",
        "          \n",
        "          #Get randomly sampled positions\n",
        "          new_gata_start, new_tal_start = sample_gata_and_tal_positions(\n",
        "              seqlen=len(onehot_data[i]), rng=rng)\n",
        "          toanalyze_info_control.append( (i, new_gata_start, new_tal_start) )\n",
        "  return toanalyze_info, toanalyze_info_control\n",
        "\n",
        "\n",
        "def sample_onehot(len, rng):\n",
        "  sampled_onehot = []\n",
        "  for i in range(len):\n",
        "    arr = [0,0,0,0]\n",
        "    arr[rng.randint(0, 4)] = 1\n",
        "    sampled_onehot.append(arr)\n",
        "  return np.array(sampled_onehot)\n",
        "\n",
        "\n",
        "def get_low_scoring_pwm_instance(pwm, rng):\n",
        "  score = None\n",
        "  while True:\n",
        "    sampled_onehot = sample_onehot(len=len(pwm), rng=rng)\n",
        "    score = np.sum(pwm*sampled_onehot)\n",
        "    if (score > 10):\n",
        "      break\n",
        "  return sampled_onehot\n",
        "\n",
        "\n",
        "def get_toanalyze_data(toanalyze_info, onehot_data, labels_pos, labels_neg):\n",
        "\n",
        "  rng = np.random.RandomState(1234)\n",
        "  toanalyze_bothoff = []\n",
        "  toanalyze_gataoff = []\n",
        "  toanalyze_taloff = []\n",
        "  toanalyze_orig = []\n",
        "  toanalyze_orig_neg_labels = []\n",
        "  toanalyze_orig_pos_labels = []\n",
        "\n",
        "  for test_idx, gata_start, tal_start in toanalyze_info:\n",
        "    onehot = onehot_data[test_idx]\n",
        "    toanalyze_orig_neg_labels.append(labels_neg[test_idx])\n",
        "    toanalyze_orig_pos_labels.append(labels_pos[test_idx])\n",
        "    tal_replacement = get_low_scoring_pwm_instance(pwm=pwm_TAL, rng=rng)\n",
        "    gata_replacement = get_low_scoring_pwm_instance(pwm=pwm_GATA, rng=rng)\n",
        "    tal_off = np.array(onehot)\n",
        "    tal_off[tal_start:tal_start+len(pwm_TAL)] = tal_replacement\n",
        "    gata_off = np.array(onehot)\n",
        "    gata_off[gata_start:gata_start+len(pwm_GATA)] = gata_replacement    \n",
        "    both_off = np.array(gata_off)\n",
        "    both_off[tal_start:tal_start+len(pwm_TAL)] = tal_replacement\n",
        "    toanalyze_orig.append(onehot)\n",
        "    toanalyze_taloff.append(tal_off)\n",
        "    toanalyze_gataoff.append(gata_off)\n",
        "    toanalyze_bothoff.append(both_off)\n",
        "\n",
        "  (toanalyze_orig, toanalyze_taloff, toanalyze_gataoff, toanalyze_bothoff,\n",
        "   toanalyze_orig_neg_labels, toanalyze_orig_pos_labels) =(\n",
        "    np.array(toanalyze_orig), np.array(toanalyze_taloff),\n",
        "    np.array(toanalyze_gataoff), np.array(toanalyze_bothoff),\n",
        "    np.array(toanalyze_orig_neg_labels), np.array(toanalyze_orig_pos_labels) )\n",
        "   \n",
        "  return (toanalyze_orig, toanalyze_taloff, toanalyze_gataoff,\n",
        "           toanalyze_bothoff, toanalyze_orig_neg_labels,\n",
        "           toanalyze_orig_pos_labels)"
      ],
      "execution_count": 0,
      "outputs": []
    },
    {
      "cell_type": "code",
      "metadata": {
        "id": "naH7pHtKfjsS",
        "colab_type": "code",
        "colab": {}
      },
      "source": [
        "test_toanalyze_info, controltest_toanalyze_info =\\\n",
        "  get_indices_and_motif_positions_to_analyze(\n",
        "      embeddings_list=test_data.embeddings,\n",
        "      onehot_data=test_onehot_data)\n",
        "\n",
        "(test_toanalyze_orig, test_toanalyze_taloff,\n",
        " test_toanalyze_gataoff, test_toanalyze_bothoff, test_toanalyze_orig_neg_labels,\n",
        " test_toanalyze_orig_pos_labels) = get_toanalyze_data(\n",
        "     toanalyze_info=test_toanalyze_info,\n",
        "     onehot_data=test_onehot_data,\n",
        "     labels_pos=test_labels_pos,\n",
        "     labels_neg=test_labels_neg)\n",
        "\n",
        "(controltest_toanalyze_orig,\n",
        " controltest_toanalyze_taloff,\n",
        " controltest_toanalyze_gataoff,\n",
        " controltest_toanalyze_bothoff,\n",
        " controltest_toanalyze_orig_neg_labels,\n",
        " controltest_toanalyze_orig_pos_labels) = get_toanalyze_data(\n",
        "     toanalyze_info=controltest_toanalyze_info,\n",
        "     onehot_data=test_onehot_data,\n",
        "     labels_pos=test_labels_pos,\n",
        "     labels_neg=test_labels_neg)\n",
        " \n",
        "assert np.max(np.abs(controltest_toanalyze_orig-test_toanalyze_orig))==0\n",
        "assert np.max(np.abs(controltest_toanalyze_orig_neg_labels\n",
        "                       -test_toanalyze_orig_neg_labels))==0\n",
        "assert np.max(np.abs(controltest_toanalyze_orig_pos_labels\n",
        "                       -test_toanalyze_orig_pos_labels))==0\n",
        "\n",
        "\n",
        "train_set_size=int(0.8*len(train_onehot_data))\n",
        "train_toanalyze_info, controltrain_toanalyze_info =\\\n",
        "  get_indices_and_motif_positions_to_analyze(\n",
        "                        embeddings_list=train_data.embeddings[:train_set_size],\n",
        "                        onehot_data=train_onehot_data[:train_set_size])\n",
        "\n",
        "(train_toanalyze_orig, train_toanalyze_taloff,\n",
        " train_toanalyze_gataoff, train_toanalyze_bothoff,\n",
        " train_toanalyze_orig_neg_labels, train_toanalyze_orig_pos_labels) = get_toanalyze_data(\n",
        "     toanalyze_info=train_toanalyze_info,\n",
        "     onehot_data=train_onehot_data[:train_set_size],\n",
        "     labels_pos=train_labels_pos[:train_set_size],\n",
        "     labels_neg=train_labels_neg[:train_set_size])\n",
        " \n",
        "(controltrain_toanalyze_orig,\n",
        " controltrain_toanalyze_taloff,\n",
        " controltrain_toanalyze_gataoff,\n",
        " controltrain_toanalyze_bothoff,\n",
        " controltrain_toanalyze_orig_neg_labels,\n",
        " controltrain_toanalyze_orig_pos_labels) = get_toanalyze_data(\n",
        "     toanalyze_info=controltrain_toanalyze_info,\n",
        "     onehot_data=train_onehot_data,\n",
        "     labels_pos=train_labels_pos,\n",
        "     labels_neg=train_labels_neg)\n",
        " \n",
        "assert np.max(np.abs(controltrain_toanalyze_orig-train_toanalyze_orig))==0\n",
        "assert np.max(np.abs(controltrain_toanalyze_orig_neg_labels\n",
        "                       -train_toanalyze_orig_neg_labels))==0\n",
        "assert np.max(np.abs(controltrain_toanalyze_orig_pos_labels\n",
        "                       -train_toanalyze_orig_pos_labels))==0\n"
      ],
      "execution_count": 0,
      "outputs": []
    },
    {
      "cell_type": "code",
      "metadata": {
        "id": "uDCjj951f40K",
        "colab_type": "code",
        "outputId": "26af966b-acf2-43b5-db39-32847c2846d0",
        "colab": {
          "base_uri": "https://localhost:8080/",
          "height": 405
        }
      },
      "source": [
        "#sanity check the labels/expected\n",
        "\n",
        "def sanity_check(toanalyze_orig, toanalyze_taloff, toanalyze_gataoff,\n",
        "                 toanalyze_bothoff, toanalyze_orig_neg_labels=None,\n",
        "                 toanalyze_orig_pos_labels=None):\n",
        "\n",
        "  print(\"Numbed in toanalyze_orig\", len(toanalyze_orig))\n",
        "\n",
        "  (toanalyze_orig_expected_count_neg,\n",
        "  toanalyze_orig_expected_count_pos) =\\\n",
        "    get_oracle_preds(toanalyze_orig)\n",
        "  (toanalyze_gataoff_expected_count_neg,\n",
        "  toanalyze_gataoff_expected_count_pos) =\\\n",
        "    get_oracle_preds(toanalyze_gataoff)\n",
        "  (toanalyze_taloff_expected_count_neg,\n",
        "  toanalyze_taloff_expected_count_pos) =\\\n",
        "    get_oracle_preds(toanalyze_taloff)\n",
        "  (toanalyze_bothoff_expected_count_neg,\n",
        "  toanalyze_bothoff_expected_count_pos) =\\\n",
        "    get_oracle_preds(toanalyze_bothoff)\n",
        "\n",
        "  if (toanalyze_orig_neg_labels is not None):  \n",
        "    plt.plot(toanalyze_orig_expected_count_neg,\n",
        "            toanalyze_orig_expected_count_neg,\n",
        "            color=\"black\")\n",
        "    plt.scatter(toanalyze_orig_expected_count_neg,\n",
        "                toanalyze_orig_neg_labels)\n",
        "    plt.show()\n",
        "  if (toanalyze_orig_pos_labels is not None):\n",
        "    plt.plot(toanalyze_orig_expected_count_pos,\n",
        "            toanalyze_orig_expected_count_pos,\n",
        "            color=\"black\")\n",
        "    plt.scatter(toanalyze_orig_expected_count_pos,\n",
        "                toanalyze_orig_pos_labels)\n",
        "    plt.show()\n",
        "  \n",
        "  plt.plot(toanalyze_orig_expected_count_neg,\n",
        "          toanalyze_orig_expected_count_neg,\n",
        "          color=\"black\")\n",
        "  plt.scatter(toanalyze_orig_expected_count_neg,\n",
        "              toanalyze_orig_expected_count_pos)\n",
        "  plt.show()\n",
        "\n",
        "  #sanity check negative control and positive control interactions\n",
        "  groundtruth_gatacontrib_neg = (toanalyze_taloff_expected_count_neg -\n",
        "                                toanalyze_bothoff_expected_count_neg)\n",
        "  groundtruth_talcontrib_neg = (toanalyze_gataoff_expected_count_neg -\n",
        "                                toanalyze_bothoff_expected_count_neg)\n",
        "  groundtruth_jointcontrib_neg = (toanalyze_orig_expected_count_neg -\n",
        "                                  toanalyze_bothoff_expected_count_neg)\n",
        "\n",
        "  groundtruth_gatacontrib_pos = (toanalyze_taloff_expected_count_pos -\n",
        "                                toanalyze_bothoff_expected_count_pos)\n",
        "  groundtruth_talcontrib_pos = (toanalyze_gataoff_expected_count_pos -\n",
        "                                toanalyze_bothoff_expected_count_pos)\n",
        "  groundtruth_jointcontrib_pos = (toanalyze_orig_expected_count_pos -\n",
        "                                  toanalyze_bothoff_expected_count_pos)\n",
        "\n",
        "  groundtruth_neg_maineff = (groundtruth_gatacontrib_neg\n",
        "                             + groundtruth_talcontrib_neg)\n",
        "\n",
        "  groundtruth_neg_interactions = (groundtruth_jointcontrib_neg -\n",
        "    (groundtruth_gatacontrib_neg + groundtruth_talcontrib_neg))\n",
        "  groundtruth_pos_interactions = (groundtruth_jointcontrib_pos -\n",
        "    (groundtruth_gatacontrib_pos + groundtruth_talcontrib_pos))\n",
        "\n",
        "  print(\"max neg control interaction:\", max(groundtruth_neg_interactions))\n",
        "  assert max(groundtruth_neg_interactions) < 1e-7\n",
        "\n",
        "  plt.hist(groundtruth_pos_interactions, density=True, bins=20)\n",
        "  plt.title(\"pos control interactions\")\n",
        "  plt.show()\n",
        "\n",
        "  return (toanalyze_orig_expected_count_neg,\n",
        "          toanalyze_orig_expected_count_pos,\n",
        "          groundtruth_pos_interactions,\n",
        "          groundtruth_neg_maineff)\n",
        "\n",
        "\n",
        "print(\"test set sanity check:\")\n",
        "(test_toanalyze_groundtruth_orig_neg,\n",
        " test_toanalyze_groundtruth_orig_pos,\n",
        " test_toanalyze_groundtruth_pos_interactions,\n",
        " test_toanalyze_groundtruth_neg_maineff) = sanity_check(\n",
        "             toanalyze_orig=test_toanalyze_orig,\n",
        "             toanalyze_taloff=test_toanalyze_taloff,\n",
        "             toanalyze_gataoff=test_toanalyze_gataoff,\n",
        "             toanalyze_bothoff=test_toanalyze_bothoff,\n",
        "             toanalyze_orig_neg_labels=test_toanalyze_orig_neg_labels,\n",
        "             toanalyze_orig_pos_labels=test_toanalyze_orig_pos_labels)\n",
        "\n",
        "print(\"controltest set sanity check:\")\n",
        "_ = sanity_check(toanalyze_orig=controltest_toanalyze_orig,\n",
        "             toanalyze_taloff=controltest_toanalyze_taloff,\n",
        "             toanalyze_gataoff=controltest_toanalyze_gataoff,\n",
        "             toanalyze_bothoff=controltest_toanalyze_bothoff,\n",
        "             toanalyze_orig_neg_labels=controltest_toanalyze_orig_neg_labels,\n",
        "             toanalyze_orig_pos_labels=controltest_toanalyze_orig_pos_labels)\n",
        "\n",
        "print(\"train set sanity check:\")\n",
        "_ = sanity_check(toanalyze_orig=train_toanalyze_orig,\n",
        "             toanalyze_taloff=train_toanalyze_taloff,\n",
        "             toanalyze_gataoff=train_toanalyze_gataoff,\n",
        "             toanalyze_bothoff=train_toanalyze_bothoff,\n",
        "             toanalyze_orig_neg_labels=train_toanalyze_orig_neg_labels,\n",
        "             toanalyze_orig_pos_labels=train_toanalyze_orig_pos_labels)\n",
        "\n",
        "print(\"controltrain set sanity check:\")\n",
        "_ = sanity_check(toanalyze_orig=controltrain_toanalyze_orig,\n",
        "             toanalyze_taloff=controltrain_toanalyze_taloff,\n",
        "             toanalyze_gataoff=controltrain_toanalyze_gataoff,\n",
        "             toanalyze_bothoff=controltrain_toanalyze_bothoff,\n",
        "             toanalyze_orig_neg_labels=controltrain_toanalyze_orig_neg_labels,\n",
        "             toanalyze_orig_pos_labels=controltrain_toanalyze_orig_pos_labels)"
      ],
      "execution_count": 15,
      "outputs": [
        {
          "output_type": "stream",
          "text": [
            "test set sanity check:\n",
            "Numbed in toanalyze_orig 7971\n"
          ],
          "name": "stdout"
        },
        {
          "output_type": "error",
          "ename": "ValueError",
          "evalue": "ignored",
          "traceback": [
            "\u001b[0;31m---------------------------------------------------------------------------\u001b[0m",
            "\u001b[0;31mValueError\u001b[0m                                Traceback (most recent call last)",
            "\u001b[0;32m<ipython-input-15-71e15f28331a>\u001b[0m in \u001b[0;36m<module>\u001b[0;34m()\u001b[0m\n\u001b[1;32m     88\u001b[0m              \u001b[0mtoanalyze_bothoff\u001b[0m\u001b[0;34m=\u001b[0m\u001b[0mtest_toanalyze_bothoff\u001b[0m\u001b[0;34m,\u001b[0m\u001b[0;34m\u001b[0m\u001b[0;34m\u001b[0m\u001b[0m\n\u001b[1;32m     89\u001b[0m              \u001b[0mtoanalyze_orig_neg_labels\u001b[0m\u001b[0;34m=\u001b[0m\u001b[0mtest_toanalyze_orig_neg_labels\u001b[0m\u001b[0;34m,\u001b[0m\u001b[0;34m\u001b[0m\u001b[0;34m\u001b[0m\u001b[0m\n\u001b[0;32m---> 90\u001b[0;31m              toanalyze_orig_pos_labels=test_toanalyze_orig_pos_labels)\n\u001b[0m\u001b[1;32m     91\u001b[0m \u001b[0;34m\u001b[0m\u001b[0m\n\u001b[1;32m     92\u001b[0m \u001b[0mprint\u001b[0m\u001b[0;34m(\u001b[0m\u001b[0;34m\"controltest set sanity check:\"\u001b[0m\u001b[0;34m)\u001b[0m\u001b[0;34m\u001b[0m\u001b[0;34m\u001b[0m\u001b[0m\n",
            "\u001b[0;32m<ipython-input-15-71e15f28331a>\u001b[0m in \u001b[0;36msanity_check\u001b[0;34m(toanalyze_orig, toanalyze_taloff, toanalyze_gataoff, toanalyze_bothoff, toanalyze_orig_neg_labels, toanalyze_orig_pos_labels)\u001b[0m\n\u001b[1;32m      9\u001b[0m   (toanalyze_orig_expected_count_neg,\n\u001b[1;32m     10\u001b[0m   toanalyze_orig_expected_count_pos) =\\\n\u001b[0;32m---> 11\u001b[0;31m     \u001b[0mget_oracle_preds\u001b[0m\u001b[0;34m(\u001b[0m\u001b[0mtoanalyze_orig\u001b[0m\u001b[0;34m)\u001b[0m\u001b[0;34m\u001b[0m\u001b[0;34m\u001b[0m\u001b[0m\n\u001b[0m\u001b[1;32m     12\u001b[0m   (toanalyze_gataoff_expected_count_neg,\n\u001b[1;32m     13\u001b[0m   toanalyze_gataoff_expected_count_pos) =\\\n",
            "\u001b[0;31mValueError\u001b[0m: too many values to unpack (expected 2)"
          ]
        }
      ]
    },
    {
      "cell_type": "markdown",
      "metadata": {
        "id": "2urblVnx_a2E",
        "colab_type": "text"
      },
      "source": [
        "Write out the info pertaining to the sequences to analyze"
      ]
    },
    {
      "cell_type": "code",
      "metadata": {
        "id": "A8d8DYN4_lgy",
        "colab_type": "code",
        "colab": {}
      },
      "source": [
        "acgt_string = \"ACGT\"\n",
        "\n",
        "\n",
        "def onehots_to_seqs(onehots):\n",
        "  return [\"\".join([acgt_string[acgt_idx] for acgt_idx in x])\n",
        "          for x in np.argmax(onehots, axis=-1)]\n",
        "\n",
        "\n",
        "def write_arr_to_file(arr, filename):\n",
        "  with open(filename,'w') as fh:\n",
        "    fh.write(\"\\n\".join([str(x) for x in arr]))\n",
        "\n",
        "\n",
        "write_arr_to_file(arr=onehots_to_seqs(test_toanalyze_orig),\n",
        "                  filename=\"test_toanalyze_orig_seqs.txt\")\n",
        "write_arr_to_file(arr=onehots_to_seqs(test_toanalyze_gataoff),\n",
        "                  filename=\"test_toanalyze_gataoff_seqs.txt\")\n",
        "write_arr_to_file(arr=onehots_to_seqs(test_toanalyze_taloff),\n",
        "                  filename=\"test_toanalyze_taloff_seqs.txt\")\n",
        "write_arr_to_file(arr=onehots_to_seqs(test_toanalyze_bothoff),\n",
        "                  filename=\"test_toanalyze_bothoff_seqs.txt\")\n",
        "\n",
        "write_arr_to_file(arr=test_toanalyze_orig_neg_labels,\n",
        "                  filename=\"test_toanalyze_orig_neg_labels.txt\")\n",
        "write_arr_to_file(arr=test_toanalyze_orig_pos_labels,\n",
        "                  filename=\"test_toanalyze_orig_pos_labels.txt\")\n",
        "\n",
        "write_arr_to_file(arr=onehots_to_seqs(controltest_toanalyze_gataoff),\n",
        "                  filename=\"controltest_toanalyze_gataoff_seqs.txt\")\n",
        "write_arr_to_file(arr=onehots_to_seqs(controltest_toanalyze_taloff),\n",
        "                  filename=\"controltest_toanalyze_taloff_seqs.txt\")\n",
        "write_arr_to_file(arr=onehots_to_seqs(controltest_toanalyze_bothoff),\n",
        "                  filename=\"controltest_toanalyze_bothoff_seqs.txt\")\n",
        "\n",
        "write_arr_to_file(arr=test_toanalyze_groundtruth_orig_neg,\n",
        "                  filename=\"test_toanalyze_groundtruth_orig_neg.txt\")\n",
        "write_arr_to_file(arr=test_toanalyze_groundtruth_orig_pos,\n",
        "                  filename=\"test_toanalyze_groundtruth_orig_pos.txt\")\n",
        "write_arr_to_file(arr=test_toanalyze_groundtruth_pos_interactions,\n",
        "                  filename=\"test_toanalyze_groundtruth_pos_interactions.txt\")\n",
        "write_arr_to_file(arr=test_toanalyze_groundtruth_neg_maineff,\n",
        "                  filename=\"test_toanalyze_groundtruth_neg_maineff.txt\")\n",
        "\n",
        "write_arr_to_file(arr=onehots_to_seqs(train_toanalyze_orig),\n",
        "                  filename=\"train_toanalyze_orig_seqs.txt\")\n",
        "write_arr_to_file(arr=onehots_to_seqs(train_toanalyze_gataoff),\n",
        "                  filename=\"train_toanalyze_gataoff_seqs.txt\")\n",
        "write_arr_to_file(arr=onehots_to_seqs(train_toanalyze_taloff),\n",
        "                  filename=\"train_toanalyze_taloff_seqs.txt\")\n",
        "write_arr_to_file(arr=onehots_to_seqs(train_toanalyze_bothoff),\n",
        "                  filename=\"train_toanalyze_bothoff_seqs.txt\")\n",
        "\n",
        "write_arr_to_file(arr=train_toanalyze_orig_neg_labels,\n",
        "                  filename=\"train_toanalyze_orig_neg_labels.txt\")\n",
        "write_arr_to_file(arr=train_toanalyze_orig_pos_labels,\n",
        "                  filename=\"train_toanalyze_orig_pos_labels.txt\")\n",
        "\n",
        "write_arr_to_file(arr=onehots_to_seqs(controltrain_toanalyze_gataoff),\n",
        "                  filename=\"controltrain_toanalyze_gataoff_seqs.txt\")\n",
        "write_arr_to_file(arr=onehots_to_seqs(controltrain_toanalyze_taloff),\n",
        "                  filename=\"controltrain_toanalyze_taloff_seqs.txt\")\n",
        "write_arr_to_file(arr=onehots_to_seqs(controltrain_toanalyze_bothoff),\n",
        "                  filename=\"controltrain_toanalyze_bothoff_seqs.txt\")\n"
      ],
      "execution_count": 0,
      "outputs": []
    },
    {
      "cell_type": "code",
      "metadata": {
        "id": "24LRONW-93kk",
        "colab_type": "code",
        "colab": {}
      },
      "source": [
        "!pip install deeplift"
      ],
      "execution_count": 0,
      "outputs": []
    },
    {
      "cell_type": "code",
      "metadata": {
        "id": "GYHY2SC39jxs",
        "colab_type": "code",
        "colab": {}
      },
      "source": [
        "from deeplift.dinuc_shuffle import dinuc_shuffle\n",
        "#similarly create a bunch of shuffled sequences to see how\n",
        "# that behaves as a control\n",
        "\n",
        "rng = np.random.RandomState(1234)\n",
        "shuff_toanalyze_bothoff = []\n",
        "shuff_toanalyze_gataoff = []\n",
        "shuff_toanalyze_taloff = []\n",
        "shuff_toanalyze_orig = []\n",
        "\n",
        "for test_idx, gata_start, tal_start in test_toanalyze_info:\n",
        "  onehot = dinuc_shuffle(test_onehot_data[test_idx], rng=rng)\n",
        "  tal_replacement = sample_onehot(len=len(pwm_TAL), rng=rng)\n",
        "  gata_replacement = sample_onehot(len=len(pwm_GATA), rng=rng)\n",
        "  tal_off = np.array(onehot)\n",
        "  tal_off[tal_start:tal_start+len(pwm_TAL)] = tal_replacement\n",
        "  gata_off = np.array(onehot)\n",
        "  gata_off[gata_start:gata_start+len(pwm_GATA)] = gata_replacement    \n",
        "  both_off = np.array(gata_off)\n",
        "  both_off[tal_start:tal_start+len(pwm_TAL)] = tal_replacement\n",
        "  shuff_toanalyze_orig.append(onehot)\n",
        "  shuff_toanalyze_taloff.append(tal_off)\n",
        "  shuff_toanalyze_gataoff.append(gata_off)\n",
        "  shuff_toanalyze_bothoff.append(both_off)\n",
        "\n",
        "(shuff_toanalyze_orig, shuff_toanalyze_taloff,\n",
        " shuff_toanalyze_gataoff, shuff_toanalyze_bothoff) =(\n",
        "  np.array(shuff_toanalyze_orig), np.array(shuff_toanalyze_taloff),\n",
        "  np.array(shuff_toanalyze_gataoff), np.array(shuff_toanalyze_bothoff))\n",
        " \n",
        " "
      ],
      "execution_count": 0,
      "outputs": []
    },
    {
      "cell_type": "code",
      "metadata": {
        "id": "z_d5oVbsr2Qr",
        "colab_type": "code",
        "colab": {}
      },
      "source": [
        "(shuff_toanalyze_orig_expected_count_neg,\n",
        " shuff_toanalyze_orig_expected_count_pos) =\\\n",
        "  get_oracle_preds(shuff_toanalyze_orig)"
      ],
      "execution_count": 0,
      "outputs": []
    },
    {
      "cell_type": "code",
      "metadata": {
        "id": "nLNWBGmVRqbe",
        "colab_type": "code",
        "colab": {}
      },
      "source": [
        "sanity_check(toanalyze_orig=shuff_toanalyze_orig,\n",
        "             toanalyze_taloff=shuff_toanalyze_taloff,\n",
        "             toanalyze_gataoff=shuff_toanalyze_gataoff,\n",
        "             toanalyze_bothoff=shuff_toanalyze_bothoff,\n",
        "             toanalyze_orig_neg_labels=None,\n",
        "             toanalyze_orig_pos_labels=None)\n"
      ],
      "execution_count": 0,
      "outputs": []
    },
    {
      "cell_type": "code",
      "metadata": {
        "id": "sbEa2kDKFbOB",
        "colab_type": "code",
        "colab": {}
      },
      "source": [
        "#Another sanity check...what are the labels on the shuff sequences\n",
        "plt.hist(shuff_toanalyze_orig_expected_count_neg, density=True, bins=20)\n",
        "plt.title(\"Shuff labels\")\n",
        "plt.show()"
      ],
      "execution_count": 0,
      "outputs": []
    },
    {
      "cell_type": "code",
      "metadata": {
        "id": "nxjlsADaFaDs",
        "colab_type": "code",
        "colab": {}
      },
      "source": [
        "write_arr_to_file(arr=onehots_to_seqs(shuff_toanalyze_orig),\n",
        "                  filename=\"shuff_toanalyze_orig_seqs.txt\")\n",
        "write_arr_to_file(arr=onehots_to_seqs(shuff_toanalyze_gataoff),\n",
        "                  filename=\"shuff_toanalyze_gataoff_seqs.txt\")\n",
        "write_arr_to_file(arr=onehots_to_seqs(shuff_toanalyze_taloff),\n",
        "                  filename=\"shuff_toanalyze_taloff_seqs.txt\")\n",
        "write_arr_to_file(arr=onehots_to_seqs(shuff_toanalyze_bothoff),\n",
        "                  filename=\"shuff_toanalyze_bothoff_seqs.txt\")\n",
        "write_arr_to_file(arr=shuff_toanalyze_orig_expected_count_neg,\n",
        "                  filename=\"shuff_toanalyze_orig_oraclepred_neg.txt\")\n",
        "write_arr_to_file(arr=shuff_toanalyze_orig_expected_count_pos,\n",
        "                  filename=\"shuff_toanalyze_orig_oraclepred_pos.txt\")"
      ],
      "execution_count": 0,
      "outputs": []
    },
    {
      "cell_type": "code",
      "metadata": {
        "id": "CXpMlMbrr2jD",
        "colab_type": "code",
        "colab": {}
      },
      "source": [
        "!head train_neg_labels.txt"
      ],
      "execution_count": 0,
      "outputs": []
    },
    {
      "cell_type": "code",
      "metadata": {
        "id": "KVcxGHd2uDEB",
        "colab_type": "code",
        "colab": {}
      },
      "source": [
        "!head train_pos_labels.txt"
      ],
      "execution_count": 0,
      "outputs": []
    },
    {
      "cell_type": "code",
      "metadata": {
        "id": "1QCgCRJ2r3wc",
        "colab_type": "code",
        "colab": {}
      },
      "source": [
        "!gzip -f *.txt\n",
        "!gzip -f *.simdata\n",
        "\n",
        "!du -h *"
      ],
      "execution_count": 0,
      "outputs": []
    },
    {
      "cell_type": "code",
      "metadata": {
        "id": "AcIpVASdsDyj",
        "colab_type": "code",
        "colab": {}
      },
      "source": [
        "from google.colab import files\n",
        "files.download(\"train_simulation.simdata.gz\")\n",
        "files.download(\"train_neg_labels.txt.gz\")\n",
        "files.download(\"train_pos_labels.txt.gz\")\n",
        "\n",
        "files.download(\"test_simulation.simdata.gz\")\n",
        "files.download(\"test_neg_labels.txt.gz\")\n",
        "files.download(\"test_pos_labels.txt.gz\")\n",
        "\n",
        "files.download(\"test_toanalyze_orig_seqs.txt.gz\")\n",
        "files.download(\"test_toanalyze_taloff_seqs.txt.gz\")\n",
        "files.download(\"test_toanalyze_gataoff_seqs.txt.gz\")\n",
        "files.download(\"test_toanalyze_bothoff_seqs.txt.gz\")\n",
        "\n",
        "files.download(\"test_toanalyze_orig_pos_labels.txt.gz\")\n",
        "files.download(\"test_toanalyze_orig_neg_labels.txt.gz\")\n",
        "\n",
        "files.download(\"test_toanalyze_groundtruth_orig_neg.txt.gz\")\n",
        "files.download(\"test_toanalyze_groundtruth_orig_pos.txt.gz\")\n",
        "files.download(\"test_toanalyze_groundtruth_pos_interactions.txt.gz\")\n",
        "files.download(\"test_toanalyze_groundtruth_neg_maineff.txt.gz\")\n",
        "\n",
        "\n",
        "files.download(\"controltest_toanalyze_taloff_seqs.txt.gz\")\n",
        "files.download(\"controltest_toanalyze_gataoff_seqs.txt.gz\")\n",
        "files.download(\"controltest_toanalyze_bothoff_seqs.txt.gz\")\n",
        "\n",
        "files.download(\"train_toanalyze_orig_seqs.txt.gz\")\n",
        "files.download(\"train_toanalyze_taloff_seqs.txt.gz\")\n",
        "files.download(\"train_toanalyze_gataoff_seqs.txt.gz\")\n",
        "files.download(\"train_toanalyze_bothoff_seqs.txt.gz\")\n",
        "\n",
        "files.download(\"train_toanalyze_orig_pos_labels.txt.gz\")\n",
        "files.download(\"train_toanalyze_orig_neg_labels.txt.gz\")\n",
        "\n",
        "files.download(\"controltrain_toanalyze_taloff_seqs.txt.gz\")\n",
        "files.download(\"controltrain_toanalyze_gataoff_seqs.txt.gz\")\n",
        "files.download(\"controltrain_toanalyze_bothoff_seqs.txt.gz\")\n",
        "\n",
        "files.download(\"shuff_toanalyze_orig_seqs.txt.gz\")\n",
        "files.download(\"shuff_toanalyze_taloff_seqs.txt.gz\")\n",
        "files.download(\"shuff_toanalyze_gataoff_seqs.txt.gz\")\n",
        "files.download(\"shuff_toanalyze_bothoff_seqs.txt.gz\")\n",
        "\n",
        "files.download(\"shuff_toanalyze_orig_oraclepred_neg.txt.gz\")\n",
        "files.download(\"shuff_toanalyze_orig_oraclepred_pos.txt.gz\")"
      ],
      "execution_count": 0,
      "outputs": []
    },
    {
      "cell_type": "code",
      "metadata": {
        "id": "yhoGpicRIUiI",
        "colab_type": "code",
        "colab": {}
      },
      "source": [
        ""
      ],
      "execution_count": 0,
      "outputs": []
    }
  ]
}