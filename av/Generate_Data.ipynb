{
  "nbformat": 4,
  "nbformat_minor": 0,
  "metadata": {
    "colab": {
      "name": "Generate_Data.ipynb",
      "provenance": [],
      "authorship_tag": "ABX9TyO5JqwBxwRhEwQ6sneKp0EA",
      "include_colab_link": true
    },
    "kernelspec": {
      "name": "python3",
      "display_name": "Python 3"
    }
  },
  "cells": [
    {
      "cell_type": "markdown",
      "metadata": {
        "id": "view-in-github",
        "colab_type": "text"
      },
      "source": [
        "<a href=\"https://colab.research.google.com/github/kundajelab/mfinkels_work/blob/master/av/Generate_Data.ipynb\" target=\"_parent\"><img src=\"https://colab.research.google.com/assets/colab-badge.svg\" alt=\"Open In Colab\"/></a>"
      ]
    },
    {
      "cell_type": "code",
      "metadata": {
        "id": "hGRxOSCMpU2U",
        "colab_type": "code",
        "colab": {}
      },
      "source": [
        "from __future__ import division, print_function"
      ],
      "execution_count": 0,
      "outputs": []
    },
    {
      "cell_type": "code",
      "metadata": {
        "id": "IQ_hbCn5pZIt",
        "colab_type": "code",
        "colab": {
          "base_uri": "https://localhost:8080/",
          "height": 488
        },
        "outputId": "a2cab5b5-bb54-4255-c69b-2da706e199a1"
      },
      "source": [
        "!pip install simdna\n",
        "!pip install deeplift"
      ],
      "execution_count": 2,
      "outputs": [
        {
          "output_type": "stream",
          "text": [
            "Collecting simdna\n",
            "\u001b[?25l  Downloading https://files.pythonhosted.org/packages/14/c6/dc6cc2e9ac09c85d5ec6d896c6c43c8dd5ef50bb9c14423e9290131dce27/simdna-0.4.3.2.tar.gz (634kB)\n",
            "\u001b[K     |████████████████████████████████| 634kB 3.3MB/s \n",
            "\u001b[?25hRequirement already satisfied: numpy>=1.9 in /usr/local/lib/python3.6/dist-packages (from simdna) (1.18.4)\n",
            "Requirement already satisfied: matplotlib in /usr/local/lib/python3.6/dist-packages (from simdna) (3.2.1)\n",
            "Requirement already satisfied: scipy in /usr/local/lib/python3.6/dist-packages (from simdna) (1.4.1)\n",
            "Requirement already satisfied: python-dateutil>=2.1 in /usr/local/lib/python3.6/dist-packages (from matplotlib->simdna) (2.8.1)\n",
            "Requirement already satisfied: pyparsing!=2.0.4,!=2.1.2,!=2.1.6,>=2.0.1 in /usr/local/lib/python3.6/dist-packages (from matplotlib->simdna) (2.4.7)\n",
            "Requirement already satisfied: kiwisolver>=1.0.1 in /usr/local/lib/python3.6/dist-packages (from matplotlib->simdna) (1.2.0)\n",
            "Requirement already satisfied: cycler>=0.10 in /usr/local/lib/python3.6/dist-packages (from matplotlib->simdna) (0.10.0)\n",
            "Requirement already satisfied: six>=1.5 in /usr/local/lib/python3.6/dist-packages (from python-dateutil>=2.1->matplotlib->simdna) (1.12.0)\n",
            "Building wheels for collected packages: simdna\n",
            "  Building wheel for simdna (setup.py) ... \u001b[?25lerror\n",
            "\u001b[31m  ERROR: Failed building wheel for simdna\u001b[0m\n",
            "\u001b[?25h  Running setup.py clean for simdna\n",
            "Failed to build simdna\n",
            "Installing collected packages: simdna\n",
            "    Running setup.py install for simdna ... \u001b[?25l\u001b[?25hdone\n",
            "Successfully installed simdna-0.4.3.2\n",
            "Collecting deeplift\n",
            "  Downloading https://files.pythonhosted.org/packages/6f/7a/905c4f87229f5d5e6939e146f6c5864433c1c244632a4a4af31c403942ae/deeplift-0.6.10.0.tar.gz\n",
            "Requirement already satisfied: numpy>=1.9 in /usr/local/lib/python3.6/dist-packages (from deeplift) (1.18.4)\n",
            "Building wheels for collected packages: deeplift\n",
            "  Building wheel for deeplift (setup.py) ... \u001b[?25l\u001b[?25hdone\n",
            "  Created wheel for deeplift: filename=deeplift-0.6.10.0-cp36-none-any.whl size=34063 sha256=2d87638461093757b58ba2dd06dfc4605f51f2aaa918c61d4e1d1ddc2635a8be\n",
            "  Stored in directory: /root/.cache/pip/wheels/3a/16/f1/d6b985cafb1dbe671cf9254d1b08c18dcd8f4487a09ff778a9\n",
            "Successfully built deeplift\n",
            "Installing collected packages: deeplift\n",
            "Successfully installed deeplift-0.6.10.0\n"
          ],
          "name": "stdout"
        }
      ]
    },
    {
      "cell_type": "code",
      "metadata": {
        "id": "mEcJTmxMpafK",
        "colab_type": "code",
        "colab": {}
      },
      "source": [
        "import simdna\n",
        "from simdna import synthetic\n",
        "import numpy as np\n",
        "from collections import OrderedDict\n",
        "#from simdna.util import DEFAULT_LETTER_TO_INDEX\n",
        "import scipy\n",
        "from scipy.stats import spearmanr, pearsonr\n",
        "import deeplift\n",
        "from deeplift.dinuc_shuffle import dinuc_shuffle\n",
        "from sklearn.model_selection import train_test_split\n",
        "from sklearn.utils import resample\n",
        "import matplotlib.pyplot as plt"
      ],
      "execution_count": 0,
      "outputs": []
    },
    {
      "cell_type": "code",
      "metadata": {
        "id": "ZmhYykCJphSf",
        "colab_type": "code",
        "colab": {}
      },
      "source": [
        "#set up the simulation\n",
        "simdna.random.seed(1234)\n",
        "np.random.seed(1234)\n",
        "\n",
        "seqLength = 100\n",
        "\n",
        "background_letter_freq = OrderedDict(\n",
        "    [('A', 0.27), ('C', 0.23), ('G', 0.23), ('T', 0.27)])\n",
        "letter_distribution = simdna.util.DiscreteDistribution(background_letter_freq)\n",
        "\n",
        "def get_single_embedder(loadedMotifs, motif_name):\n",
        "  return synthetic.SubstringEmbedder(\n",
        "            substringGenerator=synthetic.PwmSamplerFromLoadedMotifs(loadedMotifs, motif_name),\n",
        "            positionGenerator=synthetic.UniformPositionGenerator(),\n",
        "            name=motif_name)\n",
        "\n",
        "def get_embedder_or_none(loadedMotifs, motif_name):\n",
        "  return synthetic.XOREmbedder(\n",
        "            embedder1 = get_single_embedder(loadedMotifs = loadedMotifs, motif_name = motif_name),\n",
        "            embedder2 = synthetic.RandomSubsetOfEmbedders(\n",
        "                quantityGenerator = synthetic.FixedQuantityGenerator(0),\n",
        "                embedders = \n",
        "                [get_single_embedder(loadedMotifs = loadedMotifs, motif_name = motif_name)]),\n",
        "            probOfFirst = 0.5)\n",
        "\n",
        "loadedMotifs = synthetic.LoadedEncodeMotifs(simdna.ENCODE_MOTIFS_PATH, pseudocountProb=0.001)\n",
        "pwm_GATA_orig = loadedMotifs.loadedMotifs[\"GATA_disc1\"].getRows()\n",
        "pwm_TAL_orig = loadedMotifs.loadedMotifs[\"TAL1_known1\"].getRows()\n",
        "\n",
        "embedInBackground = synthetic.EmbedInABackground(\n",
        "        backgroundGenerator=synthetic.ZeroOrderBackgroundGenerator(\n",
        "            seqLength=seqLength,\n",
        "            discreteDistribution=letter_distribution), \n",
        "        embedders=[\n",
        "            get_embedder_or_none(loadedMotifs, \"GATA_disc1\"),\n",
        "            get_embedder_or_none(loadedMotifs, \"TAL1_known1\")] \n",
        "    )\n",
        "\n",
        "numSeqs = 50000 #30K train, 10K valid, 10K test\n",
        "sequenceSet = synthetic.GenerateSequenceNTimes(embedInBackground, numSeqs)\n",
        "\n",
        "labelNames = [\"has_gata\", \"has_tal\", \"has_talandgata\"]\n",
        "\n",
        "def labelingFunc(self, generatedSequence):\n",
        "  has_gata = 1 if generatedSequence.additionalInfo.isInTrace(\"GATA_disc1\") else 0\n",
        "  has_tal = 1 if generatedSequence.additionalInfo.isInTrace(\"TAL1_known1\") else 0\n",
        "  has_talandgata = 1 if (has_gata and has_tal) else 0\n",
        "  return [has_gata, has_tal, has_talandgata]\n",
        "\n",
        "synthetic.printSequences(\"simulation.simdata\", sequenceSet,\n",
        "                         includeFasta=True,\n",
        "                         includeEmbeddings=True,\n",
        "                         labelGenerator=synthetic.LabelGenerator(\n",
        "                             labelNames=labelNames,\n",
        "                             labelsFromGeneratedSequenceFunction=labelingFunc),\n",
        "                         prefix=\"sim\")"
      ],
      "execution_count": 0,
      "outputs": []
    },
    {
      "cell_type": "code",
      "metadata": {
        "id": "h-YWPpZlprm2",
        "colab_type": "code",
        "colab": {
          "base_uri": "https://localhost:8080/",
          "height": 50
        },
        "outputId": "cd8792c1-588a-4278-f314-8fb987e1c217"
      },
      "source": [
        "!md5sum simulation.simdata\n",
        "\n",
        "data = synthetic.read_simdata_file(\"simulation.simdata\")\n",
        "count_hasgata, count_hastal, count_tal_and_gata = np.sum(data.labels, axis=0)\n",
        "count_only_gata = count_hasgata - count_tal_and_gata\n",
        "count_only_tal = count_hastal - count_tal_and_gata\n",
        "print(count_only_gata, count_only_tal, count_tal_and_gata,\n",
        "      len(data.labels) - (count_only_gata + count_only_tal + count_tal_and_gata))"
      ],
      "execution_count": 5,
      "outputs": [
        {
          "output_type": "stream",
          "text": [
            "28490a9cd104baf7de558df0e01e7eef  simulation.simdata\n",
            "12390 12430 12597 12583\n"
          ],
          "name": "stdout"
        }
      ]
    },
    {
      "cell_type": "code",
      "metadata": {
        "id": "c2Lldv9MpzgF",
        "colab_type": "code",
        "colab": {}
      },
      "source": [
        "#this is set up for 1d convolutions where examples\n",
        "#have dimensions (len, num_channels) \n",
        "#the channel axis is the axis for one-hot encoding.\n",
        "def one_hot_encode_along_channel_axis(sequence):\n",
        "    to_return = np.zeros((len(sequence),4), dtype=np.int8)\n",
        "    seq_to_one_hot_fill_in_array(zeros_array=to_return,\n",
        "                                 sequence=sequence, one_hot_axis=1)\n",
        "    return to_return\n",
        "\n",
        "def seq_to_one_hot_fill_in_array(zeros_array, sequence, one_hot_axis):\n",
        "    assert one_hot_axis==0 or one_hot_axis==1\n",
        "    if (one_hot_axis==0):\n",
        "        assert zeros_array.shape[1] == len(sequence)\n",
        "    elif (one_hot_axis==1): \n",
        "        assert zeros_array.shape[0] == len(sequence)\n",
        "    #will mutate zeros_array\n",
        "    for (i,char) in enumerate(sequence):\n",
        "        if (char==\"A\" or char==\"a\"):\n",
        "            char_idx = 0\n",
        "        elif (char==\"C\" or char==\"c\"):\n",
        "            char_idx = 1\n",
        "        elif (char==\"G\" or char==\"g\"):\n",
        "            char_idx = 2\n",
        "        elif (char==\"T\" or char==\"t\"):\n",
        "            char_idx = 3\n",
        "        elif (char==\"N\" or char==\"n\"):\n",
        "            continue #leave that pos as all 0's\n",
        "        else:\n",
        "            raise RuntimeError(\"Unsupported character: \"+str(char))\n",
        "        if (one_hot_axis==0):\n",
        "            zeros_array[char_idx,i] = 1\n",
        "        elif (one_hot_axis==1):\n",
        "            zeros_array[i,char_idx] = 1\n",
        "            \n",
        "onehot_data = np.array([one_hot_encode_along_channel_axis(seq) for seq in data.sequences])"
      ],
      "execution_count": 0,
      "outputs": []
    },
    {
      "cell_type": "code",
      "metadata": {
        "id": "cgvPvOKWp-NJ",
        "colab_type": "code",
        "colab": {}
      },
      "source": [
        "def convert_pwm_to_deltadeltaG(pwm):\n",
        "  deltadeltaG = -np.log(pwm/np.array([background_letter_freq[x]\n",
        "                              for x in ['A', 'C', 'G', 'T']])[None,:])\n",
        "  return deltadeltaG\n",
        "\n",
        "pwm_GATA = convert_pwm_to_deltadeltaG(pwm_GATA_orig)\n",
        "pwm_TAL = convert_pwm_to_deltadeltaG(pwm_TAL_orig)"
      ],
      "execution_count": 0,
      "outputs": []
    },
    {
      "cell_type": "code",
      "metadata": {
        "id": "-61fKncrqFCY",
        "colab_type": "code",
        "colab": {}
      },
      "source": [
        "#do a fast PWM scan with numpy rolling statistics\n",
        "# based on http://www.rigtorp.se/2011/01/01/rolling-statistics-numpy.html\n",
        "MU = 0 #-5\n",
        "def rolling_window(a, window):\n",
        "    shape = a.shape[:-1] + (a.shape[-1] - window + 1, window)\n",
        "    strides = a.strides + (a.strides[-1],)\n",
        "    return np.lib.stride_tricks.as_strided(a, shape=shape, strides=strides)\n",
        "\n",
        "def score_pwm(pwm, onehot_data):\n",
        "  pwm = pwm.transpose((1,0)) #ACGT first\n",
        "  strided_onehot = rolling_window(a=onehot_data.transpose(0,2,1),\n",
        "                                  window=pwm.shape[-1])\n",
        "  strided_scores = np.sum(strided_onehot*pwm[None,:,None,:],axis=(1,3))\n",
        "  return strided_scores\n",
        "\n",
        "def get_count(pwm, onehot_data):\n",
        "  deltadeltaG_mat = score_pwm(pwm=pwm, onehot_data=onehot_data)\n",
        "  pStormo_mat = 1.0/(1.0 + np.exp(deltadeltaG_mat - MU))\n",
        "  expected_count = np.sum(pStormo_mat, axis=-1)\n",
        "  return deltadeltaG_mat, expected_count\n",
        "\n",
        "deltadeltaG_mat_GATA, expected_count_GATA = get_count(pwm_GATA, onehot_data)\n",
        "deltadeltaG_mat_TAL, expected_count_TAL = get_count(pwm_TAL, onehot_data)\n",
        "\n",
        "expected_count_neg = 100 * (expected_count_GATA + expected_count_TAL)\n",
        "expected_count_pos = 60*((expected_count_GATA + expected_count_TAL)**1.5)\n",
        "rng = np.random.RandomState(1234)\n",
        "labels_neg = rng.poisson(lam=expected_count_neg, size=len(expected_count_neg))\n",
        "labels_pos = rng.poisson(lam=expected_count_pos, size=len(expected_count_pos))"
      ],
      "execution_count": 0,
      "outputs": []
    },
    {
      "cell_type": "code",
      "metadata": {
        "id": "0BxCEbbjqce4",
        "colab_type": "code",
        "colab": {
          "base_uri": "https://localhost:8080/",
          "height": 515
        },
        "outputId": "a6f2ab29-5572-44fc-868f-1cece7ab541b"
      },
      "source": [
        "%matplotlib inline\n",
        "from matplotlib import pyplot as plt\n",
        "plt.scatter(expected_count_neg, labels_neg, alpha=0.01)\n",
        "plt.show()\n",
        "\n",
        "plt.scatter(expected_count_pos, labels_pos, alpha=0.01)\n",
        "plt.show()"
      ],
      "execution_count": 9,
      "outputs": [
        {
          "output_type": "display_data",
          "data": {
            "image/png": "[encoded data removed]",
            "text/plain": [
              "<Figure size 432x288 with 1 Axes>"
            ]
          },
          "metadata": {
            "tags": [],
            "needs_background": "light"
          }
        },
        {
          "output_type": "display_data",
          "data": {
            "image/png": "[encoded data removed]",
            "text/plain": [
              "<Figure size 432x288 with 1 Axes>"
            ]
          },
          "metadata": {
            "tags": [],
            "needs_background": "light"
          }
        }
      ]
    },
    {
      "cell_type": "code",
      "metadata": {
        "id": "PIHg5e9Nqk1u",
        "colab_type": "code",
        "colab": {}
      },
      "source": [
        "#save the labels\n",
        "neg_labels_fh = open(\"neg_labels.txt\", \"w\")\n",
        "neg_labels_fh.write(\"\\n\".join([str(lab)+\"\\t\"+str(exp) for (exp, lab)\n",
        "                    in zip(expected_count_neg, labels_neg)]))\n",
        "neg_labels_fh.close()\n",
        "\n",
        "#save the labels\n",
        "pos_labels_fh = open(\"pos_labels.txt\", \"w\")\n",
        "pos_labels_fh.write(\"\\n\".join([str(lab)+\"\\t\"+str(exp) for (exp, lab)\n",
        "                    in zip(expected_count_pos, labels_pos)]))\n",
        "pos_labels_fh.close()"
      ],
      "execution_count": 0,
      "outputs": []
    },
    {
      "cell_type": "code",
      "metadata": {
        "id": "CXpMlMbrr2jD",
        "colab_type": "code",
        "colab": {
          "base_uri": "https://localhost:8080/",
          "height": 180
        },
        "outputId": "f9eb2eab-2bb0-4af7-943b-42e57d1a195e"
      },
      "source": [
        "!head neg_labels.txt"
      ],
      "execution_count": 11,
      "outputs": [
        {
          "output_type": "stream",
          "text": [
            "5\t3.9556714333663376\n",
            "0\t0.8723493322167508\n",
            "183\t165.86628508719633\n",
            "83\t82.91478903189929\n",
            "109\t102.47376788600042\n",
            "115\t112.80948366668682\n",
            "0\t0.2505610132630518\n",
            "109\t113.12165963419002\n",
            "208\t235.77379484710877\n",
            "142\t120.82657161930747\n"
          ],
          "name": "stdout"
        }
      ]
    },
    {
      "cell_type": "code",
      "metadata": {
        "id": "KVcxGHd2uDEB",
        "colab_type": "code",
        "colab": {
          "base_uri": "https://localhost:8080/",
          "height": 180
        },
        "outputId": "cc57cade-3f85-4960-d05e-e54345bd4918"
      },
      "source": [
        "!head pos_labels.txt"
      ],
      "execution_count": 12,
      "outputs": [
        {
          "output_type": "stream",
          "text": [
            "0\t0.47204300550326533\n",
            "0\t0.0488862697472111\n",
            "121\t128.17060289394672\n",
            "38\t45.300109361586486\n",
            "60\t62.24010378600618\n",
            "72\t71.89019598160023\n",
            "0\t0.0075252597546593145\n",
            "81\t72.18881330157092\n",
            "210\t217.21736987999986\n",
            "77\t79.68836743977995\n"
          ],
          "name": "stdout"
        }
      ]
    },
    {
      "cell_type": "code",
      "metadata": {
        "id": "1QCgCRJ2r3wc",
        "colab_type": "code",
        "colab": {
          "base_uri": "https://localhost:8080/",
          "height": 115
        },
        "outputId": "49b5dd68-2463-465a-e302-13f51b3bf81e"
      },
      "source": [
        "!gzip neg_labels.txt\n",
        "!gzip pos_labels.txt\n",
        "!gzip simulation.simdata\n",
        "!du -h *"
      ],
      "execution_count": 13,
      "outputs": [
        {
          "output_type": "stream",
          "text": [
            "512K\tneg_labels.txt.gz\n",
            "508K\tpos_labels.txt.gz\n",
            "55M\tsample_data\n",
            "5.6M\tsimulation.fa\n",
            "4.0K\tsimulation_info.txt\n",
            "2.0M\tsimulation.simdata.gz\n"
          ],
          "name": "stdout"
        }
      ]
    },
    {
      "cell_type": "code",
      "metadata": {
        "id": "AcIpVASdsDyj",
        "colab_type": "code",
        "colab": {}
      },
      "source": [
        ""
      ],
      "execution_count": 0,
      "outputs": []
    }
  ]
}