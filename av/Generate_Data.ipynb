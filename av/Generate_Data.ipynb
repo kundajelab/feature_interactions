{
  "nbformat": 4,
  "nbformat_minor": 0,
  "metadata": {
    "colab": {
      "name": "Generate_Data.ipynb",
      "provenance": [],
      "authorship_tag": "ABX9TyPVqj8XCI8e5DwKkVSSk2In",
      "include_colab_link": true
    },
    "kernelspec": {
      "name": "python3",
      "display_name": "Python 3"
    }
  },
  "cells": [
    {
      "cell_type": "markdown",
      "metadata": {
        "id": "view-in-github",
        "colab_type": "text"
      },
      "source": [
        "<a href=\"https://colab.research.google.com/github/kundajelab/mfinkels_work/blob/master/av/Generate_Data.ipynb\" target=\"_parent\"><img src=\"https://colab.research.google.com/assets/colab-badge.svg\" alt=\"Open In Colab\"/></a>"
      ]
    },
    {
      "cell_type": "code",
      "metadata": {
        "id": "hGRxOSCMpU2U",
        "colab_type": "code",
        "colab": {}
      },
      "source": [
        "from __future__ import division, print_function"
      ],
      "execution_count": 0,
      "outputs": []
    },
    {
      "cell_type": "code",
      "metadata": {
        "id": "IQ_hbCn5pZIt",
        "colab_type": "code",
        "outputId": "3f4b438a-8d53-41a1-8b4d-ca87b20707a7",
        "colab": {
          "base_uri": "https://localhost:8080/",
          "height": 346
        }
      },
      "source": [
        "!pip install simdna"
      ],
      "execution_count": 2,
      "outputs": [
        {
          "output_type": "stream",
          "text": [
            "Collecting simdna\n",
            "\u001b[?25l  Downloading https://files.pythonhosted.org/packages/14/c6/dc6cc2e9ac09c85d5ec6d896c6c43c8dd5ef50bb9c14423e9290131dce27/simdna-0.4.3.2.tar.gz (634kB)\n",
            "\r\u001b[K     |▌                               | 10kB 18.4MB/s eta 0:00:01\r\u001b[K     |█                               | 20kB 1.7MB/s eta 0:00:01\r\u001b[K     |█▌                              | 30kB 2.2MB/s eta 0:00:01\r\u001b[K     |██                              | 40kB 1.7MB/s eta 0:00:01\r\u001b[K     |██▋                             | 51kB 1.9MB/s eta 0:00:01\r\u001b[K     |███                             | 61kB 2.2MB/s eta 0:00:01\r\u001b[K     |███▋                            | 71kB 2.4MB/s eta 0:00:01\r\u001b[K     |████▏                           | 81kB 2.6MB/s eta 0:00:01\r\u001b[K     |████▋                           | 92kB 2.9MB/s eta 0:00:01\r\u001b[K     |█████▏                          | 102kB 2.7MB/s eta 0:00:01\r\u001b[K     |█████▊                          | 112kB 2.7MB/s eta 0:00:01\r\u001b[K     |██████▏                         | 122kB 2.7MB/s eta 0:00:01\r\u001b[K     |██████▊                         | 133kB 2.7MB/s eta 0:00:01\r\u001b[K     |███████▎                        | 143kB 2.7MB/s eta 0:00:01\r\u001b[K     |███████▊                        | 153kB 2.7MB/s eta 0:00:01\r\u001b[K     |████████▎                       | 163kB 2.7MB/s eta 0:00:01\r\u001b[K     |████████▊                       | 174kB 2.7MB/s eta 0:00:01\r\u001b[K     |█████████▎                      | 184kB 2.7MB/s eta 0:00:01\r\u001b[K     |█████████▉                      | 194kB 2.7MB/s eta 0:00:01\r\u001b[K     |██████████▎                     | 204kB 2.7MB/s eta 0:00:01\r\u001b[K     |██████████▉                     | 215kB 2.7MB/s eta 0:00:01\r\u001b[K     |███████████▍                    | 225kB 2.7MB/s eta 0:00:01\r\u001b[K     |███████████▉                    | 235kB 2.7MB/s eta 0:00:01\r\u001b[K     |████████████▍                   | 245kB 2.7MB/s eta 0:00:01\r\u001b[K     |█████████████                   | 256kB 2.7MB/s eta 0:00:01\r\u001b[K     |█████████████▍                  | 266kB 2.7MB/s eta 0:00:01\r\u001b[K     |██████████████                  | 276kB 2.7MB/s eta 0:00:01\r\u001b[K     |██████████████▌                 | 286kB 2.7MB/s eta 0:00:01\r\u001b[K     |███████████████                 | 296kB 2.7MB/s eta 0:00:01\r\u001b[K     |███████████████▌                | 307kB 2.7MB/s eta 0:00:01\r\u001b[K     |████████████████                | 317kB 2.7MB/s eta 0:00:01\r\u001b[K     |████████████████▌               | 327kB 2.7MB/s eta 0:00:01\r\u001b[K     |█████████████████               | 337kB 2.7MB/s eta 0:00:01\r\u001b[K     |█████████████████▌              | 348kB 2.7MB/s eta 0:00:01\r\u001b[K     |██████████████████              | 358kB 2.7MB/s eta 0:00:01\r\u001b[K     |██████████████████▋             | 368kB 2.7MB/s eta 0:00:01\r\u001b[K     |███████████████████             | 378kB 2.7MB/s eta 0:00:01\r\u001b[K     |███████████████████▋            | 389kB 2.7MB/s eta 0:00:01\r\u001b[K     |████████████████████▏           | 399kB 2.7MB/s eta 0:00:01\r\u001b[K     |████████████████████▋           | 409kB 2.7MB/s eta 0:00:01\r\u001b[K     |█████████████████████▏          | 419kB 2.7MB/s eta 0:00:01\r\u001b[K     |█████████████████████▊          | 430kB 2.7MB/s eta 0:00:01\r\u001b[K     |██████████████████████▏         | 440kB 2.7MB/s eta 0:00:01\r\u001b[K     |██████████████████████▊         | 450kB 2.7MB/s eta 0:00:01\r\u001b[K     |███████████████████████▎        | 460kB 2.7MB/s eta 0:00:01\r\u001b[K     |███████████████████████▊        | 471kB 2.7MB/s eta 0:00:01\r\u001b[K     |████████████████████████▎       | 481kB 2.7MB/s eta 0:00:01\r\u001b[K     |████████████████████████▉       | 491kB 2.7MB/s eta 0:00:01\r\u001b[K     |█████████████████████████▎      | 501kB 2.7MB/s eta 0:00:01\r\u001b[K     |█████████████████████████▉      | 512kB 2.7MB/s eta 0:00:01\r\u001b[K     |██████████████████████████▎     | 522kB 2.7MB/s eta 0:00:01\r\u001b[K     |██████████████████████████▉     | 532kB 2.7MB/s eta 0:00:01\r\u001b[K     |███████████████████████████▍    | 542kB 2.7MB/s eta 0:00:01\r\u001b[K     |███████████████████████████▉    | 552kB 2.7MB/s eta 0:00:01\r\u001b[K     |████████████████████████████▍   | 563kB 2.7MB/s eta 0:00:01\r\u001b[K     |█████████████████████████████   | 573kB 2.7MB/s eta 0:00:01\r\u001b[K     |█████████████████████████████▍  | 583kB 2.7MB/s eta 0:00:01\r\u001b[K     |██████████████████████████████  | 593kB 2.7MB/s eta 0:00:01\r\u001b[K     |██████████████████████████████▌ | 604kB 2.7MB/s eta 0:00:01\r\u001b[K     |███████████████████████████████ | 614kB 2.7MB/s eta 0:00:01\r\u001b[K     |███████████████████████████████▌| 624kB 2.7MB/s eta 0:00:01\r\u001b[K     |████████████████████████████████| 634kB 2.7MB/s \n",
            "\u001b[?25hRequirement already satisfied: numpy>=1.9 in /usr/local/lib/python3.6/dist-packages (from simdna) (1.18.4)\n",
            "Requirement already satisfied: matplotlib in /usr/local/lib/python3.6/dist-packages (from simdna) (3.2.1)\n",
            "Requirement already satisfied: scipy in /usr/local/lib/python3.6/dist-packages (from simdna) (1.4.1)\n",
            "Requirement already satisfied: python-dateutil>=2.1 in /usr/local/lib/python3.6/dist-packages (from matplotlib->simdna) (2.8.1)\n",
            "Requirement already satisfied: cycler>=0.10 in /usr/local/lib/python3.6/dist-packages (from matplotlib->simdna) (0.10.0)\n",
            "Requirement already satisfied: kiwisolver>=1.0.1 in /usr/local/lib/python3.6/dist-packages (from matplotlib->simdna) (1.2.0)\n",
            "Requirement already satisfied: pyparsing!=2.0.4,!=2.1.2,!=2.1.6,>=2.0.1 in /usr/local/lib/python3.6/dist-packages (from matplotlib->simdna) (2.4.7)\n",
            "Requirement already satisfied: six>=1.5 in /usr/local/lib/python3.6/dist-packages (from python-dateutil>=2.1->matplotlib->simdna) (1.12.0)\n",
            "Building wheels for collected packages: simdna\n",
            "  Building wheel for simdna (setup.py) ... \u001b[?25lerror\n",
            "\u001b[31m  ERROR: Failed building wheel for simdna\u001b[0m\n",
            "\u001b[?25h  Running setup.py clean for simdna\n",
            "Failed to build simdna\n",
            "Installing collected packages: simdna\n",
            "    Running setup.py install for simdna ... \u001b[?25l\u001b[?25hdone\n",
            "Successfully installed simdna-0.4.3.2\n"
          ],
          "name": "stdout"
        }
      ]
    },
    {
      "cell_type": "code",
      "metadata": {
        "id": "mEcJTmxMpafK",
        "colab_type": "code",
        "colab": {}
      },
      "source": [
        "import simdna\n",
        "from simdna import synthetic\n",
        "import numpy as np\n",
        "from collections import OrderedDict\n",
        "import matplotlib.pyplot as plt"
      ],
      "execution_count": 0,
      "outputs": []
    },
    {
      "cell_type": "code",
      "metadata": {
        "id": "ZmhYykCJphSf",
        "colab_type": "code",
        "outputId": "0d308bb7-3c66-465f-e6ce-0ae5876edc07",
        "colab": {
          "base_uri": "https://localhost:8080/",
          "height": 33
        }
      },
      "source": [
        "#set up the simulation\n",
        "simdna.random.seed(1234)\n",
        "np.random.seed(1234)\n",
        "\n",
        "seqLength = 100\n",
        "\n",
        "background_letter_freq = OrderedDict(\n",
        "    [('A', 0.27), ('C', 0.23), ('G', 0.23), ('T', 0.27)])\n",
        "letter_distribution = simdna.util.DiscreteDistribution(background_letter_freq)\n",
        "\n",
        "def get_single_embedder(loadedMotifs, motif_name):\n",
        "  return synthetic.SubstringEmbedder(\n",
        "            substringGenerator=synthetic.PwmSamplerFromLoadedMotifs(loadedMotifs, motif_name),\n",
        "            positionGenerator=synthetic.UniformPositionGenerator(),\n",
        "            name=motif_name)\n",
        "\n",
        "def get_embedder_or_none(loadedMotifs, motif_name):\n",
        "  return synthetic.XOREmbedder(\n",
        "            embedder1 = get_single_embedder(loadedMotifs = loadedMotifs, motif_name = motif_name),\n",
        "            embedder2 = synthetic.RandomSubsetOfEmbedders(\n",
        "                quantityGenerator = synthetic.FixedQuantityGenerator(0),\n",
        "                embedders = \n",
        "                [get_single_embedder(loadedMotifs = loadedMotifs, motif_name = motif_name)]),\n",
        "            probOfFirst = 0.5)\n",
        "\n",
        "loadedMotifs = synthetic.LoadedEncodeMotifs(simdna.ENCODE_MOTIFS_PATH, pseudocountProb=0.001)\n",
        "pwm_GATA_orig = loadedMotifs.loadedMotifs[\"GATA_disc1\"].getRows()\n",
        "pwm_TAL_orig = loadedMotifs.loadedMotifs[\"TAL1_known1\"].getRows()\n",
        "\n",
        "embedInBackground = synthetic.EmbedInABackground(\n",
        "        backgroundGenerator=synthetic.ZeroOrderBackgroundGenerator(\n",
        "            seqLength=seqLength,\n",
        "            discreteDistribution=letter_distribution), \n",
        "        embedders=[\n",
        "            get_embedder_or_none(loadedMotifs, \"GATA_disc1\"),\n",
        "            get_embedder_or_none(loadedMotifs, \"TAL1_known1\")] \n",
        "    )\n",
        "\n",
        "train_sequenceSet = synthetic.GenerateSequenceNTimes(embedInBackground, 50000)\n",
        "test_sequenceSet = synthetic.GenerateSequenceNTimes(embedInBackground, 50000)\n",
        "\n",
        "labelNames = [\"has_gata\", \"has_tal\", \"has_talandgata\"]\n",
        "\n",
        "def labelingFunc(self, generatedSequence):\n",
        "  has_gata = 1 if generatedSequence.additionalInfo.isInTrace(\"GATA_disc1\") else 0\n",
        "  has_tal = 1 if generatedSequence.additionalInfo.isInTrace(\"TAL1_known1\") else 0\n",
        "  has_talandgata = 1 if (has_gata and has_tal) else 0\n",
        "  return [has_gata, has_tal, has_talandgata]\n",
        "\n",
        "synthetic.printSequences(\"train_simulation.simdata\", train_sequenceSet,\n",
        "                         includeFasta=True,\n",
        "                         includeEmbeddings=True,\n",
        "                         labelGenerator=synthetic.LabelGenerator(\n",
        "                             labelNames=labelNames,\n",
        "                             labelsFromGeneratedSequenceFunction=labelingFunc),\n",
        "                         prefix=\"trainsim\")\n",
        "synthetic.printSequences(\"test_simulation.simdata\", test_sequenceSet,\n",
        "                         includeFasta=True,\n",
        "                         includeEmbeddings=True,\n",
        "                         labelGenerator=synthetic.LabelGenerator(\n",
        "                             labelNames=labelNames,\n",
        "                             labelsFromGeneratedSequenceFunction=labelingFunc),\n",
        "                         prefix=\"testsim\")"
      ],
      "execution_count": 4,
      "outputs": [
        {
          "output_type": "stream",
          "text": [
            "Warning: made 10 attemps at trying to embed TAL1_known1-GAGAACAGGTGTGCCG in region of length 100 with 10.0 occupied sites\n"
          ],
          "name": "stdout"
        }
      ]
    },
    {
      "cell_type": "code",
      "metadata": {
        "id": "h-YWPpZlprm2",
        "colab_type": "code",
        "outputId": "cb3e29ba-f638-427b-fb8f-b820d424499e",
        "colab": {
          "base_uri": "https://localhost:8080/",
          "height": 66
        }
      },
      "source": [
        "!md5sum train_simulation.simdata\n",
        "!md5sum test_simulation.simdata\n",
        "\n",
        "train_data = synthetic.read_simdata_file(\"train_simulation.simdata\")\n",
        "test_data = synthetic.read_simdata_file(\"test_simulation.simdata\")\n",
        "count_hasgata, count_hastal, count_tal_and_gata =\\\n",
        "  np.sum(train_data.labels, axis=0)\n",
        "count_only_gata = count_hasgata - count_tal_and_gata\n",
        "count_only_tal = count_hastal - count_tal_and_gata\n",
        "print(count_only_gata, count_only_tal, count_tal_and_gata,\n",
        "      len(train_data.labels)\n",
        "      - (count_only_gata + count_only_tal + count_tal_and_gata))"
      ],
      "execution_count": 5,
      "outputs": [
        {
          "output_type": "stream",
          "text": [
            "fb82dd3c7dc4b53d34b4fd456394de42  train_simulation.simdata\n",
            "85c3688d157254921f64904e71c0372c  test_simulation.simdata\n",
            "12390 12430 12597 12583\n"
          ],
          "name": "stdout"
        }
      ]
    },
    {
      "cell_type": "code",
      "metadata": {
        "id": "c2Lldv9MpzgF",
        "colab_type": "code",
        "colab": {}
      },
      "source": [
        "#this is set up for 1d convolutions where examples\n",
        "#have dimensions (len, num_channels) \n",
        "#the channel axis is the axis for one-hot encoding.\n",
        "def one_hot_encode_along_channel_axis(sequence):\n",
        "    to_return = np.zeros((len(sequence),4), dtype=np.int8)\n",
        "    seq_to_one_hot_fill_in_array(zeros_array=to_return,\n",
        "                                 sequence=sequence, one_hot_axis=1)\n",
        "    return to_return\n",
        "\n",
        "def seq_to_one_hot_fill_in_array(zeros_array, sequence, one_hot_axis):\n",
        "    assert one_hot_axis==0 or one_hot_axis==1\n",
        "    if (one_hot_axis==0):\n",
        "        assert zeros_array.shape[1] == len(sequence)\n",
        "    elif (one_hot_axis==1): \n",
        "        assert zeros_array.shape[0] == len(sequence)\n",
        "    #will mutate zeros_array\n",
        "    for (i,char) in enumerate(sequence):\n",
        "        if (char==\"A\" or char==\"a\"):\n",
        "            char_idx = 0\n",
        "        elif (char==\"C\" or char==\"c\"):\n",
        "            char_idx = 1\n",
        "        elif (char==\"G\" or char==\"g\"):\n",
        "            char_idx = 2\n",
        "        elif (char==\"T\" or char==\"t\"):\n",
        "            char_idx = 3\n",
        "        elif (char==\"N\" or char==\"n\"):\n",
        "            continue #leave that pos as all 0's\n",
        "        else:\n",
        "            raise RuntimeError(\"Unsupported character: \"+str(char))\n",
        "        if (one_hot_axis==0):\n",
        "            zeros_array[char_idx,i] = 1\n",
        "        elif (one_hot_axis==1):\n",
        "            zeros_array[i,char_idx] = 1\n",
        "            \n",
        "train_onehot_data = np.array([one_hot_encode_along_channel_axis(seq)\n",
        "                              for seq in train_data.sequences])\n",
        "test_onehot_data = np.array([one_hot_encode_along_channel_axis(seq)\n",
        "                              for seq in test_data.sequences])"
      ],
      "execution_count": 0,
      "outputs": []
    },
    {
      "cell_type": "code",
      "metadata": {
        "id": "cgvPvOKWp-NJ",
        "colab_type": "code",
        "colab": {}
      },
      "source": [
        "def convert_pwm_to_deltadeltaG(pwm):\n",
        "  deltadeltaG = -np.log(pwm/np.array([background_letter_freq[x]\n",
        "                              for x in ['A', 'C', 'G', 'T']])[None,:])\n",
        "  return deltadeltaG\n",
        "\n",
        "pwm_GATA = convert_pwm_to_deltadeltaG(pwm_GATA_orig)\n",
        "pwm_TAL = convert_pwm_to_deltadeltaG(pwm_TAL_orig)"
      ],
      "execution_count": 0,
      "outputs": []
    },
    {
      "cell_type": "code",
      "metadata": {
        "id": "-61fKncrqFCY",
        "colab_type": "code",
        "colab": {}
      },
      "source": [
        "#do a fast PWM scan with numpy rolling statistics\n",
        "# based on http://www.rigtorp.se/2011/01/01/rolling-statistics-numpy.html\n",
        "MU = 0 #-5\n",
        "def rolling_window(a, window):\n",
        "    shape = a.shape[:-1] + (a.shape[-1] - window + 1, window)\n",
        "    strides = a.strides + (a.strides[-1],)\n",
        "    return np.lib.stride_tricks.as_strided(a, shape=shape, strides=strides)\n",
        "\n",
        "\n",
        "def score_pwm(pwm, onehot_data):\n",
        "  pwm = pwm.transpose((1,0)) #ACGT first\n",
        "  strided_onehot = rolling_window(a=onehot_data.transpose(0,2,1),\n",
        "                                  window=pwm.shape[-1])\n",
        "  strided_scores = np.sum(strided_onehot*pwm[None,:,None,:],axis=(1,3))\n",
        "  return strided_scores\n",
        "\n",
        "\n",
        "def get_count(pwm, onehot_data):\n",
        "  deltadeltaG_mat = score_pwm(pwm=pwm, onehot_data=onehot_data)\n",
        "  pStormo_mat = 1.0/(1.0 + np.exp(deltadeltaG_mat - MU))\n",
        "  expected_count = np.sum(pStormo_mat, axis=-1)\n",
        "  return deltadeltaG_mat, expected_count\n",
        "\n",
        "\n",
        "def get_oracle_preds(onehot_data):\n",
        "  deltadeltaG_mat_GATA, expected_count_GATA = get_count(pwm_GATA, onehot_data)\n",
        "  deltadeltaG_mat_TAL, expected_count_TAL = get_count(pwm_TAL, onehot_data)\n",
        "  expected_count_neg = 100 * (expected_count_GATA + expected_count_TAL)\n",
        "  expected_count_pos = 60*((expected_count_GATA + expected_count_TAL)**1.5)\n",
        "  return (expected_count_neg, expected_count_pos)\n",
        "\n",
        "\n",
        "def get_noisy_labels(expected_counts, rng):\n",
        "  return rng.poisson(lam=expected_counts,\n",
        "                     size=len(expected_counts))\n",
        "\n",
        "\n",
        "(train_expected_count_neg, train_expected_count_pos) =\\\n",
        "  get_oracle_preds(train_onehot_data)\n",
        "(test_expected_count_neg, test_expected_count_pos) =\\\n",
        "  get_oracle_preds(test_onehot_data)\n",
        "rng = np.random.RandomState(1234)\n",
        "train_labels_neg = get_noisy_labels(train_expected_count_neg, rng)\n",
        "train_labels_pos = get_noisy_labels(train_expected_count_pos, rng)\n",
        "test_labels_neg = get_noisy_labels(test_expected_count_neg, rng)\n",
        "test_labels_pos = get_noisy_labels(test_expected_count_pos, rng)\n"
      ],
      "execution_count": 0,
      "outputs": []
    },
    {
      "cell_type": "code",
      "metadata": {
        "id": "0BxCEbbjqce4",
        "colab_type": "code",
        "outputId": "dfb6fdb9-5b8d-4882-d620-c452058bf86d",
        "colab": {
          "base_uri": "https://localhost:8080/",
          "height": 572
        }
      },
      "source": [
        "%matplotlib inline\n",
        "from matplotlib import pyplot as plt\n",
        "plt.plot(train_expected_count_neg, train_expected_count_neg, color=\"black\")\n",
        "plt.scatter(train_expected_count_neg, train_labels_neg, alpha=0.01)\n",
        "plt.title(\"Negative Control\")\n",
        "plt.xlabel(\"Oracle label\")\n",
        "plt.ylabel(\"Sampled label\")\n",
        "plt.show()\n",
        "\n",
        "plt.plot(train_expected_count_pos, train_expected_count_pos, color=\"black\")\n",
        "plt.scatter(train_expected_count_pos, train_labels_pos, alpha=0.01)\n",
        "plt.title(\"Positive Control\")\n",
        "plt.xlabel(\"Oracle label\")\n",
        "plt.ylabel(\"Sampled label\")\n",
        "plt.show()"
      ],
      "execution_count": 9,
      "outputs": [
        {
          "output_type": "display_data",
          "data": {
            "image/png": "[encoded data removed]",
            "text/plain": [
              "<Figure size 432x288 with 1 Axes>"
            ]
          },
          "metadata": {
            "tags": [],
            "needs_background": "light"
          }
        },
        {
          "output_type": "display_data",
          "data": {
            "image/png": "[encoded data removed]",
            "text/plain": [
              "<Figure size 432x288 with 1 Axes>"
            ]
          },
          "metadata": {
            "tags": [],
            "needs_background": "light"
          }
        }
      ]
    },
    {
      "cell_type": "code",
      "metadata": {
        "id": "FBFXTfJ9-8UZ",
        "colab_type": "code",
        "outputId": "4b7d236d-5878-413c-dcee-1065443378dd",
        "colab": {
          "base_uri": "https://localhost:8080/",
          "height": 278
        }
      },
      "source": [
        "plt.plot(train_expected_count_neg, train_expected_count_neg, color=\"black\")\n",
        "plt.xlabel(\"Negative control oracle label\")\n",
        "plt.ylabel(\"Positive control oracle label\")\n",
        "plt.scatter(train_expected_count_neg, train_expected_count_pos)\n",
        "plt.show()"
      ],
      "execution_count": 10,
      "outputs": [
        {
          "output_type": "display_data",
          "data": {
            "image/png": "[encoded data removed]",
            "text/plain": [
              "<Figure size 432x288 with 1 Axes>"
            ]
          },
          "metadata": {
            "tags": [],
            "needs_background": "light"
          }
        }
      ]
    },
    {
      "cell_type": "code",
      "metadata": {
        "id": "cV-mcQyZaKb5",
        "colab_type": "code",
        "outputId": "9b96e482-887c-4a67-d197-0c754f0da523",
        "colab": {
          "base_uri": "https://localhost:8080/",
          "height": 512
        }
      },
      "source": [
        "plt.hist(train_labels_neg, density=True, alpha=0.5, bins=20)\n",
        "plt.hist(test_labels_neg, density=True, alpha=0.5, bins=20)\n",
        "plt.show()\n",
        "\n",
        "plt.hist(train_labels_pos, density=True, alpha=0.5, bins=20)\n",
        "plt.hist(test_labels_pos, density=True, alpha=0.5, bins=20)\n",
        "plt.show()"
      ],
      "execution_count": 11,
      "outputs": [
        {
          "output_type": "display_data",
          "data": {
            "image/png": "[encoded data removed]",
            "text/plain": [
              "<Figure size 432x288 with 1 Axes>"
            ]
          },
          "metadata": {
            "tags": [],
            "needs_background": "light"
          }
        },
        {
          "output_type": "display_data",
          "data": {
            "image/png": "[encoded data removed]",
            "text/plain": [
              "<Figure size 432x288 with 1 Axes>"
            ]
          },
          "metadata": {
            "tags": [],
            "needs_background": "light"
          }
        }
      ]
    },
    {
      "cell_type": "code",
      "metadata": {
        "id": "PIHg5e9Nqk1u",
        "colab_type": "code",
        "colab": {}
      },
      "source": [
        "def save_labels(filename, exp_count, labels):\n",
        "  labels_fh = open(filename, \"w\")\n",
        "  labels_fh.write(\"\\n\".join([str(lab)+\"\\t\"+str(exp) for (exp, lab)\n",
        "                      in zip(exp_count, labels)]))\n",
        "  labels_fh.close()  \n",
        "\n",
        "save_labels(\"train_neg_labels.txt\", train_expected_count_neg, train_labels_neg)\n",
        "save_labels(\"train_pos_labels.txt\", train_expected_count_pos, train_labels_pos)\n",
        "save_labels(\"test_neg_labels.txt\", test_expected_count_neg, test_labels_neg)\n",
        "save_labels(\"test_pos_labels.txt\", test_expected_count_pos, test_labels_pos)"
      ],
      "execution_count": 0,
      "outputs": []
    },
    {
      "cell_type": "markdown",
      "metadata": {
        "id": "aVhne3RGe6k6",
        "colab_type": "text"
      },
      "source": [
        "Prep the \"knocked out\" sequences"
      ]
    },
    {
      "cell_type": "code",
      "metadata": {
        "id": "2NpUVUVnkSCr",
        "colab_type": "code",
        "colab": {}
      },
      "source": [
        "#separation_needed is the separation needed between\n",
        "# motifs so that there's no ground-truth interaction\n",
        "separation_needed = max(len(pwm_TAL), len(pwm_GATA))\n",
        "#only consider sequences \n",
        "toanalyze_info = []\n",
        "for i in range(len(test_data.embeddings)):\n",
        "  embeddings = test_data.embeddings[i]\n",
        "  if (len(embeddings)==2):\n",
        "    if embeddings[0].what.stringDescription==\"GATA_disc1\":\n",
        "      assert embeddings[1].what.stringDescription==\"TAL1_known1\"\n",
        "      gata_start = embeddings[0].startPos\n",
        "      tal_start = embeddings[1].startPos\n",
        "    else:\n",
        "      assert embeddings[0].what.stringDescription==\"TAL1_known1\"\n",
        "      assert embeddings[1].what.stringDescription==\"GATA_disc1\"\n",
        "      gata_start = embeddings[1].startPos\n",
        "      tal_start = embeddings[0].startPos\n",
        "    if (np.abs(gata_start-tal_start) > 2*separation_needed):\n",
        "      gata_onehot = test_onehot_data[i][gata_start:gata_start+len(pwm_GATA)]\n",
        "      tal_onehot = test_onehot_data[i][tal_start:tal_start+len(pwm_TAL)]\n",
        "      gata_score = np.sum(pwm_GATA*gata_onehot)\n",
        "      tal_score = np.sum(pwm_TAL*tal_onehot)\n",
        "      if (gata_score < -2 and tal_score < -2):\n",
        "        toanalyze_info.append( (i, gata_start, tal_start) )\n"
      ],
      "execution_count": 0,
      "outputs": []
    },
    {
      "cell_type": "code",
      "metadata": {
        "id": "lPNEnOj2yA-d",
        "colab_type": "code",
        "outputId": "df9dd74d-6e05-4752-9a71-a151fb532b03",
        "colab": {
          "base_uri": "https://localhost:8080/",
          "height": 33
        }
      },
      "source": [
        "print(\"Number of sequences to analyze:\",len(toanalyze_info))"
      ],
      "execution_count": 14,
      "outputs": [
        {
          "output_type": "stream",
          "text": [
            "Number of sequences to analyze: 6757\n"
          ],
          "name": "stdout"
        }
      ]
    },
    {
      "cell_type": "code",
      "metadata": {
        "id": "naH7pHtKfjsS",
        "colab_type": "code",
        "colab": {}
      },
      "source": [
        "def sample_onehot(len, rng):\n",
        "  sampled_onehot = []\n",
        "  for i in range(len):\n",
        "    arr = [0,0,0,0]\n",
        "    arr[rng.randint(0, 4)] = 1\n",
        "    sampled_onehot.append(arr)\n",
        "  return np.array(sampled_onehot)\n",
        "\n",
        "def get_low_scoring_pwm_instance(pwm, rng):\n",
        "  score = None\n",
        "  while True:\n",
        "    sampled_onehot = sample_onehot(len=len(pwm), rng=rng)\n",
        "    score = np.sum(pwm*sampled_onehot)\n",
        "    if (score > 10):\n",
        "      break\n",
        "  return sampled_onehot\n",
        "\n",
        "rng = np.random.RandomState(1234)\n",
        "toanalyze_bothoff = []\n",
        "toanalyze_gataoff = []\n",
        "toanalyze_taloff = []\n",
        "toanalyze_orig = []\n",
        "toanalyze_orig_neg_labels = []\n",
        "toanalyze_orig_pos_labels = []\n",
        "\n",
        "for test_idx, gata_start, tal_start in toanalyze_info:\n",
        "  onehot = test_onehot_data[test_idx]\n",
        "  toanalyze_orig_neg_labels.append(test_labels_neg[test_idx])\n",
        "  toanalyze_orig_pos_labels.append(test_labels_pos[test_idx])\n",
        "  tal_replacement = get_low_scoring_pwm_instance(pwm=pwm_TAL, rng=rng)\n",
        "  gata_replacement = get_low_scoring_pwm_instance(pwm=pwm_GATA, rng=rng)\n",
        "  tal_off = np.array(onehot)\n",
        "  tal_off[tal_start:tal_start+len(pwm_TAL)] = tal_replacement\n",
        "  gata_off = np.array(onehot)\n",
        "  gata_off[gata_start:gata_start+len(pwm_GATA)] = gata_replacement    \n",
        "  both_off = np.array(gata_off)\n",
        "  both_off[tal_start:tal_start+len(pwm_TAL)] = tal_replacement\n",
        "  toanalyze_orig.append(onehot)\n",
        "  toanalyze_taloff.append(tal_off)\n",
        "  toanalyze_gataoff.append(gata_off)\n",
        "  toanalyze_bothoff.append(both_off)\n",
        "\n",
        "(toanalyze_orig, toanalyze_taloff, toanalyze_gataoff, toanalyze_bothoff,\n",
        " toanalyze_orig_neg_labels, toanalyze_orig_pos_labels) =(\n",
        "  np.array(toanalyze_orig), np.array(toanalyze_taloff),\n",
        "  np.array(toanalyze_gataoff), np.array(toanalyze_bothoff),\n",
        "  np.array(toanalyze_orig_neg_labels), np.array(toanalyze_orig_pos_labels) )\n",
        "\n",
        "(toanalyze_orig_expected_count_neg, toanalyze_orig_expected_count_pos) =\\\n",
        "  get_oracle_preds(toanalyze_orig)\n",
        "(toanalyze_gataoff_expected_count_neg, toanalyze_gataoff_expected_count_pos) =\\\n",
        "  get_oracle_preds(toanalyze_gataoff)\n",
        "(toanalyze_taloff_expected_count_neg, toanalyze_taloff_expected_count_pos) =\\\n",
        "  get_oracle_preds(toanalyze_taloff)\n",
        "(toanalyze_bothoff_expected_count_neg, toanalyze_bothoff_expected_count_pos) =\\\n",
        "  get_oracle_preds(toanalyze_bothoff)"
      ],
      "execution_count": 0,
      "outputs": []
    },
    {
      "cell_type": "code",
      "metadata": {
        "id": "uDCjj951f40K",
        "colab_type": "code",
        "colab": {
          "base_uri": "https://localhost:8080/",
          "height": 762
        },
        "outputId": "1e974294-d87e-4146-c7ab-e748042eac8e"
      },
      "source": [
        "#sanity check the labels/expected\n",
        "\n",
        "plt.plot(toanalyze_orig_expected_count_neg, toanalyze_orig_expected_count_neg,\n",
        "         color=\"black\")\n",
        "plt.scatter(toanalyze_orig_expected_count_neg, toanalyze_orig_neg_labels)\n",
        "plt.show()\n",
        "plt.plot(toanalyze_orig_expected_count_pos, toanalyze_orig_expected_count_pos,\n",
        "         color=\"black\")\n",
        "plt.scatter(toanalyze_orig_expected_count_pos, toanalyze_orig_pos_labels)\n",
        "plt.show()\n",
        "plt.plot(toanalyze_orig_expected_count_neg, toanalyze_orig_expected_count_neg,\n",
        "         color=\"black\")\n",
        "plt.scatter(toanalyze_orig_expected_count_neg,\n",
        "            toanalyze_orig_expected_count_pos)\n",
        "plt.show()"
      ],
      "execution_count": 16,
      "outputs": [
        {
          "output_type": "display_data",
          "data": {
            "image/png": "[encoded data removed]",
            "text/plain": [
              "<Figure size 432x288 with 1 Axes>"
            ]
          },
          "metadata": {
            "tags": [],
            "needs_background": "light"
          }
        },
        {
          "output_type": "display_data",
          "data": {
            "image/png": "[encoded data removed]",
            "text/plain": [
              "<Figure size 432x288 with 1 Axes>"
            ]
          },
          "metadata": {
            "tags": [],
            "needs_background": "light"
          }
        },
        {
          "output_type": "display_data",
          "data": {
            "image/png": "[encoded data removed]",
            "text/plain": [
              "<Figure size 432x288 with 1 Axes>"
            ]
          },
          "metadata": {
            "tags": [],
            "needs_background": "light"
          }
        }
      ]
    },
    {
      "cell_type": "markdown",
      "metadata": {
        "id": "2urblVnx_a2E",
        "colab_type": "text"
      },
      "source": [
        "Write out the info pertaining to the sequences to analyze"
      ]
    },
    {
      "cell_type": "code",
      "metadata": {
        "id": "A8d8DYN4_lgy",
        "colab_type": "code",
        "colab": {}
      },
      "source": [
        "acgt_string = \"ACGT\"\n",
        "\n",
        "\n",
        "def onehots_to_seqs(onehots):\n",
        "  return [[acgt_string[acgt_idx] for acgt_idx in x]\n",
        "          for x in np.argmax(onehots, axis=-1)]\n",
        "\n",
        "\n",
        "def write_arr_to_file(arr, filename):\n",
        "  with open(filename,'w') as fh:\n",
        "    fh.write(\"\\n\".join([str(x) for x in arr]))\n",
        "\n",
        "\n",
        "write_arr_to_file(arr=onehots_to_seqs(toanalyze_orig),\n",
        "                  filename=\"toanalyze_orig_seqs.txt\")\n",
        "write_arr_to_file(arr=onehots_to_seqs(toanalyze_gataoff),\n",
        "                  filename=\"toanalyze_gataoff_seqs.txt\")\n",
        "write_arr_to_file(arr=onehots_to_seqs(toanalyze_taloff),\n",
        "                  filename=\"toanalyze_taloff_seqs.txt\")\n",
        "write_arr_to_file(arr=onehots_to_seqs(toanalyze_bothoff),\n",
        "                  filename=\"toanalyze_bothoff_seqs.txt\")\n",
        "\n",
        "write_arr_to_file(arr=toanalyze_orig_neg_labels,\n",
        "                  filename=\"toanalyze_orig_neg_labels.txt\")\n",
        "write_arr_to_file(arr=toanalyze_orig_pos_labels,\n",
        "                  filename=\"toanalyze_orig_pos_labels.txt\")\n",
        "\n",
        "write_arr_to_file(arr=toanalyze_orig_expected_count_neg,\n",
        "                  filename=\"toanalyze_orig_oraclepred_neg.txt\")\n",
        "write_arr_to_file(arr=toanalyze_gataoff_expected_count_neg,\n",
        "                  filename=\"toanalyze_gataoff_oraclepred_neg.txt\")\n",
        "write_arr_to_file(arr=toanalyze_taloff_expected_count_neg,\n",
        "                  filename=\"toanalyze_taloff_oraclepred_neg.txt\")\n",
        "write_arr_to_file(arr=toanalyze_bothoff_expected_count_neg,\n",
        "                  filename=\"toanalyze_bothoff_oraclepred_neg.txt\")\n",
        "\n",
        "write_arr_to_file(arr=toanalyze_orig_expected_count_pos,\n",
        "                  filename=\"toanalyze_orig_oraclepred_pos.txt\")\n",
        "write_arr_to_file(arr=toanalyze_gataoff_expected_count_pos,\n",
        "                  filename=\"toanalyze_gataoff_oraclepred_pos.txt\")\n",
        "write_arr_to_file(arr=toanalyze_taloff_expected_count_pos,\n",
        "                  filename=\"toanalyze_taloff_oraclepred_pos.txt\")\n",
        "write_arr_to_file(arr=toanalyze_bothoff_expected_count_pos,\n",
        "                  filename=\"toanalyze_bothoff_oraclepred_pos.txt\")"
      ],
      "execution_count": 0,
      "outputs": []
    },
    {
      "cell_type": "code",
      "metadata": {
        "id": "f_VNW2emi2FG",
        "colab_type": "code",
        "outputId": "e134259c-f511-4bdb-c8a6-d18a48eabccb",
        "colab": {
          "base_uri": "https://localhost:8080/",
          "height": 297
        }
      },
      "source": [
        "#sanity check negative control and positive control interactions\n",
        "groundtruth_gatacontrib_neg = (toanalyze_taloff_expected_count_neg -\n",
        "                               toanalyze_bothoff_expected_count_neg)\n",
        "groundtruth_talcontrib_neg = (toanalyze_gataoff_expected_count_neg -\n",
        "                               toanalyze_bothoff_expected_count_neg)\n",
        "groundtruth_jointcontrib_neg = (toanalyze_orig_expected_count_neg -\n",
        "                                toanalyze_bothoff_expected_count_neg)\n",
        "\n",
        "groundtruth_gatacontrib_pos = (toanalyze_taloff_expected_count_pos -\n",
        "                               toanalyze_bothoff_expected_count_pos)\n",
        "groundtruth_talcontrib_pos = (toanalyze_gataoff_expected_count_pos -\n",
        "                               toanalyze_bothoff_expected_count_pos)\n",
        "groundtruth_jointcontrib_pos = (toanalyze_orig_expected_count_pos -\n",
        "                                toanalyze_bothoff_expected_count_pos)\n",
        "\n",
        "groundtruth_neg_interactions = (groundtruth_jointcontrib_neg -\n",
        "  (groundtruth_gatacontrib_neg + groundtruth_talcontrib_neg))\n",
        "groundtruth_pos_interactions = (groundtruth_jointcontrib_pos -\n",
        "  (groundtruth_gatacontrib_pos + groundtruth_talcontrib_pos))\n",
        "\n",
        "print(\"max neg control interaction:\",max(groundtruth_neg_interactions))\n",
        "\n",
        "plt.hist(groundtruth_pos_interactions, density=True, bins=20)\n",
        "plt.title(\"pos control interactions\")\n",
        "plt.show()"
      ],
      "execution_count": 18,
      "outputs": [
        {
          "output_type": "stream",
          "text": [
            "max neg control interaction: 1.9895196601282805e-13\n"
          ],
          "name": "stdout"
        },
        {
          "output_type": "display_data",
          "data": {
            "image/png": "[encoded data removed]",
            "text/plain": [
              "<Figure size 432x288 with 1 Axes>"
            ]
          },
          "metadata": {
            "tags": [],
            "needs_background": "light"
          }
        }
      ]
    },
    {
      "cell_type": "code",
      "metadata": {
        "id": "24LRONW-93kk",
        "colab_type": "code",
        "outputId": "969826ba-2e90-4308-bd30-3e9107314a64",
        "colab": {
          "base_uri": "https://localhost:8080/",
          "height": 200
        }
      },
      "source": [
        "!pip install deeplift"
      ],
      "execution_count": 19,
      "outputs": [
        {
          "output_type": "stream",
          "text": [
            "Collecting deeplift\n",
            "  Downloading https://files.pythonhosted.org/packages/6f/7a/905c4f87229f5d5e6939e146f6c5864433c1c244632a4a4af31c403942ae/deeplift-0.6.10.0.tar.gz\n",
            "Requirement already satisfied: numpy>=1.9 in /usr/local/lib/python3.6/dist-packages (from deeplift) (1.18.4)\n",
            "Building wheels for collected packages: deeplift\n",
            "  Building wheel for deeplift (setup.py) ... \u001b[?25l\u001b[?25hdone\n",
            "  Created wheel for deeplift: filename=deeplift-0.6.10.0-cp36-none-any.whl size=34063 sha256=5695fa06672b5d0963ffbca12bc030b9827bd1bcce037f6bca65830bc61caa68\n",
            "  Stored in directory: /root/.cache/pip/wheels/3a/16/f1/d6b985cafb1dbe671cf9254d1b08c18dcd8f4487a09ff778a9\n",
            "Successfully built deeplift\n",
            "Installing collected packages: deeplift\n",
            "Successfully installed deeplift-0.6.10.0\n"
          ],
          "name": "stdout"
        }
      ]
    },
    {
      "cell_type": "code",
      "metadata": {
        "id": "GYHY2SC39jxs",
        "colab_type": "code",
        "colab": {}
      },
      "source": [
        "from deeplift.dinuc_shuffle import dinuc_shuffle\n",
        "#similarly create a bunch of shuffled sequences to see how\n",
        "# that behaves as a control\n",
        "\n",
        "rng = np.random.RandomState(1234)\n",
        "shuff_toanalyze_bothoff = []\n",
        "shuff_toanalyze_gataoff = []\n",
        "shuff_toanalyze_taloff = []\n",
        "shuff_toanalyze_orig = []\n",
        "\n",
        "for test_idx, gata_start, tal_start in toanalyze_info:\n",
        "  onehot = dinuc_shuffle(test_onehot_data[test_idx], rng=rng)\n",
        "  tal_replacement = sample_onehot(len=len(pwm_TAL), rng=rng)\n",
        "  gata_replacement = sample_onehot(len=len(pwm_GATA), rng=rng)\n",
        "  tal_off = np.array(onehot)\n",
        "  tal_off[tal_start:tal_start+len(pwm_TAL)] = tal_replacement\n",
        "  gata_off = np.array(onehot)\n",
        "  gata_off[gata_start:gata_start+len(pwm_GATA)] = gata_replacement    \n",
        "  both_off = np.array(gata_off)\n",
        "  both_off[tal_start:tal_start+len(pwm_TAL)] = tal_replacement\n",
        "  shuff_toanalyze_orig.append(onehot)\n",
        "  shuff_toanalyze_taloff.append(tal_off)\n",
        "  shuff_toanalyze_gataoff.append(gata_off)\n",
        "  shuff_toanalyze_bothoff.append(both_off)\n",
        "\n",
        "(shuff_toanalyze_orig, shuff_toanalyze_taloff,\n",
        " shuff_toanalyze_gataoff, shuff_toanalyze_bothoff) =(\n",
        "  np.array(shuff_toanalyze_orig), np.array(shuff_toanalyze_taloff),\n",
        "  np.array(shuff_toanalyze_gataoff), np.array(shuff_toanalyze_bothoff))"
      ],
      "execution_count": 0,
      "outputs": []
    },
    {
      "cell_type": "code",
      "metadata": {
        "id": "nLNWBGmVRqbe",
        "colab_type": "code",
        "colab": {}
      },
      "source": [
        "(shuff_toanalyze_orig_expected_count_neg,\n",
        " shuff_toanalyze_orig_expected_count_pos) =\\\n",
        "  get_oracle_preds(shuff_toanalyze_orig)\n",
        "(shuff_toanalyze_gataoff_expected_count_neg,\n",
        " shuff_toanalyze_gataoff_expected_count_pos) =\\\n",
        "  get_oracle_preds(shuff_toanalyze_gataoff)\n",
        "(shuff_toanalyze_taloff_expected_count_neg,\n",
        " shuff_toanalyze_taloff_expected_count_pos) =\\\n",
        "  get_oracle_preds(shuff_toanalyze_taloff)\n",
        "(shuff_toanalyze_bothoff_expected_count_neg,\n",
        " shuff_toanalyze_bothoff_expected_count_pos) =\\\n",
        "  get_oracle_preds(shuff_toanalyze_bothoff)"
      ],
      "execution_count": 0,
      "outputs": []
    },
    {
      "cell_type": "code",
      "metadata": {
        "id": "mXDP9-TAENDC",
        "colab_type": "code",
        "outputId": "5e91432a-2821-4742-b20d-fbd6df0e75fb",
        "colab": {
          "base_uri": "https://localhost:8080/",
          "height": 297
        }
      },
      "source": [
        "#sanity check negative control and positive control interactions\n",
        "shuff_groundtruth_gatacontrib_neg = (shuff_toanalyze_taloff_expected_count_neg -\n",
        "                                     shuff_toanalyze_bothoff_expected_count_neg)\n",
        "shuff_groundtruth_talcontrib_neg = (shuff_toanalyze_gataoff_expected_count_neg -\n",
        "                                    shuff_toanalyze_bothoff_expected_count_neg)\n",
        "shuff_groundtruth_jointcontrib_neg = (shuff_toanalyze_orig_expected_count_neg -\n",
        "                                     shuff_toanalyze_bothoff_expected_count_neg)\n",
        "\n",
        "shuff_groundtruth_gatacontrib_pos = (shuff_toanalyze_taloff_expected_count_pos -\n",
        "                                     shuff_toanalyze_bothoff_expected_count_pos)\n",
        "shuff_groundtruth_talcontrib_pos = (shuff_toanalyze_gataoff_expected_count_pos -\n",
        "                                    shuff_toanalyze_bothoff_expected_count_pos)\n",
        "shuff_groundtruth_jointcontrib_pos = (shuff_toanalyze_orig_expected_count_pos -\n",
        "                                     shuff_toanalyze_bothoff_expected_count_pos)\n",
        "\n",
        "shuff_groundtruth_neg_interactions = (shuff_groundtruth_jointcontrib_neg -\n",
        "  (shuff_groundtruth_gatacontrib_neg + shuff_groundtruth_talcontrib_neg))\n",
        "shuff_groundtruth_pos_interactions = (shuff_groundtruth_jointcontrib_pos -\n",
        "  (shuff_groundtruth_gatacontrib_pos + shuff_groundtruth_talcontrib_pos))\n",
        "\n",
        "print(\"shuff: max neg control interaction:\",\n",
        "      max(shuff_groundtruth_neg_interactions))\n",
        "\n",
        "plt.hist(shuff_groundtruth_pos_interactions, density=True, bins=20)\n",
        "plt.title(\"shuff: pos control interactions\")\n",
        "plt.show()"
      ],
      "execution_count": 22,
      "outputs": [
        {
          "output_type": "stream",
          "text": [
            "shuff: max neg control interaction: 1.1368683772161603e-13\n"
          ],
          "name": "stdout"
        },
        {
          "output_type": "display_data",
          "data": {
            "image/png": "[encoded data removed]",
            "text/plain": [
              "<Figure size 432x288 with 1 Axes>"
            ]
          },
          "metadata": {
            "tags": [],
            "needs_background": "light"
          }
        }
      ]
    },
    {
      "cell_type": "code",
      "metadata": {
        "id": "sbEa2kDKFbOB",
        "colab_type": "code",
        "outputId": "65dc2247-bd37-426f-8616-1c2c60f07b2a",
        "colab": {
          "base_uri": "https://localhost:8080/",
          "height": 281
        }
      },
      "source": [
        "plt.hist(shuff_toanalyze_orig_expected_count_neg, density=True, bins=20)\n",
        "plt.title(\"Shuff labels\")\n",
        "plt.show()"
      ],
      "execution_count": 23,
      "outputs": [
        {
          "output_type": "display_data",
          "data": {
            "image/png": "[encoded data removed]",
            "text/plain": [
              "<Figure size 432x288 with 1 Axes>"
            ]
          },
          "metadata": {
            "tags": [],
            "needs_background": "light"
          }
        }
      ]
    },
    {
      "cell_type": "code",
      "metadata": {
        "id": "nxjlsADaFaDs",
        "colab_type": "code",
        "colab": {}
      },
      "source": [
        "write_arr_to_file(arr=onehots_to_seqs(shuff_toanalyze_orig),\n",
        "                  filename=\"shuff_toanalyze_orig_seqs.txt\")\n",
        "write_arr_to_file(arr=onehots_to_seqs(shuff_toanalyze_gataoff),\n",
        "                  filename=\"shuff_toanalyze_gataoff_seqs.txt\")\n",
        "write_arr_to_file(arr=onehots_to_seqs(shuff_toanalyze_taloff),\n",
        "                  filename=\"shuff_toanalyze_taloff_seqs.txt\")\n",
        "write_arr_to_file(arr=onehots_to_seqs(shuff_toanalyze_bothoff),\n",
        "                  filename=\"shuff_toanalyze_bothoff_seqs.txt\")\n",
        "write_arr_to_file(arr=shuff_toanalyze_orig_expected_count_neg,\n",
        "                  filename=\"shuff_toanalyze_orig_oraclepred_neg.txt\")\n",
        "write_arr_to_file(arr=shuff_toanalyze_orig_expected_count_pos,\n",
        "                  filename=\"shuff_toanalyze_orig_oraclepred_pos.txt\")"
      ],
      "execution_count": 0,
      "outputs": []
    },
    {
      "cell_type": "code",
      "metadata": {
        "id": "CXpMlMbrr2jD",
        "colab_type": "code",
        "outputId": "e618f776-d57c-492c-c46a-f7c22538881e",
        "colab": {
          "base_uri": "https://localhost:8080/",
          "height": 180
        }
      },
      "source": [
        "!head train_neg_labels.txt"
      ],
      "execution_count": 25,
      "outputs": [
        {
          "output_type": "stream",
          "text": [
            "5\t3.9556714333663376\n",
            "0\t0.8723493322167508\n",
            "183\t165.86628508719633\n",
            "83\t82.91478903189929\n",
            "109\t102.47376788600042\n",
            "115\t112.80948366668682\n",
            "0\t0.2505610132630518\n",
            "109\t113.12165963419002\n",
            "208\t235.77379484710877\n",
            "142\t120.82657161930747\n"
          ],
          "name": "stdout"
        }
      ]
    },
    {
      "cell_type": "code",
      "metadata": {
        "id": "KVcxGHd2uDEB",
        "colab_type": "code",
        "outputId": "3218f57f-8c47-4973-8904-40420a91bcda",
        "colab": {
          "base_uri": "https://localhost:8080/",
          "height": 180
        }
      },
      "source": [
        "!head train_pos_labels.txt"
      ],
      "execution_count": 26,
      "outputs": [
        {
          "output_type": "stream",
          "text": [
            "0\t0.47204300550326533\n",
            "0\t0.0488862697472111\n",
            "121\t128.17060289394672\n",
            "38\t45.300109361586486\n",
            "60\t62.24010378600618\n",
            "72\t71.89019598160023\n",
            "0\t0.0075252597546593145\n",
            "81\t72.18881330157092\n",
            "210\t217.21736987999986\n",
            "77\t79.68836743977995\n"
          ],
          "name": "stdout"
        }
      ]
    },
    {
      "cell_type": "code",
      "metadata": {
        "id": "1QCgCRJ2r3wc",
        "colab_type": "code",
        "outputId": "d00b94c4-38b3-4e32-9596-bbd7fdf7baee",
        "colab": {
          "base_uri": "https://localhost:8080/",
          "height": 521
        }
      },
      "source": [
        "!gzip *.txt\n",
        "!gzip *.simdata\n",
        "\n",
        "!du -h *"
      ],
      "execution_count": 27,
      "outputs": [
        {
          "output_type": "stream",
          "text": [
            "55M\tsample_data\n",
            "304K\tshuff_toanalyze_bothoff_seqs.txt.gz\n",
            "304K\tshuff_toanalyze_gataoff_seqs.txt.gz\n",
            "64K\tshuff_toanalyze_orig_oraclepred_neg.txt.gz\n",
            "64K\tshuff_toanalyze_orig_oraclepred_pos.txt.gz\n",
            "304K\tshuff_toanalyze_orig_seqs.txt.gz\n",
            "304K\tshuff_toanalyze_taloff_seqs.txt.gz\n",
            "512K\ttest_neg_labels.txt.gz\n",
            "508K\ttest_pos_labels.txt.gz\n",
            "5.8M\ttest_simulation.fa\n",
            "4.0K\ttest_simulation_info.txt.gz\n",
            "2.1M\ttest_simulation.simdata.gz\n",
            "64K\ttoanalyze_bothoff_oraclepred_neg.txt.gz\n",
            "64K\ttoanalyze_bothoff_oraclepred_pos.txt.gz\n",
            "304K\ttoanalyze_bothoff_seqs.txt.gz\n",
            "60K\ttoanalyze_gataoff_oraclepred_neg.txt.gz\n",
            "60K\ttoanalyze_gataoff_oraclepred_pos.txt.gz\n",
            "300K\ttoanalyze_gataoff_seqs.txt.gz\n",
            "12K\ttoanalyze_orig_neg_labels.txt.gz\n",
            "60K\ttoanalyze_orig_oraclepred_neg.txt.gz\n",
            "60K\ttoanalyze_orig_oraclepred_pos.txt.gz\n",
            "12K\ttoanalyze_orig_pos_labels.txt.gz\n",
            "300K\ttoanalyze_orig_seqs.txt.gz\n",
            "60K\ttoanalyze_taloff_oraclepred_neg.txt.gz\n",
            "60K\ttoanalyze_taloff_oraclepred_pos.txt.gz\n",
            "304K\ttoanalyze_taloff_seqs.txt.gz\n",
            "512K\ttrain_neg_labels.txt.gz\n",
            "508K\ttrain_pos_labels.txt.gz\n",
            "5.9M\ttrain_simulation.fa\n",
            "4.0K\ttrain_simulation_info.txt.gz\n",
            "2.1M\ttrain_simulation.simdata.gz\n"
          ],
          "name": "stdout"
        }
      ]
    },
    {
      "cell_type": "code",
      "metadata": {
        "id": "AcIpVASdsDyj",
        "colab_type": "code",
        "colab": {}
      },
      "source": [
        "from google.colab import files\n",
        "files.download(\"train_simulation.simdata.gz\")\n",
        "files.download(\"train_neg_labels.txt.gz\")\n",
        "files.download(\"train_pos_labels.txt.gz\")\n",
        "\n",
        "files.download(\"test_simulation.simdata.gz\")\n",
        "files.download(\"test_neg_labels.txt.gz\")\n",
        "files.download(\"test_pos_labels.txt.gz\")\n",
        "\n",
        "files.download(\"toanalyze_orig_seqs.txt.gz\")\n",
        "files.download(\"toanalyze_taloff_seqs.txt.gz\")\n",
        "files.download(\"toanalyze_gataoff_seqs.txt.gz\")\n",
        "files.download(\"toanalyze_bothoff_seqs.txt.gz\")\n",
        "\n",
        "files.download(\"toanalyze_orig_pos_labels.txt.gz\")\n",
        "files.download(\"toanalyze_orig_neg_labels.txt.gz\")\n",
        "\n",
        "files.download(\"toanalyze_orig_oraclepred_neg.txt.gz\")\n",
        "files.download(\"toanalyze_taloff_oraclepred_neg.txt.gz\")\n",
        "files.download(\"toanalyze_gataoff_oraclepred_neg.txt.gz\")\n",
        "files.download(\"toanalyze_bothoff_oraclepred_neg.txt.gz\")\n",
        "\n",
        "files.download(\"toanalyze_orig_oraclepred_pos.txt.gz\")\n",
        "files.download(\"toanalyze_taloff_oraclepred_pos.txt.gz\")\n",
        "files.download(\"toanalyze_gataoff_oraclepred_pos.txt.gz\")\n",
        "files.download(\"toanalyze_bothoff_oraclepred_pos.txt.gz\")\n",
        "\n",
        "files.download(\"shuff_toanalyze_orig_seqs.txt.gz\")\n",
        "files.download(\"shuff_toanalyze_taloff_seqs.txt.gz\")\n",
        "files.download(\"shuff_toanalyze_gataoff_seqs.txt.gz\")\n",
        "files.download(\"shuff_toanalyze_bothoff_seqs.txt.gz\")\n",
        "\n",
        "files.download(\"shuff_toanalyze_orig_oraclepred_neg.txt.gz\")\n",
        "files.download(\"shuff_toanalyze_orig_oraclepred_pos.txt.gz\")"
      ],
      "execution_count": 0,
      "outputs": []
    },
    {
      "cell_type": "code",
      "metadata": {
        "id": "yhoGpicRIUiI",
        "colab_type": "code",
        "colab": {}
      },
      "source": [
        ""
      ],
      "execution_count": 0,
      "outputs": []
    }
  ]
}