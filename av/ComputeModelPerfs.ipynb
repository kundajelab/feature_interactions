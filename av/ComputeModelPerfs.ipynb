{
  "nbformat": 4,
  "nbformat_minor": 0,
  "metadata": {
    "colab": {
      "name": "ComputeModelPerfs.ipynb",
      "provenance": [],
      "authorship_tag": "ABX9TyNSh4SdOE2GLsOhNhu+czA4",
      "include_colab_link": true
    },
    "kernelspec": {
      "name": "python3",
      "display_name": "Python 3"
    },
    "accelerator": "GPU"
  },
  "cells": [
    {
      "cell_type": "markdown",
      "metadata": {
        "id": "view-in-github",
        "colab_type": "text"
      },
      "source": [
        "<a href=\"https://colab.research.google.com/github/kundajelab/mfinkels_work/blob/master/av/ComputeModelPerfs.ipynb\" target=\"_parent\"><img src=\"https://colab.research.google.com/assets/colab-badge.svg\" alt=\"Open In Colab\"/></a>"
      ]
    },
    {
      "cell_type": "code",
      "metadata": {
        "id": "m6xZN9oV_y0G",
        "colab_type": "code",
        "outputId": "bd41a248-2186-4bea-e4fa-b17a811f70de",
        "colab": {
          "base_uri": "https://localhost:8080/",
          "height": 817
        }
      },
      "source": [
        "!wget https://github.com/kundajelab/mfinkels_work/raw/6f96084/av/data/test_simulation.simdata.gz \n",
        "!wget https://github.com/kundajelab/mfinkels_work/raw/6f96084/av/data/test_neg_labels.txt.gz\n",
        "!wget https://github.com/kundajelab/mfinkels_work/raw/6f96084/av/data/test_pos_labels.txt.gz"
      ],
      "execution_count": 0,
      "outputs": [
        {
          "output_type": "stream",
          "text": [
            "--2020-05-21 07:25:28--  https://github.com/kundajelab/mfinkels_work/raw/6f96084/av/data/test_simulation.simdata.gz\n",
            "Resolving github.com (github.com)... 140.82.112.4\n",
            "Connecting to github.com (github.com)|140.82.112.4|:443... connected.\n",
            "HTTP request sent, awaiting response... 302 Found\n",
            "Location: https://raw.githubusercontent.com/kundajelab/mfinkels_work/6f96084022c0172d5d0fd1e4275a1669ec181db9/av/data/test_simulation.simdata.gz [following]\n",
            "--2020-05-21 07:25:29--  https://raw.githubusercontent.com/kundajelab/mfinkels_work/6f96084022c0172d5d0fd1e4275a1669ec181db9/av/data/test_simulation.simdata.gz\n",
            "Resolving raw.githubusercontent.com (raw.githubusercontent.com)... 151.101.0.133, 151.101.64.133, 151.101.128.133, ...\n",
            "Connecting to raw.githubusercontent.com (raw.githubusercontent.com)|151.101.0.133|:443... connected.\n",
            "HTTP request sent, awaiting response... 200 OK\n",
            "Length: 2103069 (2.0M) [application/octet-stream]\n",
            "Saving to: ‘test_simulation.simdata.gz’\n",
            "\n",
            "test_simulation.sim 100%[===================>]   2.00M  9.84MB/s    in 0.2s    \n",
            "\n",
            "2020-05-21 07:25:29 (9.84 MB/s) - ‘test_simulation.simdata.gz’ saved [2103069/2103069]\n",
            "\n",
            "--2020-05-21 07:25:30--  https://github.com/kundajelab/mfinkels_work/raw/6f96084/av/data/test_neg_labels.txt.gz\n",
            "Resolving github.com (github.com)... 140.82.112.4\n",
            "Connecting to github.com (github.com)|140.82.112.4|:443... connected.\n",
            "HTTP request sent, awaiting response... 302 Found\n",
            "Location: https://raw.githubusercontent.com/kundajelab/mfinkels_work/6f96084022c0172d5d0fd1e4275a1669ec181db9/av/data/test_neg_labels.txt.gz [following]\n",
            "--2020-05-21 07:25:31--  https://raw.githubusercontent.com/kundajelab/mfinkels_work/6f96084022c0172d5d0fd1e4275a1669ec181db9/av/data/test_neg_labels.txt.gz\n",
            "Resolving raw.githubusercontent.com (raw.githubusercontent.com)... 151.101.0.133, 151.101.64.133, 151.101.128.133, ...\n",
            "Connecting to raw.githubusercontent.com (raw.githubusercontent.com)|151.101.0.133|:443... connected.\n",
            "HTTP request sent, awaiting response... 200 OK\n",
            "Length: 523456 (511K) [application/octet-stream]\n",
            "Saving to: ‘test_neg_labels.txt.gz’\n",
            "\n",
            "test_neg_labels.txt 100%[===================>] 511.19K  --.-KB/s    in 0.07s   \n",
            "\n",
            "2020-05-21 07:25:33 (7.46 MB/s) - ‘test_neg_labels.txt.gz’ saved [523456/523456]\n",
            "\n",
            "--2020-05-21 07:25:34--  https://github.com/kundajelab/mfinkels_work/raw/6f96084/av/data/test_pos_labels.txt.gz\n",
            "Resolving github.com (github.com)... 140.82.112.4\n",
            "Connecting to github.com (github.com)|140.82.112.4|:443... connected.\n",
            "HTTP request sent, awaiting response... 302 Found\n",
            "Location: https://raw.githubusercontent.com/kundajelab/mfinkels_work/6f96084022c0172d5d0fd1e4275a1669ec181db9/av/data/test_pos_labels.txt.gz [following]\n",
            "--2020-05-21 07:25:35--  https://raw.githubusercontent.com/kundajelab/mfinkels_work/6f96084022c0172d5d0fd1e4275a1669ec181db9/av/data/test_pos_labels.txt.gz\n",
            "Resolving raw.githubusercontent.com (raw.githubusercontent.com)... 151.101.0.133, 151.101.64.133, 151.101.128.133, ...\n",
            "Connecting to raw.githubusercontent.com (raw.githubusercontent.com)|151.101.0.133|:443... connected.\n",
            "HTTP request sent, awaiting response... 200 OK\n",
            "Length: 518815 (507K) [application/octet-stream]\n",
            "Saving to: ‘test_pos_labels.txt.gz’\n",
            "\n",
            "test_pos_labels.txt 100%[===================>] 506.66K  --.-KB/s    in 0.07s   \n",
            "\n",
            "2020-05-21 07:25:37 (7.42 MB/s) - ‘test_pos_labels.txt.gz’ saved [518815/518815]\n",
            "\n"
          ],
          "name": "stdout"
        }
      ]
    },
    {
      "cell_type": "code",
      "metadata": {
        "id": "fvd3e549IFI5",
        "colab_type": "code",
        "colab": {}
      },
      "source": [
        "!gunzip -f *.gz"
      ],
      "execution_count": 0,
      "outputs": []
    },
    {
      "cell_type": "code",
      "metadata": {
        "id": "-yg0lHm1A-oy",
        "colab_type": "code",
        "outputId": "97755a3e-b316-42f3-f5c2-d506a5c95093",
        "colab": {
          "base_uri": "https://localhost:8080/",
          "height": 297
        }
      },
      "source": [
        "!wget https://github.com/kundajelab/mfinkels_work/raw/77d29d1/av/trained_models.tgz"
      ],
      "execution_count": 0,
      "outputs": [
        {
          "output_type": "stream",
          "text": [
            "--2020-05-21 07:25:38--  https://github.com/kundajelab/mfinkels_work/raw/77d29d1/av/trained_models.tgz\n",
            "Resolving github.com (github.com)... 140.82.114.4\n",
            "Connecting to github.com (github.com)|140.82.114.4|:443... connected.\n",
            "HTTP request sent, awaiting response... 302 Found\n",
            "Location: https://raw.githubusercontent.com/kundajelab/mfinkels_work/77d29d185b2ce514224ce5da225dad55ef9a28ba/av/trained_models.tgz [following]\n",
            "--2020-05-21 07:25:40--  https://raw.githubusercontent.com/kundajelab/mfinkels_work/77d29d185b2ce514224ce5da225dad55ef9a28ba/av/trained_models.tgz\n",
            "Resolving raw.githubusercontent.com (raw.githubusercontent.com)... 151.101.0.133, 151.101.64.133, 151.101.128.133, ...\n",
            "Connecting to raw.githubusercontent.com (raw.githubusercontent.com)|151.101.0.133|:443... connected.\n",
            "HTTP request sent, awaiting response... 200 OK\n",
            "Length: 7816679 (7.5M) [application/octet-stream]\n",
            "Saving to: ‘trained_models.tgz’\n",
            "\n",
            "trained_models.tgz  100%[===================>]   7.45M  22.4MB/s    in 0.3s    \n",
            "\n",
            "2020-05-21 07:25:44 (22.4 MB/s) - ‘trained_models.tgz’ saved [7816679/7816679]\n",
            "\n"
          ],
          "name": "stdout"
        }
      ]
    },
    {
      "cell_type": "code",
      "metadata": {
        "id": "v0c3BE0OGSQH",
        "colab_type": "code",
        "colab": {}
      },
      "source": [
        "!tar -xzf trained_models.tgz"
      ],
      "execution_count": 0,
      "outputs": []
    },
    {
      "cell_type": "code",
      "metadata": {
        "id": "zhrTAf03GV8q",
        "colab_type": "code",
        "outputId": "e9c92a53-f24a-43e4-b76c-f3998ee8fb62",
        "colab": {
          "base_uri": "https://localhost:8080/",
          "height": 1000
        }
      },
      "source": [
        "!ls trained_models/"
      ],
      "execution_count": 0,
      "outputs": [
        {
          "output_type": "stream",
          "text": [
            "negcontrol_model-arch1_l1reg-0.0001_seed100_onrdk.h5\n",
            "negcontrol_model-arch1_l1reg-0.0001_seed200_astxj.h5\n",
            "negcontrol_model-arch1_l1reg-0.0001_seed300_byxjs.h5\n",
            "negcontrol_model-arch1_l1reg-0.0001_seed400_ujfkj.h5\n",
            "negcontrol_model-arch1_l1reg-0.0001_seed500_owzhn.h5\n",
            "negcontrol_model-arch1_l1reg-0.001_seed100_ltffs.h5\n",
            "negcontrol_model-arch1_l1reg-0.001_seed200_eftjz.h5\n",
            "negcontrol_model-arch1_l1reg-0.001_seed300_eiemt.h5\n",
            "negcontrol_model-arch1_l1reg-0.001_seed400_rmcsj.h5\n",
            "negcontrol_model-arch1_l1reg-0.001_seed500_rccha.h5\n",
            "negcontrol_model-arch1_l1reg-0.0_seed100_nespm.h5\n",
            "negcontrol_model-arch1_l1reg-0.0_seed200_bhpew.h5\n",
            "negcontrol_model-arch1_l1reg-0.0_seed300_ewoyk.h5\n",
            "negcontrol_model-arch1_l1reg-0.0_seed400_akswq.h5\n",
            "negcontrol_model-arch1_l1reg-0.0_seed500_kezkm.h5\n",
            "negcontrol_model-arch2_l1reg-0.0001_seed100_xvwjk.h5\n",
            "negcontrol_model-arch2_l1reg-0.0001_seed200_uyqdg.h5\n",
            "negcontrol_model-arch2_l1reg-0.0001_seed300_pxmfv.h5\n",
            "negcontrol_model-arch2_l1reg-0.0001_seed400_iqqsg.h5\n",
            "negcontrol_model-arch2_l1reg-0.0001_seed500_bzjws.h5\n",
            "negcontrol_model-arch2_l1reg-0.001_seed100_paesj.h5\n",
            "negcontrol_model-arch2_l1reg-0.001_seed200_uatwa.h5\n",
            "negcontrol_model-arch2_l1reg-0.001_seed300_egqtg.h5\n",
            "negcontrol_model-arch2_l1reg-0.001_seed400_zphpl.h5\n",
            "negcontrol_model-arch2_l1reg-0.001_seed500_phdrn.h5\n",
            "negcontrol_model-arch2_l1reg-0.0_seed100_lvgiv.h5\n",
            "negcontrol_model-arch2_l1reg-0.0_seed200_xytqa.h5\n",
            "negcontrol_model-arch2_l1reg-0.0_seed300_ypwis.h5\n",
            "negcontrol_model-arch2_l1reg-0.0_seed400_qefnh.h5\n",
            "negcontrol_model-arch2_l1reg-0.0_seed500_yxgnt.h5\n",
            "negcontrol_model-arch3_l1reg-0.0001_seed100_texte.h5\n",
            "negcontrol_model-arch3_l1reg-0.0001_seed200_kpyir.h5\n",
            "negcontrol_model-arch3_l1reg-0.0001_seed300_xdpdl.h5\n",
            "negcontrol_model-arch3_l1reg-0.0001_seed400_cnrkp.h5\n",
            "negcontrol_model-arch3_l1reg-0.0001_seed500_vcqvx.h5\n",
            "negcontrol_model-arch3_l1reg-0.001_seed100_jubpn.h5\n",
            "negcontrol_model-arch3_l1reg-0.001_seed200_rfdfb.h5\n",
            "negcontrol_model-arch3_l1reg-0.001_seed300_lwpgy.h5\n",
            "negcontrol_model-arch3_l1reg-0.001_seed400_bpykc.h5\n",
            "negcontrol_model-arch3_l1reg-0.001_seed500_fvauo.h5\n",
            "negcontrol_model-arch3_l1reg-0.0_seed100_rmivg.h5\n",
            "negcontrol_model-arch3_l1reg-0.0_seed200_zfper.h5\n",
            "negcontrol_model-arch3_l1reg-0.0_seed300_xqbvq.h5\n",
            "negcontrol_model-arch3_l1reg-0.0_seed400_nvrfe.h5\n",
            "negcontrol_model-arch3_l1reg-0.0_seed500_tgrnm.h5\n",
            "poscontrol_model-arch1_l1reg-0.0001_seed100_aomas.h5\n",
            "poscontrol_model-arch1_l1reg-0.0001_seed200_klzhp.h5\n",
            "poscontrol_model-arch1_l1reg-0.0001_seed300_dhxwt.h5\n",
            "poscontrol_model-arch1_l1reg-0.0001_seed400_rudhy.h5\n",
            "poscontrol_model-arch1_l1reg-0.0001_seed500_hqfpl.h5\n",
            "poscontrol_model-arch1_l1reg-0.001_seed100_hjmju.h5\n",
            "poscontrol_model-arch1_l1reg-0.001_seed200_tudtw.h5\n",
            "poscontrol_model-arch1_l1reg-0.001_seed300_rrofa.h5\n",
            "poscontrol_model-arch1_l1reg-0.001_seed400_evymb.h5\n",
            "poscontrol_model-arch1_l1reg-0.001_seed500_vdeve.h5\n",
            "poscontrol_model-arch1_l1reg-0.0_seed100_amzeg.h5\n",
            "poscontrol_model-arch1_l1reg-0.0_seed200_xfzou.h5\n",
            "poscontrol_model-arch1_l1reg-0.0_seed300_hiulp.h5\n",
            "poscontrol_model-arch1_l1reg-0.0_seed400_qsgmu.h5\n",
            "poscontrol_model-arch1_l1reg-0.0_seed500_iuzrw.h5\n",
            "poscontrol_model-arch2_l1reg-0.0001_seed100_kmtpm.h5\n",
            "poscontrol_model-arch2_l1reg-0.0001_seed200_abyyd.h5\n",
            "poscontrol_model-arch2_l1reg-0.0001_seed300_duirp.h5\n",
            "poscontrol_model-arch2_l1reg-0.0001_seed400_ifpwv.h5\n",
            "poscontrol_model-arch2_l1reg-0.0001_seed500_dfzbb.h5\n",
            "poscontrol_model-arch2_l1reg-0.001_seed100_ebzhv.h5\n",
            "poscontrol_model-arch2_l1reg-0.001_seed200_ncyst.h5\n",
            "poscontrol_model-arch2_l1reg-0.001_seed300_ookbb.h5\n",
            "poscontrol_model-arch2_l1reg-0.001_seed400_rpblq.h5\n",
            "poscontrol_model-arch2_l1reg-0.001_seed500_iunnw.h5\n",
            "poscontrol_model-arch2_l1reg-0.0_seed100_hdwgl.h5\n",
            "poscontrol_model-arch2_l1reg-0.0_seed200_jpend.h5\n",
            "poscontrol_model-arch2_l1reg-0.0_seed300_hnyxy.h5\n",
            "poscontrol_model-arch2_l1reg-0.0_seed400_ewzvv.h5\n",
            "poscontrol_model-arch2_l1reg-0.0_seed500_fabas.h5\n",
            "poscontrol_model-arch3_l1reg-0.0001_seed100_iqvdq.h5\n",
            "poscontrol_model-arch3_l1reg-0.0001_seed200_jsjqh.h5\n",
            "poscontrol_model-arch3_l1reg-0.0001_seed300_jtgjz.h5\n",
            "poscontrol_model-arch3_l1reg-0.0001_seed400_dnyye.h5\n",
            "poscontrol_model-arch3_l1reg-0.0001_seed500_lkead.h5\n",
            "poscontrol_model-arch3_l1reg-0.001_seed100_xrxte.h5\n",
            "poscontrol_model-arch3_l1reg-0.001_seed200_doafa.h5\n",
            "poscontrol_model-arch3_l1reg-0.001_seed300_ttogz.h5\n",
            "poscontrol_model-arch3_l1reg-0.001_seed400_xugxp.h5\n",
            "poscontrol_model-arch3_l1reg-0.001_seed500_yyfcz.h5\n",
            "poscontrol_model-arch3_l1reg-0.0_seed100_utcmr.h5\n",
            "poscontrol_model-arch3_l1reg-0.0_seed200_vkewt.h5\n",
            "poscontrol_model-arch3_l1reg-0.0_seed300_kikny.h5\n",
            "poscontrol_model-arch3_l1reg-0.0_seed400_lqltb.h5\n",
            "poscontrol_model-arch3_l1reg-0.0_seed500_hltxi.h5\n"
          ],
          "name": "stdout"
        }
      ]
    },
    {
      "cell_type": "code",
      "metadata": {
        "id": "GLU4xHynA5sm",
        "colab_type": "code",
        "outputId": "3a18dd8a-cca6-45c0-95d3-de2aaaf848fa",
        "colab": {
          "base_uri": "https://localhost:8080/",
          "height": 346
        }
      },
      "source": [
        "!pip install simdna"
      ],
      "execution_count": 0,
      "outputs": [
        {
          "output_type": "stream",
          "text": [
            "Collecting simdna\n",
            "\u001b[?25l  Downloading https://files.pythonhosted.org/packages/14/c6/dc6cc2e9ac09c85d5ec6d896c6c43c8dd5ef50bb9c14423e9290131dce27/simdna-0.4.3.2.tar.gz (634kB)\n",
            "\u001b[K     |████████████████████████████████| 634kB 2.8MB/s \n",
            "\u001b[?25hRequirement already satisfied: numpy>=1.9 in /usr/local/lib/python3.6/dist-packages (from simdna) (1.18.4)\n",
            "Requirement already satisfied: matplotlib in /usr/local/lib/python3.6/dist-packages (from simdna) (3.2.1)\n",
            "Requirement already satisfied: scipy in /usr/local/lib/python3.6/dist-packages (from simdna) (1.4.1)\n",
            "Requirement already satisfied: python-dateutil>=2.1 in /usr/local/lib/python3.6/dist-packages (from matplotlib->simdna) (2.8.1)\n",
            "Requirement already satisfied: cycler>=0.10 in /usr/local/lib/python3.6/dist-packages (from matplotlib->simdna) (0.10.0)\n",
            "Requirement already satisfied: kiwisolver>=1.0.1 in /usr/local/lib/python3.6/dist-packages (from matplotlib->simdna) (1.2.0)\n",
            "Requirement already satisfied: pyparsing!=2.0.4,!=2.1.2,!=2.1.6,>=2.0.1 in /usr/local/lib/python3.6/dist-packages (from matplotlib->simdna) (2.4.7)\n",
            "Requirement already satisfied: six>=1.5 in /usr/local/lib/python3.6/dist-packages (from python-dateutil>=2.1->matplotlib->simdna) (1.12.0)\n",
            "Building wheels for collected packages: simdna\n",
            "  Building wheel for simdna (setup.py) ... \u001b[?25lerror\n",
            "\u001b[31m  ERROR: Failed building wheel for simdna\u001b[0m\n",
            "\u001b[?25h  Running setup.py clean for simdna\n",
            "Failed to build simdna\n",
            "Installing collected packages: simdna\n",
            "    Running setup.py install for simdna ... \u001b[?25l\u001b[?25hdone\n",
            "Successfully installed simdna-0.4.3.2\n"
          ],
          "name": "stdout"
        }
      ]
    },
    {
      "cell_type": "code",
      "metadata": {
        "id": "vf-qFgPM___z",
        "colab_type": "code",
        "colab": {}
      },
      "source": [
        "import simdna\n",
        "from simdna import synthetic\n",
        "\n",
        "test_data = synthetic.read_simdata_file(\"test_simulation.simdata\")"
      ],
      "execution_count": 0,
      "outputs": []
    },
    {
      "cell_type": "code",
      "metadata": {
        "id": "rIhEPO4xAmoW",
        "colab_type": "code",
        "colab": {}
      },
      "source": [
        "import numpy as np\n",
        "\n",
        "\n",
        "#this is set up for 1d convolutions where examples\n",
        "#have dimensions (len, num_channels) \n",
        "#the channel axis is the axis for one-hot encoding.\n",
        "def one_hot_encode_along_channel_axis(sequence):\n",
        "    to_return = np.zeros((len(sequence),4), dtype=np.int8)\n",
        "    seq_to_one_hot_fill_in_array(zeros_array=to_return,\n",
        "                                 sequence=sequence, one_hot_axis=1)\n",
        "    return to_return\n",
        "\n",
        "\n",
        "def seq_to_one_hot_fill_in_array(zeros_array, sequence, one_hot_axis):\n",
        "    assert one_hot_axis==0 or one_hot_axis==1\n",
        "    if (one_hot_axis==0):\n",
        "        assert zeros_array.shape[1] == len(sequence)\n",
        "    elif (one_hot_axis==1): \n",
        "        assert zeros_array.shape[0] == len(sequence)\n",
        "    #will mutate zeros_array\n",
        "    for (i,char) in enumerate(sequence):\n",
        "        if (char==\"A\" or char==\"a\"):\n",
        "            char_idx = 0\n",
        "        elif (char==\"C\" or char==\"c\"):\n",
        "            char_idx = 1\n",
        "        elif (char==\"G\" or char==\"g\"):\n",
        "            char_idx = 2\n",
        "        elif (char==\"T\" or char==\"t\"):\n",
        "            char_idx = 3\n",
        "        elif (char==\"N\" or char==\"n\"):\n",
        "            continue #leave that pos as all 0's\n",
        "        else:\n",
        "            raise RuntimeError(\"Unsupported character: \"+str(char))\n",
        "        if (one_hot_axis==0):\n",
        "            zeros_array[char_idx,i] = 1\n",
        "        elif (one_hot_axis==1):\n",
        "            zeros_array[i,char_idx] = 1\n",
        "\n",
        "\n",
        "def anscombe_transform(vals):\n",
        "  return 2*np.sqrt(vals + 3.0/8)\n",
        "\n",
        "\n",
        "def inverse_anscombe_transform(vals):\n",
        "  return np.square(vals/2.0) - 3.0/8\n",
        "\n",
        "\n",
        "def read_labels_and_oracle(filename):\n",
        "  labels = anscombe_transform(np.array([float(x.split(\"\\t\")[0]) for\n",
        "                                          x in open(filename)]))\n",
        "  oracle = anscombe_transform(np.array([float(x.split(\"\\t\")[1]) for\n",
        "                                          x in open(filename)]))\n",
        "  return labels, oracle\n",
        "\n",
        "\n",
        "test_onehot_data = np.array([one_hot_encode_along_channel_axis(seq)\n",
        "                              for seq in test_data.sequences])\n",
        "\n",
        "test_pos_labels, test_pos_oracle =\\\n",
        "  read_labels_and_oracle(\"test_pos_labels.txt\")\n",
        "test_neg_labels, test_neg_oracle =\\\n",
        "  read_labels_and_oracle(\"test_neg_labels.txt\")"
      ],
      "execution_count": 0,
      "outputs": []
    },
    {
      "cell_type": "code",
      "metadata": {
        "id": "z0jJYV6Z_xKi",
        "colab_type": "code",
        "colab": {}
      },
      "source": [
        "import glob\n",
        "\n",
        "model_files = glob.glob(\"trained_models/*.h5\")"
      ],
      "execution_count": 0,
      "outputs": []
    },
    {
      "cell_type": "code",
      "metadata": {
        "id": "g4yWMR60G6D0",
        "colab_type": "code",
        "outputId": "fb02d5c2-350b-4310-f1c6-b0d7862ce993",
        "colab": {
          "base_uri": "https://localhost:8080/",
          "height": 33
        }
      },
      "source": [
        "%tensorflow_version 1.x"
      ],
      "execution_count": 0,
      "outputs": [
        {
          "output_type": "stream",
          "text": [
            "TensorFlow 1.x selected.\n"
          ],
          "name": "stdout"
        }
      ]
    },
    {
      "cell_type": "code",
      "metadata": {
        "id": "Qfni0sQGGye3",
        "colab_type": "code",
        "outputId": "58626bee-bff7-4434-abb8-6b84772fb9e5",
        "colab": {
          "base_uri": "https://localhost:8080/",
          "height": 1000
        }
      },
      "source": [
        "import keras\n",
        "from collections import OrderedDict\n",
        "\n",
        "def get_modelname_to_loss(modelfiles, labels):\n",
        "  modelname_to_loss = OrderedDict()\n",
        "  for model_file in modelfiles:\n",
        "    print(\"On\",model_file)\n",
        "    model = keras.models.load_model(model_file)\n",
        "    preds = np.squeeze(model.predict(test_onehot_data))\n",
        "    loss = np.mean(np.square(preds-labels))\n",
        "    modelname_to_loss[model_file.split(\"/\")[-1]] = loss\n",
        "\n",
        "poscontrol_modelname_to_loss = get_modelname_to_loss(\n",
        "    modelfiles=glob.glob(\"trained_models/poscontrol_*.h5\"),\n",
        "    labels=test_pos_labels)\n",
        "negcontrol_modelname_to_loss = get_modelname_to_loss(\n",
        "    modelfiles=glob.glob(\"trained_models/negcontrol_*.h5\"),\n",
        "    labels=test_neg_labels)\n"
      ],
      "execution_count": 0,
      "outputs": [
        {
          "output_type": "stream",
          "text": [
            "Using TensorFlow backend.\n"
          ],
          "name": "stderr"
        },
        {
          "output_type": "stream",
          "text": [
            "On trained_models/poscontrol_model-arch3_l1reg-0.0001_seed200_jsjqh.h5\n",
            "WARNING:tensorflow:From /tensorflow-1.15.2/python3.6/tensorflow_core/python/ops/resource_variable_ops.py:1630: calling BaseResourceVariable.__init__ (from tensorflow.python.ops.resource_variable_ops) with constraint is deprecated and will be removed in a future version.\n",
            "Instructions for updating:\n",
            "If using Keras pass *_constraint arguments to layers.\n",
            "WARNING:tensorflow:From /usr/local/lib/python3.6/dist-packages/keras/backend/tensorflow_backend.py:422: The name tf.global_variables is deprecated. Please use tf.compat.v1.global_variables instead.\n",
            "\n",
            "On trained_models/poscontrol_model-arch1_l1reg-0.001_seed400_evymb.h5\n",
            "On trained_models/poscontrol_model-arch2_l1reg-0.001_seed100_ebzhv.h5\n",
            "On trained_models/poscontrol_model-arch2_l1reg-0.0001_seed400_ifpwv.h5\n",
            "On trained_models/poscontrol_model-arch1_l1reg-0.0001_seed100_aomas.h5\n",
            "On trained_models/poscontrol_model-arch3_l1reg-0.0_seed100_utcmr.h5\n",
            "On trained_models/poscontrol_model-arch1_l1reg-0.0_seed100_amzeg.h5\n",
            "On trained_models/poscontrol_model-arch1_l1reg-0.0_seed200_xfzou.h5\n",
            "On trained_models/poscontrol_model-arch3_l1reg-0.0_seed200_vkewt.h5\n",
            "On trained_models/poscontrol_model-arch3_l1reg-0.0001_seed400_dnyye.h5\n",
            "On trained_models/poscontrol_model-arch2_l1reg-0.0_seed100_hdwgl.h5\n",
            "On trained_models/poscontrol_model-arch2_l1reg-0.001_seed500_iunnw.h5\n",
            "On trained_models/poscontrol_model-arch3_l1reg-0.001_seed300_ttogz.h5\n",
            "On trained_models/poscontrol_model-arch1_l1reg-0.0001_seed200_klzhp.h5\n",
            "On trained_models/poscontrol_model-arch2_l1reg-0.0001_seed100_kmtpm.h5\n",
            "On trained_models/poscontrol_model-arch1_l1reg-0.001_seed300_rrofa.h5\n",
            "On trained_models/poscontrol_model-arch2_l1reg-0.0_seed300_hnyxy.h5\n",
            "On trained_models/poscontrol_model-arch3_l1reg-0.0_seed300_kikny.h5\n",
            "On trained_models/poscontrol_model-arch3_l1reg-0.001_seed100_xrxte.h5\n",
            "On trained_models/poscontrol_model-arch2_l1reg-0.0_seed200_jpend.h5\n",
            "On trained_models/poscontrol_model-arch3_l1reg-0.0001_seed100_iqvdq.h5\n",
            "On trained_models/poscontrol_model-arch1_l1reg-0.001_seed200_tudtw.h5\n",
            "On trained_models/poscontrol_model-arch2_l1reg-0.0001_seed300_duirp.h5\n",
            "On trained_models/poscontrol_model-arch3_l1reg-0.0001_seed500_lkead.h5\n",
            "On trained_models/poscontrol_model-arch1_l1reg-0.0_seed500_iuzrw.h5\n",
            "On trained_models/poscontrol_model-arch2_l1reg-0.001_seed300_ookbb.h5\n",
            "On trained_models/poscontrol_model-arch1_l1reg-0.001_seed100_hjmju.h5\n",
            "On trained_models/poscontrol_model-arch2_l1reg-0.0001_seed200_abyyd.h5\n",
            "On trained_models/poscontrol_model-arch1_l1reg-0.0_seed300_hiulp.h5\n",
            "On trained_models/poscontrol_model-arch2_l1reg-0.0_seed500_fabas.h5\n",
            "On trained_models/poscontrol_model-arch3_l1reg-0.0_seed500_hltxi.h5\n",
            "On trained_models/poscontrol_model-arch1_l1reg-0.0001_seed400_rudhy.h5\n",
            "On trained_models/poscontrol_model-arch3_l1reg-0.001_seed400_xugxp.h5\n",
            "On trained_models/poscontrol_model-arch2_l1reg-0.0_seed400_ewzvv.h5\n",
            "On trained_models/poscontrol_model-arch3_l1reg-0.0_seed400_lqltb.h5\n",
            "On trained_models/poscontrol_model-arch1_l1reg-0.0001_seed300_dhxwt.h5\n",
            "On trained_models/poscontrol_model-arch3_l1reg-0.001_seed200_doafa.h5\n",
            "On trained_models/poscontrol_model-arch2_l1reg-0.0001_seed500_dfzbb.h5\n",
            "On trained_models/poscontrol_model-arch2_l1reg-0.001_seed400_rpblq.h5\n",
            "On trained_models/poscontrol_model-arch1_l1reg-0.0001_seed500_hqfpl.h5\n",
            "On trained_models/poscontrol_model-arch1_l1reg-0.0_seed400_qsgmu.h5\n",
            "On trained_models/poscontrol_model-arch2_l1reg-0.001_seed200_ncyst.h5\n",
            "On trained_models/poscontrol_model-arch3_l1reg-0.0001_seed300_jtgjz.h5\n",
            "On trained_models/poscontrol_model-arch1_l1reg-0.001_seed500_vdeve.h5\n",
            "On trained_models/poscontrol_model-arch3_l1reg-0.001_seed500_yyfcz.h5\n",
            "On trained_models/negcontrol_model-arch2_l1reg-0.001_seed300_egqtg.h5\n",
            "On trained_models/negcontrol_model-arch2_l1reg-0.001_seed100_paesj.h5\n",
            "On trained_models/negcontrol_model-arch2_l1reg-0.0001_seed400_iqqsg.h5\n",
            "On trained_models/negcontrol_model-arch1_l1reg-0.0_seed300_ewoyk.h5\n",
            "On trained_models/negcontrol_model-arch3_l1reg-0.0_seed400_nvrfe.h5\n",
            "On trained_models/negcontrol_model-arch3_l1reg-0.001_seed400_bpykc.h5\n",
            "On trained_models/negcontrol_model-arch3_l1reg-0.0_seed200_zfper.h5\n",
            "On trained_models/negcontrol_model-arch3_l1reg-0.0001_seed100_texte.h5\n",
            "On trained_models/negcontrol_model-arch2_l1reg-0.0_seed300_ypwis.h5\n",
            "On trained_models/negcontrol_model-arch1_l1reg-0.0001_seed400_ujfkj.h5\n",
            "On trained_models/negcontrol_model-arch3_l1reg-0.001_seed500_fvauo.h5\n",
            "On trained_models/negcontrol_model-arch3_l1reg-0.0_seed100_rmivg.h5\n",
            "On trained_models/negcontrol_model-arch3_l1reg-0.001_seed200_rfdfb.h5\n",
            "On trained_models/negcontrol_model-arch1_l1reg-0.001_seed100_ltffs.h5\n",
            "On trained_models/negcontrol_model-arch2_l1reg-0.001_seed400_zphpl.h5\n",
            "On trained_models/negcontrol_model-arch3_l1reg-0.0001_seed300_xdpdl.h5\n",
            "On trained_models/negcontrol_model-arch2_l1reg-0.001_seed500_phdrn.h5\n",
            "On trained_models/negcontrol_model-arch3_l1reg-0.0001_seed200_kpyir.h5\n",
            "On trained_models/negcontrol_model-arch2_l1reg-0.0_seed200_xytqa.h5\n",
            "On trained_models/negcontrol_model-arch3_l1reg-0.001_seed300_lwpgy.h5\n",
            "On trained_models/negcontrol_model-arch2_l1reg-0.0001_seed100_xvwjk.h5\n",
            "On trained_models/negcontrol_model-arch3_l1reg-0.0001_seed400_cnrkp.h5\n",
            "On trained_models/negcontrol_model-arch1_l1reg-0.0001_seed100_onrdk.h5\n",
            "On trained_models/negcontrol_model-arch1_l1reg-0.0_seed500_kezkm.h5\n",
            "On trained_models/negcontrol_model-arch1_l1reg-0.0001_seed500_owzhn.h5\n",
            "On trained_models/negcontrol_model-arch2_l1reg-0.0001_seed300_pxmfv.h5\n",
            "On trained_models/negcontrol_model-arch1_l1reg-0.001_seed400_rmcsj.h5\n",
            "On trained_models/negcontrol_model-arch2_l1reg-0.001_seed200_uatwa.h5\n",
            "On trained_models/negcontrol_model-arch1_l1reg-0.0_seed200_bhpew.h5\n",
            "On trained_models/negcontrol_model-arch2_l1reg-0.0_seed500_yxgnt.h5\n",
            "On trained_models/negcontrol_model-arch1_l1reg-0.001_seed500_rccha.h5\n",
            "On trained_models/negcontrol_model-arch1_l1reg-0.0001_seed300_byxjs.h5\n",
            "On trained_models/negcontrol_model-arch2_l1reg-0.0_seed100_lvgiv.h5\n",
            "On trained_models/negcontrol_model-arch3_l1reg-0.0001_seed500_vcqvx.h5\n",
            "On trained_models/negcontrol_model-arch1_l1reg-0.001_seed200_eftjz.h5\n",
            "On trained_models/negcontrol_model-arch2_l1reg-0.0001_seed200_uyqdg.h5\n",
            "On trained_models/negcontrol_model-arch1_l1reg-0.001_seed300_eiemt.h5\n",
            "On trained_models/negcontrol_model-arch3_l1reg-0.001_seed100_jubpn.h5\n",
            "On trained_models/negcontrol_model-arch2_l1reg-0.0_seed400_qefnh.h5\n",
            "On trained_models/negcontrol_model-arch1_l1reg-0.0_seed100_nespm.h5\n",
            "On trained_models/negcontrol_model-arch2_l1reg-0.0001_seed500_bzjws.h5\n",
            "On trained_models/negcontrol_model-arch3_l1reg-0.0_seed500_tgrnm.h5\n",
            "On trained_models/negcontrol_model-arch1_l1reg-0.0_seed400_akswq.h5\n",
            "On trained_models/negcontrol_model-arch1_l1reg-0.0001_seed200_astxj.h5\n",
            "On trained_models/negcontrol_model-arch3_l1reg-0.0_seed300_xqbvq.h5\n"
          ],
          "name": "stdout"
        }
      ]
    },
    {
      "cell_type": "code",
      "metadata": {
        "id": "hNLExeRoGzdg",
        "colab_type": "code",
        "colab": {}
      },
      "source": [
        "import json\n",
        "\n",
        "def pp_json_dump(obj):\n",
        "  return json.dumps(obj, sort_keys=True, indent=4, separators=(',', ': '))\n",
        "\n",
        "with open(\"poscontrol_modelname_to_loss.json\",'w') as fh:\n",
        "  fh.write(pp_json_dump(poscontrol_modelname_to_loss))\n",
        "\n",
        "with open(\"negcontrol_modelname_to_loss.json\",'w') as fh:\n",
        "  fh.write(pp_json_dump(negcontrol_modelname_to_loss))"
      ],
      "execution_count": 0,
      "outputs": []
    },
    {
      "cell_type": "code",
      "metadata": {
        "id": "Xkl3b8ymNAja",
        "colab_type": "code",
        "colab": {}
      },
      "source": [
        "from google.colab import files\n",
        "\n",
        "files.download(\"poscontrol_modelname_to_loss.json\")\n",
        "files.download(\"negcontrol_modelname_to_loss.json\")"
      ],
      "execution_count": 0,
      "outputs": []
    },
    {
      "cell_type": "code",
      "metadata": {
        "id": "jDRoXsARiLT4",
        "colab_type": "code",
        "colab": {}
      },
      "source": [
        ""
      ],
      "execution_count": 0,
      "outputs": []
    }
  ]
}