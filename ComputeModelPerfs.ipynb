{
  "nbformat": 4,
  "nbformat_minor": 0,
  "metadata": {
    "colab": {
      "name": "ComputeModelPerfs.ipynb",
      "provenance": [],
      "include_colab_link": true
    },
    "kernelspec": {
      "name": "python3",
      "display_name": "Python 3"
    },
    "accelerator": "GPU"
  },
  "cells": [
    {
      "cell_type": "markdown",
      "metadata": {
        "id": "view-in-github",
        "colab_type": "text"
      },
      "source": [
        "<a href=\"https://colab.research.google.com/github/kundajelab/feature_interactions/blob/master/ComputeModelPerfs.ipynb\" target=\"_parent\"><img src=\"https://colab.research.google.com/assets/colab-badge.svg\" alt=\"Open In Colab\"/></a>"
      ]
    },
    {
      "cell_type": "code",
      "metadata": {
        "id": "m6xZN9oV_y0G",
        "colab_type": "code",
        "colab": {}
      },
      "source": [
        "!wget https://github.com/kundajelab/feature_interactions/raw/6f96084/av/data/test_simulation.simdata.gz \n",
        "!wget https://github.com/kundajelab/feature_interactions/raw/6f96084/av/data/test_neg_labels.txt.gz\n",
        "!wget https://github.com/kundajelab/feature_interactions/raw/6f96084/av/data/test_pos_labels.txt.gz"
      ],
      "execution_count": 0,
      "outputs": []
    },
    {
      "cell_type": "code",
      "metadata": {
        "id": "fvd3e549IFI5",
        "colab_type": "code",
        "colab": {}
      },
      "source": [
        "!gunzip -f *.gz"
      ],
      "execution_count": 0,
      "outputs": []
    },
    {
      "cell_type": "code",
      "metadata": {
        "id": "-yg0lHm1A-oy",
        "colab_type": "code",
        "colab": {}
      },
      "source": [
        "!wget https://github.com/kundajelab/feature_interactions/raw/77d29d1/av/trained_models.tgz"
      ],
      "execution_count": 0,
      "outputs": []
    },
    {
      "cell_type": "code",
      "metadata": {
        "id": "v0c3BE0OGSQH",
        "colab_type": "code",
        "colab": {}
      },
      "source": [
        "!tar -xzf trained_models.tgz"
      ],
      "execution_count": 0,
      "outputs": []
    },
    {
      "cell_type": "code",
      "metadata": {
        "id": "zhrTAf03GV8q",
        "colab_type": "code",
        "colab": {}
      },
      "source": [
        "!ls trained_models/"
      ],
      "execution_count": 0,
      "outputs": []
    },
    {
      "cell_type": "code",
      "metadata": {
        "id": "GLU4xHynA5sm",
        "colab_type": "code",
        "colab": {}
      },
      "source": [
        "!pip install simdna"
      ],
      "execution_count": 0,
      "outputs": []
    },
    {
      "cell_type": "code",
      "metadata": {
        "id": "vf-qFgPM___z",
        "colab_type": "code",
        "colab": {}
      },
      "source": [
        "import simdna\n",
        "from simdna import synthetic\n",
        "\n",
        "test_data = synthetic.read_simdata_file(\"test_simulation.simdata\")"
      ],
      "execution_count": 0,
      "outputs": []
    },
    {
      "cell_type": "code",
      "metadata": {
        "id": "rIhEPO4xAmoW",
        "colab_type": "code",
        "colab": {}
      },
      "source": [
        "import numpy as np\n",
        "\n",
        "\n",
        "#this is set up for 1d convolutions where examples\n",
        "#have dimensions (len, num_channels) \n",
        "#the channel axis is the axis for one-hot encoding.\n",
        "def one_hot_encode_along_channel_axis(sequence):\n",
        "    to_return = np.zeros((len(sequence),4), dtype=np.int8)\n",
        "    seq_to_one_hot_fill_in_array(zeros_array=to_return,\n",
        "                                 sequence=sequence, one_hot_axis=1)\n",
        "    return to_return\n",
        "\n",
        "\n",
        "def seq_to_one_hot_fill_in_array(zeros_array, sequence, one_hot_axis):\n",
        "    assert one_hot_axis==0 or one_hot_axis==1\n",
        "    if (one_hot_axis==0):\n",
        "        assert zeros_array.shape[1] == len(sequence)\n",
        "    elif (one_hot_axis==1): \n",
        "        assert zeros_array.shape[0] == len(sequence)\n",
        "    #will mutate zeros_array\n",
        "    for (i,char) in enumerate(sequence):\n",
        "        if (char==\"A\" or char==\"a\"):\n",
        "            char_idx = 0\n",
        "        elif (char==\"C\" or char==\"c\"):\n",
        "            char_idx = 1\n",
        "        elif (char==\"G\" or char==\"g\"):\n",
        "            char_idx = 2\n",
        "        elif (char==\"T\" or char==\"t\"):\n",
        "            char_idx = 3\n",
        "        elif (char==\"N\" or char==\"n\"):\n",
        "            continue #leave that pos as all 0's\n",
        "        else:\n",
        "            raise RuntimeError(\"Unsupported character: \"+str(char))\n",
        "        if (one_hot_axis==0):\n",
        "            zeros_array[char_idx,i] = 1\n",
        "        elif (one_hot_axis==1):\n",
        "            zeros_array[i,char_idx] = 1\n",
        "\n",
        "\n",
        "def anscombe_transform(vals):\n",
        "  return 2*np.sqrt(vals + 3.0/8)\n",
        "\n",
        "\n",
        "def inverse_anscombe_transform(vals):\n",
        "  return np.square(vals/2.0) - 3.0/8\n",
        "\n",
        "\n",
        "def read_labels_and_oracle(filename):\n",
        "  labels = anscombe_transform(np.array([float(x.split(\"\\t\")[0]) for\n",
        "                                          x in open(filename)]))\n",
        "  oracle = anscombe_transform(np.array([float(x.split(\"\\t\")[1]) for\n",
        "                                          x in open(filename)]))\n",
        "  return labels, oracle\n",
        "\n",
        "\n",
        "test_onehot_data = np.array([one_hot_encode_along_channel_axis(seq)\n",
        "                              for seq in test_data.sequences])\n",
        "\n",
        "test_pos_labels, test_pos_oracle =\\\n",
        "  read_labels_and_oracle(\"test_pos_labels.txt\")\n",
        "test_neg_labels, test_neg_oracle =\\\n",
        "  read_labels_and_oracle(\"test_neg_labels.txt\")"
      ],
      "execution_count": 0,
      "outputs": []
    },
    {
      "cell_type": "code",
      "metadata": {
        "id": "z0jJYV6Z_xKi",
        "colab_type": "code",
        "colab": {}
      },
      "source": [
        "import glob\n",
        "\n",
        "model_files = glob.glob(\"trained_models/*.h5\")"
      ],
      "execution_count": 0,
      "outputs": []
    },
    {
      "cell_type": "code",
      "metadata": {
        "id": "g4yWMR60G6D0",
        "colab_type": "code",
        "colab": {}
      },
      "source": [
        "%tensorflow_version 1.x"
      ],
      "execution_count": 0,
      "outputs": []
    },
    {
      "cell_type": "code",
      "metadata": {
        "id": "Qfni0sQGGye3",
        "colab_type": "code",
        "colab": {}
      },
      "source": [
        "import keras\n",
        "from collections import OrderedDict\n",
        "import scipy.stats\n",
        "\n",
        "def get_modelname_to_loss(modelfiles, labels):\n",
        "  modelname_to_loss = OrderedDict()\n",
        "  modelname_to_corr = OrderedDict()\n",
        "  for model_file in modelfiles:\n",
        "    print(\"On\",model_file)\n",
        "    model = keras.models.load_model(model_file)\n",
        "    preds = np.squeeze(model.predict(test_onehot_data))\n",
        "    loss = np.mean(np.square(preds-labels))\n",
        "    corr = scipy.stats.pearsonr(preds, labels)[0]\n",
        "    modelname_to_loss[model_file.split(\"/\")[-1]] = loss\n",
        "    modelname_to_corr[model_file.split(\"/\")[-1]] = corr\n",
        "  return modelname_to_loss, modelname_to_corr\n",
        "\n",
        "poscontrol_modelname_to_loss, poscontrol_modelname_to_corr = get_modelname_to_loss(\n",
        "    modelfiles=glob.glob(\"trained_models/poscontrol_*.h5\"),\n",
        "    labels=test_pos_labels)\n",
        "negcontrol_modelname_to_loss, negcontrol_modelname_to_corr = get_modelname_to_loss(\n",
        "    modelfiles=glob.glob(\"trained_models/negcontrol_*.h5\"),\n",
        "    labels=test_neg_labels)\n"
      ],
      "execution_count": 0,
      "outputs": []
    },
    {
      "cell_type": "code",
      "metadata": {
        "id": "hNLExeRoGzdg",
        "colab_type": "code",
        "colab": {}
      },
      "source": [
        "import json\n",
        "\n",
        "def pp_json_dump(obj):\n",
        "  return json.dumps(obj, sort_keys=True, indent=4, separators=(',', ': '))\n",
        "\n",
        "with open(\"poscontrol_modelname_to_loss.json\",'w') as fh:\n",
        "  fh.write(pp_json_dump(poscontrol_modelname_to_loss))\n",
        "\n",
        "with open(\"negcontrol_modelname_to_loss.json\",'w') as fh:\n",
        "  fh.write(pp_json_dump(negcontrol_modelname_to_loss))\n",
        "\n",
        "with open(\"poscontrol_modelname_to_corr.json\",'w') as fh:\n",
        "  fh.write(pp_json_dump(poscontrol_modelname_to_corr))\n",
        "\n",
        "with open(\"negcontrol_modelname_to_corr.json\",'w') as fh:\n",
        "  fh.write(pp_json_dump(negcontrol_modelname_to_corr))"
      ],
      "execution_count": 0,
      "outputs": []
    },
    {
      "cell_type": "code",
      "metadata": {
        "id": "Xkl3b8ymNAja",
        "colab_type": "code",
        "colab": {}
      },
      "source": [
        "from google.colab import files\n",
        "\n",
        "files.download(\"poscontrol_modelname_to_loss.json\")\n",
        "files.download(\"negcontrol_modelname_to_loss.json\")\n",
        "\n",
        "files.download(\"poscontrol_modelname_to_corr.json\")\n",
        "files.download(\"negcontrol_modelname_to_corr.json\")"
      ],
      "execution_count": 0,
      "outputs": []
    },
    {
      "cell_type": "code",
      "metadata": {
        "id": "jDRoXsARiLT4",
        "colab_type": "code",
        "colab": {}
      },
      "source": [
        ""
      ],
      "execution_count": 0,
      "outputs": []
    }
  ]
}