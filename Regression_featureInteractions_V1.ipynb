{
  "nbformat": 4,
  "nbformat_minor": 0,
  "metadata": {
    "colab": {
      "name": "Regression_featureInteractions_V1",
      "version": "0.3.2",
      "provenance": [],
      "collapsed_sections": [],
      "include_colab_link": true
    },
    "kernelspec": {
      "name": "python2",
      "display_name": "Python 2"
    }
  },
  "cells": [
    {
      "cell_type": "markdown",
      "metadata": {
        "id": "view-in-github",
        "colab_type": "text"
      },
      "source": [
        "<a href=\"https://colab.research.google.com/github/kundajelab/mfinkels_work/blob/master/Regression_featureInteractions_V1.ipynb\" target=\"_parent\"><img src=\"https://colab.research.google.com/assets/colab-badge.svg\" alt=\"Open In Colab\"/></a>"
      ]
    },
    {
      "metadata": {
        "id": "J_MMOs1E7ekE",
        "colab_type": "code",
        "colab": {}
      },
      "cell_type": "code",
      "source": [
        "from __future__ import division, print_function"
      ],
      "execution_count": 0,
      "outputs": []
    },
    {
      "metadata": {
        "id": "66r__0LTc_Eh",
        "colab_type": "code",
        "outputId": "c18eaa62-7a19-455e-b0bc-76f02fccf983",
        "colab": {
          "resources": {
            "http://localhost:8080/nbextensions/google.colab/files.js": {
              "data": "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",
              "ok": true,
              "headers": [
                [
                  "content-type",
                  "application/javascript"
                ]
              ],
              "status": 200,
              "status_text": ""
            }
          },
          "base_uri": "https://localhost:8080/",
          "height": 74
        }
      },
      "cell_type": "code",
      "source": [
        "from google.colab import files\n",
        "uploaded = files.upload()"
      ],
      "execution_count": 7,
      "outputs": [
        {
          "output_type": "display_data",
          "data": {
            "text/plain": [
              "<IPython.core.display.HTML object>"
            ],
            "text/html": [
              "\n",
              "     <input type=\"file\" id=\"files-ee0eae7c-fa88-42b9-99cb-bbde4b3ad2f7\" name=\"files[]\" multiple disabled />\n",
              "     <output id=\"result-ee0eae7c-fa88-42b9-99cb-bbde4b3ad2f7\">\n",
              "      Upload widget is only available when the cell has been executed in the\n",
              "      current browser session. Please rerun this cell to enable.\n",
              "      </output>\n",
              "      <script src=\"/nbextensions/google.colab/files.js\"></script> "
            ]
          },
          "metadata": {
            "tags": []
          }
        },
        {
          "output_type": "stream",
          "text": [
            "Saving sci09.v2_Gmeb1_1745.pwm.txt to sci09.v2_Gmeb1_1745.pwm (1).txt\n"
          ],
          "name": "stdout"
        }
      ]
    },
    {
      "metadata": {
        "id": "LPjPqvD57iUx",
        "colab_type": "code",
        "outputId": "a9ec1b6b-6197-44db-8205-72094d10f534",
        "colab": {
          "base_uri": "https://localhost:8080/",
          "height": 102
        }
      },
      "cell_type": "code",
      "source": [
        "!rm -r simdna\n",
        "!git clone https://github.com/kundajelab/simdna.git"
      ],
      "execution_count": 8,
      "outputs": [
        {
          "output_type": "stream",
          "text": [
            "Cloning into 'simdna'...\n",
            "remote: Enumerating objects: 879, done.\u001b[K\n",
            "remote: Total 879 (delta 0), reused 0 (delta 0), pack-reused 879\u001b[K\n",
            "Receiving objects: 100% (879/879), 2.90 MiB | 5.53 MiB/s, done.\n",
            "Resolving deltas: 100% (518/518), done.\n"
          ],
          "name": "stdout"
        }
      ]
    },
    {
      "metadata": {
        "id": "lABADmPN8zDI",
        "colab_type": "code",
        "outputId": "725a4f74-279b-4fad-fc05-9d3b26fc9d02",
        "colab": {
          "base_uri": "https://localhost:8080/",
          "height": 530
        }
      },
      "cell_type": "code",
      "source": [
        "!pip install simdna/\n",
        "!pip install deeplift"
      ],
      "execution_count": 9,
      "outputs": [
        {
          "output_type": "stream",
          "text": [
            "Processing ./simdna\n",
            "Requirement already satisfied: numpy>=1.9 in /usr/local/lib/python2.7/dist-packages (from simdna==0.4.3.1) (1.14.6)\n",
            "Requirement already satisfied: matplotlib in /usr/local/lib/python2.7/dist-packages (from simdna==0.4.3.1) (2.2.3)\n",
            "Requirement already satisfied: scipy in /usr/local/lib/python2.7/dist-packages (from simdna==0.4.3.1) (1.1.0)\n",
            "Requirement already satisfied: cycler>=0.10 in /usr/local/lib/python2.7/dist-packages (from matplotlib->simdna==0.4.3.1) (0.10.0)\n",
            "Requirement already satisfied: backports.functools-lru-cache in /usr/local/lib/python2.7/dist-packages (from matplotlib->simdna==0.4.3.1) (1.5)\n",
            "Requirement already satisfied: subprocess32 in /usr/local/lib/python2.7/dist-packages (from matplotlib->simdna==0.4.3.1) (3.5.3)\n",
            "Requirement already satisfied: kiwisolver>=1.0.1 in /usr/local/lib/python2.7/dist-packages (from matplotlib->simdna==0.4.3.1) (1.0.1)\n",
            "Requirement already satisfied: pytz in /usr/local/lib/python2.7/dist-packages (from matplotlib->simdna==0.4.3.1) (2018.9)\n",
            "Requirement already satisfied: six>=1.10 in /usr/local/lib/python2.7/dist-packages (from matplotlib->simdna==0.4.3.1) (1.11.0)\n",
            "Requirement already satisfied: python-dateutil>=2.1 in /usr/local/lib/python2.7/dist-packages (from matplotlib->simdna==0.4.3.1) (2.5.3)\n",
            "Requirement already satisfied: pyparsing!=2.0.4,!=2.1.2,!=2.1.6,>=2.0.1 in /usr/local/lib/python2.7/dist-packages (from matplotlib->simdna==0.4.3.1) (2.3.1)\n",
            "Requirement already satisfied: setuptools in /usr/local/lib/python2.7/dist-packages (from kiwisolver>=1.0.1->matplotlib->simdna==0.4.3.1) (40.8.0)\n",
            "Building wheels for collected packages: simdna\n",
            "  Building wheel for simdna (setup.py) ... \u001b[?25ldone\n",
            "\u001b[?25h  Stored in directory: /tmp/pip-ephem-wheel-cache-Xz7vSA/wheels/90/3e/de/276b5ab0a9cbb5d9e10987f6cef9d3472f60cf61f5b32c8bc4\n",
            "Successfully built simdna\n",
            "Installing collected packages: simdna\n",
            "  Found existing installation: simdna 0.4.3.1\n",
            "    Uninstalling simdna-0.4.3.1:\n",
            "      Successfully uninstalled simdna-0.4.3.1\n",
            "Successfully installed simdna-0.4.3.1\n"
          ],
          "name": "stdout"
        },
        {
          "output_type": "display_data",
          "data": {
            "application/vnd.colab-display-data+json": {
              "pip_warning": {
                "packages": [
                  "simdna"
                ]
              }
            }
          },
          "metadata": {
            "tags": []
          }
        },
        {
          "output_type": "stream",
          "text": [
            "Requirement already satisfied: deeplift in /usr/local/lib/python2.7/dist-packages (0.6.8.1)\n",
            "Requirement already satisfied: numpy>=1.9 in /usr/local/lib/python2.7/dist-packages (from deeplift) (1.14.6)\n"
          ],
          "name": "stdout"
        }
      ]
    },
    {
      "metadata": {
        "id": "w8u02NXT1eiI",
        "colab_type": "code",
        "colab": {}
      },
      "cell_type": "code",
      "source": [
        "import simdna\n",
        "from simdna import synthetic, random\n",
        "class PoissonQuantityGenerator(synthetic.AbstractQuantityGenerator):\n",
        "    \"\"\"Generates values according to a poisson distribution.\n",
        "    Arguments:\n",
        "        mean: the mean of the poisson distribution\n",
        "    \"\"\"\n",
        "\n",
        "    def __init__(self, mean, name=None):\n",
        "        self.mean = mean\n",
        "        super(PoissonQuantityGenerator, self).__init__(name)\n",
        "\n",
        "    def generateQuantity(self):\n",
        "        \"\"\"See superclass.\n",
        "        \"\"\"\n",
        "        sample = random.poisson(self.mean)\n",
        "        if sample <= 5:\n",
        "          return sample\n",
        "        else:\n",
        "          return 5\n",
        "\n",
        "    def getJsonableObject(self):\n",
        "        \"\"\"See superclass.\n",
        "        \"\"\"\n",
        "        return \"poisson-\" + str(self.mean)"
      ],
      "execution_count": 0,
      "outputs": []
    },
    {
      "metadata": {
        "id": "vZ_slUXA99Rl",
        "colab_type": "code",
        "outputId": "96b9070d-4d0a-4678-ae86-85db00e52499",
        "colab": {
          "base_uri": "https://localhost:8080/",
          "height": 10642
        }
      },
      "cell_type": "code",
      "source": [
        "#set up the simulation\n",
        "import numpy as np\n",
        "from collections import OrderedDict\n",
        "from simdna.util import DEFAULT_LETTER_TO_INDEX\n",
        "simdna.random.seed(1234)\n",
        "\n",
        "seqLength = 100\n",
        "MU = 0.1\n",
        "\n",
        "background_letter_freq = OrderedDict(\n",
        "    [('A', 0.27), ('C', 0.23), ('G', 0.23), ('T', 0.27)])\n",
        "letter_distribution = simdna.util.DiscreteDistribution(background_letter_freq)\n",
        "\n",
        "class PWM(object):\n",
        "\n",
        "    def __init__(self, name, letterToIndex=DEFAULT_LETTER_TO_INDEX):\n",
        "        self.name = name\n",
        "        self.letterToIndex = letterToIndex\n",
        "        self.indexToLetter = dict(\n",
        "            (self.letterToIndex[x], x) for x in self.letterToIndex)\n",
        "        self._rows = []\n",
        "        self._finalised = False\n",
        "\n",
        "    def addRow(self, weights):\n",
        "        if (len(self._rows) > 0):\n",
        "            assert len(weights) == len(self._rows[0])\n",
        "        self._rows.append(weights)\n",
        "\n",
        "    def addRows(self, matrix):\n",
        "        for row in matrix:\n",
        "            self.addRow(weights=row)\n",
        "        return self\n",
        "\n",
        "    def finalise(self, pseudocountProb=0.001):\n",
        "        assert pseudocountProb >= 0 and pseudocountProb < 1\n",
        "        # will smoothen the rows with a pseudocount...\n",
        "        self._rows = np.array(self._rows)\n",
        "        self._rows = self._rows * \\\n",
        "            (1 - pseudocountProb) + float(pseudocountProb) / len(self._rows[0])\n",
        "        self._logRows = np.log(self._rows)\n",
        "        self._finalised = True\n",
        "        self.bestPwmHit = self.computeBestHitGivenMatrix(self._rows)\n",
        "        self.pwmSize = len(self._rows)\n",
        "        return self\n",
        "\n",
        "    def getBestHit(self):\n",
        "        return self.bestPwmHit\n",
        "\n",
        "    def computeBestHitGivenMatrix(self, matrix):\n",
        "        return \"\".join(self.indexToLetter[x] for x in (np.argmin(matrix, axis=0)))\n",
        "\n",
        "    def getRows(self):\n",
        "        if (not self._finalised):\n",
        "            raise RuntimeError(\"Please call finalised on \" + str(self.name))\n",
        "        return self._rows\n",
        "\n",
        "    def sampleFromPwm(self, bg=None):\n",
        "        if (not self._finalised):\n",
        "            raise RuntimeError(\"Please call finalised on \" + str(self.name))\n",
        "\n",
        "        sampledLetters = []\n",
        "        logOdds = 0\n",
        "        probArr = np.array([1/(1 + np.exp(x - MU)) for x in np.transpose(self._rows)])\n",
        "        probArrNormed = probArr/probArr.sum(axis = 1)[:, None]\n",
        "        for row in probArrNormed:\n",
        "            sampledIndex = synthetic.util.sampleFromProbsArr(row)\n",
        "            letter = self.indexToLetter[sampledIndex]\n",
        "            if (bg is not None):\n",
        "                logOdds += np.log(row[sampledIndex]) - np.log(bg[letter]) \n",
        "            sampledLetters.append(letter)\n",
        "        sampledHit = \"\".join(sampledLetters)\n",
        "        if (bg is not None):\n",
        "            return (sampledHit, logOdds)\n",
        "        else:\n",
        "            return sampledHit \n",
        "\n",
        "    def sampleFromPwmAndScore(self, bg):\n",
        "        return self.sampleFromPwm(bg=bg)\n",
        "\n",
        "    def __str__(self):\n",
        "        return self.name + \"\\n\" + str(self._rows)\n",
        "\n",
        "          \n",
        "class AbstractLoadedMotifs(object):\n",
        "    \"\"\"Class representing loaded PWMs.\n",
        "    A class that contains instances of ``pwm.PWM`` loaded from a file.\n",
        "    The pwms can be accessed by name.\n",
        "    Arguments:\n",
        "        loadedMotifs: dictionary mapping names of motifs\n",
        "    to instances of ``pwm.PWM`` \n",
        "    \"\"\"\n",
        "\n",
        "    def __init__(self, loadedMotifs):\n",
        "        self.loadedMotifs = loadedMotifs\n",
        "\n",
        "    def getPwm(self, name):\n",
        "        \"\"\"Get a specific PWM.\n",
        "        Returns:\n",
        "            The ``pwm.PWM`` instance with the specified name.\n",
        "        \"\"\"\n",
        "        return self.loadedMotifs[name]\n",
        "\n",
        "    def addMotifs(self, abstractLoadedMotifs):\n",
        "        \"\"\"Adds the motifs in abstractLoadedMotifs to this.\n",
        "        Arguments:\n",
        "            abstractLoadedMotifs: instance of :class:`.AbstractLoadedMotifs`\n",
        "        Returns:\n",
        "            self, as a convenience\n",
        "        \"\"\"\n",
        "        self.loadedMotifs.update(abstractLoadedMotifs.loadedMotifs)\n",
        "        return self #convenience return\n",
        "      \n",
        "class AbstractLoadedMotifsFromFile(AbstractLoadedMotifs):\n",
        "    \"\"\"Class representing loaded PWMs.\n",
        "    A class that contains instances of ``pwm.PWM`` loaded from a file.\n",
        "    The pwms can be accessed by name.\n",
        "    Arguments:\n",
        "        fileName: string, the path to the file to load\n",
        "        pseudocountProb: if some of the pwms have 0 probability for\\\n",
        "    some of the positions, will add the specified ``pseudocountProb``\\\n",
        "    to the rows of the pwm and renormalise.\n",
        "    \"\"\"\n",
        "\n",
        "    def __init__(self, fileName,\n",
        "                       pseudocountProb=0.0):\n",
        "        self.fileName = fileName\n",
        "        fileHandle = synthetic.util.get_file_handle(fileName)\n",
        "        self.pseudocountProb = pseudocountProb\n",
        "        self.loadedMotifs = OrderedDict()\n",
        "        action = self.getReadPwmAction(self.loadedMotifs)\n",
        "        synthetic.util.perform_action_on_each_line_of_file(\n",
        "            file_handle=fileHandle,\n",
        "            action=action,\n",
        "            transformation=synthetic.util.trim_newline\n",
        "        )\n",
        "        for pwm in self.loadedMotifs.values():\n",
        "            pwm.finalise(pseudocountProb=self.pseudocountProb)\n",
        "        super(AbstractLoadedMotifsFromFile, self).__init__(self.loadedMotifs)\n",
        "\n",
        "    def getReadPwmAction(self, loadedMotifs, matrix):\n",
        "        \"\"\"Action performed when each line of the pwm text file is read in.\n",
        "        This function is to be overridden by a specific implementation.\n",
        "        It is executed on each line of the file when it is read in, and\n",
        "        when PWMs are ready they will get inserted into ``loadedMotifs``.\n",
        "        Arguments:\n",
        "            loadedMotifs: an ``OrderedDict`` that will be filled with PWMs.\n",
        "        The keys will be the names of the PWMs and the\n",
        "        values will be instances of ``pwm.PWM``\n",
        "        \"\"\"\n",
        "        raise NotImplementedError()\n",
        "\n",
        "\n",
        "class LoadedStormoMotifs(AbstractLoadedMotifsFromFile):\n",
        "    \"\"\"A class for reading in a motifs file in the ENCODE motifs format.\n",
        "    This class is specifically for reading files in the encode motif\n",
        "    format - specifically the motifs.txt file that contains Pouya's motifs\n",
        "    (http://compbio.mit.edu/encode-motifs/motifs.txt)\n",
        "    Basically, the motif declarations start with a >, the first\n",
        "    characters after > until the first space are taken as the motif name,\n",
        "    the lines after the line with a > have the format:\n",
        "    \"<ignored character> <prob of A> <prob of C> <prob of G> <prob of T>\"\n",
        "    \"\"\"\n",
        "\n",
        "    def getReadPwmAction(self, loadedMotifs):\n",
        "        \"\"\"See superclass.\n",
        "        \"\"\"\n",
        "        currentPwm = synthetic.util.VariableWrapper(None)\n",
        "\n",
        "        def action(inp, lineNumber):\n",
        "            if (inp.startswith(\"# \")):\n",
        "                inp = inp.lstrip(\"# \")\n",
        "                inpArr = inp.split(\",\")\n",
        "                motifName = inpArr[0]\n",
        "                currentPwm.var = PWM(motifName)\n",
        "                loadedMotifs[currentPwm.var.name] = currentPwm.var\n",
        "            else:\n",
        "                # assume that it's a line of the pwm\n",
        "                assert currentPwm.var is not None\n",
        "                inpArr = inp.split()\n",
        "                summaryLetter = inpArr[0]\n",
        "                currentPwm.var.addRow([float(x) for x in inpArr[1:]])\n",
        "        return action\n",
        "\n",
        "\n",
        "# def get_motif_embedder(motif_name, zero_prob, the_max, the_min):\n",
        "#   return synthetic.RepeatedEmbedder(\n",
        "#             synthetic.SubstringEmbedder(\n",
        "#                 substringGenerator=synthetic.BestHitPwmFromLoadedMotifs(\n",
        "#                     loadedMotifs=loadedMotifs,motifName=motif_name),\n",
        "#                 positionGenerator=synthetic.UniformPositionGenerator(),\n",
        "#                 name=motif_name),\n",
        "#             quantityGenerator=synthetic.ZeroInflater(\n",
        "#                 synthetic.UniformIntegerGenerator(maxVal=the_max,\n",
        "#                                                   minVal=the_min),\n",
        "#                 zeroProb=zero_prob),\n",
        "#             )\n",
        "\n",
        "# def get_motif_sampler(loadedMotifs, motif_name, zero_prob, mean):\n",
        "#   return synthetic.RepeatedEmbedder(\n",
        "#             synthetic.SubstringEmbedder(\n",
        "#                 substringGenerator=synthetic.PwmSamplerFromLoadedMotifs(loadedMotifs, motif_name),\n",
        "#                 positionGenerator=synthetic.UniformPositionGenerator(),\n",
        "#                 name=motif_name),\n",
        "#             quantityGenerator=synthetic.ZeroInflater(\n",
        "#                 synthetic.PoissonQuantityGenerator(mean = 3),\n",
        "#                 zeroProb=zero_prob),\n",
        "#             )\n",
        "\n",
        "def get_motif_sampler(loadedMotifs, motif_name, mean):\n",
        "  return synthetic.XOREmbedder(\n",
        "            embedder1 = synthetic.RandomSubsetOfEmbedders(\n",
        "                quantityGenerator= PoissonQuantityGenerator(mean),\n",
        "                embedders = \n",
        "                [get_single_embedder(loadedMotifs = loadedMotifs, motif_name = name),\n",
        "                get_single_embedder(loadedMotifs = loadedMotifs, motif_name = name),\n",
        "                get_single_embedder(loadedMotifs = loadedMotifs, motif_name = name),\n",
        "                get_single_embedder(loadedMotifs = loadedMotifs, motif_name = name),\n",
        "                get_single_embedder(loadedMotifs = loadedMotifs, motif_name = name)]),\n",
        "            embedder2 = synthetic.RandomSubsetOfEmbedders(\n",
        "                quantityGenerator = synthetic.FixedQuantityGenerator(0),\n",
        "                embedders = \n",
        "                [get_single_embedder(loadedMotifs = loadedMotifs, motif_name = name)]),\n",
        "            probOfFirst = 0.5)\n",
        "\n",
        "\n",
        "def get_single_embedder(loadedMotifs, motif_name):\n",
        "      return synthetic.SubstringEmbedder(\n",
        "                substringGenerator=synthetic.PwmSamplerFromLoadedMotifs(loadedMotifs, motif_name),\n",
        "                positionGenerator=synthetic.UniformPositionGenerator(),\n",
        "                name=motif_name)\n",
        "\n",
        "loadedMotifs = LoadedStormoMotifs(r'''sci09.v2_Gmeb1_1745.pwm.txt''', pseudocountProb=0.001)\n",
        "pwmObj = loadedMotifs.loadedMotifs.values()[0]\n",
        "pwm = np.transpose(pwmObj._rows)\n",
        "name = loadedMotifs.loadedMotifs.keys()[0]\n",
        "\n",
        "# embedInBackground = synthetic.EmbedInABackground(\n",
        "#         backgroundGenerator=synthetic.ZeroOrderBackgroundGenerator(\n",
        "#             seqLength=seqLength,\n",
        "#             discreteDistribution=letter_distribution), \n",
        "#         embedders=[\n",
        "#             get_motif_embedder(motif_name=\"Gmeb1\",\n",
        "#                                zero_prob=0.5,\n",
        "#                                the_max=3,\n",
        "#                                the_min=1)]\n",
        "#     )\n",
        "\n",
        "embedInBackground = synthetic.EmbedInABackground(\n",
        "        backgroundGenerator=synthetic.ZeroOrderBackgroundGenerator(\n",
        "            seqLength=seqLength,\n",
        "            discreteDistribution=letter_distribution), \n",
        "        embedders=[\n",
        "            get_motif_sampler(loadedMotifs = loadedMotifs, motif_name = name,\n",
        "                               mean = 3)]\n",
        "    )\n",
        "\n",
        "numSeqs = 100000 #40K train, 20K valid, 40K test\n",
        "sequenceSet = synthetic.GenerateSequenceNTimes(embedInBackground, numSeqs)\n",
        "\n",
        "synthetic.printSequences(\"simulation.simdata\", sequenceSet,\n",
        "                         includeFasta=True,\n",
        "                         includeEmbeddings=True,\n",
        "                         prefix=\"sim\")\n"
      ],
      "execution_count": 11,
      "outputs": [
        {
          "output_type": "stream",
          "text": [
            "Warning: made 10 attemps at trying to embed sci09.v2_Gmeb1_1745-TGACGTAACC in region of length 100 with 40.0 occupied sites\n",
            "Warning: made 20 attemps at trying to embed sci09.v2_Gmeb1_1745-TGACGTAACC in region of length 100 with 40.0 occupied sites\n",
            "Warning: made 10 attemps at trying to embed sci09.v2_Gmeb1_1745-GAACGTCCAG in region of length 100 with 40.0 occupied sites\n",
            "Warning: made 10 attemps at trying to embed sci09.v2_Gmeb1_1745-ACACGTGCAC in region of length 100 with 40.0 occupied sites\n",
            "Warning: made 20 attemps at trying to embed sci09.v2_Gmeb1_1745-ACACGTGCAC in region of length 100 with 40.0 occupied sites\n",
            "Warning: made 10 attemps at trying to embed sci09.v2_Gmeb1_1745-TGACGCGCTT in region of length 100 with 40.0 occupied sites\n",
            "Warning: made 10 attemps at trying to embed sci09.v2_Gmeb1_1745-CAACGTCGGG in region of length 100 with 30.0 occupied sites\n",
            "Warning: made 10 attemps at trying to embed sci09.v2_Gmeb1_1745-TTACGTAGAT in region of length 100 with 40.0 occupied sites\n",
            "Warning: made 10 attemps at trying to embed sci09.v2_Gmeb1_1745-TTGCGCGAGC in region of length 100 with 40.0 occupied sites\n",
            "Warning: made 10 attemps at trying to embed sci09.v2_Gmeb1_1745-CGACGCTAAC in region of length 100 with 40.0 occupied sites\n",
            "Warning: made 10 attemps at trying to embed sci09.v2_Gmeb1_1745-TACCGTCTCG in region of length 100 with 40.0 occupied sites\n",
            "Warning: made 10 attemps at trying to embed sci09.v2_Gmeb1_1745-TAACGTAACG in region of length 100 with 40.0 occupied sites\n",
            "Warning: made 10 attemps at trying to embed sci09.v2_Gmeb1_1745-TTACGCTACC in region of length 100 with 40.0 occupied sites\n",
            "Warning: made 10 attemps at trying to embed sci09.v2_Gmeb1_1745-ATACGTAGAA in region of length 100 with 40.0 occupied sites\n",
            "Warning: made 10 attemps at trying to embed sci09.v2_Gmeb1_1745-CAACGCTAGG in region of length 100 with 40.0 occupied sites\n",
            "Warning: made 10 attemps at trying to embed sci09.v2_Gmeb1_1745-ATGCGCGTGT in region of length 100 with 40.0 occupied sites\n",
            "Warning: made 10 attemps at trying to embed sci09.v2_Gmeb1_1745-CGACGCATGA in region of length 100 with 40.0 occupied sites\n",
            "Warning: made 20 attemps at trying to embed sci09.v2_Gmeb1_1745-CGACGCATGA in region of length 100 with 40.0 occupied sites\n",
            "Warning: made 10 attemps at trying to embed sci09.v2_Gmeb1_1745-GGTCGCGCAC in region of length 100 with 40.0 occupied sites\n",
            "Warning: made 10 attemps at trying to embed sci09.v2_Gmeb1_1745-CGACGCCCGT in region of length 100 with 40.0 occupied sites\n",
            "Warning: made 10 attemps at trying to embed sci09.v2_Gmeb1_1745-CAACGTATAG in region of length 100 with 40.0 occupied sites\n",
            "Warning: made 10 attemps at trying to embed sci09.v2_Gmeb1_1745-ATACGCACTT in region of length 100 with 40.0 occupied sites\n",
            "Warning: made 10 attemps at trying to embed sci09.v2_Gmeb1_1745-ATCCGCGCGA in region of length 100 with 40.0 occupied sites\n",
            "Warning: made 10 attemps at trying to embed sci09.v2_Gmeb1_1745-TAGCGTACGG in region of length 100 with 30.0 occupied sites\n",
            "Warning: made 10 attemps at trying to embed sci09.v2_Gmeb1_1745-AGCCGCACTC in region of length 100 with 40.0 occupied sites\n",
            "Warning: made 10 attemps at trying to embed sci09.v2_Gmeb1_1745-TTACGCTCGT in region of length 100 with 40.0 occupied sites\n",
            "Warning: made 10 attemps at trying to embed sci09.v2_Gmeb1_1745-TGCCGGGAAT in region of length 100 with 40.0 occupied sites\n",
            "Warning: made 10 attemps at trying to embed sci09.v2_Gmeb1_1745-CGGCGCAAAT in region of length 100 with 40.0 occupied sites\n",
            "Warning: made 10 attemps at trying to embed sci09.v2_Gmeb1_1745-TGACGTAGGC in region of length 100 with 40.0 occupied sites\n",
            "Warning: made 10 attemps at trying to embed sci09.v2_Gmeb1_1745-CTACGCGTGT in region of length 100 with 30.0 occupied sites\n",
            "Warning: made 10 attemps at trying to embed sci09.v2_Gmeb1_1745-TTGCGTCGAT in region of length 100 with 40.0 occupied sites\n",
            "Warning: made 10 attemps at trying to embed sci09.v2_Gmeb1_1745-TAACGTCATC in region of length 100 with 40.0 occupied sites\n",
            "Warning: made 10 attemps at trying to embed sci09.v2_Gmeb1_1745-AGACGACTTG in region of length 100 with 40.0 occupied sites\n",
            "Warning: made 20 attemps at trying to embed sci09.v2_Gmeb1_1745-AGACGACTTG in region of length 100 with 40.0 occupied sites\n",
            "Warning: made 10 attemps at trying to embed sci09.v2_Gmeb1_1745-GGGCGAAGAC in region of length 100 with 40.0 occupied sites\n",
            "Warning: made 10 attemps at trying to embed sci09.v2_Gmeb1_1745-CTACGCTCTA in region of length 100 with 40.0 occupied sites\n",
            "Warning: made 10 attemps at trying to embed sci09.v2_Gmeb1_1745-TTACGTTTTG in region of length 100 with 40.0 occupied sites\n",
            "Warning: made 10 attemps at trying to embed sci09.v2_Gmeb1_1745-TGGCGTTAGA in region of length 100 with 30.0 occupied sites\n",
            "Warning: made 10 attemps at trying to embed sci09.v2_Gmeb1_1745-TTACGCTCCA in region of length 100 with 40.0 occupied sites\n",
            "Warning: made 10 attemps at trying to embed sci09.v2_Gmeb1_1745-TAACGTCTGT in region of length 100 with 40.0 occupied sites\n",
            "Warning: made 20 attemps at trying to embed sci09.v2_Gmeb1_1745-TAACGTCTGT in region of length 100 with 40.0 occupied sites\n",
            "Warning: made 10 attemps at trying to embed sci09.v2_Gmeb1_1745-GAGCGTCGCA in region of length 100 with 40.0 occupied sites\n",
            "Warning: made 10 attemps at trying to embed sci09.v2_Gmeb1_1745-GTACGCTACG in region of length 100 with 40.0 occupied sites\n",
            "Warning: made 10 attemps at trying to embed sci09.v2_Gmeb1_1745-GAGCGTAGAA in region of length 100 with 30.0 occupied sites\n",
            "Warning: made 10 attemps at trying to embed sci09.v2_Gmeb1_1745-ATACGCATTC in region of length 100 with 40.0 occupied sites\n",
            "Warning: made 10 attemps at trying to embed sci09.v2_Gmeb1_1745-GTGCGCGCTA in region of length 100 with 40.0 occupied sites\n",
            "Warning: made 10 attemps at trying to embed sci09.v2_Gmeb1_1745-CGGCGTGGGT in region of length 100 with 40.0 occupied sites\n",
            "Warning: made 10 attemps at trying to embed sci09.v2_Gmeb1_1745-CGGCGTACGT in region of length 100 with 40.0 occupied sites\n",
            "Warning: made 20 attemps at trying to embed sci09.v2_Gmeb1_1745-CGGCGTACGT in region of length 100 with 40.0 occupied sites\n",
            "Warning: made 10 attemps at trying to embed sci09.v2_Gmeb1_1745-GCGCGTAACA in region of length 100 with 40.0 occupied sites\n",
            "Warning: made 10 attemps at trying to embed sci09.v2_Gmeb1_1745-CAACGTTCTT in region of length 100 with 40.0 occupied sites\n",
            "Warning: made 10 attemps at trying to embed sci09.v2_Gmeb1_1745-CCACGTTAGA in region of length 100 with 40.0 occupied sites\n",
            "Warning: made 20 attemps at trying to embed sci09.v2_Gmeb1_1745-CCACGTTAGA in region of length 100 with 40.0 occupied sites\n",
            "Warning: made 10 attemps at trying to embed sci09.v2_Gmeb1_1745-TAACGTCAAC in region of length 100 with 40.0 occupied sites\n",
            "Warning: made 10 attemps at trying to embed sci09.v2_Gmeb1_1745-ATACGATCGC in region of length 100 with 40.0 occupied sites\n",
            "Warning: made 10 attemps at trying to embed sci09.v2_Gmeb1_1745-AGACGCGAGG in region of length 100 with 40.0 occupied sites\n",
            "Warning: made 10 attemps at trying to embed sci09.v2_Gmeb1_1745-GCACGCAAAG in region of length 100 with 40.0 occupied sites\n",
            "Warning: made 10 attemps at trying to embed sci09.v2_Gmeb1_1745-GGTTGTAGTT in region of length 100 with 40.0 occupied sites\n",
            "Warning: made 10 attemps at trying to embed sci09.v2_Gmeb1_1745-GACCGCATGC in region of length 100 with 40.0 occupied sites\n",
            "Warning: made 10 attemps at trying to embed sci09.v2_Gmeb1_1745-TCTCGATCGG in region of length 100 with 30.0 occupied sites\n",
            "Warning: made 10 attemps at trying to embed sci09.v2_Gmeb1_1745-GTCCGCTGCG in region of length 100 with 40.0 occupied sites\n",
            "Warning: made 20 attemps at trying to embed sci09.v2_Gmeb1_1745-GTCCGCTGCG in region of length 100 with 40.0 occupied sites\n",
            "Warning: made 10 attemps at trying to embed sci09.v2_Gmeb1_1745-CGGCGCAGAA in region of length 100 with 40.0 occupied sites\n",
            "Warning: made 10 attemps at trying to embed sci09.v2_Gmeb1_1745-GAATGCCTGA in region of length 100 with 40.0 occupied sites\n",
            "Warning: made 10 attemps at trying to embed sci09.v2_Gmeb1_1745-TAGCGCTCGT in region of length 100 with 40.0 occupied sites\n",
            "Warning: made 10 attemps at trying to embed sci09.v2_Gmeb1_1745-TTACGCAACG in region of length 100 with 30.0 occupied sites\n",
            "Warning: made 10 attemps at trying to embed sci09.v2_Gmeb1_1745-CTACGTTAGT in region of length 100 with 40.0 occupied sites\n",
            "Warning: made 10 attemps at trying to embed sci09.v2_Gmeb1_1745-CATCGTTAGA in region of length 100 with 40.0 occupied sites\n",
            "Warning: made 20 attemps at trying to embed sci09.v2_Gmeb1_1745-CATCGTTAGA in region of length 100 with 40.0 occupied sites\n",
            "Warning: made 10 attemps at trying to embed sci09.v2_Gmeb1_1745-GGACGTGCAG in region of length 100 with 40.0 occupied sites\n",
            "Warning: made 10 attemps at trying to embed sci09.v2_Gmeb1_1745-TTACGCGTTC in region of length 100 with 40.0 occupied sites\n",
            "Warning: made 10 attemps at trying to embed sci09.v2_Gmeb1_1745-GTACGTAACA in region of length 100 with 40.0 occupied sites\n",
            "Warning: made 10 attemps at trying to embed sci09.v2_Gmeb1_1745-GAACGTACTC in region of length 100 with 30.0 occupied sites\n",
            "Warning: made 10 attemps at trying to embed sci09.v2_Gmeb1_1745-AAACGCCCCG in region of length 100 with 40.0 occupied sites\n",
            "Warning: made 10 attemps at trying to embed sci09.v2_Gmeb1_1745-GCACGTACTT in region of length 100 with 40.0 occupied sites\n",
            "Warning: made 10 attemps at trying to embed sci09.v2_Gmeb1_1745-TATCGCTACC in region of length 100 with 40.0 occupied sites\n",
            "Warning: made 10 attemps at trying to embed sci09.v2_Gmeb1_1745-TGTCGTACAA in region of length 100 with 40.0 occupied sites\n",
            "Warning: made 10 attemps at trying to embed sci09.v2_Gmeb1_1745-TTACGCAGAC in region of length 100 with 30.0 occupied sites\n",
            "Warning: made 10 attemps at trying to embed sci09.v2_Gmeb1_1745-GAGCGTACAT in region of length 100 with 40.0 occupied sites\n",
            "Warning: made 10 attemps at trying to embed sci09.v2_Gmeb1_1745-ACACGCTCTA in region of length 100 with 40.0 occupied sites\n",
            "Warning: made 10 attemps at trying to embed sci09.v2_Gmeb1_1745-ATACGCGGCT in region of length 100 with 40.0 occupied sites\n",
            "Warning: made 10 attemps at trying to embed sci09.v2_Gmeb1_1745-TTACGTGCGC in region of length 100 with 40.0 occupied sites\n",
            "Warning: made 10 attemps at trying to embed sci09.v2_Gmeb1_1745-TGACGCAGCA in region of length 100 with 40.0 occupied sites\n",
            "Warning: made 10 attemps at trying to embed sci09.v2_Gmeb1_1745-ACCCGCTATT in region of length 100 with 40.0 occupied sites\n",
            "Warning: made 10 attemps at trying to embed sci09.v2_Gmeb1_1745-ATCCGTTGAA in region of length 100 with 40.0 occupied sites\n",
            "Warning: made 10 attemps at trying to embed sci09.v2_Gmeb1_1745-GAGCGCGGGG in region of length 100 with 40.0 occupied sites\n",
            "Warning: made 10 attemps at trying to embed sci09.v2_Gmeb1_1745-CAACGGTGTG in region of length 100 with 20.0 occupied sites\n",
            "Warning: made 10 attemps at trying to embed sci09.v2_Gmeb1_1745-TTACGCACTC in region of length 100 with 30.0 occupied sites\n",
            "Warning: made 10 attemps at trying to embed sci09.v2_Gmeb1_1745-TCCCGCACTC in region of length 100 with 40.0 occupied sites\n",
            "Warning: made 10 attemps at trying to embed sci09.v2_Gmeb1_1745-TGCCGTGTTT in region of length 100 with 40.0 occupied sites\n",
            "Warning: made 10 attemps at trying to embed sci09.v2_Gmeb1_1745-AGTCGTGGGG in region of length 100 with 40.0 occupied sites\n",
            "Warning: made 10 attemps at trying to embed sci09.v2_Gmeb1_1745-CGGCGCTGGT in region of length 100 with 30.0 occupied sites\n",
            "Warning: made 10 attemps at trying to embed sci09.v2_Gmeb1_1745-TGGCGCCGGC in region of length 100 with 40.0 occupied sites\n",
            "Warning: made 10 attemps at trying to embed sci09.v2_Gmeb1_1745-GTCCGGTTGT in region of length 100 with 40.0 occupied sites\n",
            "Warning: made 10 attemps at trying to embed sci09.v2_Gmeb1_1745-CGACGCCTAT in region of length 100 with 40.0 occupied sites\n",
            "Warning: made 10 attemps at trying to embed sci09.v2_Gmeb1_1745-GCACGTGTTG in region of length 100 with 40.0 occupied sites\n",
            "Warning: made 10 attemps at trying to embed sci09.v2_Gmeb1_1745-CTACGTTTGA in region of length 100 with 40.0 occupied sites\n",
            "Warning: made 10 attemps at trying to embed sci09.v2_Gmeb1_1745-TAACGTATTA in region of length 100 with 30.0 occupied sites\n",
            "Warning: made 10 attemps at trying to embed sci09.v2_Gmeb1_1745-ACCCGCAACT in region of length 100 with 40.0 occupied sites\n",
            "Warning: made 10 attemps at trying to embed sci09.v2_Gmeb1_1745-CAACGCACCC in region of length 100 with 40.0 occupied sites\n",
            "Warning: made 10 attemps at trying to embed sci09.v2_Gmeb1_1745-CCACGCCCTC in region of length 100 with 40.0 occupied sites\n",
            "Warning: made 10 attemps at trying to embed sci09.v2_Gmeb1_1745-AAACGCCAAG in region of length 100 with 40.0 occupied sites\n",
            "Warning: made 10 attemps at trying to embed sci09.v2_Gmeb1_1745-GGGCGTCGCG in region of length 100 with 40.0 occupied sites\n",
            "Warning: made 10 attemps at trying to embed sci09.v2_Gmeb1_1745-TACCGCATCC in region of length 100 with 40.0 occupied sites\n",
            "Warning: made 10 attemps at trying to embed sci09.v2_Gmeb1_1745-CGGCGTCTAT in region of length 100 with 40.0 occupied sites\n",
            "Warning: made 10 attemps at trying to embed sci09.v2_Gmeb1_1745-TCACGTATTA in region of length 100 with 40.0 occupied sites\n",
            "Warning: made 10 attemps at trying to embed sci09.v2_Gmeb1_1745-GTGCGCTGGT in region of length 100 with 40.0 occupied sites\n",
            "Warning: made 10 attemps at trying to embed sci09.v2_Gmeb1_1745-ATACGTAGGA in region of length 100 with 40.0 occupied sites\n",
            "Warning: made 10 attemps at trying to embed sci09.v2_Gmeb1_1745-AAACGTAGTG in region of length 100 with 30.0 occupied sites\n",
            "Warning: made 10 attemps at trying to embed sci09.v2_Gmeb1_1745-TTCCGCACGT in region of length 100 with 40.0 occupied sites\n",
            "Warning: made 10 attemps at trying to embed sci09.v2_Gmeb1_1745-TGACGTGTGT in region of length 100 with 40.0 occupied sites\n",
            "Warning: made 10 attemps at trying to embed sci09.v2_Gmeb1_1745-TTGCGTAGGT in region of length 100 with 40.0 occupied sites\n",
            "Warning: made 10 attemps at trying to embed sci09.v2_Gmeb1_1745-TCGCGTGACC in region of length 100 with 40.0 occupied sites\n",
            "Warning: made 10 attemps at trying to embed sci09.v2_Gmeb1_1745-CCACGCATGC in region of length 100 with 40.0 occupied sites\n",
            "Warning: made 10 attemps at trying to embed sci09.v2_Gmeb1_1745-AAACGCCGCG in region of length 100 with 40.0 occupied sites\n",
            "Warning: made 10 attemps at trying to embed sci09.v2_Gmeb1_1745-AGGCGGAGAA in region of length 100 with 40.0 occupied sites\n",
            "Warning: made 10 attemps at trying to embed sci09.v2_Gmeb1_1745-GTTCGCCGCT in region of length 100 with 40.0 occupied sites\n",
            "Warning: made 10 attemps at trying to embed sci09.v2_Gmeb1_1745-TGACGGTCGT in region of length 100 with 40.0 occupied sites\n",
            "Warning: made 10 attemps at trying to embed sci09.v2_Gmeb1_1745-CCACGAGTAC in region of length 100 with 40.0 occupied sites\n",
            "Warning: made 10 attemps at trying to embed sci09.v2_Gmeb1_1745-CGACGCTCCG in region of length 100 with 40.0 occupied sites\n",
            "Warning: made 20 attemps at trying to embed sci09.v2_Gmeb1_1745-CGACGCTCCG in region of length 100 with 40.0 occupied sites\n",
            "Warning: made 10 attemps at trying to embed sci09.v2_Gmeb1_1745-CGGCGCATTG in region of length 100 with 40.0 occupied sites\n",
            "Warning: made 10 attemps at trying to embed sci09.v2_Gmeb1_1745-ACACGTATTA in region of length 100 with 40.0 occupied sites\n",
            "Warning: made 10 attemps at trying to embed sci09.v2_Gmeb1_1745-CGACGTACGT in region of length 100 with 40.0 occupied sites\n",
            "Warning: made 10 attemps at trying to embed sci09.v2_Gmeb1_1745-TGACGTAGCG in region of length 100 with 40.0 occupied sites\n",
            "Warning: made 10 attemps at trying to embed sci09.v2_Gmeb1_1745-TTGCGCAGAC in region of length 100 with 40.0 occupied sites\n",
            "Warning: made 10 attemps at trying to embed sci09.v2_Gmeb1_1745-CCTCGTACTC in region of length 100 with 40.0 occupied sites\n",
            "Warning: made 10 attemps at trying to embed sci09.v2_Gmeb1_1745-TAGCGCCAAG in region of length 100 with 40.0 occupied sites\n",
            "Warning: made 10 attemps at trying to embed sci09.v2_Gmeb1_1745-GACCGTATTG in region of length 100 with 40.0 occupied sites\n",
            "Warning: made 10 attemps at trying to embed sci09.v2_Gmeb1_1745-GCGCGCTATC in region of length 100 with 40.0 occupied sites\n",
            "Warning: made 10 attemps at trying to embed sci09.v2_Gmeb1_1745-CTTCGCCCAT in region of length 100 with 40.0 occupied sites\n",
            "Warning: made 10 attemps at trying to embed sci09.v2_Gmeb1_1745-TCGCGTTGGG in region of length 100 with 40.0 occupied sites\n",
            "Warning: made 10 attemps at trying to embed sci09.v2_Gmeb1_1745-CTGCGCACAG in region of length 100 with 40.0 occupied sites\n",
            "Warning: made 10 attemps at trying to embed sci09.v2_Gmeb1_1745-TGCCGGAGGA in region of length 100 with 40.0 occupied sites\n",
            "Warning: made 10 attemps at trying to embed sci09.v2_Gmeb1_1745-ATGCGCGCGA in region of length 100 with 40.0 occupied sites\n",
            "Warning: made 10 attemps at trying to embed sci09.v2_Gmeb1_1745-ATGCGCCTGA in region of length 100 with 40.0 occupied sites\n",
            "Warning: made 10 attemps at trying to embed sci09.v2_Gmeb1_1745-CGACGTTAGG in region of length 100 with 40.0 occupied sites\n",
            "Warning: made 20 attemps at trying to embed sci09.v2_Gmeb1_1745-CGACGTTAGG in region of length 100 with 40.0 occupied sites\n",
            "Warning: made 10 attemps at trying to embed sci09.v2_Gmeb1_1745-CGACGCCACC in region of length 100 with 40.0 occupied sites\n",
            "Warning: made 10 attemps at trying to embed sci09.v2_Gmeb1_1745-CTACGTCCTG in region of length 100 with 40.0 occupied sites\n",
            "Warning: made 20 attemps at trying to embed sci09.v2_Gmeb1_1745-CTACGTCCTG in region of length 100 with 40.0 occupied sites\n",
            "Warning: made 10 attemps at trying to embed sci09.v2_Gmeb1_1745-TTGCGTCTGA in region of length 100 with 40.0 occupied sites\n",
            "Warning: made 10 attemps at trying to embed sci09.v2_Gmeb1_1745-GCGCGGATGC in region of length 100 with 40.0 occupied sites\n",
            "Warning: made 10 attemps at trying to embed sci09.v2_Gmeb1_1745-AGACGCTTAA in region of length 100 with 30.0 occupied sites\n",
            "Warning: made 10 attemps at trying to embed sci09.v2_Gmeb1_1745-TTGCGTGATT in region of length 100 with 40.0 occupied sites\n",
            "Warning: made 10 attemps at trying to embed sci09.v2_Gmeb1_1745-AGTCGTCATC in region of length 100 with 40.0 occupied sites\n",
            "Warning: made 10 attemps at trying to embed sci09.v2_Gmeb1_1745-GTGCGCAGCC in region of length 100 with 40.0 occupied sites\n",
            "Warning: made 10 attemps at trying to embed sci09.v2_Gmeb1_1745-TAGCGCTCTA in region of length 100 with 30.0 occupied sites\n",
            "Warning: made 10 attemps at trying to embed sci09.v2_Gmeb1_1745-TTCCGCCGCG in region of length 100 with 30.0 occupied sites\n",
            "Warning: made 10 attemps at trying to embed sci09.v2_Gmeb1_1745-GTCCGCTAGC in region of length 100 with 40.0 occupied sites\n",
            "Warning: made 10 attemps at trying to embed sci09.v2_Gmeb1_1745-GGACGTGACA in region of length 100 with 40.0 occupied sites\n",
            "Warning: made 10 attemps at trying to embed sci09.v2_Gmeb1_1745-TGGCGTAGCG in region of length 100 with 30.0 occupied sites\n",
            "Warning: made 10 attemps at trying to embed sci09.v2_Gmeb1_1745-CTCCGCTGCG in region of length 100 with 40.0 occupied sites\n",
            "Warning: made 10 attemps at trying to embed sci09.v2_Gmeb1_1745-GGACGTACAA in region of length 100 with 40.0 occupied sites\n",
            "Warning: made 10 attemps at trying to embed sci09.v2_Gmeb1_1745-GGGCGTAGAA in region of length 100 with 30.0 occupied sites\n",
            "Warning: made 10 attemps at trying to embed sci09.v2_Gmeb1_1745-CCGCGGCCTG in region of length 100 with 40.0 occupied sites\n",
            "Warning: made 10 attemps at trying to embed sci09.v2_Gmeb1_1745-TGGCGCGCCT in region of length 100 with 40.0 occupied sites\n",
            "Warning: made 10 attemps at trying to embed sci09.v2_Gmeb1_1745-GTGCGCCATA in region of length 100 with 40.0 occupied sites\n",
            "Warning: made 10 attemps at trying to embed sci09.v2_Gmeb1_1745-TGCCGCGGCA in region of length 100 with 40.0 occupied sites\n",
            "Warning: made 10 attemps at trying to embed sci09.v2_Gmeb1_1745-TTGCGTCACC in region of length 100 with 40.0 occupied sites\n",
            "Warning: made 20 attemps at trying to embed sci09.v2_Gmeb1_1745-TTGCGTCACC in region of length 100 with 40.0 occupied sites\n",
            "Warning: made 10 attemps at trying to embed sci09.v2_Gmeb1_1745-GAGCGCTCTC in region of length 100 with 30.0 occupied sites\n",
            "Warning: made 10 attemps at trying to embed sci09.v2_Gmeb1_1745-GTGCGCGATC in region of length 100 with 40.0 occupied sites\n",
            "Warning: made 10 attemps at trying to embed sci09.v2_Gmeb1_1745-ACACGCATAA in region of length 100 with 40.0 occupied sites\n",
            "Warning: made 10 attemps at trying to embed sci09.v2_Gmeb1_1745-GGGCGCACCA in region of length 100 with 40.0 occupied sites\n",
            "Warning: made 10 attemps at trying to embed sci09.v2_Gmeb1_1745-TGACGCTACC in region of length 100 with 30.0 occupied sites\n",
            "Warning: made 10 attemps at trying to embed sci09.v2_Gmeb1_1745-CTGCGTTTAA in region of length 100 with 40.0 occupied sites\n",
            "Warning: made 10 attemps at trying to embed sci09.v2_Gmeb1_1745-CGCCGGTATG in region of length 100 with 40.0 occupied sites\n",
            "Warning: made 10 attemps at trying to embed sci09.v2_Gmeb1_1745-CCACGCTCTG in region of length 100 with 30.0 occupied sites\n",
            "Warning: made 10 attemps at trying to embed sci09.v2_Gmeb1_1745-ATACGGTAGC in region of length 100 with 40.0 occupied sites\n",
            "Warning: made 10 attemps at trying to embed sci09.v2_Gmeb1_1745-CTGCGTGAAG in region of length 100 with 40.0 occupied sites\n",
            "Warning: made 10 attemps at trying to embed sci09.v2_Gmeb1_1745-GTACGCCACG in region of length 100 with 40.0 occupied sites\n",
            "Warning: made 10 attemps at trying to embed sci09.v2_Gmeb1_1745-GAGCGTACCT in region of length 100 with 40.0 occupied sites\n",
            "Warning: made 10 attemps at trying to embed sci09.v2_Gmeb1_1745-TTACGTTAAA in region of length 100 with 40.0 occupied sites\n",
            "Warning: made 10 attemps at trying to embed sci09.v2_Gmeb1_1745-TGCCGCAAAG in region of length 100 with 30.0 occupied sites\n",
            "Warning: made 10 attemps at trying to embed sci09.v2_Gmeb1_1745-CTACGAGGAC in region of length 100 with 30.0 occupied sites\n",
            "Warning: made 10 attemps at trying to embed sci09.v2_Gmeb1_1745-GCACGCCCTG in region of length 100 with 40.0 occupied sites\n",
            "Warning: made 10 attemps at trying to embed sci09.v2_Gmeb1_1745-TTCCGTAGTC in region of length 100 with 40.0 occupied sites\n",
            "Warning: made 10 attemps at trying to embed sci09.v2_Gmeb1_1745-ACTCGTAATC in region of length 100 with 40.0 occupied sites\n",
            "Warning: made 10 attemps at trying to embed sci09.v2_Gmeb1_1745-GCGTGTTTCT in region of length 100 with 40.0 occupied sites\n",
            "Warning: made 10 attemps at trying to embed sci09.v2_Gmeb1_1745-GTTCGCTTAG in region of length 100 with 40.0 occupied sites\n",
            "Warning: made 10 attemps at trying to embed sci09.v2_Gmeb1_1745-TACCGGACTC in region of length 100 with 40.0 occupied sites\n",
            "Warning: made 10 attemps at trying to embed sci09.v2_Gmeb1_1745-GCACGCCGAC in region of length 100 with 40.0 occupied sites\n",
            "Warning: made 10 attemps at trying to embed sci09.v2_Gmeb1_1745-GGACGTTTTA in region of length 100 with 40.0 occupied sites\n",
            "Warning: made 10 attemps at trying to embed sci09.v2_Gmeb1_1745-CCGCGCATCT in region of length 100 with 40.0 occupied sites\n",
            "Warning: made 10 attemps at trying to embed sci09.v2_Gmeb1_1745-ATACGCCGCG in region of length 100 with 40.0 occupied sites\n",
            "Warning: made 10 attemps at trying to embed sci09.v2_Gmeb1_1745-GCACGTGACT in region of length 100 with 40.0 occupied sites\n",
            "Warning: made 10 attemps at trying to embed sci09.v2_Gmeb1_1745-TGCCGGGCGT in region of length 100 with 40.0 occupied sites\n",
            "Warning: made 10 attemps at trying to embed sci09.v2_Gmeb1_1745-TGACGTCCGA in region of length 100 with 40.0 occupied sites\n",
            "Warning: made 10 attemps at trying to embed sci09.v2_Gmeb1_1745-CCTCGTTACC in region of length 100 with 40.0 occupied sites\n",
            "Warning: made 10 attemps at trying to embed sci09.v2_Gmeb1_1745-GTGCGCACCG in region of length 100 with 30.0 occupied sites\n",
            "Warning: made 10 attemps at trying to embed sci09.v2_Gmeb1_1745-TGACGTCTCT in region of length 100 with 40.0 occupied sites\n",
            "Warning: made 10 attemps at trying to embed sci09.v2_Gmeb1_1745-CTACGCGTTC in region of length 100 with 40.0 occupied sites\n",
            "Warning: made 10 attemps at trying to embed sci09.v2_Gmeb1_1745-TCACGTAGGA in region of length 100 with 40.0 occupied sites\n",
            "Warning: made 10 attemps at trying to embed sci09.v2_Gmeb1_1745-TAGCGCCCCG in region of length 100 with 30.0 occupied sites\n",
            "Warning: made 10 attemps at trying to embed sci09.v2_Gmeb1_1745-AAGCGGGATA in region of length 100 with 30.0 occupied sites\n",
            "Warning: made 10 attemps at trying to embed sci09.v2_Gmeb1_1745-CAACGCGCGC in region of length 100 with 40.0 occupied sites\n",
            "Warning: made 10 attemps at trying to embed sci09.v2_Gmeb1_1745-CTGCGCGTGA in region of length 100 with 40.0 occupied sites\n",
            "Warning: made 10 attemps at trying to embed sci09.v2_Gmeb1_1745-TCGCGTACTT in region of length 100 with 40.0 occupied sites\n",
            "Warning: made 10 attemps at trying to embed sci09.v2_Gmeb1_1745-ACACGTCCCG in region of length 100 with 40.0 occupied sites\n",
            "Warning: made 10 attemps at trying to embed sci09.v2_Gmeb1_1745-TCGCGTCGAC in region of length 100 with 40.0 occupied sites\n",
            "Warning: made 10 attemps at trying to embed sci09.v2_Gmeb1_1745-GGGCGTAGGG in region of length 100 with 40.0 occupied sites\n",
            "Warning: made 10 attemps at trying to embed sci09.v2_Gmeb1_1745-ATACGCAGAG in region of length 100 with 40.0 occupied sites\n",
            "Warning: made 20 attemps at trying to embed sci09.v2_Gmeb1_1745-ATACGCAGAG in region of length 100 with 40.0 occupied sites\n",
            "Warning: made 10 attemps at trying to embed sci09.v2_Gmeb1_1745-TGACGCTCGT in region of length 100 with 40.0 occupied sites\n",
            "Warning: made 10 attemps at trying to embed sci09.v2_Gmeb1_1745-TTCCGTCCGA in region of length 100 with 40.0 occupied sites\n",
            "Warning: made 20 attemps at trying to embed sci09.v2_Gmeb1_1745-TTCCGTCCGA in region of length 100 with 40.0 occupied sites\n",
            "Warning: made 10 attemps at trying to embed sci09.v2_Gmeb1_1745-AGACGTTTAC in region of length 100 with 40.0 occupied sites\n",
            "Warning: made 10 attemps at trying to embed sci09.v2_Gmeb1_1745-ATCCGCCCAG in region of length 100 with 40.0 occupied sites\n",
            "Warning: made 10 attemps at trying to embed sci09.v2_Gmeb1_1745-GGGCGTCAGC in region of length 100 with 30.0 occupied sites\n",
            "Warning: made 10 attemps at trying to embed sci09.v2_Gmeb1_1745-TCACGTAATT in region of length 100 with 40.0 occupied sites\n",
            "Warning: made 10 attemps at trying to embed sci09.v2_Gmeb1_1745-AGACGTGTCC in region of length 100 with 40.0 occupied sites\n",
            "Warning: made 10 attemps at trying to embed sci09.v2_Gmeb1_1745-AGACGTCCCC in region of length 100 with 40.0 occupied sites\n",
            "Warning: made 10 attemps at trying to embed sci09.v2_Gmeb1_1745-TGGCGCATTT in region of length 100 with 40.0 occupied sites\n",
            "Warning: made 10 attemps at trying to embed sci09.v2_Gmeb1_1745-GGGCGCCGTC in region of length 100 with 40.0 occupied sites\n",
            "Warning: made 10 attemps at trying to embed sci09.v2_Gmeb1_1745-CGACGTGGGA in region of length 100 with 40.0 occupied sites\n",
            "Warning: made 10 attemps at trying to embed sci09.v2_Gmeb1_1745-GTGCGTCGGT in region of length 100 with 40.0 occupied sites\n",
            "Warning: made 10 attemps at trying to embed sci09.v2_Gmeb1_1745-GGACGTCTCT in region of length 100 with 40.0 occupied sites\n",
            "Warning: made 10 attemps at trying to embed sci09.v2_Gmeb1_1745-TTACGCCATC in region of length 100 with 40.0 occupied sites\n",
            "Warning: made 10 attemps at trying to embed sci09.v2_Gmeb1_1745-GACCGCTGTA in region of length 100 with 40.0 occupied sites\n",
            "Warning: made 20 attemps at trying to embed sci09.v2_Gmeb1_1745-GACCGCTGTA in region of length 100 with 40.0 occupied sites\n",
            "Warning: made 10 attemps at trying to embed sci09.v2_Gmeb1_1745-GCCCGCCATA in region of length 100 with 40.0 occupied sites\n",
            "Warning: made 10 attemps at trying to embed sci09.v2_Gmeb1_1745-AGACTCACTC in region of length 100 with 40.0 occupied sites\n",
            "Warning: made 10 attemps at trying to embed sci09.v2_Gmeb1_1745-CTCCGCCCAG in region of length 100 with 40.0 occupied sites\n",
            "Warning: made 10 attemps at trying to embed sci09.v2_Gmeb1_1745-GGACGGGGAG in region of length 100 with 40.0 occupied sites\n",
            "Warning: made 10 attemps at trying to embed sci09.v2_Gmeb1_1745-ATACGTCGTT in region of length 100 with 40.0 occupied sites\n",
            "Warning: made 20 attemps at trying to embed sci09.v2_Gmeb1_1745-ATACGTCGTT in region of length 100 with 40.0 occupied sites\n",
            "Warning: made 10 attemps at trying to embed sci09.v2_Gmeb1_1745-TTACGCACGT in region of length 100 with 30.0 occupied sites\n",
            "Warning: made 10 attemps at trying to embed sci09.v2_Gmeb1_1745-CTGCGTTGAC in region of length 100 with 30.0 occupied sites\n",
            "Warning: made 10 attemps at trying to embed sci09.v2_Gmeb1_1745-TTCCGCAACG in region of length 100 with 30.0 occupied sites\n",
            "Warning: made 10 attemps at trying to embed sci09.v2_Gmeb1_1745-CTTCGCCGCA in region of length 100 with 40.0 occupied sites\n",
            "Warning: made 10 attemps at trying to embed sci09.v2_Gmeb1_1745-CGACGGTATG in region of length 100 with 40.0 occupied sites\n",
            "Warning: made 10 attemps at trying to embed sci09.v2_Gmeb1_1745-ACACGCGTTT in region of length 100 with 40.0 occupied sites\n",
            "Warning: made 10 attemps at trying to embed sci09.v2_Gmeb1_1745-CGACGTTCAC in region of length 100 with 40.0 occupied sites\n",
            "Warning: made 10 attemps at trying to embed sci09.v2_Gmeb1_1745-CTCCGCGTTG in region of length 100 with 40.0 occupied sites\n",
            "Warning: made 20 attemps at trying to embed sci09.v2_Gmeb1_1745-CTCCGCGTTG in region of length 100 with 40.0 occupied sites\n",
            "Warning: made 10 attemps at trying to embed sci09.v2_Gmeb1_1745-AAACGCCGTA in region of length 100 with 40.0 occupied sites\n",
            "Warning: made 10 attemps at trying to embed sci09.v2_Gmeb1_1745-AGACGTTCAA in region of length 100 with 40.0 occupied sites\n",
            "Warning: made 10 attemps at trying to embed sci09.v2_Gmeb1_1745-TGACGCATGA in region of length 100 with 40.0 occupied sites\n",
            "Warning: made 10 attemps at trying to embed sci09.v2_Gmeb1_1745-CGACGCATCG in region of length 100 with 40.0 occupied sites\n",
            "Warning: made 10 attemps at trying to embed sci09.v2_Gmeb1_1745-CACCGCAGTA in region of length 100 with 40.0 occupied sites\n",
            "Warning: made 10 attemps at trying to embed sci09.v2_Gmeb1_1745-CAGCGCACTT in region of length 100 with 40.0 occupied sites\n",
            "Warning: made 10 attemps at trying to embed sci09.v2_Gmeb1_1745-AGACGGGCCC in region of length 100 with 40.0 occupied sites\n",
            "Warning: made 10 attemps at trying to embed sci09.v2_Gmeb1_1745-TCGCGTGCTC in region of length 100 with 30.0 occupied sites\n",
            "Warning: made 10 attemps at trying to embed sci09.v2_Gmeb1_1745-TTACGCGTTG in region of length 100 with 40.0 occupied sites\n",
            "Warning: made 10 attemps at trying to embed sci09.v2_Gmeb1_1745-TTACGCTTGG in region of length 100 with 40.0 occupied sites\n",
            "Warning: made 10 attemps at trying to embed sci09.v2_Gmeb1_1745-ACGCGCGCAT in region of length 100 with 40.0 occupied sites\n",
            "Warning: made 10 attemps at trying to embed sci09.v2_Gmeb1_1745-TTGCGTAACG in region of length 100 with 40.0 occupied sites\n",
            "Warning: made 10 attemps at trying to embed sci09.v2_Gmeb1_1745-TGGCGTCGCG in region of length 100 with 40.0 occupied sites\n",
            "Warning: made 10 attemps at trying to embed sci09.v2_Gmeb1_1745-TGTCGCGAAT in region of length 100 with 40.0 occupied sites\n",
            "Warning: made 10 attemps at trying to embed sci09.v2_Gmeb1_1745-GACCGTATTA in region of length 100 with 40.0 occupied sites\n",
            "Warning: made 10 attemps at trying to embed sci09.v2_Gmeb1_1745-CGGTGCGCAC in region of length 100 with 30.0 occupied sites\n",
            "Warning: made 10 attemps at trying to embed sci09.v2_Gmeb1_1745-CGACGCATAC in region of length 100 with 40.0 occupied sites\n",
            "Warning: made 10 attemps at trying to embed sci09.v2_Gmeb1_1745-GGACGCACCG in region of length 100 with 40.0 occupied sites\n",
            "Warning: made 10 attemps at trying to embed sci09.v2_Gmeb1_1745-GAGCGCATCA in region of length 100 with 40.0 occupied sites\n",
            "Warning: made 20 attemps at trying to embed sci09.v2_Gmeb1_1745-GAGCGCATCA in region of length 100 with 40.0 occupied sites\n",
            "Warning: made 10 attemps at trying to embed sci09.v2_Gmeb1_1745-GTACGTTGGT in region of length 100 with 40.0 occupied sites\n",
            "Warning: made 10 attemps at trying to embed sci09.v2_Gmeb1_1745-CCACGTACGT in region of length 100 with 40.0 occupied sites\n",
            "Warning: made 20 attemps at trying to embed sci09.v2_Gmeb1_1745-CCACGTACGT in region of length 100 with 40.0 occupied sites\n",
            "Warning: made 10 attemps at trying to embed sci09.v2_Gmeb1_1745-TTACGTACTG in region of length 100 with 30.0 occupied sites\n",
            "Warning: made 10 attemps at trying to embed sci09.v2_Gmeb1_1745-TTTCGCACGC in region of length 100 with 40.0 occupied sites\n",
            "Warning: made 10 attemps at trying to embed sci09.v2_Gmeb1_1745-CTACGTCGGA in region of length 100 with 40.0 occupied sites\n",
            "Warning: made 10 attemps at trying to embed sci09.v2_Gmeb1_1745-CGGCGTGTAA in region of length 100 with 40.0 occupied sites\n",
            "Warning: made 20 attemps at trying to embed sci09.v2_Gmeb1_1745-CGGCGTGTAA in region of length 100 with 40.0 occupied sites\n",
            "Warning: made 30 attemps at trying to embed sci09.v2_Gmeb1_1745-CGGCGTGTAA in region of length 100 with 40.0 occupied sites\n",
            "Warning: made 10 attemps at trying to embed sci09.v2_Gmeb1_1745-GGGCGTGTAG in region of length 100 with 30.0 occupied sites\n",
            "Warning: made 10 attemps at trying to embed sci09.v2_Gmeb1_1745-CGTCGCAAAC in region of length 100 with 40.0 occupied sites\n",
            "Warning: made 10 attemps at trying to embed sci09.v2_Gmeb1_1745-CGCCGGCGGG in region of length 100 with 40.0 occupied sites\n",
            "Warning: made 20 attemps at trying to embed sci09.v2_Gmeb1_1745-CGCCGGCGGG in region of length 100 with 40.0 occupied sites\n",
            "Warning: made 10 attemps at trying to embed sci09.v2_Gmeb1_1745-TTCCGTTGCT in region of length 100 with 40.0 occupied sites\n",
            "Warning: made 10 attemps at trying to embed sci09.v2_Gmeb1_1745-TACCGTCGGA in region of length 100 with 40.0 occupied sites\n",
            "Warning: made 10 attemps at trying to embed sci09.v2_Gmeb1_1745-CTACGCTGCC in region of length 100 with 40.0 occupied sites\n",
            "Warning: made 10 attemps at trying to embed sci09.v2_Gmeb1_1745-AGACGTATTC in region of length 100 with 40.0 occupied sites\n",
            "Warning: made 10 attemps at trying to embed sci09.v2_Gmeb1_1745-CTCCGTGCTT in region of length 100 with 40.0 occupied sites\n",
            "Warning: made 10 attemps at trying to embed sci09.v2_Gmeb1_1745-TGTCGTGGCA in region of length 100 with 40.0 occupied sites\n",
            "Warning: made 10 attemps at trying to embed sci09.v2_Gmeb1_1745-AGACGCTCAT in region of length 100 with 40.0 occupied sites\n",
            "Warning: made 20 attemps at trying to embed sci09.v2_Gmeb1_1745-AGACGCTCAT in region of length 100 with 40.0 occupied sites\n",
            "Warning: made 10 attemps at trying to embed sci09.v2_Gmeb1_1745-CGTCGTTGCA in region of length 100 with 40.0 occupied sites\n",
            "Warning: made 10 attemps at trying to embed sci09.v2_Gmeb1_1745-GGACGCTCAG in region of length 100 with 40.0 occupied sites\n",
            "Warning: made 10 attemps at trying to embed sci09.v2_Gmeb1_1745-TTACGCCCAG in region of length 100 with 30.0 occupied sites\n",
            "Warning: made 10 attemps at trying to embed sci09.v2_Gmeb1_1745-GTACGCATGG in region of length 100 with 40.0 occupied sites\n",
            "Warning: made 10 attemps at trying to embed sci09.v2_Gmeb1_1745-TACCGTGTAC in region of length 100 with 40.0 occupied sites\n",
            "Warning: made 20 attemps at trying to embed sci09.v2_Gmeb1_1745-TACCGTGTAC in region of length 100 with 40.0 occupied sites\n",
            "Warning: made 10 attemps at trying to embed sci09.v2_Gmeb1_1745-CTACGCGTAG in region of length 100 with 40.0 occupied sites\n",
            "Warning: made 10 attemps at trying to embed sci09.v2_Gmeb1_1745-TTACGCCTAG in region of length 100 with 40.0 occupied sites\n",
            "Warning: made 10 attemps at trying to embed sci09.v2_Gmeb1_1745-TGGCGTACCA in region of length 100 with 40.0 occupied sites\n",
            "Warning: made 10 attemps at trying to embed sci09.v2_Gmeb1_1745-AGCCGTTGTA in region of length 100 with 30.0 occupied sites\n",
            "Warning: made 10 attemps at trying to embed sci09.v2_Gmeb1_1745-GTGCGCACAT in region of length 100 with 40.0 occupied sites\n",
            "Warning: made 10 attemps at trying to embed sci09.v2_Gmeb1_1745-CGCCGCACGA in region of length 100 with 40.0 occupied sites\n",
            "Warning: made 10 attemps at trying to embed sci09.v2_Gmeb1_1745-TTACGTGATA in region of length 100 with 40.0 occupied sites\n",
            "Warning: made 10 attemps at trying to embed sci09.v2_Gmeb1_1745-TCATGCCCCC in region of length 100 with 40.0 occupied sites\n",
            "Warning: made 10 attemps at trying to embed sci09.v2_Gmeb1_1745-CCACGTTCCC in region of length 100 with 40.0 occupied sites\n",
            "Warning: made 20 attemps at trying to embed sci09.v2_Gmeb1_1745-CCACGTTCCC in region of length 100 with 40.0 occupied sites\n",
            "Warning: made 10 attemps at trying to embed sci09.v2_Gmeb1_1745-AGCCGTCCCG in region of length 100 with 40.0 occupied sites\n",
            "Warning: made 10 attemps at trying to embed sci09.v2_Gmeb1_1745-CACCGCTTTC in region of length 100 with 40.0 occupied sites\n",
            "Warning: made 10 attemps at trying to embed sci09.v2_Gmeb1_1745-GCACGTACAC in region of length 100 with 40.0 occupied sites\n",
            "Warning: made 10 attemps at trying to embed sci09.v2_Gmeb1_1745-TGACGTCGAG in region of length 100 with 40.0 occupied sites\n",
            "Warning: made 10 attemps at trying to embed sci09.v2_Gmeb1_1745-GGACGCCCTG in region of length 100 with 40.0 occupied sites\n",
            "Warning: made 10 attemps at trying to embed sci09.v2_Gmeb1_1745-GGCCGTGGCA in region of length 100 with 40.0 occupied sites\n",
            "Warning: made 10 attemps at trying to embed sci09.v2_Gmeb1_1745-ACCCGTTTGC in region of length 100 with 40.0 occupied sites\n",
            "Warning: made 10 attemps at trying to embed sci09.v2_Gmeb1_1745-GGGCGGACCC in region of length 100 with 30.0 occupied sites\n",
            "Warning: made 10 attemps at trying to embed sci09.v2_Gmeb1_1745-GGACGTGCAG in region of length 100 with 40.0 occupied sites\n",
            "Warning: made 20 attemps at trying to embed sci09.v2_Gmeb1_1745-GGACGTGCAG in region of length 100 with 40.0 occupied sites\n",
            "Warning: made 10 attemps at trying to embed sci09.v2_Gmeb1_1745-TAACGTATCT in region of length 100 with 40.0 occupied sites\n",
            "Warning: made 10 attemps at trying to embed sci09.v2_Gmeb1_1745-ATAGGTTACG in region of length 100 with 40.0 occupied sites\n",
            "Warning: made 10 attemps at trying to embed sci09.v2_Gmeb1_1745-TGACGTGATC in region of length 100 with 40.0 occupied sites\n",
            "Warning: made 10 attemps at trying to embed sci09.v2_Gmeb1_1745-CCACGTCATG in region of length 100 with 40.0 occupied sites\n",
            "Warning: made 10 attemps at trying to embed sci09.v2_Gmeb1_1745-TCCCGCTCGA in region of length 100 with 30.0 occupied sites\n",
            "Warning: made 10 attemps at trying to embed sci09.v2_Gmeb1_1745-GAACGCAATC in region of length 100 with 40.0 occupied sites\n",
            "Warning: made 10 attemps at trying to embed sci09.v2_Gmeb1_1745-CAGCGTAGTG in region of length 100 with 40.0 occupied sites\n",
            "Warning: made 10 attemps at trying to embed sci09.v2_Gmeb1_1745-CCGCGTTCCG in region of length 100 with 40.0 occupied sites\n",
            "Warning: made 20 attemps at trying to embed sci09.v2_Gmeb1_1745-CCGCGTTCCG in region of length 100 with 40.0 occupied sites\n",
            "Warning: made 30 attemps at trying to embed sci09.v2_Gmeb1_1745-CCGCGTTCCG in region of length 100 with 40.0 occupied sites\n",
            "Warning: made 10 attemps at trying to embed sci09.v2_Gmeb1_1745-TTACGCATTC in region of length 100 with 40.0 occupied sites\n",
            "Warning: made 10 attemps at trying to embed sci09.v2_Gmeb1_1745-TCGCGCCCGA in region of length 100 with 40.0 occupied sites\n",
            "Warning: made 10 attemps at trying to embed sci09.v2_Gmeb1_1745-CATCGCCTTT in region of length 100 with 40.0 occupied sites\n",
            "Warning: made 10 attemps at trying to embed sci09.v2_Gmeb1_1745-GTACGGCTAG in region of length 100 with 40.0 occupied sites\n",
            "Warning: made 10 attemps at trying to embed sci09.v2_Gmeb1_1745-TGACGCCCTA in region of length 100 with 40.0 occupied sites\n",
            "Warning: made 10 attemps at trying to embed sci09.v2_Gmeb1_1745-GGGCGTTGGG in region of length 100 with 40.0 occupied sites\n",
            "Warning: made 10 attemps at trying to embed sci09.v2_Gmeb1_1745-TCACGTGGCG in region of length 100 with 40.0 occupied sites\n",
            "Warning: made 10 attemps at trying to embed sci09.v2_Gmeb1_1745-GCACGCTGCC in region of length 100 with 40.0 occupied sites\n",
            "Warning: made 10 attemps at trying to embed sci09.v2_Gmeb1_1745-TGGCGCCCCC in region of length 100 with 40.0 occupied sites\n",
            "Warning: made 10 attemps at trying to embed sci09.v2_Gmeb1_1745-CAGCGTAAGT in region of length 100 with 30.0 occupied sites\n",
            "Warning: made 10 attemps at trying to embed sci09.v2_Gmeb1_1745-ATCCGGGATG in region of length 100 with 30.0 occupied sites\n",
            "Warning: made 10 attemps at trying to embed sci09.v2_Gmeb1_1745-AAACGCATCC in region of length 100 with 40.0 occupied sites\n",
            "Warning: made 10 attemps at trying to embed sci09.v2_Gmeb1_1745-AAGCGCCGGC in region of length 100 with 40.0 occupied sites\n",
            "Warning: made 10 attemps at trying to embed sci09.v2_Gmeb1_1745-GTACGGCGAA in region of length 100 with 40.0 occupied sites\n",
            "Warning: made 10 attemps at trying to embed sci09.v2_Gmeb1_1745-TGGCGCCAAC in region of length 100 with 40.0 occupied sites\n",
            "Warning: made 10 attemps at trying to embed sci09.v2_Gmeb1_1745-AGACGTAAAA in region of length 100 with 30.0 occupied sites\n",
            "Warning: made 10 attemps at trying to embed sci09.v2_Gmeb1_1745-AAACGTTTTG in region of length 100 with 40.0 occupied sites\n",
            "Warning: made 10 attemps at trying to embed sci09.v2_Gmeb1_1745-AAACGCTGTA in region of length 100 with 40.0 occupied sites\n",
            "Warning: made 10 attemps at trying to embed sci09.v2_Gmeb1_1745-TAACGTCCAT in region of length 100 with 30.0 occupied sites\n",
            "Warning: made 10 attemps at trying to embed sci09.v2_Gmeb1_1745-ATACGATGAA in region of length 100 with 30.0 occupied sites\n",
            "Warning: made 10 attemps at trying to embed sci09.v2_Gmeb1_1745-GAACGTATCT in region of length 100 with 40.0 occupied sites\n",
            "Warning: made 10 attemps at trying to embed sci09.v2_Gmeb1_1745-ATGCGCCAGC in region of length 100 with 40.0 occupied sites\n",
            "Warning: made 10 attemps at trying to embed sci09.v2_Gmeb1_1745-GGACGTCAGT in region of length 100 with 40.0 occupied sites\n",
            "Warning: made 10 attemps at trying to embed sci09.v2_Gmeb1_1745-AGGCGCATCG in region of length 100 with 40.0 occupied sites\n",
            "Warning: made 10 attemps at trying to embed sci09.v2_Gmeb1_1745-TACCGCGGCC in region of length 100 with 30.0 occupied sites\n",
            "Warning: made 10 attemps at trying to embed sci09.v2_Gmeb1_1745-ATACGATGAC in region of length 100 with 40.0 occupied sites\n",
            "Warning: made 10 attemps at trying to embed sci09.v2_Gmeb1_1745-GTCCGTAGAG in region of length 100 with 30.0 occupied sites\n",
            "Warning: made 10 attemps at trying to embed sci09.v2_Gmeb1_1745-CCACGCGAAA in region of length 100 with 40.0 occupied sites\n",
            "Warning: made 10 attemps at trying to embed sci09.v2_Gmeb1_1745-TCACGTAGCC in region of length 100 with 40.0 occupied sites\n",
            "Warning: made 10 attemps at trying to embed sci09.v2_Gmeb1_1745-CCACGTGAGG in region of length 100 with 40.0 occupied sites\n",
            "Warning: made 10 attemps at trying to embed sci09.v2_Gmeb1_1745-ATGCGGGCGA in region of length 100 with 40.0 occupied sites\n",
            "Warning: made 10 attemps at trying to embed sci09.v2_Gmeb1_1745-AAACGCTTGC in region of length 100 with 40.0 occupied sites\n",
            "Warning: made 10 attemps at trying to embed sci09.v2_Gmeb1_1745-TTACGTATAT in region of length 100 with 40.0 occupied sites\n",
            "Warning: made 10 attemps at trying to embed sci09.v2_Gmeb1_1745-TGACGCACTC in region of length 100 with 40.0 occupied sites\n",
            "Warning: made 20 attemps at trying to embed sci09.v2_Gmeb1_1745-TGACGCACTC in region of length 100 with 40.0 occupied sites\n",
            "Warning: made 10 attemps at trying to embed sci09.v2_Gmeb1_1745-AAACGTTTGT in region of length 100 with 40.0 occupied sites\n",
            "Warning: made 10 attemps at trying to embed sci09.v2_Gmeb1_1745-TAACGTAGGT in region of length 100 with 30.0 occupied sites\n",
            "Warning: made 10 attemps at trying to embed sci09.v2_Gmeb1_1745-TTACGCGCGA in region of length 100 with 40.0 occupied sites\n",
            "Warning: made 10 attemps at trying to embed sci09.v2_Gmeb1_1745-CCACTTATCG in region of length 100 with 40.0 occupied sites\n",
            "Warning: made 10 attemps at trying to embed sci09.v2_Gmeb1_1745-TTACGCAGCT in region of length 100 with 40.0 occupied sites\n",
            "Warning: made 10 attemps at trying to embed sci09.v2_Gmeb1_1745-ATACGTATCA in region of length 100 with 40.0 occupied sites\n",
            "Warning: made 10 attemps at trying to embed sci09.v2_Gmeb1_1745-GGACGTTGGG in region of length 100 with 40.0 occupied sites\n",
            "Warning: made 10 attemps at trying to embed sci09.v2_Gmeb1_1745-CCACGCCTGG in region of length 100 with 40.0 occupied sites\n",
            "Warning: made 10 attemps at trying to embed sci09.v2_Gmeb1_1745-GCACGCACTC in region of length 100 with 40.0 occupied sites\n",
            "Warning: made 10 attemps at trying to embed sci09.v2_Gmeb1_1745-ATTCGCATGG in region of length 100 with 40.0 occupied sites\n",
            "Warning: made 10 attemps at trying to embed sci09.v2_Gmeb1_1745-ACACGTATGG in region of length 100 with 40.0 occupied sites\n",
            "Warning: made 10 attemps at trying to embed sci09.v2_Gmeb1_1745-GGACGTCGAA in region of length 100 with 40.0 occupied sites\n",
            "Warning: made 10 attemps at trying to embed sci09.v2_Gmeb1_1745-GTTCGATCAC in region of length 100 with 40.0 occupied sites\n",
            "Warning: made 10 attemps at trying to embed sci09.v2_Gmeb1_1745-GCACGCTTTC in region of length 100 with 40.0 occupied sites\n",
            "Warning: made 10 attemps at trying to embed sci09.v2_Gmeb1_1745-AAACGTAGAA in region of length 100 with 40.0 occupied sites\n",
            "Warning: made 10 attemps at trying to embed sci09.v2_Gmeb1_1745-CTCCGCTAGC in region of length 100 with 40.0 occupied sites\n",
            "Warning: made 10 attemps at trying to embed sci09.v2_Gmeb1_1745-CTCCGCTATC in region of length 100 with 40.0 occupied sites\n",
            "Warning: made 10 attemps at trying to embed sci09.v2_Gmeb1_1745-ATCCGTAGGA in region of length 100 with 30.0 occupied sites\n",
            "Warning: made 10 attemps at trying to embed sci09.v2_Gmeb1_1745-TGGCGTACAA in region of length 100 with 40.0 occupied sites\n",
            "Warning: made 10 attemps at trying to embed sci09.v2_Gmeb1_1745-GAACGTCGAG in region of length 100 with 40.0 occupied sites\n",
            "Warning: made 10 attemps at trying to embed sci09.v2_Gmeb1_1745-TCGCGTGCCT in region of length 100 with 40.0 occupied sites\n",
            "Warning: made 10 attemps at trying to embed sci09.v2_Gmeb1_1745-GTACGCACAG in region of length 100 with 40.0 occupied sites\n",
            "Warning: made 10 attemps at trying to embed sci09.v2_Gmeb1_1745-AGCCGTCCAA in region of length 100 with 40.0 occupied sites\n",
            "Warning: made 10 attemps at trying to embed sci09.v2_Gmeb1_1745-AGCCGTTATC in region of length 100 with 40.0 occupied sites\n",
            "Warning: made 10 attemps at trying to embed sci09.v2_Gmeb1_1745-CTCCGTGGCT in region of length 100 with 30.0 occupied sites\n",
            "Warning: made 10 attemps at trying to embed sci09.v2_Gmeb1_1745-TTACGCTCAT in region of length 100 with 40.0 occupied sites\n",
            "Warning: made 10 attemps at trying to embed sci09.v2_Gmeb1_1745-GCTCGTGCTT in region of length 100 with 30.0 occupied sites\n",
            "Warning: made 10 attemps at trying to embed sci09.v2_Gmeb1_1745-TAGCGCCCCG in region of length 100 with 40.0 occupied sites\n",
            "Warning: made 10 attemps at trying to embed sci09.v2_Gmeb1_1745-AGACGTATAA in region of length 100 with 40.0 occupied sites\n",
            "Warning: made 20 attemps at trying to embed sci09.v2_Gmeb1_1745-AGACGTATAA in region of length 100 with 40.0 occupied sites\n",
            "Warning: made 10 attemps at trying to embed sci09.v2_Gmeb1_1745-TCCCGTTTGG in region of length 100 with 40.0 occupied sites\n",
            "Warning: made 10 attemps at trying to embed sci09.v2_Gmeb1_1745-ATCCGAATTA in region of length 100 with 40.0 occupied sites\n",
            "Warning: made 10 attemps at trying to embed sci09.v2_Gmeb1_1745-CTACGCAAGG in region of length 100 with 40.0 occupied sites\n",
            "Warning: made 10 attemps at trying to embed sci09.v2_Gmeb1_1745-TTACGTCCGA in region of length 100 with 30.0 occupied sites\n",
            "Warning: made 10 attemps at trying to embed sci09.v2_Gmeb1_1745-ATCCGCAGCT in region of length 100 with 40.0 occupied sites\n",
            "Warning: made 10 attemps at trying to embed sci09.v2_Gmeb1_1745-AGACGCCGGC in region of length 100 with 40.0 occupied sites\n",
            "Warning: made 10 attemps at trying to embed sci09.v2_Gmeb1_1745-CAACGCCATT in region of length 100 with 40.0 occupied sites\n",
            "Warning: made 10 attemps at trying to embed sci09.v2_Gmeb1_1745-CTACGTCACG in region of length 100 with 40.0 occupied sites\n",
            "Warning: made 10 attemps at trying to embed sci09.v2_Gmeb1_1745-CTGCGTACCT in region of length 100 with 30.0 occupied sites\n",
            "Warning: made 10 attemps at trying to embed sci09.v2_Gmeb1_1745-CAACGTCGTT in region of length 100 with 40.0 occupied sites\n",
            "Warning: made 20 attemps at trying to embed sci09.v2_Gmeb1_1745-CAACGTCGTT in region of length 100 with 40.0 occupied sites\n",
            "Warning: made 30 attemps at trying to embed sci09.v2_Gmeb1_1745-CAACGTCGTT in region of length 100 with 40.0 occupied sites\n",
            "Warning: made 10 attemps at trying to embed sci09.v2_Gmeb1_1745-TAGCGTTGGC in region of length 100 with 30.0 occupied sites\n",
            "Warning: made 10 attemps at trying to embed sci09.v2_Gmeb1_1745-TTACGTCGAA in region of length 100 with 40.0 occupied sites\n",
            "Warning: made 10 attemps at trying to embed sci09.v2_Gmeb1_1745-ATACGCGGCG in region of length 100 with 40.0 occupied sites\n",
            "Warning: made 10 attemps at trying to embed sci09.v2_Gmeb1_1745-TCACGTACCA in region of length 100 with 40.0 occupied sites\n",
            "Warning: made 10 attemps at trying to embed sci09.v2_Gmeb1_1745-CGCCGCGTTG in region of length 100 with 40.0 occupied sites\n",
            "Warning: made 10 attemps at trying to embed sci09.v2_Gmeb1_1745-AGACGTAATA in region of length 100 with 40.0 occupied sites\n",
            "Warning: made 10 attemps at trying to embed sci09.v2_Gmeb1_1745-TGCCGGCATA in region of length 100 with 40.0 occupied sites\n",
            "Warning: made 10 attemps at trying to embed sci09.v2_Gmeb1_1745-ACGCGTCCAC in region of length 100 with 40.0 occupied sites\n",
            "Warning: made 10 attemps at trying to embed sci09.v2_Gmeb1_1745-ATACGTACTG in region of length 100 with 40.0 occupied sites\n",
            "Warning: made 10 attemps at trying to embed sci09.v2_Gmeb1_1745-CGGCGCCCAC in region of length 100 with 40.0 occupied sites\n",
            "Warning: made 10 attemps at trying to embed sci09.v2_Gmeb1_1745-TGACGCTTGG in region of length 100 with 40.0 occupied sites\n",
            "Warning: made 10 attemps at trying to embed sci09.v2_Gmeb1_1745-TGCCGCAGGT in region of length 100 with 40.0 occupied sites\n",
            "Warning: made 10 attemps at trying to embed sci09.v2_Gmeb1_1745-TTACGCTACC in region of length 100 with 40.0 occupied sites\n",
            "Warning: made 10 attemps at trying to embed sci09.v2_Gmeb1_1745-GCGCGTAGGA in region of length 100 with 40.0 occupied sites\n",
            "Warning: made 10 attemps at trying to embed sci09.v2_Gmeb1_1745-GGGCGCTGTT in region of length 100 with 40.0 occupied sites\n",
            "Warning: made 10 attemps at trying to embed sci09.v2_Gmeb1_1745-TAACGCATTG in region of length 100 with 30.0 occupied sites\n",
            "Warning: made 10 attemps at trying to embed sci09.v2_Gmeb1_1745-TTACGCTCGT in region of length 100 with 40.0 occupied sites\n",
            "Warning: made 10 attemps at trying to embed sci09.v2_Gmeb1_1745-TTGCGCACCT in region of length 100 with 40.0 occupied sites\n",
            "Warning: made 10 attemps at trying to embed sci09.v2_Gmeb1_1745-TCTCGTCTAG in region of length 100 with 40.0 occupied sites\n",
            "Warning: made 10 attemps at trying to embed sci09.v2_Gmeb1_1745-GTACGTGATG in region of length 100 with 40.0 occupied sites\n",
            "Warning: made 10 attemps at trying to embed sci09.v2_Gmeb1_1745-GCACGCAAAC in region of length 100 with 40.0 occupied sites\n",
            "Warning: made 10 attemps at trying to embed sci09.v2_Gmeb1_1745-GTACGCTATC in region of length 100 with 30.0 occupied sites\n",
            "Warning: made 10 attemps at trying to embed sci09.v2_Gmeb1_1745-CCACGTTACT in region of length 100 with 30.0 occupied sites\n",
            "Warning: made 10 attemps at trying to embed sci09.v2_Gmeb1_1745-GTTCGTTTAA in region of length 100 with 40.0 occupied sites\n",
            "Warning: made 10 attemps at trying to embed sci09.v2_Gmeb1_1745-CCACGTCTAA in region of length 100 with 40.0 occupied sites\n",
            "Warning: made 10 attemps at trying to embed sci09.v2_Gmeb1_1745-CCACGTATGC in region of length 100 with 40.0 occupied sites\n",
            "Warning: made 10 attemps at trying to embed sci09.v2_Gmeb1_1745-CACCGCGGCT in region of length 100 with 40.0 occupied sites\n",
            "Warning: made 10 attemps at trying to embed sci09.v2_Gmeb1_1745-TGACGCCGGC in region of length 100 with 30.0 occupied sites\n",
            "Warning: made 10 attemps at trying to embed sci09.v2_Gmeb1_1745-GGTCGTCGAC in region of length 100 with 30.0 occupied sites\n",
            "Warning: made 10 attemps at trying to embed sci09.v2_Gmeb1_1745-ATACGCAATT in region of length 100 with 30.0 occupied sites\n",
            "Warning: made 10 attemps at trying to embed sci09.v2_Gmeb1_1745-TCACGTCATA in region of length 100 with 40.0 occupied sites\n",
            "Warning: made 20 attemps at trying to embed sci09.v2_Gmeb1_1745-TCACGTCATA in region of length 100 with 40.0 occupied sites\n",
            "Warning: made 10 attemps at trying to embed sci09.v2_Gmeb1_1745-GCCCGTACCT in region of length 100 with 30.0 occupied sites\n",
            "Warning: made 10 attemps at trying to embed sci09.v2_Gmeb1_1745-GGACGCCAAG in region of length 100 with 40.0 occupied sites\n",
            "Warning: made 10 attemps at trying to embed sci09.v2_Gmeb1_1745-AGTCGTTTTG in region of length 100 with 40.0 occupied sites\n",
            "Warning: made 10 attemps at trying to embed sci09.v2_Gmeb1_1745-TTACGCCTAG in region of length 100 with 40.0 occupied sites\n",
            "Warning: made 10 attemps at trying to embed sci09.v2_Gmeb1_1745-CTGCGCCGCG in region of length 100 with 30.0 occupied sites\n",
            "Warning: made 10 attemps at trying to embed sci09.v2_Gmeb1_1745-GCGCGTGAAC in region of length 100 with 40.0 occupied sites\n",
            "Warning: made 10 attemps at trying to embed sci09.v2_Gmeb1_1745-TGACGGACGG in region of length 100 with 40.0 occupied sites\n",
            "Warning: made 20 attemps at trying to embed sci09.v2_Gmeb1_1745-TGACGGACGG in region of length 100 with 40.0 occupied sites\n",
            "Warning: made 30 attemps at trying to embed sci09.v2_Gmeb1_1745-TGACGGACGG in region of length 100 with 40.0 occupied sites\n",
            "Warning: made 10 attemps at trying to embed sci09.v2_Gmeb1_1745-TTTCGCTATT in region of length 100 with 40.0 occupied sites\n",
            "Warning: made 10 attemps at trying to embed sci09.v2_Gmeb1_1745-TCACGCTTCA in region of length 100 with 40.0 occupied sites\n",
            "Warning: made 10 attemps at trying to embed sci09.v2_Gmeb1_1745-TGACGTTAAG in region of length 100 with 40.0 occupied sites\n",
            "Warning: made 10 attemps at trying to embed sci09.v2_Gmeb1_1745-CGACGTAAAA in region of length 100 with 40.0 occupied sites\n",
            "Warning: made 10 attemps at trying to embed sci09.v2_Gmeb1_1745-TTACGTAATG in region of length 100 with 40.0 occupied sites\n",
            "Warning: made 10 attemps at trying to embed sci09.v2_Gmeb1_1745-GCGCGTACAT in region of length 100 with 40.0 occupied sites\n",
            "Warning: made 10 attemps at trying to embed sci09.v2_Gmeb1_1745-CTGCGCTATG in region of length 100 with 40.0 occupied sites\n",
            "Warning: made 10 attemps at trying to embed sci09.v2_Gmeb1_1745-CGACGTCCAG in region of length 100 with 40.0 occupied sites\n",
            "Warning: made 10 attemps at trying to embed sci09.v2_Gmeb1_1745-TTACGTAAAT in region of length 100 with 40.0 occupied sites\n",
            "Warning: made 10 attemps at trying to embed sci09.v2_Gmeb1_1745-GGCCGCATTT in region of length 100 with 30.0 occupied sites\n",
            "Warning: made 10 attemps at trying to embed sci09.v2_Gmeb1_1745-GGACGCTGGG in region of length 100 with 40.0 occupied sites\n",
            "Warning: made 10 attemps at trying to embed sci09.v2_Gmeb1_1745-AGACGTAAAT in region of length 100 with 40.0 occupied sites\n",
            "Warning: made 10 attemps at trying to embed sci09.v2_Gmeb1_1745-CTGCGTTGAA in region of length 100 with 40.0 occupied sites\n",
            "Warning: made 10 attemps at trying to embed sci09.v2_Gmeb1_1745-CGGCGCCGCG in region of length 100 with 40.0 occupied sites\n",
            "Warning: made 10 attemps at trying to embed sci09.v2_Gmeb1_1745-AAACGAAATT in region of length 100 with 40.0 occupied sites\n",
            "Warning: made 10 attemps at trying to embed sci09.v2_Gmeb1_1745-CCTCGTCTCT in region of length 100 with 40.0 occupied sites\n",
            "Warning: made 10 attemps at trying to embed sci09.v2_Gmeb1_1745-CGACGCCAGT in region of length 100 with 40.0 occupied sites\n",
            "Warning: made 10 attemps at trying to embed sci09.v2_Gmeb1_1745-AGGCGTTGGA in region of length 100 with 30.0 occupied sites\n",
            "Warning: made 10 attemps at trying to embed sci09.v2_Gmeb1_1745-GGACGCTCGA in region of length 100 with 40.0 occupied sites\n",
            "Warning: made 10 attemps at trying to embed sci09.v2_Gmeb1_1745-CCTCGTTCGT in region of length 100 with 40.0 occupied sites\n",
            "Warning: made 10 attemps at trying to embed sci09.v2_Gmeb1_1745-AGCCGTTCCT in region of length 100 with 40.0 occupied sites\n",
            "Warning: made 10 attemps at trying to embed sci09.v2_Gmeb1_1745-TCTCGAGGCA in region of length 100 with 30.0 occupied sites\n",
            "Warning: made 10 attemps at trying to embed sci09.v2_Gmeb1_1745-GGATGTCGTC in region of length 100 with 30.0 occupied sites\n",
            "Warning: made 10 attemps at trying to embed sci09.v2_Gmeb1_1745-GAACGTACAT in region of length 100 with 30.0 occupied sites\n",
            "Warning: made 10 attemps at trying to embed sci09.v2_Gmeb1_1745-CCACGTGGCT in region of length 100 with 40.0 occupied sites\n",
            "Warning: made 10 attemps at trying to embed sci09.v2_Gmeb1_1745-TAGCGTCGTT in region of length 100 with 40.0 occupied sites\n",
            "Warning: made 10 attemps at trying to embed sci09.v2_Gmeb1_1745-CTACGCGAAC in region of length 100 with 40.0 occupied sites\n",
            "Warning: made 10 attemps at trying to embed sci09.v2_Gmeb1_1745-TTACGCACCC in region of length 100 with 20.0 occupied sites\n",
            "Warning: made 10 attemps at trying to embed sci09.v2_Gmeb1_1745-GCCCGTGGGG in region of length 100 with 40.0 occupied sites\n",
            "Warning: made 10 attemps at trying to embed sci09.v2_Gmeb1_1745-GTACGTACGG in region of length 100 with 40.0 occupied sites\n",
            "Warning: made 10 attemps at trying to embed sci09.v2_Gmeb1_1745-CTACGCAGGG in region of length 100 with 40.0 occupied sites\n",
            "Warning: made 10 attemps at trying to embed sci09.v2_Gmeb1_1745-ATGCGCTTCA in region of length 100 with 30.0 occupied sites\n",
            "Warning: made 10 attemps at trying to embed sci09.v2_Gmeb1_1745-TCGCGCGCTT in region of length 100 with 40.0 occupied sites\n",
            "Warning: made 10 attemps at trying to embed sci09.v2_Gmeb1_1745-TGTCGCCCTA in region of length 100 with 40.0 occupied sites\n",
            "Warning: made 10 attemps at trying to embed sci09.v2_Gmeb1_1745-GTACGCAGCG in region of length 100 with 30.0 occupied sites\n",
            "Warning: made 10 attemps at trying to embed sci09.v2_Gmeb1_1745-TGACGCTGAC in region of length 100 with 40.0 occupied sites\n",
            "Warning: made 10 attemps at trying to embed sci09.v2_Gmeb1_1745-AAGCGCAGCT in region of length 100 with 30.0 occupied sites\n",
            "Warning: made 10 attemps at trying to embed sci09.v2_Gmeb1_1745-ATACGTAGCC in region of length 100 with 40.0 occupied sites\n",
            "Warning: made 10 attemps at trying to embed sci09.v2_Gmeb1_1745-ATTCGTAAGT in region of length 100 with 40.0 occupied sites\n",
            "Warning: made 20 attemps at trying to embed sci09.v2_Gmeb1_1745-ATTCGTAAGT in region of length 100 with 40.0 occupied sites\n",
            "Warning: made 10 attemps at trying to embed sci09.v2_Gmeb1_1745-CCACGGAATG in region of length 100 with 40.0 occupied sites\n",
            "Warning: made 10 attemps at trying to embed sci09.v2_Gmeb1_1745-CGCCGCCAAA in region of length 100 with 30.0 occupied sites\n",
            "Warning: made 10 attemps at trying to embed sci09.v2_Gmeb1_1745-CAACGTAATT in region of length 100 with 30.0 occupied sites\n",
            "Warning: made 10 attemps at trying to embed sci09.v2_Gmeb1_1745-GTACGTACCT in region of length 100 with 40.0 occupied sites\n",
            "Warning: made 10 attemps at trying to embed sci09.v2_Gmeb1_1745-ACCCGCAAAG in region of length 100 with 40.0 occupied sites\n",
            "Warning: made 10 attemps at trying to embed sci09.v2_Gmeb1_1745-ATTCGCGTCT in region of length 100 with 40.0 occupied sites\n",
            "Warning: made 20 attemps at trying to embed sci09.v2_Gmeb1_1745-ATTCGCGTCT in region of length 100 with 40.0 occupied sites\n",
            "Warning: made 10 attemps at trying to embed sci09.v2_Gmeb1_1745-GTGCGTAGAC in region of length 100 with 40.0 occupied sites\n",
            "Warning: made 10 attemps at trying to embed sci09.v2_Gmeb1_1745-TGGCGTTAAG in region of length 100 with 40.0 occupied sites\n",
            "Warning: made 10 attemps at trying to embed sci09.v2_Gmeb1_1745-CTGCGCCCGC in region of length 100 with 40.0 occupied sites\n",
            "Warning: made 10 attemps at trying to embed sci09.v2_Gmeb1_1745-TGCCGCTCAT in region of length 100 with 40.0 occupied sites\n",
            "Warning: made 10 attemps at trying to embed sci09.v2_Gmeb1_1745-AAACGCAATC in region of length 100 with 40.0 occupied sites\n",
            "Warning: made 10 attemps at trying to embed sci09.v2_Gmeb1_1745-TGACGATTTG in region of length 100 with 40.0 occupied sites\n",
            "Warning: made 10 attemps at trying to embed sci09.v2_Gmeb1_1745-TAACGCACAT in region of length 100 with 40.0 occupied sites\n",
            "Warning: made 10 attemps at trying to embed sci09.v2_Gmeb1_1745-ATACGTTAGC in region of length 100 with 30.0 occupied sites\n",
            "Warning: made 10 attemps at trying to embed sci09.v2_Gmeb1_1745-TGACGCGGCA in region of length 100 with 40.0 occupied sites\n",
            "Warning: made 10 attemps at trying to embed sci09.v2_Gmeb1_1745-GTACGTATGC in region of length 100 with 30.0 occupied sites\n",
            "Warning: made 10 attemps at trying to embed sci09.v2_Gmeb1_1745-CGACGCTAAC in region of length 100 with 40.0 occupied sites\n",
            "Warning: made 10 attemps at trying to embed sci09.v2_Gmeb1_1745-AAACGCAGGT in region of length 100 with 30.0 occupied sites\n",
            "Warning: made 10 attemps at trying to embed sci09.v2_Gmeb1_1745-CTACGTAAGT in region of length 100 with 40.0 occupied sites\n",
            "Warning: made 10 attemps at trying to embed sci09.v2_Gmeb1_1745-CTACGTACGA in region of length 100 with 40.0 occupied sites\n",
            "Warning: made 10 attemps at trying to embed sci09.v2_Gmeb1_1745-GAGCGCGAAA in region of length 100 with 40.0 occupied sites\n",
            "Warning: made 10 attemps at trying to embed sci09.v2_Gmeb1_1745-TTCCGTGCTA in region of length 100 with 40.0 occupied sites\n",
            "Warning: made 10 attemps at trying to embed sci09.v2_Gmeb1_1745-GGTCGTGAGT in region of length 100 with 40.0 occupied sites\n",
            "Warning: made 10 attemps at trying to embed sci09.v2_Gmeb1_1745-GTACGCCCCG in region of length 100 with 40.0 occupied sites\n",
            "Warning: made 10 attemps at trying to embed sci09.v2_Gmeb1_1745-TAGCGCACCT in region of length 100 with 40.0 occupied sites\n",
            "Warning: made 10 attemps at trying to embed sci09.v2_Gmeb1_1745-GCACGCAACG in region of length 100 with 30.0 occupied sites\n",
            "Warning: made 10 attemps at trying to embed sci09.v2_Gmeb1_1745-CACCGTGATC in region of length 100 with 40.0 occupied sites\n",
            "Warning: made 20 attemps at trying to embed sci09.v2_Gmeb1_1745-CACCGTGATC in region of length 100 with 40.0 occupied sites\n",
            "Warning: made 10 attemps at trying to embed sci09.v2_Gmeb1_1745-TGTCGTTTGG in region of length 100 with 40.0 occupied sites\n",
            "Warning: made 10 attemps at trying to embed sci09.v2_Gmeb1_1745-GACCGCCTGT in region of length 100 with 40.0 occupied sites\n",
            "Warning: made 10 attemps at trying to embed sci09.v2_Gmeb1_1745-AAGCGCGTTG in region of length 100 with 40.0 occupied sites\n",
            "Warning: made 10 attemps at trying to embed sci09.v2_Gmeb1_1745-ATACGCACGT in region of length 100 with 40.0 occupied sites\n",
            "Warning: made 10 attemps at trying to embed sci09.v2_Gmeb1_1745-GAGCGCACCG in region of length 100 with 40.0 occupied sites\n",
            "Warning: made 10 attemps at trying to embed sci09.v2_Gmeb1_1745-TCCCGCGACC in region of length 100 with 40.0 occupied sites\n",
            "Warning: made 10 attemps at trying to embed sci09.v2_Gmeb1_1745-CGACGTGTAG in region of length 100 with 40.0 occupied sites\n",
            "Warning: made 10 attemps at trying to embed sci09.v2_Gmeb1_1745-ATACGCCCGG in region of length 100 with 40.0 occupied sites\n",
            "Warning: made 10 attemps at trying to embed sci09.v2_Gmeb1_1745-TCACGGAGTG in region of length 100 with 40.0 occupied sites\n",
            "Warning: made 10 attemps at trying to embed sci09.v2_Gmeb1_1745-GAACGTGGCG in region of length 100 with 40.0 occupied sites\n",
            "Warning: made 10 attemps at trying to embed sci09.v2_Gmeb1_1745-TGTCGTCCCT in region of length 100 with 40.0 occupied sites\n",
            "Warning: made 10 attemps at trying to embed sci09.v2_Gmeb1_1745-GGACGGACAA in region of length 100 with 40.0 occupied sites\n",
            "Warning: made 10 attemps at trying to embed sci09.v2_Gmeb1_1745-CAGTGCTCAC in region of length 100 with 40.0 occupied sites\n",
            "Warning: made 10 attemps at trying to embed sci09.v2_Gmeb1_1745-CTGCGATCCC in region of length 100 with 40.0 occupied sites\n",
            "Warning: made 10 attemps at trying to embed sci09.v2_Gmeb1_1745-TGACGCACCA in region of length 100 with 40.0 occupied sites\n",
            "Warning: made 10 attemps at trying to embed sci09.v2_Gmeb1_1745-TAGCGCTGTA in region of length 100 with 40.0 occupied sites\n",
            "Warning: made 10 attemps at trying to embed sci09.v2_Gmeb1_1745-TGACGCCAGC in region of length 100 with 40.0 occupied sites\n",
            "Warning: made 10 attemps at trying to embed sci09.v2_Gmeb1_1745-TGACGTCGGG in region of length 100 with 40.0 occupied sites\n",
            "Warning: made 10 attemps at trying to embed sci09.v2_Gmeb1_1745-ACCCGTTAAA in region of length 100 with 40.0 occupied sites\n",
            "Warning: made 10 attemps at trying to embed sci09.v2_Gmeb1_1745-AGCCGTAGAC in region of length 100 with 40.0 occupied sites\n",
            "Warning: made 10 attemps at trying to embed sci09.v2_Gmeb1_1745-TAACGTAAAC in region of length 100 with 40.0 occupied sites\n",
            "Warning: made 10 attemps at trying to embed sci09.v2_Gmeb1_1745-CTTCGCAGAC in region of length 100 with 40.0 occupied sites\n",
            "Warning: made 10 attemps at trying to embed sci09.v2_Gmeb1_1745-TTACGTGGCC in region of length 100 with 40.0 occupied sites\n",
            "Warning: made 20 attemps at trying to embed sci09.v2_Gmeb1_1745-TTACGTGGCC in region of length 100 with 40.0 occupied sites\n",
            "Warning: made 10 attemps at trying to embed sci09.v2_Gmeb1_1745-TTCCGTGCTG in region of length 100 with 40.0 occupied sites\n",
            "Warning: made 10 attemps at trying to embed sci09.v2_Gmeb1_1745-CGACGGATTG in region of length 100 with 30.0 occupied sites\n",
            "Warning: made 10 attemps at trying to embed sci09.v2_Gmeb1_1745-GTACGTTCCT in region of length 100 with 40.0 occupied sites\n",
            "Warning: made 10 attemps at trying to embed sci09.v2_Gmeb1_1745-AGACGCTCCT in region of length 100 with 40.0 occupied sites\n",
            "Warning: made 10 attemps at trying to embed sci09.v2_Gmeb1_1745-TCACGATTGA in region of length 100 with 40.0 occupied sites\n",
            "Warning: made 10 attemps at trying to embed sci09.v2_Gmeb1_1745-CCACGTTCCA in region of length 100 with 40.0 occupied sites\n",
            "Warning: made 10 attemps at trying to embed sci09.v2_Gmeb1_1745-ATACGTCCTT in region of length 100 with 40.0 occupied sites\n",
            "Warning: made 20 attemps at trying to embed sci09.v2_Gmeb1_1745-ATACGTCCTT in region of length 100 with 40.0 occupied sites\n",
            "Warning: made 30 attemps at trying to embed sci09.v2_Gmeb1_1745-ATACGTCCTT in region of length 100 with 40.0 occupied sites\n",
            "Warning: made 10 attemps at trying to embed sci09.v2_Gmeb1_1745-TGGCGTGTCC in region of length 100 with 30.0 occupied sites\n",
            "Warning: made 10 attemps at trying to embed sci09.v2_Gmeb1_1745-TGACGGAGCT in region of length 100 with 40.0 occupied sites\n",
            "Warning: made 10 attemps at trying to embed sci09.v2_Gmeb1_1745-GGACGTGCTG in region of length 100 with 30.0 occupied sites\n",
            "Warning: made 10 attemps at trying to embed sci09.v2_Gmeb1_1745-GTACGAGCCG in region of length 100 with 40.0 occupied sites\n",
            "Warning: made 10 attemps at trying to embed sci09.v2_Gmeb1_1745-CGGCGCAGCC in region of length 100 with 30.0 occupied sites\n",
            "Warning: made 10 attemps at trying to embed sci09.v2_Gmeb1_1745-AGACGTCGTA in region of length 100 with 40.0 occupied sites\n",
            "Warning: made 10 attemps at trying to embed sci09.v2_Gmeb1_1745-TGACGTAACG in region of length 100 with 40.0 occupied sites\n",
            "Warning: made 10 attemps at trying to embed sci09.v2_Gmeb1_1745-ACGCGGACGG in region of length 100 with 40.0 occupied sites\n",
            "Warning: made 10 attemps at trying to embed sci09.v2_Gmeb1_1745-TGGCGCATGA in region of length 100 with 40.0 occupied sites\n",
            "Warning: made 10 attemps at trying to embed sci09.v2_Gmeb1_1745-TGACGCAAGA in region of length 100 with 40.0 occupied sites\n",
            "Warning: made 10 attemps at trying to embed sci09.v2_Gmeb1_1745-GACCGCTAGC in region of length 100 with 40.0 occupied sites\n",
            "Warning: made 10 attemps at trying to embed sci09.v2_Gmeb1_1745-TTGCGCTTTA in region of length 100 with 40.0 occupied sites\n",
            "Warning: made 10 attemps at trying to embed sci09.v2_Gmeb1_1745-GTGCGTTGAA in region of length 100 with 40.0 occupied sites\n",
            "Warning: made 10 attemps at trying to embed sci09.v2_Gmeb1_1745-AGACGCGACT in region of length 100 with 40.0 occupied sites\n",
            "Warning: made 10 attemps at trying to embed sci09.v2_Gmeb1_1745-TTGCGTCCTG in region of length 100 with 40.0 occupied sites\n",
            "Warning: made 10 attemps at trying to embed sci09.v2_Gmeb1_1745-TAACGCACCC in region of length 100 with 40.0 occupied sites\n",
            "Warning: made 10 attemps at trying to embed sci09.v2_Gmeb1_1745-TGACGTGTTA in region of length 100 with 40.0 occupied sites\n",
            "Warning: made 10 attemps at trying to embed sci09.v2_Gmeb1_1745-ACACGCCTCC in region of length 100 with 40.0 occupied sites\n",
            "Warning: made 10 attemps at trying to embed sci09.v2_Gmeb1_1745-CGACGTTTAT in region of length 100 with 40.0 occupied sites\n",
            "Warning: made 10 attemps at trying to embed sci09.v2_Gmeb1_1745-TTACGTACGC in region of length 100 with 40.0 occupied sites\n",
            "Warning: made 10 attemps at trying to embed sci09.v2_Gmeb1_1745-TAACGTAGCA in region of length 100 with 40.0 occupied sites\n",
            "Warning: made 10 attemps at trying to embed sci09.v2_Gmeb1_1745-TTACGTCCGC in region of length 100 with 40.0 occupied sites\n",
            "Warning: made 20 attemps at trying to embed sci09.v2_Gmeb1_1745-TTACGTCCGC in region of length 100 with 40.0 occupied sites\n",
            "Warning: made 10 attemps at trying to embed sci09.v2_Gmeb1_1745-CGACGTGACC in region of length 100 with 40.0 occupied sites\n",
            "Warning: made 20 attemps at trying to embed sci09.v2_Gmeb1_1745-CGACGTGACC in region of length 100 with 40.0 occupied sites\n",
            "Warning: made 10 attemps at trying to embed sci09.v2_Gmeb1_1745-TTACGCTCGG in region of length 100 with 40.0 occupied sites\n",
            "Warning: made 10 attemps at trying to embed sci09.v2_Gmeb1_1745-GGGCGTGACG in region of length 100 with 40.0 occupied sites\n",
            "Warning: made 10 attemps at trying to embed sci09.v2_Gmeb1_1745-TGACGTCTCT in region of length 100 with 40.0 occupied sites\n",
            "Warning: made 10 attemps at trying to embed sci09.v2_Gmeb1_1745-TTCCGTGACG in region of length 100 with 40.0 occupied sites\n",
            "Warning: made 10 attemps at trying to embed sci09.v2_Gmeb1_1745-GTTCGTTCCC in region of length 100 with 40.0 occupied sites\n",
            "Warning: made 10 attemps at trying to embed sci09.v2_Gmeb1_1745-ACACGTATAA in region of length 100 with 40.0 occupied sites\n",
            "Warning: made 10 attemps at trying to embed sci09.v2_Gmeb1_1745-CCGCGCATCG in region of length 100 with 40.0 occupied sites\n",
            "Warning: made 10 attemps at trying to embed sci09.v2_Gmeb1_1745-GAGCGCGCGG in region of length 100 with 40.0 occupied sites\n",
            "Warning: made 10 attemps at trying to embed sci09.v2_Gmeb1_1745-TAACGCAAGC in region of length 100 with 30.0 occupied sites\n",
            "Warning: made 10 attemps at trying to embed sci09.v2_Gmeb1_1745-AGCCGTACTA in region of length 100 with 40.0 occupied sites\n",
            "Warning: made 10 attemps at trying to embed sci09.v2_Gmeb1_1745-GGGCGCCTCC in region of length 100 with 40.0 occupied sites\n",
            "Warning: made 10 attemps at trying to embed sci09.v2_Gmeb1_1745-ACGCGGGTCA in region of length 100 with 40.0 occupied sites\n",
            "Warning: made 10 attemps at trying to embed sci09.v2_Gmeb1_1745-AGACGAACGC in region of length 100 with 40.0 occupied sites\n",
            "Warning: made 10 attemps at trying to embed sci09.v2_Gmeb1_1745-TTTCGCACAT in region of length 100 with 40.0 occupied sites\n",
            "Warning: made 10 attemps at trying to embed sci09.v2_Gmeb1_1745-TTACGCACCC in region of length 100 with 40.0 occupied sites\n",
            "Warning: made 20 attemps at trying to embed sci09.v2_Gmeb1_1745-TTACGCACCC in region of length 100 with 40.0 occupied sites\n",
            "Warning: made 10 attemps at trying to embed sci09.v2_Gmeb1_1745-TTGCGTTATC in region of length 100 with 30.0 occupied sites\n",
            "Warning: made 10 attemps at trying to embed sci09.v2_Gmeb1_1745-TCACGCCTTG in region of length 100 with 40.0 occupied sites\n",
            "Warning: made 10 attemps at trying to embed sci09.v2_Gmeb1_1745-AAGCGTAGAG in region of length 100 with 20.0 occupied sites\n",
            "Warning: made 10 attemps at trying to embed sci09.v2_Gmeb1_1745-AGACGCGGTT in region of length 100 with 40.0 occupied sites\n",
            "Warning: made 10 attemps at trying to embed sci09.v2_Gmeb1_1745-CTGCGTAACC in region of length 100 with 30.0 occupied sites\n",
            "Warning: made 10 attemps at trying to embed sci09.v2_Gmeb1_1745-TGACGTACTG in region of length 100 with 40.0 occupied sites\n",
            "Warning: made 20 attemps at trying to embed sci09.v2_Gmeb1_1745-TGACGTACTG in region of length 100 with 40.0 occupied sites\n",
            "Warning: made 10 attemps at trying to embed sci09.v2_Gmeb1_1745-GCACGTCAAG in region of length 100 with 20.0 occupied sites\n",
            "Warning: made 10 attemps at trying to embed sci09.v2_Gmeb1_1745-GAACGCCGGT in region of length 100 with 40.0 occupied sites\n",
            "Warning: made 10 attemps at trying to embed sci09.v2_Gmeb1_1745-CTACGCAGGA in region of length 100 with 40.0 occupied sites\n",
            "Warning: made 10 attemps at trying to embed sci09.v2_Gmeb1_1745-TGACGCGTAC in region of length 100 with 40.0 occupied sites\n",
            "Warning: made 10 attemps at trying to embed sci09.v2_Gmeb1_1745-GCACGCGCAC in region of length 100 with 40.0 occupied sites\n",
            "Warning: made 10 attemps at trying to embed sci09.v2_Gmeb1_1745-CAACGTAATT in region of length 100 with 40.0 occupied sites\n",
            "Warning: made 10 attemps at trying to embed sci09.v2_Gmeb1_1745-TTACGCCTAC in region of length 100 with 30.0 occupied sites\n",
            "Warning: made 10 attemps at trying to embed sci09.v2_Gmeb1_1745-TTGCGCAGCC in region of length 100 with 40.0 occupied sites\n",
            "Warning: made 10 attemps at trying to embed sci09.v2_Gmeb1_1745-AAGCGTTGCC in region of length 100 with 30.0 occupied sites\n",
            "Warning: made 10 attemps at trying to embed sci09.v2_Gmeb1_1745-GGACGCGCAC in region of length 100 with 40.0 occupied sites\n",
            "Warning: made 20 attemps at trying to embed sci09.v2_Gmeb1_1745-GGACGCGCAC in region of length 100 with 40.0 occupied sites\n",
            "Warning: made 10 attemps at trying to embed sci09.v2_Gmeb1_1745-TAACGTTTGT in region of length 100 with 40.0 occupied sites\n",
            "Warning: made 10 attemps at trying to embed sci09.v2_Gmeb1_1745-TGGCGCGAGT in region of length 100 with 30.0 occupied sites\n",
            "Warning: made 10 attemps at trying to embed sci09.v2_Gmeb1_1745-TCACGTAATC in region of length 100 with 40.0 occupied sites\n",
            "Warning: made 10 attemps at trying to embed sci09.v2_Gmeb1_1745-CTACGCAACT in region of length 100 with 40.0 occupied sites\n",
            "Warning: made 10 attemps at trying to embed sci09.v2_Gmeb1_1745-TCGCGAAGAT in region of length 100 with 40.0 occupied sites\n",
            "Warning: made 20 attemps at trying to embed sci09.v2_Gmeb1_1745-TCGCGAAGAT in region of length 100 with 40.0 occupied sites\n",
            "Warning: made 10 attemps at trying to embed sci09.v2_Gmeb1_1745-TGACGTTTTA in region of length 100 with 40.0 occupied sites\n",
            "Warning: made 10 attemps at trying to embed sci09.v2_Gmeb1_1745-AGCCGTACTG in region of length 100 with 40.0 occupied sites\n",
            "Warning: made 10 attemps at trying to embed sci09.v2_Gmeb1_1745-TTGCGCAATG in region of length 100 with 40.0 occupied sites\n",
            "Warning: made 10 attemps at trying to embed sci09.v2_Gmeb1_1745-GGACGTACCA in region of length 100 with 40.0 occupied sites\n",
            "Warning: made 10 attemps at trying to embed sci09.v2_Gmeb1_1745-AGGCGTGAAT in region of length 100 with 30.0 occupied sites\n",
            "Warning: made 10 attemps at trying to embed sci09.v2_Gmeb1_1745-CGACGCAGTT in region of length 100 with 40.0 occupied sites\n",
            "Warning: made 10 attemps at trying to embed sci09.v2_Gmeb1_1745-TCTCGTTCAT in region of length 100 with 40.0 occupied sites\n",
            "Warning: made 10 attemps at trying to embed sci09.v2_Gmeb1_1745-CGACGCGGCG in region of length 100 with 40.0 occupied sites\n",
            "Warning: made 10 attemps at trying to embed sci09.v2_Gmeb1_1745-ACACGCGAGG in region of length 100 with 40.0 occupied sites\n",
            "Warning: made 20 attemps at trying to embed sci09.v2_Gmeb1_1745-ACACGCGAGG in region of length 100 with 40.0 occupied sites\n",
            "Warning: made 10 attemps at trying to embed sci09.v2_Gmeb1_1745-CTGCGTAATA in region of length 100 with 40.0 occupied sites\n",
            "Warning: made 10 attemps at trying to embed sci09.v2_Gmeb1_1745-CCCCGTCCGC in region of length 100 with 40.0 occupied sites\n",
            "Warning: made 10 attemps at trying to embed sci09.v2_Gmeb1_1745-CCCCGCAACC in region of length 100 with 30.0 occupied sites\n",
            "Warning: made 10 attemps at trying to embed sci09.v2_Gmeb1_1745-GGGCGTTCTG in region of length 100 with 40.0 occupied sites\n",
            "Warning: made 10 attemps at trying to embed sci09.v2_Gmeb1_1745-AAACGTAAGA in region of length 100 with 40.0 occupied sites\n",
            "Warning: made 10 attemps at trying to embed sci09.v2_Gmeb1_1745-CGGCGCGTTA in region of length 100 with 40.0 occupied sites\n",
            "Warning: made 10 attemps at trying to embed sci09.v2_Gmeb1_1745-AAGCGCCTGG in region of length 100 with 40.0 occupied sites\n",
            "Warning: made 10 attemps at trying to embed sci09.v2_Gmeb1_1745-TTGCGCGAAT in region of length 100 with 40.0 occupied sites\n",
            "Warning: made 10 attemps at trying to embed sci09.v2_Gmeb1_1745-GCTCGCAAAA in region of length 100 with 40.0 occupied sites\n",
            "Warning: made 10 attemps at trying to embed sci09.v2_Gmeb1_1745-TGCCGCCCGC in region of length 100 with 40.0 occupied sites\n",
            "Warning: made 10 attemps at trying to embed sci09.v2_Gmeb1_1745-CGGCGTTATC in region of length 100 with 40.0 occupied sites\n",
            "Warning: made 10 attemps at trying to embed sci09.v2_Gmeb1_1745-TCACGTCCCG in region of length 100 with 40.0 occupied sites\n",
            "Warning: made 10 attemps at trying to embed sci09.v2_Gmeb1_1745-TGACGTGATC in region of length 100 with 40.0 occupied sites\n",
            "Warning: made 10 attemps at trying to embed sci09.v2_Gmeb1_1745-AGACGTTCAC in region of length 100 with 40.0 occupied sites\n",
            "Warning: made 10 attemps at trying to embed sci09.v2_Gmeb1_1745-GAACGTTATA in region of length 100 with 40.0 occupied sites\n",
            "Warning: made 10 attemps at trying to embed sci09.v2_Gmeb1_1745-GCACGTAGGA in region of length 100 with 40.0 occupied sites\n",
            "Warning: made 10 attemps at trying to embed sci09.v2_Gmeb1_1745-GCACGTATCG in region of length 100 with 40.0 occupied sites\n"
          ],
          "name": "stdout"
        }
      ]
    },
    {
      "metadata": {
        "id": "wSRXR183xglk",
        "colab_type": "code",
        "outputId": "a1cd0fdb-2c3d-4032-afd3-c3433e0a5138",
        "colab": {
          "base_uri": "https://localhost:8080/",
          "height": 1737
        }
      },
      "cell_type": "code",
      "source": [
        "!head -100 simulation.simdata"
      ],
      "execution_count": 12,
      "outputs": [
        {
          "output_type": "stream",
          "text": [
            "seqName\tsequence\tembeddings\n",
            "sim-synth0\tAGCTTCCTTTCGGGCGGATTCGACTGCTCGTCTAGGATCTAAAGGGAGCGAGGAGTTTTTCGCACACTAATGCAATCGACCGTGGATTGCAGGTCGGTAG\t\n",
            "sim-synth1\tGTGTAAGATCACTTACATGGTTGCACGAACGTCAATACGATTGACGAGCTGAATTTTGGAGTTTTGCTTGCCTATCTTGGCTGCACTCCGAATACGATTT\t\n",
            "sim-synth2\tGTCTACTCTGTTGCCCCTCATTCGCAACAGTTCCCTTCAAAGACAGGTCCGTAAAAGGGGATTGGCTGCGCAGTTGATCACGCCTTGCAGTTGCGTGACT\tpos-77_sci09.v2_Gmeb1_1745-TCACGCCTTG,pos-46_sci09.v2_Gmeb1_1745-GTCCGTAAAA,pos-2_sci09.v2_Gmeb1_1745-CTACTCTGTT\n",
            "sim-synth3\tTGATAAGTGCAGTTTAGCCATGATTCTGACCATTGCCAGTCGAGTGTAACTTCTACGGACGTCAGGCTTTATTTTACTTGTGATCTCATAGAAGTGTCAA\t\n",
            "sim-synth4\tACAGGGTTAGGATAACGTATTCAGAATATCCAACGATATCTCACGAGCGAATTAGTTGAATAGTAGCAAAAACATTTAGTTACGGGTGCATCAGTAACCA\tpos-12_sci09.v2_Gmeb1_1745-TAACGTATTC\n",
            "sim-synth5\tAATACGGCCACGTATATAACTTCAGCAGGATTTCCCCGGATGATAGAACACTGGGAGTAGTTCCTAAACAGACCTGAAACACTTATACTACCTGCAGCTG\t\n",
            "sim-synth6\tTCAACGGGATTCTAAGATACGTGCGAGCGAGACGCACAAGCCGACGTCTGGTTACTACGTGCATTATTCTCAGCTTACGTTGATTTTGTACGCTACTGAG\tpos-74_sci09.v2_Gmeb1_1745-TTACGTTGAT,pos-16_sci09.v2_Gmeb1_1745-ATACGTGCGA,pos-54_sci09.v2_Gmeb1_1745-CTACGTGCAT,pos-87_sci09.v2_Gmeb1_1745-GTACGCTACT,pos-29_sci09.v2_Gmeb1_1745-AGACGCACAA\n",
            "sim-synth7\tTACGGCCCCCCGTGCATAGTGACGCTATGTGTATTCTTTTCGCTAACCTGCGATGTTCTTGGTCATGCATGACGCCCGTTTGGTGTTTGACCATAAGGCC\tpos-37_sci09.v2_Gmeb1_1745-TTTCGCTAAC,pos-19_sci09.v2_Gmeb1_1745-TGACGCTATG\n",
            "sim-synth8\tTTGCAATCCCGTGTATGCTAGACCAACCTTAGCCTGTTTCACAAATGACGCAATTAGGTGTGACGAGACTAAAATGTATTGTCCGCGCAGACGTTGGCTC\tpos-88_sci09.v2_Gmeb1_1745-AGACGTTGGC,pos-45_sci09.v2_Gmeb1_1745-TGACGCAATT\n",
            "sim-synth9\tGCAGCAGGAACGATAAAATGAACGGATTGCAGGAGACTCAAACGATTCACGTTCCGCTTATCTTACGTATACCCCTCCCGTAATGAGTCGTTTCGTGGCA\tpos-46_sci09.v2_Gmeb1_1745-TCACGTTCCG,pos-75_sci09.v2_Gmeb1_1745-TCCCGTAATG,pos-90_sci09.v2_Gmeb1_1745-TTTCGTGGCA,pos-62_sci09.v2_Gmeb1_1745-TTACGTATAC\n",
            "sim-synth10\tCGCATGGAACGAATTTCTACTTCGGAATGTATATATCCAGAACGCTAGTATTTACTCAAATCTAATCACGCACTAGATACGCTTTTAAGACTTCGATATA\tpos-76_sci09.v2_Gmeb1_1745-ATACGCTTTT\n",
            "sim-synth11\tATGTTCGCAGACGCAGTGTCCGTAGAGAAGATCGCGTAACATACCGCAAGCCGTTTAAAATCGGAGCGCCGTGTTACGTGACGAGACCATCCTTGTTCGA\tpos-2_sci09.v2_Gmeb1_1745-GTTCGCAGAC,pos-31_sci09.v2_Gmeb1_1745-TCGCGTAACA,pos-63_sci09.v2_Gmeb1_1745-GAGCGCCGTG,pos-73_sci09.v2_Gmeb1_1745-TTACGTGACG,pos-48_sci09.v2_Gmeb1_1745-AGCCGTTTAA\n",
            "sim-synth12\tGGCCGTCCTTAAGACCGCCAAGCTTTTAGGGCGAACTAACGCAGTTTATGGACGTCGAGGTCTCGAAATTCTGTACGTATCTCCGCAAGGTAACGCCAAT\tpos-80_sci09.v2_Gmeb1_1745-CTCCGCAAGG,pos-90_sci09.v2_Gmeb1_1745-TAACGCCAAT,pos-36_sci09.v2_Gmeb1_1745-TAACGCAGTT,pos-49_sci09.v2_Gmeb1_1745-GGACGTCGAG,pos-0_sci09.v2_Gmeb1_1745-GGCCGTCCTT\n",
            "sim-synth13\tAAGAGGAGTCACACGAACGCTCAGTCAGTATAAATGGGTAGAAAGATCGCTTTAGACAACAGGTGACAAAAACGAAGACCGTTTCCGGAAACAGTCCATC\t\n",
            "sim-synth14\tAATATTAACAACATTTTGATTTTTATTTAAAAAAATTAATGTTAGTAGTACCGGGCCCCATAATTTTAGAGACTCCTGATAGGCAGCTAGGAATAAACGT\t\n",
            "sim-synth15\tCACTACTTTGGAAATCCATCTTTCGCTGCCGGAGCCCGATTCGTGGACGTCAAGTAATGGCGAGACAATTGTGGCGCGGAGAACTGAAGGTTCCGCATAC\tpos-71_sci09.v2_Gmeb1_1745-TGGCGCGGAG,pos-90_sci09.v2_Gmeb1_1745-TTCCGCATAC,pos-44_sci09.v2_Gmeb1_1745-GGACGTCAAG\n",
            "sim-synth16\tGCGGAGCGGGCATTACCGGTAGATAACACCAATTTGGGCTAGCTGTAGTGCGACGCCCTATTTGGAGTACATTTTACGCTCTCATTGCGTCCCACGTATT\tpos-73_sci09.v2_Gmeb1_1745-TTACGCTCTC,pos-84_sci09.v2_Gmeb1_1745-TTGCGTCCCA,pos-50_sci09.v2_Gmeb1_1745-CGACGCCCTA\n",
            "sim-synth17\tCTTTGGGGGAGTGGCAGATCATCCGTCGCAAACTATGTATGAACCTGATGAGCCCTGACCACCGATAATTTTTCGATCATGCGTTTTCACTGTTCGAATG\t\n",
            "sim-synth18\tAGCCTTTCCCGACCCTTTAATATTCAGTTAATGAGTAGATGCAGGGGATCTCGAAAAACCGCTGTCGTGCGCTTGTTGTTTAACCAAAGATTTGCGGAAC\t\n",
            "sim-synth19\tGGTTACCGCAATAATTAAAGTTAGCACCATTCTAGAGCTACGCGACAATAGTCGCTAACGACCCTGTCGTCATGCACAGACACAATCGGAAGGCATTAGG\tpos-55_sci09.v2_Gmeb1_1745-TAACGACCCT\n",
            "sim-synth20\tTCGTGAATGTGTACTGGGTTTATGGCGTGCGATCTCATAAACAAACTAGATACATTCATGAGTTAAGACATTGTCCATTGTTCAATAGGCAAGTGCTAGG\t\n",
            "sim-synth21\tTTCAGTGGGAATAAGAACGTTCATTGGGGTACATCTACGTCTGCATGCCCAGAATTTCCGCTTTAAGCTTCTGAGGTACCGGCATGACCCGTCGCACCCT\tpos-14_sci09.v2_Gmeb1_1745-GAACGTTCAT,pos-34_sci09.v2_Gmeb1_1745-CTACGTCTGC,pos-86_sci09.v2_Gmeb1_1745-ACCCGTCGCA\n",
            "sim-synth22\tCGAATGGATGGGCAAGACTTCACACGTGAGCCTTGGGTGTCTGAATAACAACGTTCATGGGTGCACATCCGAACTCCGATTTCGGTAGATGCAGAAATAA\t\n",
            "sim-synth23\tTCATCAGCTTTGTGTGACGGCCATGGAGGCCGATGAGTATCGGTACTTTACAAGTAAGACCTCACTATTAATCATATAATCCACTGGAGCTTTCGTCCTT\t\n",
            "sim-synth24\tATTCATCGTTAAGATACGCGCACTCCCCGGCAGCTAAATGCCGGCGGGCGACAAAACCATGGTTGCGTTATGGTGTGGGGACTTATAGATGATGCAACCT\tpos-13_sci09.v2_Gmeb1_1745-ATACGCGCAC,pos-41_sci09.v2_Gmeb1_1745-CGGCGGGCGA\n",
            "sim-synth25\tCTACTTCACCATATGCCACGCACCTCAAGTTAGGGGCTCATGTTACTCCTGGGGCGACCCAATTGTTCCTCGAGGAGTGTCCACTACCGAGAGGGTAATG\t\n",
            "sim-synth26\tTGATATGGGAGTATATCGCCTGTGCGGTTAAGCGGTGCCCAAGAATTGGGTGGAAAGGCTGGATTCGGGTCGTATGGATTCTGACAAGTGGGGCCCCGCC\t\n",
            "sim-synth27\tAGGAGTGAACCATACTTCCAACGAACTGAGGCATGGGGGACGCAACGAATATAGGCGTTTCACTAGTGTTCTGTCAGATTGCATTCCGTGCGTGGCACAG\tpos-83_sci09.v2_Gmeb1_1745-TTCCGTGCGT,pos-52_sci09.v2_Gmeb1_1745-AGGCGTTTCA,pos-37_sci09.v2_Gmeb1_1745-GGACGCAACG\n",
            "sim-synth28\tGGTGTGTAATACTTGCGTTTTTCGTACCGACGTGAATATAACTACCCACGTTTGATGAGGCGAAAGCTACGGGCGGTCATGAATGTGTTGGTACTCAGCG\tpos-45_sci09.v2_Gmeb1_1745-CCACGTTTGA,pos-24_sci09.v2_Gmeb1_1745-TACCGACGTG\n",
            "sim-synth29\tATTGCAGGTTATATCTCAATGTCGGATATCAAGCGCCTAAATACTGCGGCTTGCATGAGTTGAATAACCTGCAACCCTACCGGTATAAGAATACGGACTA\t\n",
            "sim-synth30\tAGCAATAGTCAGATGGCAAAAGATTGAATGACGAGGCGCGGTCACAACTGACGCTCCCTAACTACGTATGATATCACGGCGGAAGGATGTTAACAGGCTA\tpos-48_sci09.v2_Gmeb1_1745-TGACGCTCCC,pos-28_sci09.v2_Gmeb1_1745-TGACGAGGCG,pos-61_sci09.v2_Gmeb1_1745-CTACGTATGA\n",
            "sim-synth31\tGAACGGGGGACGTCTAGTCGGAACGTATCTTGCGGATATACTGAAGCTTTCACATTGAGGCGCCCGCATCTCAGCCGTATGGTCAGATAGGTACGATATT\tpos-61_sci09.v2_Gmeb1_1745-GCCCGCATCT,pos-20_sci09.v2_Gmeb1_1745-GAACGTATCT,pos-90_sci09.v2_Gmeb1_1745-GTACGATATT,pos-72_sci09.v2_Gmeb1_1745-AGCCGTATGG,pos-7_sci09.v2_Gmeb1_1745-GGACGTCTAG\n",
            "sim-synth32\tCCCACTTTTACATAACTTAACTCTAATAGTTCTGGCCAATAAAGCTCAACCCGTCTTTGGAAATGAGGACGGCTTAACATGGCCGGATCCACGTCTACCC\t\n",
            "sim-synth33\tTCGTTTGTTGGGGCACGACGAAGTTTGTTTTTTTCGCCTCACGCCTTTGAATCTTCAATTGGGAAAGATGAGCGCCGACCGCCACCATAACTTGGGTGGC\tpos-38_sci09.v2_Gmeb1_1745-TCACGCCTTT,pos-12_sci09.v2_Gmeb1_1745-GCACGACGAA\n",
            "sim-synth34\tCATAAAATCTTACGTCCCTCGTCCAATATAGGCCTGGCGTCTAAGGTGGCCGAAACCGATCCTTAGACGGTGCCACGTTACGTAGTCTCTAGGCGTGTAT\tpos-34_sci09.v2_Gmeb1_1745-TGGCGTCTAA,pos-47_sci09.v2_Gmeb1_1745-GGCCGAAACC,pos-77_sci09.v2_Gmeb1_1745-TTACGTAGTC,pos-9_sci09.v2_Gmeb1_1745-TTACGTCCCT,pos-64_sci09.v2_Gmeb1_1745-AGACGGTGCC\n",
            "sim-synth35\tGCAGCATCAGCCGCGCGAGCGTAATAACTGCCATCTGATAGTCGTCTTCTGTATAACAATTGTCAAGAAACTGAAGCCCACTGCAATCCATAAACGTGAG\tpos-16_sci09.v2_Gmeb1_1745-GAGCGTAATA\n",
            "sim-synth36\tAGAAAGACAAACGATAATGCGATATTTGAGTCAACGGTCCTGGTGTGGCAGCATATAGAGGCATTTATTATTTCGTCTGTGTGATCTGTTGCACTATCAA\tpos-70_sci09.v2_Gmeb1_1745-TTTCGTCTGT\n",
            "sim-synth37\tTAACAGAACGCAGGATTCGAAGGATGCGTCACGCTGATAGATGGGTTGTGTAACGTGGACAAAAGGTCGACTCCGTGAAACGTCTGATAAGAAGAGGCCC\tpos-77_sci09.v2_Gmeb1_1745-AAACGTCTGA\n",
            "sim-synth38\tGACTCGTACAACCCATCTATGTTAAAGTATAACTGACTTACCTAACGATGGTCACTGAAGGGGTGAACAAGGCCGGCATGTTTACAACAGTGAAATGCGC\t\n",
            "sim-synth39\tAAATGTCTATTATATACATTTCTTATGTACATATATCCGGATAGACAATATATCACCATAACCGACGACGGAGAGGAAAGGGTTAAGAACGAGCATACGC\t\n",
            "sim-synth40\tGAGGCAAGTCGCCATTTATGCCTAATATCGGAGATATCGACCCTAATGTTCTCTCACTCTGGCACGAACGTTGTATGTTCAGCACATTGAGTCAGGTCCT\tpos-65_sci09.v2_Gmeb1_1745-GAACGTTGTA\n",
            "sim-synth41\tCCAAAGATAGCGCAAACAGGTCGTACATATGCCAGACTAGTCTTAAACAGCGAACTTGCGGCCCCGTGTCCTTACTTCTAAAAAGATCTAAACCGCTCGC\t\n",
            "sim-synth42\tGGCGAAACGGACGTACAAATTTACGAACAAGAGCATGAATTACCCTGACACGGTGATTCAAATTCATTTCACTGTGCACTGACAAGGCACGAAGGACTTC\t\n",
            "sim-synth43\tGTCTAGACTAAGGTCCGCCCCGAAAACCTCTATTGTTCAAGGCAGTTGATCGCGCATTAAACTCAGAAAATAATGTACTTAAAACAGGCACTACCTCTAA\t\n",
            "sim-synth44\tCGCTGGCTGCTAATACGAAACAGACCATGTTGCGACGCGAAGGCAACGTCCGTAATCTTGGGTCTGCTGTTAGGTTTTCCTAGTACAGAATCCTCCAACT\tpos-43_sci09.v2_Gmeb1_1745-CAACGTCCGT\n",
            "sim-synth45\tTGACAGTGGAAGGGGGCTGTTATCCAATCTTCCGAACTATATGGACTACTCACGGAGGTTGGTCGAAACTATGACTATCTACGCTGTGTAATGATCATTA\tpos-78_sci09.v2_Gmeb1_1745-CTACGCTGTG,pos-49_sci09.v2_Gmeb1_1745-TCACGGAGGT\n",
            "sim-synth46\tATTACTGACTAATTCTCTTATGCTACACCGGGCCTGCATCATTTTATCGATATTGACTTTTAGTAATGGGAGACACATATTTATTTACAACGGACAGCCT\t\n",
            "sim-synth47\tGAATCTGTGGTCTGGATCCGGAAGATGCTCGGAGTTGACTGTGATGATCGTCCGAAAATAATCTCCTGGGTCCGATTAGATACCCTACGACAGTTGTTTT\t\n",
            "sim-synth48\tCGAGTCCCTGTGTCGGCCAGATACGGGGAGTGCTACGCGCGCCCAGGGCAGGTCCGGTCATGACGGGGTGTTTCCTTGGGGTAGGACCGCCGCGTATCTA\tpos-10_sci09.v2_Gmeb1_1745-TGTCGGCCAG,pos-32_sci09.v2_Gmeb1_1745-CTACGCGCGC,pos-20_sci09.v2_Gmeb1_1745-ATACGGGGAG,pos-60_sci09.v2_Gmeb1_1745-TGACGGGGTG,pos-84_sci09.v2_Gmeb1_1745-GACCGCCGCG\n",
            "sim-synth49\tGATTTCAGAGAGAACGAAACGCACGAATCGCGTTGAATAAATAACCATGATTCGTAACACATCGTCAGTTCCATTACGTACGCTAGAGCTTGGGTCGTGC\tpos-16_sci09.v2_Gmeb1_1745-AAACGCACGA,pos-49_sci09.v2_Gmeb1_1745-ATTCGTAACA,pos-27_sci09.v2_Gmeb1_1745-TCGCGTTGAA,pos-73_sci09.v2_Gmeb1_1745-TTACGTACGC\n",
            "sim-synth50\tGTACCAATTTAATGGCGCCTTAACAAAGATTGTCACGTATATCGAATAGTTTAGGGTTGAGGGTTTGCTCAGTTATTCTGCCATCTGCTTGCTTCCCAAA\t\n",
            "sim-synth51\tTATTCCTTGATCATGTACAAAACTCACCTGTCGCCGCTAACTACTACGTGAAGTAAAAACGCGCAATTATAGGATGAGCGGAAGATGGTGCGCTCCAGAT\t\n",
            "sim-synth52\tTGCCACTCCACACCGGTTAACGCCTGCGCTCTATCTCGTGTAAGTGGTGGCGTCTGCAAGTACCATGCTAACTGTCGTCCTGTGCCGTATGTGGTCATCC\tpos-17_sci09.v2_Gmeb1_1745-TAACGCCTGC,pos-47_sci09.v2_Gmeb1_1745-TGGCGTCTGC,pos-72_sci09.v2_Gmeb1_1745-TGTCGTCCTG\n",
            "sim-synth53\tTCACGGTGGTGCACGTTTGTTCAAAATTCTTCTCTGACGCTTCGGTCAACGCCGTTCGGTAAATGTCGGAGGCAGCCGTCTATCCGCGATCGAACTGCTG\tpos-73_sci09.v2_Gmeb1_1745-AGCCGTCTAT,pos-10_sci09.v2_Gmeb1_1745-GCACGTTTGT,pos-34_sci09.v2_Gmeb1_1745-TGACGCTTCG,pos-46_sci09.v2_Gmeb1_1745-CAACGCCGTT\n",
            "sim-synth54\tACAGATGAACGCTGAAGCGGATTTAGGCGCCGTGCTAGGCTGTCCTACAACCTTAAGTAGATAGACGTTCTGGCTGCGTGTTTTGCCACCCACAATTGCC\tpos-62_sci09.v2_Gmeb1_1745-AGACGTTCTG,pos-6_sci09.v2_Gmeb1_1745-GAACGCTGAA,pos-24_sci09.v2_Gmeb1_1745-AGGCGCCGTG\n",
            "sim-synth55\tTACTTTGAATAGCCCACTGCGCGCTATATCCACTAACATCATACTCCTCTGCAAAAGTTTACCCACGAATCTCGCGATCTAAACAGCGCCGTAGTTTCGT\t\n",
            "sim-synth56\tCGTTCTTCTCGTAAACCAAGAGTCGCAACACAAGTCAGTGTAGTTCAAACCTGCGCGTGTCGGTCAATTACCAGCTCACCATGCTTACTGACATACTCTT\t\n",
            "sim-synth57\tTAATGCAATCAAAAGTAGCTCAAACGTTAGTTAGTATGACGTCGACGGTGCTTACGCACTTTAAAACAGACAGTTATGGATAATTCTGGGTGTGTACTTC\tpos-21_sci09.v2_Gmeb1_1745-AAACGTTAGT,pos-51_sci09.v2_Gmeb1_1745-TTACGCACTT,pos-36_sci09.v2_Gmeb1_1745-TGACGTCGAC\n",
            "sim-synth58\tCGCTTCGGTCTTCTGGCGGATAGAGTAACGTTCGACCCGGTTGTACACTGGGACCCCCGACCCGCATCAACGCTAATCAACCACCCTTGTTTTAGTTTTT\t\n",
            "sim-synth59\tAGCTAACAAAGCCAGTGGTCGTAGCTAGCGGCCGTTTGTACCGTATGCGATCTACATAAACGTTCAGTCTGACGTAACCTCGTTACGCGCTAATGGTAGA\tpos-57_sci09.v2_Gmeb1_1745-AAACGTTCAG,pos-29_sci09.v2_Gmeb1_1745-GGCCGTTTGT,pos-16_sci09.v2_Gmeb1_1745-GGTCGTAGCT,pos-82_sci09.v2_Gmeb1_1745-TTACGCGCTA,pos-69_sci09.v2_Gmeb1_1745-TGACGTAACC\n",
            "sim-synth60\tGGGGCTCCTTCAGAGGAAGTTTTTATGCCTGCTAGCCGTTGAGAACAAAAGCCATTAAGCCTTAATGACCCAGCATGACCCACAATGATCACCGCGACCC\t\n",
            "sim-synth61\tATCTCGCTCGATCAGCGAAGCACGCGCTCAGGGATGTCTCGACGTGATCAATCGCCCTATTTGGCTTTCTCGGCAAGAGCTGTCCGCTATGATCGCTCTC\tpos-49_sci09.v2_Gmeb1_1745-AATCGCCCTA,pos-81_sci09.v2_Gmeb1_1745-GTCCGCTATG,pos-21_sci09.v2_Gmeb1_1745-ACGCGCTCAG,pos-39_sci09.v2_Gmeb1_1745-CGACGTGATC\n",
            "sim-synth62\tTCCAAGAATACGCCGGAATATCCAATAGCTGCAGACGGTTTAGCCTTATAATATCGATAATGCTAACGCGACGTGATTTTGCATCCGCACTACCGTTTTG\t\n",
            "sim-synth63\tCTATCATACGCGCAGATAACTGACGTCGACGTGGTGAAGTGAAAAATTGCTTGCTGCGCCTAGAACCTGTTACGTTCGTGCAGTCAATTTACGTATGATG\tpos-5_sci09.v2_Gmeb1_1745-ATACGCGCAG,pos-53_sci09.v2_Gmeb1_1745-CTGCGCCTAG,pos-88_sci09.v2_Gmeb1_1745-TTACGTATGA,pos-26_sci09.v2_Gmeb1_1745-CGACGTGGTG,pos-69_sci09.v2_Gmeb1_1745-TTACGTTCGT\n",
            "sim-synth64\tTCCTAATGCCCGTAATTGAATTATAGGGTTGCGTCACGGATAGCCGTTACGCGCACCACCAACTAGCACAAACCAACTACGACTCAAAATGAACTCGCAG\tpos-28_sci09.v2_Gmeb1_1745-TTGCGTCACG,pos-41_sci09.v2_Gmeb1_1745-AGCCGTTACG,pos-7_sci09.v2_Gmeb1_1745-GCCCGTAATT\n",
            "sim-synth65\tACGCCTGACTTCATTTCGCTAAAGTCAAATATGCATGGCGCCTTACGTCAACAACGAAAGCAGATCGTCGCTCGGGAGCTTGCTCACACGTAGGACCTAC\tpos-13_sci09.v2_Gmeb1_1745-TTTCGCTAAA,pos-85_sci09.v2_Gmeb1_1745-ACACGTAGGA,pos-69_sci09.v2_Gmeb1_1745-GCTCGGGAGC,pos-42_sci09.v2_Gmeb1_1745-TTACGTCAAC,pos-28_sci09.v2_Gmeb1_1745-ATATGCATGG\n",
            "sim-synth66\tCTTCACCATATCTGAGGCTGTAACCATGGAGCCTTGATGACTATAAAAGACAATCAAGCCAAAACTACACCCAAAGTTTGGTCAAATTATACTAGATGAA\t\n",
            "sim-synth67\tCACAGCCGCCTTTTACAATGCCTATCATGCAAGTACAGGTTGTATCTATTGATTTTTCAGTTAAACGGGTTCTCTGAAACAAACACTGCGGAATGACAGA\tpos-62_sci09.v2_Gmeb1_1745-AAACGGGTTC\n",
            "sim-synth68\tCTCGAGATTTCGATCTGACTGGTAATCGGTCTCCGGCGAGCGAAAACCAAAGCTGTTATGCCAACTAAACATTTGCATAGTAGCTGGGCAATGGCATCGG\t\n",
            "sim-synth69\tACAACTTATGCTGTTTGACTGAGTTGTTTAAATTTACTCGACGGTAATCCACTCATAGGAATTAGTTCTTGTGCGTCTTATCCGTTGTCGCATTTGCCTA\t\n",
            "sim-synth70\tAAAAGGATATACTCTTATACAGAGAACGTACATTGAGACAGATAGATGCGTCCACCAGGGTTATATTTTCAAAAAACCCGGAACGGAGTTCTTTGTGTGA\tpos-23_sci09.v2_Gmeb1_1745-GAACGTACAT,pos-45_sci09.v2_Gmeb1_1745-ATGCGTCCAC\n",
            "sim-synth71\tGATGGACTAATAAGTACGTAGATGGAGCAACGTGTAGGTTATCTCAATCATGAGGGTGATACTTTACATGACGCACTTGGGCGCATGGCCCGCTATGACG\tpos-68_sci09.v2_Gmeb1_1745-TGACGCACTT,pos-78_sci09.v2_Gmeb1_1745-GGGCGCATGG\n",
            "sim-synth72\tGACCCGTGGTTAATGTTGCAGGACGCGTTACTGATAAGGAGACAGAAGTCCAATTCCCGTGCAGACAACGGTACCCGGATGAGCAAATTTTAGTCACGTT\tpos-20_sci09.v2_Gmeb1_1745-GGACGCGTTA,pos-72_sci09.v2_Gmeb1_1745-ACCCGGATGA\n",
            "sim-synth73\tGTTATGCCGTCCTGAGGTTACGGACCTCCTTACATACGAAGGAACACCCTTGGTACATATCCCTTGAGAGACAGACGGGCTGGGTTGATGAGTCTGGATC\t\n",
            "sim-synth74\tCCTTGGAGTGGAAGTTGCAAGGATGCGCCGGTAAGTACAAATTTTATCATACCCCGCCACTCTATAATTCACTGAGTCGAAGTTGCTTAAAAGAGCCCCG\t\n",
            "sim-synth75\tATAGGTTGTCAGTGTCTCGTGGACCTACGAATCTTTCTCGCAACTACTAAGAGGGACACTGTAGGGTTATAGGACAAGGTTCAGCATGAATAATGACCTC\t\n",
            "sim-synth76\tCCTTCTCATTTGTACCCCCTCTCCGGTCCACTCCCTATTGCCAAACTGATACCGGTATGCGGATTATATTAGGAACTACCCTTAGAGATAAACTCCTCTT\t\n",
            "sim-synth77\tAGTCGGTCGTGAAGTGGTACGTAGGACAATATAATGGACTTATCTTAACGTAGACTGGTGAGCAATTTAGACGTTCCCTGTGACGTCGACGAAGATCTAC\tpos-80_sci09.v2_Gmeb1_1745-TGACGTCGAC,pos-16_sci09.v2_Gmeb1_1745-GTACGTAGGA,pos-68_sci09.v2_Gmeb1_1745-AGACGTTCCC,pos-4_sci09.v2_Gmeb1_1745-GGTCGTGAAG,pos-45_sci09.v2_Gmeb1_1745-TAACGTAGAC\n",
            "sim-synth78\tTTTTAACGCGCGAGAGGTGGAGCCAATAGTAATAACCGCGTTGAAGTTCAATTCGCATCACATTGTCCCTAGCGCTTATGTACACGCGGACGCAAAGCTT\tpos-3_sci09.v2_Gmeb1_1745-TAACGCGCGA,pos-81_sci09.v2_Gmeb1_1745-ACACGCGGAC\n",
            "sim-synth79\tTCCCCACGGATACGTCCATGGTCGGTCCCCATCAATCAAGCAGCTGTTTATAACGCGGTCTAAACGCACGGACTGTGAAAACCGCCCCTTTCTGGATTGT\tpos-61_sci09.v2_Gmeb1_1745-AAACGCACGG\n",
            "sim-synth80\tGCTTCTAACCCCTTGTTACGCCCTCTTGATAATTCCCTAATGGTCACCGTATACGGTTTCACGCCATACCGCGAAGCGACCCGAGTACACACGTATACAT\tpos-15_sci09.v2_Gmeb1_1745-TTACGCCCTC,pos-44_sci09.v2_Gmeb1_1745-CACCGTATAC,pos-88_sci09.v2_Gmeb1_1745-ACACGTATAC\n",
            "sim-synth81\tCATGAAGTTAGTTACGCATACTGGGTCGATGAGAGCTCCGTAACGTCTGTTAAGACGCTCCTGGAACGTCCAGTCTTCCCATACGCCAATGGGGCCCGAG\tpos-80_sci09.v2_Gmeb1_1745-ATACGCCAAT,pos-35_sci09.v2_Gmeb1_1745-CTCCGTAACG,pos-11_sci09.v2_Gmeb1_1745-TTACGCATAC,pos-52_sci09.v2_Gmeb1_1745-AGACGCTCCT,pos-63_sci09.v2_Gmeb1_1745-GAACGTCCAG\n",
            "sim-synth82\tTCGGATAGTGAATGAATCGAAAAGATAATAACTTTAGTCGCCAATATCATCTCAATTCGGATGTGTTCAGTTGTGTAGCCTTGCCCTACAATCCGTTGAA\t\n",
            "sim-synth83\tTCTAGTCCGCCAAAATACACGACACTTAAAGTTCGTGCACGCTGTTCGTAGGGGCATCCGAATCTTTCGGTAAGTCATGGAGTGATTGCACTATAGCCTT\tpos-55_sci09.v2_Gmeb1_1745-ATCCGAATCT\n",
            "sim-synth84\tTTGCGTCGGATGTAGAAGAACCGCGGTGCAACCTTAACGGATCGGCGCTCCCAAATAACAAAAAACATTGTGTCGGAGCAACTCATTGCTGGTTGCGTTC\t\n",
            "sim-synth85\tAGGCATTTTTTAAGGCGCGGTCGGGCTGCTAAAAAGGTATATAAGCGAGTTAAGCAGAACTAGGTGATTCCCTTCGGTATACGCGGTCACTTCGTAATGT\tpos-89_sci09.v2_Gmeb1_1745-CTTCGTAATG,pos-12_sci09.v2_Gmeb1_1745-AGGCGCGGTC\n",
            "sim-synth86\tAAATACTGAGTCGCTTTATCTTACATGCCAGGCAACAGGCATAAACCTGTAATCCAACGTACAGAATAGTCGTTTATATCAAGAAATTAAACCTTAGATT\tpos-54_sci09.v2_Gmeb1_1745-CAACGTACAG\n",
            "sim-synth87\tCCCTACAAAGCATCTGTCCCCAAAAAGTAGAGAAGAAAGTAAAGTTAGCCCCAAGGAGTCTCCTATTTTATCTGCCCAGATTACTTTTCGAGATTTCAGT\t\n",
            "sim-synth88\tAGATTATATTGCCGTTTCTCCTGCATAACATCAGTCGCTTACGAGTGGGCGGTATAATGACTGCGAGTTGTAACTAATTGCAGTTCCTAGAACCAGGAAT\t\n",
            "sim-synth89\tGGACTCCACCTACTAGCTTCCAATGGCCTTCTCTGTAAGGTAAAAGACGGTGGGGAAACCTATGGTCCGGGCAGTATAGGAGTACGTACAACGTATGGGA\t\n",
            "sim-synth90\tAATCTAGCTTCGTATAGCACATGTCGGACCTTGATTAAGCCTGGGCCTCCAATAGCCCGGAGGGTACCCCTTAAAGTAGTAGGGGTACAGAACCCGCGCA\t\n",
            "sim-synth91\tTATGCCAGCCGTTGGAGAGGCCTATCCATTGGGGGCCGCCGCGGGACATTTGCAATCTGTGCCGTGAACCTGATCCAATAGCCGCGACGGACCTGTAGGG\tpos-6_sci09.v2_Gmeb1_1745-AGCCGTTGGA,pos-33_sci09.v2_Gmeb1_1745-GGCCGCCGCG,pos-59_sci09.v2_Gmeb1_1745-TGCCGTGAAC,pos-84_sci09.v2_Gmeb1_1745-CGACGGACCT\n",
            "sim-synth92\tGAGGTTCTGATATCGCGAAGATCTTAATAGATTGTCTTGGAGCATCAATAGACTTATGTCGAATACTTGCCACACATACTTGTCTGACCTCATACTTTAC\t\n",
            "sim-synth93\tTTGCAGCCTGCGAGAGTAACGTAACGGGCCGTAACACTTGTCGGAATAACAAGCGCGTGCGAGCTCCCATTGAGCTGGGTATAAGCCTAAAGGCGTCGTG\t\n",
            "sim-synth94\tGTTTTAACTGGACGGTATTGGCTTACAAGGGCCACCAGCATTAAATCTCAGTCTGTATTTGGTGGAGACTTTGTAGACCTTACACGAATAACAGAAGGTG\t\n",
            "sim-synth95\tGATAATGGAATTACACAAGACCGTGTTGTTCCTGTCATACACTGGGGCGCAATAGAAATTATAGGAAAAGCTAAGGTAAAATGAATCCCCCATATCTGCA\t\n",
            "sim-synth96\tTACGACGTACATTTTAAGGTGCGCGAGATTGCGCACGTGGTTTTCTCGGCCTCCGCAAATATGACGTACCAACACGTGCACGTACGTAGACAATAATTCG\tpos-28_sci09.v2_Gmeb1_1745-TTGCGCACGT,pos-61_sci09.v2_Gmeb1_1745-TGACGTACCA,pos-50_sci09.v2_Gmeb1_1745-CTCCGCAAAT,pos-81_sci09.v2_Gmeb1_1745-GTACGTAGAC,pos-71_sci09.v2_Gmeb1_1745-ACACGTGCAC\n",
            "sim-synth97\tCTATTTAGTAAAGGCGTCCTCGGACTAGGAGTCACTGAGATGAAGCGCCATATGCCCTATAATATTGTAAATGATATATTCGGAGAGTTTAGTAGAGCTG\t\n",
            "sim-synth98\tGCGGATGCTGGCTGTGTTACGATTACGAGTTGATGTGGCCGCATCATGTATGCACGCAGAAACCACGGCAGTATATCTTTGTGTAGTTAATGACGTAATC\tpos-51_sci09.v2_Gmeb1_1745-GCACGCAGAA,pos-90_sci09.v2_Gmeb1_1745-TGACGTAATC\n"
          ],
          "name": "stdout"
        }
      ]
    },
    {
      "metadata": {
        "id": "YRJiR8-40P6w",
        "colab_type": "text"
      },
      "cell_type": "markdown",
      "source": [
        ""
      ]
    },
    {
      "metadata": {
        "id": "Bv2ji9Gm0QPt",
        "colab_type": "text"
      },
      "cell_type": "markdown",
      "source": [
        ""
      ]
    },
    {
      "metadata": {
        "id": "lf6zUk88t-dN",
        "colab_type": "code",
        "outputId": "730e72ca-57bd-4937-ac2e-888b7b1a35f7",
        "colab": {
          "base_uri": "https://localhost:8080/",
          "height": 34
        }
      },
      "cell_type": "code",
      "source": [
        "data = synthetic.read_simdata_file(\"simulation.simdata\")\n",
        "count = 0\n",
        "for embeddings in data.embeddings:\n",
        "  if len(embeddings) > 0:\n",
        "    count += 1\n",
        "print(count)"
      ],
      "execution_count": 13,
      "outputs": [
        {
          "output_type": "stream",
          "text": [
            "47695\n"
          ],
          "name": "stdout"
        }
      ]
    },
    {
      "metadata": {
        "id": "ZJhDhsFduSTh",
        "colab_type": "code",
        "colab": {}
      },
      "cell_type": "code",
      "source": [
        "import numpy as np\n",
        "\n",
        "#this is set up for 1d convolutions where examples\n",
        "#have dimensions (len, num_channels) \n",
        "#the channel axis is the axis for one-hot encoding.\n",
        "def one_hot_encode_along_channel_axis(sequence):\n",
        "    to_return = np.zeros((len(sequence),4), dtype=np.int8)\n",
        "    seq_to_one_hot_fill_in_array(zeros_array=to_return,\n",
        "                                 sequence=sequence, one_hot_axis=1)\n",
        "    return to_return\n",
        "\n",
        "def seq_to_one_hot_fill_in_array(zeros_array, sequence, one_hot_axis):\n",
        "    assert one_hot_axis==0 or one_hot_axis==1\n",
        "    if (one_hot_axis==0):\n",
        "        assert zeros_array.shape[1] == len(sequence)\n",
        "    elif (one_hot_axis==1): \n",
        "        assert zeros_array.shape[0] == len(sequence)\n",
        "    #will mutate zeros_array\n",
        "    for (i,char) in enumerate(sequence):\n",
        "        if (char==\"A\" or char==\"a\"):\n",
        "            char_idx = 0\n",
        "        elif (char==\"C\" or char==\"c\"):\n",
        "            char_idx = 1\n",
        "        elif (char==\"G\" or char==\"g\"):\n",
        "            char_idx = 2\n",
        "        elif (char==\"T\" or char==\"t\"):\n",
        "            char_idx = 3\n",
        "        elif (char==\"N\" or char==\"n\"):\n",
        "            continue #leave that pos as all 0's\n",
        "        else:\n",
        "            raise RuntimeError(\"Unsupported character: \"+str(char))\n",
        "        if (one_hot_axis==0):\n",
        "            zeros_array[char_idx,i] = 1\n",
        "        elif (one_hot_axis==1):\n",
        "            zeros_array[i,char_idx] = 1\n",
        "            \n",
        "onehot_data = np.array([one_hot_encode_along_channel_axis(seq) for seq in data.sequences])\n"
      ],
      "execution_count": 0,
      "outputs": []
    },
    {
      "metadata": {
        "id": "YbijsxxnA0hG",
        "colab_type": "code",
        "outputId": "857f35fb-8987-4712-e4ce-75af26587023",
        "colab": {
          "base_uri": "https://localhost:8080/",
          "height": 34
        }
      },
      "cell_type": "code",
      "source": [
        "#CREATE LABELING FUNCTION\n",
        "labels = []\n",
        "labelsOracle = []\n",
        "motifStrengths = [] #elements are dicts (one per sequence) mapping startPos of each motif in sequence to binding energy\n",
        "for i in range(onehot_data.shape[0]):\n",
        "  sumVar = 0\n",
        "  j = 0\n",
        "  deltadeltaG = {} #dict mapping startPos of motif instance to deltadeltaG of instance\n",
        "  while j <= (onehot_data.shape[1] - 10):\n",
        "    deltadeltaG[j] = np.sum(np.multiply(onehot_data[i,j:j+10,:], pwm))\n",
        "    pStormo = float(1/(1 + np.exp(deltadeltaG[j]- MU)))\n",
        "    pObs = float(1 - (1 - pStormo*.0000222)*(1-.000001))\n",
        "    sumVar += pObs\n",
        "    j += 1\n",
        "  motifStrengths.append(deltadeltaG)\n",
        "  expectedCount = sumVar*1000000\n",
        "  labels.append(np.random.poisson(expectedCount))\n",
        "  labelsOracle.append(expectedCount)\n",
        "print(np.amax(labels))"
      ],
      "execution_count": 15,
      "outputs": [
        {
          "output_type": "stream",
          "text": [
            "160\n"
          ],
          "name": "stdout"
        }
      ]
    },
    {
      "metadata": {
        "id": "bEeOTD2fB0GI",
        "colab_type": "code",
        "outputId": "b8b8710c-3b84-427e-e052-9a3d4aa4850d",
        "colab": {
          "base_uri": "https://localhost:8080/",
          "height": 51
        }
      },
      "cell_type": "code",
      "source": [
        "print(np.mean(labels))\n",
        "print(np.mean(labelsOracle))"
      ],
      "execution_count": 16,
      "outputs": [
        {
          "output_type": "stream",
          "text": [
            "97.83588\n",
            "97.81090043515643\n"
          ],
          "name": "stdout"
        }
      ]
    },
    {
      "metadata": {
        "id": "5xcL9P1DV0o1",
        "colab_type": "code",
        "outputId": "38238b60-4bbb-4251-ab5a-750c00bdd21d",
        "colab": {
          "base_uri": "https://localhost:8080/",
          "height": 54
        }
      },
      "cell_type": "code",
      "source": [
        "#find 4 highest-affinity non-overlapping motifs per sequence\n",
        "import collections\n",
        "strongestMotifs = [] #extract sub-dict from each dict in motifStrengths with 4 strongest motif instances\n",
        "for dic in motifStrengths:\n",
        "  strongestInSeq = collections.OrderedDict()\n",
        "  sortedByStrength = sorted(dic.iteritems(), key=lambda (k,v): (v,k)) #sorted by binding energy (lowest first)\n",
        "  for startPos, energy in sortedByStrength:    \n",
        "    if not bool(strongestInSeq):\n",
        "      strongestInSeq[startPos] = energy\n",
        "    nonOverlapping = True\n",
        "    for key in strongestInSeq.keys():\n",
        "      if np.abs(key - startPos) < 10:\n",
        "        nonOverlapping = False\n",
        "    if nonOverlapping:\n",
        "      strongestInSeq[startPos] = energy\n",
        "    if len(strongestInSeq) == 4:\n",
        "      strongestMotifs.append(strongestInSeq)\n",
        "      break\n",
        "print(strongestMotifs[0:5])"
      ],
      "execution_count": 17,
      "outputs": [
        {
          "output_type": "stream",
          "text": [
            "[OrderedDict([(57, 2.5084900000000006), (77, 4.87612), (25, 5.165830000000001), (11, 5.5954000000000015)]), OrderedDict([(26, 2.84815), (41, 4.41658), (85, 5.93506), (8, 6.94405)]), OrderedDict([(77, 2.4085900000000002), (46, 2.66833), (65, 2.8681300000000003), (90, 2.9080899999999996)]), OrderedDict([(56, 1.81918), (73, 7.53346), (37, 7.813180000000001), (2, 8.3926)]), OrderedDict([(12, 1.5294699999999999), (79, 4.31668), (40, 4.986009999999999), (30, 5.735259999999999)])]\n"
          ],
          "name": "stdout"
        }
      ]
    },
    {
      "metadata": {
        "id": "hD0d9Y_d0XFb",
        "colab_type": "code",
        "colab": {}
      },
      "cell_type": "code",
      "source": [
        "train_data, train_labels = onehot_data[:40000], labels[:40000]\n",
        "valid_data, valid_labels = onehot_data[40000:60000], labels[40000:60000]\n",
        "test_data, test_labels = onehot_data[-40000:], labels[-40000:]"
      ],
      "execution_count": 0,
      "outputs": []
    },
    {
      "metadata": {
        "id": "p3rxhxFrviGj",
        "colab_type": "code",
        "outputId": "29ef9ba9-68f1-4b60-eba1-be6561b9faf5",
        "colab": {
          "base_uri": "https://localhost:8080/",
          "height": 1023
        }
      },
      "cell_type": "code",
      "source": [
        "import numpy as np\n",
        "np.random.seed(1234)\n",
        "import keras\n",
        "from keras.models import Sequential\n",
        "\n",
        "model = Sequential()\n",
        "model.add(keras.layers.Conv1D(filters=40, kernel_size=19, input_shape=(100,4)))\n",
        "model.add(keras.layers.Activation(\"relu\"))\n",
        "model.add(keras.layers.AveragePooling1D(pool_size=10, stride=5))\n",
        "model.add(keras.layers.Flatten())\n",
        "model.add(keras.layers.Dense(100))\n",
        "model.add(keras.layers.Activation(\"relu\"))\n",
        "#model.add(keras.layers.Dropout(0.5))\n",
        "model.add(keras.layers.Dense(100))\n",
        "model.add(keras.layers.Activation(\"relu\"))\n",
        "#model.add(keras.layers.Dropout(0.5))\n",
        "model.add(keras.layers.Dense(1))\n",
        "model.add(keras.layers.Activation(\"linear\"))\n",
        "model.compile(optimizer=\"adam\", loss=\"mean_squared_error\")\n",
        "\n",
        "print(np.mean(train_labels,axis=0))\n",
        "\n",
        "model.fit(x=train_data, y=train_labels,\n",
        "          batch_size=200,\n",
        "          epochs=1000,\n",
        "          validation_data=(valid_data, valid_labels),\n",
        "          callbacks=[keras.callbacks.EarlyStopping(monitor='val_loss',\n",
        "                                                   patience=3)])"
      ],
      "execution_count": 19,
      "outputs": [
        {
          "output_type": "stream",
          "text": [
            "Using TensorFlow backend.\n"
          ],
          "name": "stderr"
        },
        {
          "output_type": "stream",
          "text": [
            "WARNING:tensorflow:From /usr/local/lib/python2.7/dist-packages/tensorflow/python/framework/op_def_library.py:263: colocate_with (from tensorflow.python.framework.ops) is deprecated and will be removed in a future version.\n",
            "Instructions for updating:\n",
            "Colocations handled automatically by placer.\n",
            "97.823575\n",
            "WARNING:tensorflow:From /usr/local/lib/python2.7/dist-packages/tensorflow/python/ops/math_ops.py:3066: to_int32 (from tensorflow.python.ops.math_ops) is deprecated and will be removed in a future version.\n",
            "Instructions for updating:\n",
            "Use tf.cast instead.\n"
          ],
          "name": "stdout"
        },
        {
          "output_type": "stream",
          "text": [
            "/usr/local/lib/python2.7/dist-packages/ipykernel_launcher.py:9: UserWarning: Update your `AveragePooling1D` call to the Keras 2 API: `AveragePooling1D(strides=5, pool_size=10)`\n",
            "  if __name__ == '__main__':\n"
          ],
          "name": "stderr"
        },
        {
          "output_type": "stream",
          "text": [
            "Train on 40000 samples, validate on 20000 samples\n",
            "Epoch 1/1000\n",
            "40000/40000 [==============================] - 6s 154us/step - loss: 1064.0814 - val_loss: 129.8769\n",
            "Epoch 2/1000\n",
            "40000/40000 [==============================] - 5s 136us/step - loss: 127.8830 - val_loss: 128.7433\n",
            "Epoch 3/1000\n",
            "40000/40000 [==============================] - 5s 137us/step - loss: 127.4898 - val_loss: 129.9723\n",
            "Epoch 4/1000\n",
            "40000/40000 [==============================] - 5s 136us/step - loss: 127.5594 - val_loss: 128.5307\n",
            "Epoch 5/1000\n",
            "40000/40000 [==============================] - 5s 137us/step - loss: 127.2424 - val_loss: 128.6070\n",
            "Epoch 6/1000\n",
            "40000/40000 [==============================] - 5s 136us/step - loss: 126.9870 - val_loss: 127.7390\n",
            "Epoch 7/1000\n",
            "40000/40000 [==============================] - 5s 136us/step - loss: 126.4065 - val_loss: 127.8913\n",
            "Epoch 8/1000\n",
            "40000/40000 [==============================] - 5s 136us/step - loss: 125.9821 - val_loss: 128.4656\n",
            "Epoch 9/1000\n",
            "40000/40000 [==============================] - 5s 137us/step - loss: 124.3622 - val_loss: 123.5756\n",
            "Epoch 10/1000\n",
            "40000/40000 [==============================] - 5s 137us/step - loss: 122.6532 - val_loss: 122.0006\n",
            "Epoch 11/1000\n",
            "40000/40000 [==============================] - 5s 137us/step - loss: 120.5642 - val_loss: 120.6180\n",
            "Epoch 12/1000\n",
            "40000/40000 [==============================] - 5s 136us/step - loss: 119.7607 - val_loss: 119.7984\n",
            "Epoch 13/1000\n",
            "40000/40000 [==============================] - 5s 136us/step - loss: 118.8004 - val_loss: 118.7556\n",
            "Epoch 14/1000\n",
            "40000/40000 [==============================] - 5s 137us/step - loss: 117.4656 - val_loss: 118.3386\n",
            "Epoch 15/1000\n",
            "40000/40000 [==============================] - 5s 136us/step - loss: 117.2412 - val_loss: 116.5211\n",
            "Epoch 16/1000\n",
            "40000/40000 [==============================] - 5s 136us/step - loss: 116.9827 - val_loss: 116.1159\n",
            "Epoch 17/1000\n",
            "40000/40000 [==============================] - 5s 136us/step - loss: 115.5913 - val_loss: 115.1895\n",
            "Epoch 18/1000\n",
            "40000/40000 [==============================] - 5s 137us/step - loss: 114.4329 - val_loss: 117.1859\n",
            "Epoch 19/1000\n",
            "40000/40000 [==============================] - 5s 137us/step - loss: 114.2753 - val_loss: 114.7811\n",
            "Epoch 20/1000\n",
            "40000/40000 [==============================] - 5s 137us/step - loss: 113.1904 - val_loss: 113.9864\n",
            "Epoch 21/1000\n",
            "40000/40000 [==============================] - 5s 135us/step - loss: 113.3552 - val_loss: 116.2493\n",
            "Epoch 22/1000\n",
            "40000/40000 [==============================] - 6s 138us/step - loss: 113.2818 - val_loss: 114.0775\n",
            "Epoch 23/1000\n",
            "40000/40000 [==============================] - 5s 135us/step - loss: 113.7562 - val_loss: 116.0395\n"
          ],
          "name": "stdout"
        },
        {
          "output_type": "execute_result",
          "data": {
            "text/plain": [
              "<keras.callbacks.History at 0x7f1f0b3cd510>"
            ]
          },
          "metadata": {
            "tags": []
          },
          "execution_count": 19
        }
      ]
    },
    {
      "metadata": {
        "id": "wLtStoExz5o_",
        "colab_type": "code",
        "outputId": "da9f3f98-986e-4926-d3f8-5fc7bb2a7df4",
        "colab": {
          "base_uri": "https://localhost:8080/",
          "height": 51
        }
      },
      "cell_type": "code",
      "source": [
        "from sklearn.metrics import mean_squared_error\n",
        "\n",
        "#compute test set auROC\n",
        "test_preds = model.predict(test_data)\n",
        "\n",
        "print(\"MSE is\", mean_squared_error(y_true=test_labels,\n",
        "                      y_pred=test_preds))\n",
        "\n",
        "print(\"Oracle MSE is\", mean_squared_error(y_true=test_labels,\n",
        "                      y_pred=labelsOracle[-40000:]))"
      ],
      "execution_count": 20,
      "outputs": [
        {
          "output_type": "stream",
          "text": [
            "MSE is 114.25340383838035\n",
            "Oracle MSE is 97.97159715392914\n"
          ],
          "name": "stdout"
        }
      ]
    },
    {
      "metadata": {
        "id": "TGsLQIFm-oWV",
        "colab_type": "code",
        "outputId": "3775735b-cd26-41da-fcb9-9b55a0bea6bc",
        "colab": {
          "base_uri": "https://localhost:8080/",
          "height": 34
        }
      },
      "cell_type": "code",
      "source": [
        "test_sequences = data.sequences[-40000:]\n",
        "testStrongestMotifs = strongestMotifs[-40000:]\n",
        "testOracle = labelsOracle[-40000:]\n",
        "pwmLength = 10\n",
        "\n",
        "motif_names = [\"A\", \"B\"]\n",
        "motif_name_to_locs = OrderedDict()\n",
        "for motif_name in motif_names:\n",
        "  motif_name_to_locs[motif_name] = []\n",
        "\n",
        "count = 0\n",
        "countThreshold = 112\n",
        "for idx, seq in enumerate(testStrongestMotifs):\n",
        "    for motif_name in motif_names:\n",
        "      motif_name_to_locs[motif_name].append([])\n",
        "    if testOracle[idx] >= countThreshold: \n",
        "      count += 1\n",
        "      motif_name_to_locs[motif_names[0]][-1].append(\n",
        "            (seq.items()[0][0], seq.items()[0][0] + pwmLength))\n",
        "      motif_name_to_locs[motif_names[1]][-1].append(\n",
        "            (seq.items()[1][0], seq.items()[1][0] + pwmLength))\n",
        "print(count)"
      ],
      "execution_count": 21,
      "outputs": [
        {
          "output_type": "stream",
          "text": [
            "958\n"
          ],
          "name": "stdout"
        }
      ]
    },
    {
      "metadata": {
        "id": "JC4AYFIAeUQd",
        "colab_type": "code",
        "outputId": "edbf12f2-3817-4af9-bded-1d63d9421f4f",
        "colab": {
          "base_uri": "https://localhost:8080/",
          "height": 34
        }
      },
      "cell_type": "code",
      "source": [
        "%matplotlib inline\n",
        "from matplotlib import pyplot as plt\n",
        "import scipy, copy\n",
        "import deeplift\n",
        "from deeplift.dinuc_shuffle import dinuc_shuffle\n",
        "\n",
        "np.random.seed(1234)\n",
        "simdna.random.seed(1234)\n",
        "\n",
        "\n",
        "original_data = []\n",
        "original_data_sequences = []\n",
        "motifA_locs = []\n",
        "motifB_locs = []\n",
        "motifA_off_data = []\n",
        "motifB_off_data = []\n",
        "AandBoff_data = [] \n",
        "\n",
        "motifA_off_sequences = []\n",
        "motifB_off_sequences = []\n",
        "AandBoff_sequences = []\n",
        "\n",
        "dinucshuff1_sequences = []\n",
        "dinucshuff2_sequences = []\n",
        "dinucshuff1_Aoff_sequences = []\n",
        "dinucshuff1_Boff_sequences = []\n",
        "dinucshuff1_AandBoff_sequences = []\n",
        "  \n",
        "indices = []\n",
        "\n",
        "numTrials = 1000\n",
        "\n",
        "for idx, (region_sequence, onehot_region,\n",
        "     region_motifA_locs, region_motifB_locs) in\\\n",
        "  enumerate(zip(test_sequences, test_data,\n",
        "      motif_name_to_locs[motif_names[0]], motif_name_to_locs[motif_names[1]])):\n",
        "  if (len(region_motifA_locs) > 0 and len(region_motifB_locs) > 0):\n",
        "    onehot_region = onehot_region.astype(\"float32\")\n",
        "\n",
        "    original_data.append(onehot_region)\n",
        "    original_data_sequences.append(region_sequence)\n",
        "    motifA_locs.append(region_motifA_locs)\n",
        "    motifB_locs.append(region_motifB_locs)\n",
        "    \n",
        "    region_dinucshuff1_sequence = [dinuc_shuffle(region_sequence) for i in range(numTrials)]\n",
        "    dinucshuff1_sequences.append(region_dinucshuff1_sequence)\n",
        "    dinucshuff2_sequences.append([dinuc_shuffle(region_sequence) for i in range(numTrials)])\n",
        "    \n",
        "    region_motifA_off = np.array(onehot_region)\n",
        "    region_motifA_off_sequence = region_sequence\n",
        "    region_dinucshuff1_Aoff_sequence = region_dinucshuff1_sequence\n",
        "\n",
        "    for (motifA_start,motifA_end) in region_motifA_locs:\n",
        "      random_substitute_sequence = \"\".join(letter_distribution.sample()\n",
        "                                    for i in range(motifA_end-motifA_start))\n",
        "      #substitute random sequence for motif A, keeping everything else the same\n",
        "      region_motifA_off_sequence =(\n",
        "        region_motifA_off_sequence[:motifA_start] + \n",
        "        random_substitute_sequence + region_motifA_off_sequence[motifA_end:])\n",
        "      region_dinucshuff1_Aoff_sequence = [\n",
        "          region_dinucshuff1_Aoff_sequence[i][:motifA_start] + \n",
        "          random_substitute_sequence +\n",
        "          region_dinucshuff1_Aoff_sequence[i][motifA_end:] for i in range(numTrials)]\n",
        "      region_motifA_off = np.vstack((\n",
        "        region_motifA_off[:motifA_start],\n",
        "        one_hot_encode_along_channel_axis(random_substitute_sequence),\n",
        "        region_motifA_off[motifA_end:]))\n",
        "    motifA_off_data.append(region_motifA_off)\n",
        "    motifA_off_sequences.append(region_motifA_off_sequence)\n",
        "    dinucshuff1_Aoff_sequences.append(region_dinucshuff1_Aoff_sequence)\n",
        "\n",
        "\n",
        "    region_motifB_off = np.array(onehot_region)\n",
        "    region_motifB_off_sequence = region_sequence\n",
        "    region_AandBoff_data = region_motifA_off \n",
        "    region_AandBoff_sequence = region_motifA_off_sequence\n",
        "    region_dinucshuff1_Boff_sequence = region_dinucshuff1_sequence\n",
        "    region_dinucshuff1_AandBoff_sequence = region_dinucshuff1_Aoff_sequence \n",
        "\n",
        "    for (motifB_start,motifB_end) in region_motifB_locs:\n",
        "      region_AandBoff_data[motifB_start:motifB_end] = 0.0 \n",
        "      random_substitute_sequence = \"\".join(letter_distribution.sample()\n",
        "                                    for i in range(motifB_end-motifB_start))\n",
        "      region_motifB_off_sequence =(\n",
        "        region_motifB_off_sequence[:motifB_start] + \n",
        "        random_substitute_sequence + region_motifB_off_sequence[motifB_end:])\n",
        "      region_dinucshuff1_Boff_sequence = [\n",
        "          region_dinucshuff1_Boff_sequence[i][:motifB_start] + \n",
        "          random_substitute_sequence +\n",
        "          region_dinucshuff1_Boff_sequence[i][motifB_end:] for i in range(numTrials)]\n",
        "      region_motifB_off = np.vstack((\n",
        "        region_motifB_off[:motifB_start],\n",
        "        one_hot_encode_along_channel_axis(random_substitute_sequence),\n",
        "        region_motifB_off[motifB_end:]))\n",
        "      region_AandBoff_sequence =(\n",
        "        region_AandBoff_sequence[:motifB_start] + \n",
        "        random_substitute_sequence + region_AandBoff_sequence[motifB_end:])\n",
        "      region_AandBoff_data = np.vstack((\n",
        "        region_AandBoff_data[:motifB_start],\n",
        "        one_hot_encode_along_channel_axis(random_substitute_sequence),\n",
        "        region_AandBoff_data[motifB_end:]))\n",
        "      region_dinucshuff1_AandBoff_sequence = [\n",
        "          region_dinucshuff1_AandBoff_sequence[i][:motifB_start] + \n",
        "          random_substitute_sequence +\n",
        "          region_dinucshuff1_AandBoff_sequence[i][motifB_end:] for i in range(numTrials)] \n",
        "    motifB_off_data.append(region_motifB_off)\n",
        "    motifB_off_sequences.append(region_motifB_off_sequence)\n",
        "    dinucshuff1_Boff_sequences.append(region_dinucshuff1_Boff_sequence)\n",
        "    AandBoff_data.append(region_AandBoff_data) \n",
        "    AandBoff_sequences.append(region_AandBoff_sequence)\n",
        "    dinucshuff1_AandBoff_sequences.append(region_dinucshuff1_AandBoff_sequence)\n",
        "    \n",
        "    indices.append(idx)\n",
        "    \n",
        "print(len(indices))"
      ],
      "execution_count": 22,
      "outputs": [
        {
          "output_type": "stream",
          "text": [
            "958\n"
          ],
          "name": "stdout"
        }
      ]
    },
    {
      "metadata": {
        "id": "-OvnPMpWczwi",
        "colab_type": "code",
        "colab": {}
      },
      "cell_type": "code",
      "source": [
        "original_data = np.array(original_data).astype(\"float32\")\n",
        "motifA_off_data = np.array(motifA_off_data).astype(\"float32\")\n",
        "motifB_off_data = np.array(motifB_off_data).astype(\"float32\")\n",
        "AandBoff_data = np.array(AandBoff_data).astype(\"float32\")\n",
        "\n",
        "original_preds = model.predict(original_data)\n",
        "motifA_off_preds = model.predict(motifA_off_data)\n",
        "motifB_off_preds = model.predict(motifB_off_data)\n",
        "AandBoff_preds = model.predict(AandBoff_data)\n",
        "\n",
        "new_test_labels = []\n",
        "for i in indices:\n",
        "  new_test_labels.append(test_labels[i])"
      ],
      "execution_count": 0,
      "outputs": []
    },
    {
      "metadata": {
        "id": "zz1068yH1cLE",
        "colab_type": "code",
        "outputId": "514f3786-b0d3-4886-a453-5ab8f5795609",
        "colab": {
          "base_uri": "https://localhost:8080/",
          "height": 547
        }
      },
      "cell_type": "code",
      "source": [
        "condEffect = original_preds - motifA_off_preds - motifB_off_preds + AandBoff_preds\n",
        "\n",
        "noInterPreds = original_preds - condEffect\n",
        "\n",
        "print(\"inter\")\n",
        "plt.hist(original_preds,bins=100)\n",
        "plt.show()\n",
        "\n",
        "print(\"no inter\")\n",
        "plt.hist(noInterPreds,bins=100)\n",
        "plt.show()"
      ],
      "execution_count": 24,
      "outputs": [
        {
          "output_type": "stream",
          "text": [
            "inter\n"
          ],
          "name": "stdout"
        },
        {
          "output_type": "display_data",
          "data": {
            "image/png": "[encoded data removed]",
            "text/plain": [
              "<Figure size 432x288 with 1 Axes>"
            ]
          },
          "metadata": {
            "tags": []
          }
        },
        {
          "output_type": "stream",
          "text": [
            "no inter\n"
          ],
          "name": "stdout"
        },
        {
          "output_type": "display_data",
          "data": {
            "image/png": "[encoded data removed]",
            "text/plain": [
              "<Figure size 432x288 with 1 Axes>"
            ]
          },
          "metadata": {
            "tags": []
          }
        }
      ]
    },
    {
      "metadata": {
        "id": "Ffhbct9ysVxN",
        "colab_type": "code",
        "colab": {}
      },
      "cell_type": "code",
      "source": [
        "#dinucleotide-shuffled null distribution\n",
        "\n",
        "def one_hot_func(x):\n",
        "  return np.array([one_hot_encode_along_channel_axis(seq) for seq in x])\n",
        "\n",
        "orig_dinuc_data = [one_hot_func(dinucshuff1_sequences[i]) for i in range(len(indices))]\n",
        "Aoff_dinuc_data = [one_hot_func(dinucshuff1_Aoff_sequences[i]) for i in range(len(indices))]\n",
        "Boff_dinuc_data = [one_hot_func(dinucshuff1_Boff_sequences[i]) for i in range(len(indices))]\n",
        "AandBoff_dinuc_data = [one_hot_func(dinucshuff1_AandBoff_sequences[i]) for i in range(len(indices))]"
      ],
      "execution_count": 0,
      "outputs": []
    },
    {
      "metadata": {
        "id": "jpHygYMaBwP9",
        "colab_type": "code",
        "colab": {}
      },
      "cell_type": "code",
      "source": [
        "def label(sequences):\n",
        "  labels = []\n",
        "  for i in range(sequences.shape[0]):\n",
        "    sumVar = 0\n",
        "    j = 0\n",
        "    while j <= (sequences.shape[1] - 10):\n",
        "      deltadeltaG = np.sum(np.multiply(onehot_data[i,j:j+10,:], pwm))\n",
        "      pStormo = float(1/(1 + np.exp(deltadeltaG - MU)))\n",
        "      pObs = float(1 - (1 - pStormo*.0000222)*(1-.000001))\n",
        "      sumVar += pObs\n",
        "      j += 1\n",
        "  expectedCount = sumVar*1000000\n",
        "  labels.append(np.random.poisson(expectedCount))\n",
        "  return labels \n",
        "\n",
        "labels_orig_dinuc = [label(sequences) for sequences in orig_dinuc_data]\n",
        "\n",
        "original_preds_dinuc = [model.predict(orig_dinuc_data[i]) for i in range(len(indices))]\n",
        "motifA_off_preds_dinuc = [model.predict(Aoff_dinuc_data[i]) for i in range(len(indices))]\n",
        "motifB_off_preds_dinuc = [model.predict(Boff_dinuc_data[i]) for i in range(len(indices))]\n",
        "AandBoff_preds_dinuc = [model.predict(AandBoff_dinuc_data[i]) for i in range(len(indices))]\n",
        "\n",
        "noInterPreds_dinuc = [np.asarray(motifA_off_preds_dinuc[i] + motifB_off_preds_dinuc[i] - AandBoff_preds_dinuc[i]) for i in range(len(indices))]"
      ],
      "execution_count": 0,
      "outputs": []
    },
    {
      "metadata": {
        "id": "ZBO-p_ybCyFa",
        "colab_type": "code",
        "colab": {}
      },
      "cell_type": "code",
      "source": [
        "import scipy\n",
        "\n",
        "def empirical_pvalue(val, null_values):\n",
        "    pval = float(1+sum(float(val) <= np.array(null_values)))/(len(null_values)+1)\n",
        "    return pval\n",
        "\n",
        "def gaussian_pvalue(val, null_values, two_sided=True):\n",
        "    mu, std = scipy.stats.norm.fit(null_values)\n",
        "    if two_sided:\n",
        "        pval = np.min([1 - scipy.stats.norm.cdf(val, mu, std), \n",
        "                       scipy.stats.norm.cdf(val, mu, std)])\n",
        "    else:\n",
        "        pval = 1 - scipy.stats.norm.cdf(val, mu, std)\n",
        "    return pval"
      ],
      "execution_count": 0,
      "outputs": []
    },
    {
      "metadata": {
        "id": "AXEwJgwcEL-Q",
        "colab_type": "code",
        "outputId": "ad061b35-bbbd-4a14-8598-ad9ce1d8a284",
        "colab": {
          "base_uri": "https://localhost:8080/",
          "height": 51
        }
      },
      "cell_type": "code",
      "source": [
        "null = [[] for i in range(len(indices))]\n",
        "for i in range(len(indices)):\n",
        "  for j, pred in enumerate(original_preds_dinuc[i]):\n",
        "    null[i].append(float(pred - noInterPreds_dinuc[i][j]))\n",
        "pvalsEmpirical = [empirical_pvalue(condEffect[i], null[i]) for i in range(len(indices))]\n",
        "pvalsGaussian = [gaussian_pvalue(condEffect[i], null[i]) for i in range(len(indices))]\n",
        "print(\"empirical\")\n",
        "print(len(pvalsEmpirical))"
      ],
      "execution_count": 28,
      "outputs": [
        {
          "output_type": "stream",
          "text": [
            "empirical\n",
            "958\n"
          ],
          "name": "stdout"
        }
      ]
    },
    {
      "metadata": {
        "id": "Za3UjGWHMops",
        "colab_type": "code",
        "outputId": "11ed7f69-a21a-4f86-e018-bbf9771735f6",
        "colab": {
          "base_uri": "https://localhost:8080/",
          "height": 51
        }
      },
      "cell_type": "code",
      "source": [
        "significant_count = sum(1 for i in pvalsEmpirical if i < 0.05)/len(pvalsEmpirical)\n",
        "count = sum(1 for i in pvalsEmpirical if i == 1/(len(null[0])+1))\n",
        "print(significant_count)\n",
        "print(count)"
      ],
      "execution_count": 29,
      "outputs": [
        {
          "output_type": "stream",
          "text": [
            "1.0\n",
            "956\n"
          ],
          "name": "stdout"
        }
      ]
    },
    {
      "metadata": {
        "id": "c0LG_hZPKOs3",
        "colab_type": "code",
        "outputId": "baace497-bbd0-4dae-a681-a0b533dec8b3",
        "colab": {
          "base_uri": "https://localhost:8080/",
          "height": 305
        }
      },
      "cell_type": "code",
      "source": [
        "print(null[0][:10])\n",
        "plt.hist(null[0], bins = 100)\n",
        "plt.show()"
      ],
      "execution_count": 30,
      "outputs": [
        {
          "output_type": "stream",
          "text": [
            "[-1.52587890625e-05, 0.0, -7.62939453125e-06, 0.0, -7.62939453125e-06, -7.62939453125e-06, 7.62939453125e-06, -1.52587890625e-05, 0.0, -1.52587890625e-05]\n"
          ],
          "name": "stdout"
        },
        {
          "output_type": "display_data",
          "data": {
            "image/png": "[encoded data removed]",
            "text/plain": [
              "<Figure size 432x288 with 1 Axes>"
            ]
          },
          "metadata": {
            "tags": []
          }
        }
      ]
    },
    {
      "metadata": {
        "id": "lVWhcVPu9uYf",
        "colab_type": "code",
        "outputId": "4ba5f47f-d512-478a-f92d-8c2f62b4b696",
        "colab": {
          "base_uri": "https://localhost:8080/",
          "height": 85
        }
      },
      "cell_type": "code",
      "source": [
        "null = []\n",
        "numTrials = 10000\n",
        "for i in range(numTrials):\n",
        "  permuted_labels = np.random.permutation(new_test_labels)\n",
        "  lossInter = np.square(np.asarray(permuted_labels) - original_preds.flatten())\n",
        "  lossnoInter = np.square(np.asarray(permuted_labels) - noInterPreds.flatten())\n",
        "  interBetter = [int(lossInter[i] < lossnoInter[i]) for i in range(len(lossInter))]\n",
        "  frac = float(np.sum(interBetter))/len(lossInter)\n",
        "  null.append(frac)\n",
        "\n",
        "lossInter = np.square(np.asarray(new_test_labels) - original_preds.flatten())\n",
        "lossnoInter = np.square(np.asarray(new_test_labels) - noInterPreds.flatten())\n",
        "\n",
        "interBetter = [int(lossInter[i] < lossnoInter[i]) for i in range(len(lossInter))]\n",
        "frac = float(np.sum(interBetter))/len(lossInter)\n",
        "print(\"actual frac\")\n",
        "print(frac)\n",
        "#pValue = float(np.sum([1 for i in range(len(null)) if null[i] >= frac]))/len(null)\n",
        "pValueEmp = empirical_pvalue(frac, null)\n",
        "print(\"pValue\")\n",
        "print(pValueEmp)"
      ],
      "execution_count": 31,
      "outputs": [
        {
          "output_type": "stream",
          "text": [
            "actual frac\n",
            "0.865344467641\n",
            "pValue\n",
            "0.374562543746\n"
          ],
          "name": "stdout"
        }
      ]
    },
    {
      "metadata": {
        "id": "u-Wq62xtAUob",
        "colab_type": "code",
        "outputId": "cb21342f-bd48-48f4-9119-6ff4801ea7ab",
        "colab": {
          "base_uri": "https://localhost:8080/",
          "height": 302
        }
      },
      "cell_type": "code",
      "source": [
        "print(null[:10])\n",
        "from matplotlib import pyplot\n",
        "plt.hist(null, bins = 100)\n",
        "plt.show()"
      ],
      "execution_count": 32,
      "outputs": [
        {
          "output_type": "stream",
          "text": [
            "[0.8674321503131524, 0.8643006263048016, 0.8590814196242171, 0.8569937369519833, 0.8611691022964509, 0.8590814196242171, 0.8611691022964509, 0.8632567849686847, 0.860125260960334, 0.8653444676409185]\n"
          ],
          "name": "stdout"
        },
        {
          "output_type": "display_data",
          "data": {
            "image/png": "[encoded data removed]",
            "text/plain": [
              "<Figure size 432x288 with 1 Axes>"
            ]
          },
          "metadata": {
            "tags": []
          }
        }
      ]
    },
    {
      "metadata": {
        "id": "IuKYdWkvac_x",
        "colab_type": "code",
        "outputId": "1d4b92cd-53e8-4b0f-f978-730d1b6e785d",
        "colab": {
          "base_uri": "https://localhost:8080/",
          "height": 812
        }
      },
      "cell_type": "code",
      "source": [
        "#paired wilcoxon test\n",
        "import scipy\n",
        "from scipy import stats\n",
        "\n",
        "diff = lossInter - lossnoInter\n",
        "\n",
        "significance = scipy.stats.wilcoxon(diff)\n",
        "print(significance)\n",
        "\n",
        "print(\"lossInter\")\n",
        "plt.hist(lossInter, bins=100)\n",
        "plt.show()\n",
        "\n",
        "print(\"lossnoInter\")\n",
        "plt.hist(lossnoInter, bins=100)\n",
        "plt.show()\n",
        "\n",
        "bins = np.linspace(-.1, 4, 100)\n",
        "\n",
        "pyplot.hist(lossInter, bins, alpha=0.5, label='lossInter')\n",
        "pyplot.hist(lossnoInter, bins, alpha=0.5, label='lossnoInter')\n",
        "pyplot.legend(loc='upper right')\n",
        "pyplot.show()"
      ],
      "execution_count": 33,
      "outputs": [
        {
          "output_type": "stream",
          "text": [
            "WilcoxonResult(statistic=26042.0, pvalue=6.53660794181504e-125)\n",
            "lossInter\n"
          ],
          "name": "stdout"
        },
        {
          "output_type": "display_data",
          "data": {
            "image/png": "[encoded data removed]",
            "text/plain": [
              "<Figure size 432x288 with 1 Axes>"
            ]
          },
          "metadata": {
            "tags": []
          }
        },
        {
          "output_type": "stream",
          "text": [
            "lossnoInter\n"
          ],
          "name": "stdout"
        },
        {
          "output_type": "display_data",
          "data": {
            "image/png": "[encoded data removed]",
            "text/plain": [
              "<Figure size 432x288 with 1 Axes>"
            ]
          },
          "metadata": {
            "tags": []
          }
        },
        {
          "output_type": "display_data",
          "data": {
            "image/png": "[encoded data removed]",
            "text/plain": [
              "<Figure size 432x288 with 1 Axes>"
            ]
          },
          "metadata": {
            "tags": []
          }
        }
      ]
    },
    {
      "metadata": {
        "id": "lXpgyChMxr7w",
        "colab_type": "code",
        "colab": {}
      },
      "cell_type": "code",
      "source": [
        ""
      ],
      "execution_count": 0,
      "outputs": []
    }
  ]
}