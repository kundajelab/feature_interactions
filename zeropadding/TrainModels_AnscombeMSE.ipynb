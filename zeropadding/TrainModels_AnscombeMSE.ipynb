{
  "nbformat": 4,
  "nbformat_minor": 0,
  "metadata": {
    "colab": {
      "name": "TrainModels_AnscombeMSE.ipynb",
      "provenance": [],
      "collapsed_sections": [],
      "include_colab_link": true
    },
    "kernelspec": {
      "name": "python3",
      "display_name": "Python 3"
    },
    "accelerator": "GPU"
  },
  "cells": [
    {
      "cell_type": "markdown",
      "metadata": {
        "id": "view-in-github",
        "colab_type": "text"
      },
      "source": [
        "<a href=\"https://colab.research.google.com/github/kundajelab/feature_interactions/blob/master/zeropadding/TrainModels_AnscombeMSE.ipynb\" target=\"_parent\"><img src=\"https://colab.research.google.com/assets/colab-badge.svg\" alt=\"Open In Colab\"/></a>"
      ]
    },
    {
      "cell_type": "code",
      "metadata": {
        "id": "qy6uELUUxZpx",
        "colab_type": "code",
        "colab": {
          "base_uri": "https://localhost:8080/",
          "height": 34
        },
        "outputId": "bc364a62-0ca0-446b-86ad-b46640ddbae7"
      },
      "source": [
        "%tensorflow_version 1.x"
      ],
      "execution_count": 1,
      "outputs": [
        {
          "output_type": "stream",
          "text": [
            "TensorFlow 1.x selected.\n"
          ],
          "name": "stdout"
        }
      ]
    },
    {
      "cell_type": "code",
      "metadata": {
        "id": "ikdAjY7YxzBI",
        "colab_type": "code",
        "colab": {
          "base_uri": "https://localhost:8080/",
          "height": 853
        },
        "outputId": "bf97f872-a7ae-4bb7-d5dc-e96cae598af7"
      },
      "source": [
        "#download raw data\n",
        "!wget https://github.com/kundajelab/feature_interactions/raw/2349aab/zeropadding/data/train_simulation.simdata.gz\n",
        "!wget https://github.com/kundajelab/feature_interactions/raw/2349aab/zeropadding/data/train_neg_labels.txt.gz\n",
        "!wget https://github.com/kundajelab/feature_interactions/raw/2349aab/zeropadding/data/train_pos_labels.txt.gz"
      ],
      "execution_count": 2,
      "outputs": [
        {
          "output_type": "stream",
          "text": [
            "--2020-06-25 16:53:40--  https://github.com/kundajelab/feature_interactions/raw/2349aab/zeropadding/data/train_simulation.simdata.gz\n",
            "Resolving github.com (github.com)... 140.82.112.4\n",
            "Connecting to github.com (github.com)|140.82.112.4|:443... connected.\n",
            "HTTP request sent, awaiting response... 302 Found\n",
            "Location: https://raw.githubusercontent.com/kundajelab/feature_interactions/2349aab4a9eea5e20861123641d84f04cfb8f853/zeropadding/data/train_simulation.simdata.gz [following]\n",
            "--2020-06-25 16:53:41--  https://raw.githubusercontent.com/kundajelab/feature_interactions/2349aab4a9eea5e20861123641d84f04cfb8f853/zeropadding/data/train_simulation.simdata.gz\n",
            "Resolving raw.githubusercontent.com (raw.githubusercontent.com)... 151.101.0.133, 151.101.64.133, 151.101.128.133, ...\n",
            "Connecting to raw.githubusercontent.com (raw.githubusercontent.com)|151.101.0.133|:443... connected.\n",
            "HTTP request sent, awaiting response... 200 OK\n",
            "Length: 2104123 (2.0M) [application/octet-stream]\n",
            "Saving to: ‘train_simulation.simdata.gz’\n",
            "\n",
            "train_simulation.si 100%[===================>]   2.01M  9.14MB/s    in 0.2s    \n",
            "\n",
            "2020-06-25 16:53:43 (9.14 MB/s) - ‘train_simulation.simdata.gz’ saved [2104123/2104123]\n",
            "\n",
            "--2020-06-25 16:53:45--  https://github.com/kundajelab/feature_interactions/raw/2349aab/zeropadding/data/train_neg_labels.txt.gz\n",
            "Resolving github.com (github.com)... 140.82.112.4\n",
            "Connecting to github.com (github.com)|140.82.112.4|:443... connected.\n",
            "HTTP request sent, awaiting response... 302 Found\n",
            "Location: https://raw.githubusercontent.com/kundajelab/feature_interactions/2349aab4a9eea5e20861123641d84f04cfb8f853/zeropadding/data/train_neg_labels.txt.gz [following]\n",
            "--2020-06-25 16:53:45--  https://raw.githubusercontent.com/kundajelab/feature_interactions/2349aab4a9eea5e20861123641d84f04cfb8f853/zeropadding/data/train_neg_labels.txt.gz\n",
            "Resolving raw.githubusercontent.com (raw.githubusercontent.com)... 151.101.0.133, 151.101.64.133, 151.101.128.133, ...\n",
            "Connecting to raw.githubusercontent.com (raw.githubusercontent.com)|151.101.0.133|:443... connected.\n",
            "HTTP request sent, awaiting response... 200 OK\n",
            "Length: 529319 (517K) [application/octet-stream]\n",
            "Saving to: ‘train_neg_labels.txt.gz’\n",
            "\n",
            "train_neg_labels.tx 100%[===================>] 516.91K  --.-KB/s    in 0.07s   \n",
            "\n",
            "2020-06-25 16:53:47 (7.58 MB/s) - ‘train_neg_labels.txt.gz’ saved [529319/529319]\n",
            "\n",
            "--2020-06-25 16:53:48--  https://github.com/kundajelab/feature_interactions/raw/2349aab/zeropadding/data/train_pos_labels.txt.gz\n",
            "Resolving github.com (github.com)... 140.82.112.4\n",
            "Connecting to github.com (github.com)|140.82.112.4|:443... connected.\n",
            "HTTP request sent, awaiting response... 302 Found\n",
            "Location: https://raw.githubusercontent.com/kundajelab/feature_interactions/2349aab4a9eea5e20861123641d84f04cfb8f853/zeropadding/data/train_pos_labels.txt.gz [following]\n",
            "--2020-06-25 16:53:49--  https://raw.githubusercontent.com/kundajelab/feature_interactions/2349aab4a9eea5e20861123641d84f04cfb8f853/zeropadding/data/train_pos_labels.txt.gz\n",
            "Resolving raw.githubusercontent.com (raw.githubusercontent.com)... 151.101.0.133, 151.101.64.133, 151.101.128.133, ...\n",
            "Connecting to raw.githubusercontent.com (raw.githubusercontent.com)|151.101.0.133|:443... connected.\n",
            "HTTP request sent, awaiting response... 200 OK\n",
            "Length: 524532 (512K) [application/octet-stream]\n",
            "Saving to: ‘train_pos_labels.txt.gz’\n",
            "\n",
            "train_pos_labels.tx 100%[===================>] 512.24K  --.-KB/s    in 0.07s   \n",
            "\n",
            "2020-06-25 16:53:50 (7.49 MB/s) - ‘train_pos_labels.txt.gz’ saved [524532/524532]\n",
            "\n"
          ],
          "name": "stdout"
        }
      ]
    },
    {
      "cell_type": "code",
      "metadata": {
        "id": "OQ-uVDc2tO38",
        "colab_type": "code",
        "colab": {}
      },
      "source": [
        "!gunzip *.gz"
      ],
      "execution_count": 3,
      "outputs": []
    },
    {
      "cell_type": "code",
      "metadata": {
        "id": "vhBwM80nyOa8",
        "colab_type": "code",
        "colab": {
          "base_uri": "https://localhost:8080/",
          "height": 119
        },
        "outputId": "3c8b3a77-0238-4c0e-d61c-0cd8ab448377"
      },
      "source": [
        "!md5sum *"
      ],
      "execution_count": 14,
      "outputs": [
        {
          "output_type": "stream",
          "text": [
            "md5sum: colab_notebook_data: Is a directory\n",
            "md5sum: drive: Is a directory\n",
            "md5sum: sample_data: Is a directory\n",
            "4b333f203544ecb389fdf8114297d874  train_neg_labels.txt\n",
            "306bf8d95f49454c117e664d3dc61030  train_pos_labels.txt\n",
            "fb82dd3c7dc4b53d34b4fd456394de42  train_simulation.simdata\n"
          ],
          "name": "stdout"
        }
      ]
    },
    {
      "cell_type": "code",
      "metadata": {
        "id": "LBtXarlUynn5",
        "colab_type": "code",
        "colab": {
          "base_uri": "https://localhost:8080/",
          "height": 360
        },
        "outputId": "02889af5-a72f-4348-923f-a9e45ac1b2a8"
      },
      "source": [
        "!pip install simdna"
      ],
      "execution_count": 5,
      "outputs": [
        {
          "output_type": "stream",
          "text": [
            "Collecting simdna\n",
            "\u001b[?25l  Downloading https://files.pythonhosted.org/packages/14/c6/dc6cc2e9ac09c85d5ec6d896c6c43c8dd5ef50bb9c14423e9290131dce27/simdna-0.4.3.2.tar.gz (634kB)\n",
            "\u001b[K     |████████████████████████████████| 634kB 2.7MB/s \n",
            "\u001b[?25hRequirement already satisfied: numpy>=1.9 in /usr/local/lib/python3.6/dist-packages (from simdna) (1.18.5)\n",
            "Requirement already satisfied: matplotlib in /usr/local/lib/python3.6/dist-packages (from simdna) (3.2.2)\n",
            "Requirement already satisfied: scipy in /usr/local/lib/python3.6/dist-packages (from simdna) (1.4.1)\n",
            "Requirement already satisfied: kiwisolver>=1.0.1 in /usr/local/lib/python3.6/dist-packages (from matplotlib->simdna) (1.2.0)\n",
            "Requirement already satisfied: pyparsing!=2.0.4,!=2.1.2,!=2.1.6,>=2.0.1 in /usr/local/lib/python3.6/dist-packages (from matplotlib->simdna) (2.4.7)\n",
            "Requirement already satisfied: cycler>=0.10 in /usr/local/lib/python3.6/dist-packages (from matplotlib->simdna) (0.10.0)\n",
            "Requirement already satisfied: python-dateutil>=2.1 in /usr/local/lib/python3.6/dist-packages (from matplotlib->simdna) (2.8.1)\n",
            "Requirement already satisfied: six in /usr/local/lib/python3.6/dist-packages (from cycler>=0.10->matplotlib->simdna) (1.12.0)\n",
            "Building wheels for collected packages: simdna\n",
            "  Building wheel for simdna (setup.py) ... \u001b[?25lerror\n",
            "\u001b[31m  ERROR: Failed building wheel for simdna\u001b[0m\n",
            "\u001b[?25h  Running setup.py clean for simdna\n",
            "Failed to build simdna\n",
            "Installing collected packages: simdna\n",
            "    Running setup.py install for simdna ... \u001b[?25l\u001b[?25hdone\n",
            "Successfully installed simdna-0.4.3.2\n"
          ],
          "name": "stdout"
        }
      ]
    },
    {
      "cell_type": "code",
      "metadata": {
        "id": "2a-rv5JUzGhk",
        "colab_type": "code",
        "colab": {}
      },
      "source": [
        "import simdna\n",
        "from simdna import synthetic"
      ],
      "execution_count": 6,
      "outputs": []
    },
    {
      "cell_type": "code",
      "metadata": {
        "id": "DDo9TZkQzKCc",
        "colab_type": "code",
        "colab": {}
      },
      "source": [
        "train_data = synthetic.read_simdata_file(\"train_simulation.simdata\")"
      ],
      "execution_count": 7,
      "outputs": []
    },
    {
      "cell_type": "code",
      "metadata": {
        "id": "NMQPKHf1zL-s",
        "colab_type": "code",
        "colab": {}
      },
      "source": [
        "import numpy as np\n",
        "\n",
        "\n",
        "#this is set up for 1d convolutions where examples\n",
        "#have dimensions (len, num_channels) \n",
        "#the channel axis is the axis for one-hot encoding.\n",
        "def one_hot_encode_along_channel_axis(sequence):\n",
        "    to_return = np.zeros((len(sequence),4), dtype=np.int8)\n",
        "    seq_to_one_hot_fill_in_array(zeros_array=to_return,\n",
        "                                 sequence=sequence, one_hot_axis=1)\n",
        "    return to_return\n",
        "\n",
        "\n",
        "def seq_to_one_hot_fill_in_array(zeros_array, sequence, one_hot_axis):\n",
        "    assert one_hot_axis==0 or one_hot_axis==1\n",
        "    if (one_hot_axis==0):\n",
        "        assert zeros_array.shape[1] == len(sequence)\n",
        "    elif (one_hot_axis==1): \n",
        "        assert zeros_array.shape[0] == len(sequence)\n",
        "    #will mutate zeros_array\n",
        "    for (i,char) in enumerate(sequence):\n",
        "        if (char==\"A\" or char==\"a\"):\n",
        "            char_idx = 0\n",
        "        elif (char==\"C\" or char==\"c\"):\n",
        "            char_idx = 1\n",
        "        elif (char==\"G\" or char==\"g\"):\n",
        "            char_idx = 2\n",
        "        elif (char==\"T\" or char==\"t\"):\n",
        "            char_idx = 3\n",
        "        elif (char==\"N\" or char==\"n\"):\n",
        "            continue #leave that pos as all 0's\n",
        "        else:\n",
        "            raise RuntimeError(\"Unsupported character: \"+str(char))\n",
        "        if (one_hot_axis==0):\n",
        "            zeros_array[char_idx,i] = 1\n",
        "        elif (one_hot_axis==1):\n",
        "            zeros_array[i,char_idx] = 1\n",
        "\n",
        "\n",
        "def anscombe_transform(vals):\n",
        "  return 2*np.sqrt(vals + 3.0/8)\n",
        "\n",
        "\n",
        "def inverse_anscombe_transform(vals):\n",
        "  return np.square(vals/2.0) - 3.0/8\n",
        "\n",
        "\n",
        "def read_labels_and_oracle(filename):\n",
        "  labels = anscombe_transform(np.array([float(x.split(\"\\t\")[0]) for\n",
        "                                          x in open(filename)]))\n",
        "  oracle = anscombe_transform(np.array([float(x.split(\"\\t\")[1]) for\n",
        "                                          x in open(filename)]))\n",
        "  return labels, oracle\n",
        "\n",
        "\n",
        "train_onehot_data = np.array([one_hot_encode_along_channel_axis(seq)\n",
        "                              for seq in train_data.sequences])\n",
        "\n",
        "train_pos_labels, train_pos_oracle =\\\n",
        "  read_labels_and_oracle(\"train_pos_labels.txt\")\n",
        "train_neg_labels, train_neg_oracle =\\\n",
        "  read_labels_and_oracle(\"train_neg_labels.txt\")"
      ],
      "execution_count": 8,
      "outputs": []
    },
    {
      "cell_type": "markdown",
      "metadata": {
        "id": "ARK27HEQzqrn",
        "colab_type": "text"
      },
      "source": [
        "Train models"
      ]
    },
    {
      "cell_type": "code",
      "metadata": {
        "id": "Oq1mcODizcry",
        "colab_type": "code",
        "colab": {
          "base_uri": "https://localhost:8080/",
          "height": 34
        },
        "outputId": "da461caa-d08b-49e2-c966-71dd3650a069"
      },
      "source": [
        "#define model architectures\n",
        "\n",
        "import keras\n",
        "import string\n",
        "import random\n",
        "\n",
        "\n",
        "def model_arch1(l1_reg):\n",
        "  model = keras.models.Sequential()\n",
        "  for i in range(4):\n",
        "    added_kwarg = {}\n",
        "    if (i==0):\n",
        "      added_kwarg[\"input_shape\"] = (100,4)\n",
        "    model.add(keras.layers.Conv1D(\n",
        "                filters=15, kernel_size=7, \n",
        "                activation = \"relu\",\n",
        "                kernel_initializer=\"he_normal\",\n",
        "                kernel_regularizer=keras.regularizers.l1(l1_reg),\n",
        "                **added_kwarg))\n",
        "  model.add(keras.layers.GlobalAveragePooling1D()) \n",
        "  for i in range(2):\n",
        "    model.add(keras.layers.Dense(50, activation=\"relu\",\n",
        "              kernel_initializer=\"he_normal\",\n",
        "              kernel_regularizer=keras.regularizers.l1(l1_reg)))\n",
        "  model.add(keras.layers.Dense(1, activation=\"linear\"))\n",
        "  adam = keras.optimizers.Adam()\n",
        "  model.compile(optimizer=adam, loss=\"mean_squared_error\")\n",
        "  return model\n",
        "\n",
        "\n",
        "def model_arch2(l1_reg):\n",
        "  model = keras.models.Sequential()\n",
        "  for i in range(4):\n",
        "    added_kwarg = {}\n",
        "    if (i==0):\n",
        "      added_kwarg[\"input_shape\"] = (100,4)\n",
        "    model.add(keras.layers.Conv1D(\n",
        "                filters=15, kernel_size=7, \n",
        "                activation = \"relu\",\n",
        "                kernel_initializer=\"he_normal\",\n",
        "                kernel_regularizer=keras.regularizers.l1(l1_reg),\n",
        "                **added_kwarg))\n",
        "  model.add(keras.layers.GlobalAveragePooling1D()) \n",
        "  for i in range(3):\n",
        "    model.add(keras.layers.Dense(30, activation=\"relu\",\n",
        "              kernel_initializer=\"he_normal\",\n",
        "              kernel_regularizer=keras.regularizers.l1(l1_reg)))\n",
        "  model.add(keras.layers.Dense(1, activation=\"linear\"))\n",
        "  adam = keras.optimizers.Adam()\n",
        "  model.compile(optimizer=adam, loss=\"mean_squared_error\")\n",
        "  return model\n",
        "\n",
        "\n",
        "def model_arch3(l1_reg):\n",
        "  model = keras.models.Sequential()\n",
        "  for i in range(5):\n",
        "    added_kwarg = {}\n",
        "    if (i==0):\n",
        "      added_kwarg[\"input_shape\"] = (100,4)\n",
        "    model.add(keras.layers.Conv1D(\n",
        "                filters=15, kernel_size=5, \n",
        "                activation = \"relu\",\n",
        "                kernel_initializer=\"he_normal\",\n",
        "                kernel_regularizer=keras.regularizers.l1(l1_reg),\n",
        "                **added_kwarg))\n",
        "  model.add(keras.layers.GlobalAveragePooling1D()) \n",
        "  for i in range(3):\n",
        "    model.add(keras.layers.Dense(30, activation=\"relu\",\n",
        "              kernel_initializer=\"he_normal\",\n",
        "              kernel_regularizer=keras.regularizers.l1(l1_reg)))\n",
        "  model.add(keras.layers.Dense(1, activation=\"linear\"))\n",
        "  adam = keras.optimizers.Adam()\n",
        "  model.compile(optimizer=adam, loss=\"mean_squared_error\")\n",
        "  return model\n",
        "\n",
        "\n",
        "def train_and_save_model(model_constructor, prefix, X_train, y_train,\n",
        "                         X_valid, y_valid, seed):\n",
        "  \n",
        "  barcode = ''.join(random.choice(string.ascii_lowercase) for i in range(5))\n",
        "  np.random.seed(seed)\n",
        "  model = model_constructor()\n",
        "  save_filename = prefix+\"_\"+barcode+\".h5\"\n",
        "  print(\"Training model\", save_filename)\n",
        "  print(model.summary())\n",
        "  model.fit(x=X_train, y=y_train, batch_size=200,\n",
        "            epochs=1000,\n",
        "            validation_data=(X_valid, y_valid),\n",
        "            callbacks=[keras.callbacks.EarlyStopping(\n",
        "                        monitor='val_loss',\n",
        "                        patience=15,\n",
        "                        restore_best_weights=True)])\n",
        "  \n",
        "  print(\"Save file name\", save_filename)\n",
        "  model.save(save_filename)\n",
        "  return model\n"
      ],
      "execution_count": 9,
      "outputs": [
        {
          "output_type": "stream",
          "text": [
            "Using TensorFlow backend.\n"
          ],
          "name": "stderr"
        }
      ]
    },
    {
      "cell_type": "code",
      "metadata": {
        "id": "Z9GIVdNb2Zk2",
        "colab_type": "code",
        "colab": {
          "base_uri": "https://localhost:8080/",
          "height": 122
        },
        "outputId": "38dac4f5-cb3d-401e-c5ab-582e314602d1"
      },
      "source": [
        "from google.colab import drive\n",
        "drive.mount('/content/drive')"
      ],
      "execution_count": 10,
      "outputs": [
        {
          "output_type": "stream",
          "text": [
            "Go to this URL in a browser: https://accounts.google.com/o/oauth2/auth?client_id=947318989803-6bn6qk8qdgf4n4g3pfee6491hc0brc4i.apps.googleusercontent.com&redirect_uri=urn%3aietf%3awg%3aoauth%3a2.0%3aoob&response_type=code&scope=email%20https%3a%2f%2fwww.googleapis.com%2fauth%2fdocs.test%20https%3a%2f%2fwww.googleapis.com%2fauth%2fdrive%20https%3a%2f%2fwww.googleapis.com%2fauth%2fdrive.photos.readonly%20https%3a%2f%2fwww.googleapis.com%2fauth%2fpeopleapi.readonly\n",
            "\n",
            "Enter your authorization code:\n",
            "··········\n",
            "Mounted at /content/drive\n"
          ],
          "name": "stdout"
        }
      ]
    },
    {
      "cell_type": "code",
      "metadata": {
        "id": "IIreSCrC374p",
        "colab_type": "code",
        "colab": {
          "base_uri": "https://localhost:8080/",
          "height": 34
        },
        "outputId": "6bbdb693-e40b-427b-fc00-dd24b91e0af7"
      },
      "source": [
        "!ln -s /content/drive/My\\ Drive/colab_notebook_data/ ."
      ],
      "execution_count": 13,
      "outputs": [
        {
          "output_type": "stream",
          "text": [
            "ln: failed to create symbolic link './colab_notebook_data': File exists\n"
          ],
          "name": "stdout"
        }
      ]
    },
    {
      "cell_type": "code",
      "metadata": {
        "id": "JxMH1hCHDAXb",
        "colab_type": "code",
        "colab": {
          "base_uri": "https://localhost:8080/",
          "height": 265
        },
        "outputId": "51ced5b5-529e-4555-c857-bb7d208f91eb"
      },
      "source": [
        "%matplotlib inline\n",
        "from matplotlib import pyplot as plt\n",
        "\n",
        "plt.hist(train_pos_labels, density=True, bins=20)\n",
        "plt.show()"
      ],
      "execution_count": 15,
      "outputs": [
        {
          "output_type": "display_data",
          "data": {
            "image/png": "[encoded data removed]",
            "text/plain": [
              "<Figure size 432x288 with 1 Axes>"
            ]
          },
          "metadata": {
            "tags": [],
            "needs_background": "light"
          }
        }
      ]
    },
    {
      "cell_type": "code",
      "metadata": {
        "id": "0Ee4yVMX3ISx",
        "colab_type": "code",
        "colab": {
          "base_uri": "https://localhost:8080/",
          "height": 1000
        },
        "outputId": "35543d9c-4f36-40c1-e054-28772aa5e051"
      },
      "source": [
        "#train the models\n",
        "\n",
        "indices_train = np.arange(0, int(0.8 * train_onehot_data.shape[0]))\n",
        "indices_valid = np.arange(int(0.8 * train_onehot_data.shape[0]),\n",
        "                              train_onehot_data.shape[0])\n",
        "\n",
        "SAVEDIR = \"colab_notebook_data/feature_interactions/trained_models\"\n",
        "\n",
        "for seed in [100, 200, 300, 400, 500]:\n",
        "  for l1_reg in [0.0, 0.0001, 0.001]:\n",
        "    for model_constructor, archname in [(model_arch1, 'anscombemse_arch1'),\n",
        "                                        (model_arch2, 'anscombemse_arch2'),\n",
        "                                        (model_arch3, 'anscombemse_arch3')]:\n",
        "        \"\"\"train_and_save_model(\n",
        "            model_constructor=lambda: model_constructor(l1_reg),\n",
        "            prefix=(SAVEDIR+\"/poscontrol_model-\"+archname\n",
        "                    +\"_l1reg-\"+str(l1_reg)+\"_seed\"+str(seed)),\n",
        "            X_train=train_onehot_data[indices_train],\n",
        "            y_train=train_pos_labels[indices_train],\n",
        "            X_valid=train_onehot_data[indices_valid],\n",
        "            y_valid=train_pos_labels[indices_valid],\n",
        "            seed=seed) #vary the seed for initialization diversity\"\"\"\n",
        "        \n",
        "        train_and_save_model(\n",
        "            model_constructor=lambda: model_constructor(l1_reg),\n",
        "            prefix=(SAVEDIR+\"/negcontrol_model-\"+archname\n",
        "                    +\"_l1reg-\"+str(l1_reg)+\"_seed\"+str(seed)),\n",
        "            X_train=train_onehot_data[indices_train],\n",
        "            y_train=train_neg_labels[indices_train],\n",
        "            X_valid=train_onehot_data[indices_valid],\n",
        "            y_valid=train_neg_labels[indices_valid],\n",
        "            seed=seed) #vary the seed for initialization diversity\n"
      ],
      "execution_count": null,
      "outputs": [
        {
          "output_type": "stream",
          "text": [
            "WARNING:tensorflow:From /tensorflow-1.15.2/python3.6/tensorflow_core/python/ops/resource_variable_ops.py:1630: calling BaseResourceVariable.__init__ (from tensorflow.python.ops.resource_variable_ops) with constraint is deprecated and will be removed in a future version.\n",
            "Instructions for updating:\n",
            "If using Keras pass *_constraint arguments to layers.\n",
            "Training model colab_notebook_data/feature_interactions/trained_models/negcontrol_model-anscombemse_arch1_l1reg-0.0_seed100_gdfnk.h5\n",
            "Model: \"sequential_1\"\n",
            "_________________________________________________________________\n",
            "Layer (type)                 Output Shape              Param #   \n",
            "=================================================================\n",
            "conv1d_1 (Conv1D)            (None, 94, 15)            435       \n",
            "_________________________________________________________________\n",
            "conv1d_2 (Conv1D)            (None, 88, 15)            1590      \n",
            "_________________________________________________________________\n",
            "conv1d_3 (Conv1D)            (None, 82, 15)            1590      \n",
            "_________________________________________________________________\n",
            "conv1d_4 (Conv1D)            (None, 76, 15)            1590      \n",
            "_________________________________________________________________\n",
            "global_average_pooling1d_1 ( (None, 15)                0         \n",
            "_________________________________________________________________\n",
            "dense_1 (Dense)              (None, 50)                800       \n",
            "_________________________________________________________________\n",
            "dense_2 (Dense)              (None, 50)                2550      \n",
            "_________________________________________________________________\n",
            "dense_3 (Dense)              (None, 1)                 51        \n",
            "=================================================================\n",
            "Total params: 8,606\n",
            "Trainable params: 8,606\n",
            "Non-trainable params: 0\n",
            "_________________________________________________________________\n",
            "None\n",
            "WARNING:tensorflow:From /usr/local/lib/python3.6/dist-packages/keras/backend/tensorflow_backend.py:422: The name tf.global_variables is deprecated. Please use tf.compat.v1.global_variables instead.\n",
            "\n",
            "Train on 40000 samples, validate on 10000 samples\n",
            "Epoch 1/1000\n",
            "40000/40000 [==============================] - 8s 199us/step - loss: 188.0804 - val_loss: 74.8166\n",
            "Epoch 2/1000\n",
            "40000/40000 [==============================] - 1s 37us/step - loss: 68.0759 - val_loss: 54.1285\n",
            "Epoch 3/1000\n",
            "40000/40000 [==============================] - 1s 36us/step - loss: 43.9106 - val_loss: 38.8379\n",
            "Epoch 4/1000\n",
            "40000/40000 [==============================] - 1s 36us/step - loss: 34.5405 - val_loss: 30.4035\n",
            "Epoch 5/1000\n",
            "40000/40000 [==============================] - 1s 36us/step - loss: 29.0472 - val_loss: 28.0035\n",
            "Epoch 6/1000\n",
            "40000/40000 [==============================] - 1s 36us/step - loss: 26.2279 - val_loss: 25.1265\n",
            "Epoch 7/1000\n",
            "40000/40000 [==============================] - 1s 36us/step - loss: 24.3694 - val_loss: 25.3474\n",
            "Epoch 8/1000\n",
            "40000/40000 [==============================] - 1s 36us/step - loss: 22.8152 - val_loss: 22.2632\n",
            "Epoch 9/1000\n",
            "40000/40000 [==============================] - 1s 35us/step - loss: 21.6969 - val_loss: 21.6961\n",
            "Epoch 10/1000\n",
            "40000/40000 [==============================] - 1s 36us/step - loss: 20.8622 - val_loss: 20.5200\n",
            "Epoch 11/1000\n",
            "40000/40000 [==============================] - 1s 37us/step - loss: 20.0031 - val_loss: 20.3137\n",
            "Epoch 12/1000\n",
            "40000/40000 [==============================] - 1s 36us/step - loss: 19.4234 - val_loss: 19.2195\n",
            "Epoch 13/1000\n",
            "40000/40000 [==============================] - 1s 36us/step - loss: 18.9016 - val_loss: 18.7032\n",
            "Epoch 14/1000\n",
            "40000/40000 [==============================] - 1s 36us/step - loss: 18.2499 - val_loss: 18.4089\n",
            "Epoch 15/1000\n",
            "40000/40000 [==============================] - 1s 36us/step - loss: 17.8547 - val_loss: 18.0550\n",
            "Epoch 16/1000\n",
            "40000/40000 [==============================] - 1s 36us/step - loss: 17.5506 - val_loss: 17.4963\n",
            "Epoch 17/1000\n",
            "40000/40000 [==============================] - 1s 36us/step - loss: 17.2103 - val_loss: 17.1761\n",
            "Epoch 18/1000\n",
            "40000/40000 [==============================] - 1s 37us/step - loss: 16.7911 - val_loss: 16.9701\n",
            "Epoch 19/1000\n",
            "40000/40000 [==============================] - 1s 36us/step - loss: 16.4737 - val_loss: 17.2691\n",
            "Epoch 20/1000\n",
            "40000/40000 [==============================] - 1s 36us/step - loss: 16.0812 - val_loss: 16.3563\n",
            "Epoch 21/1000\n",
            "40000/40000 [==============================] - 1s 36us/step - loss: 15.6777 - val_loss: 15.6834\n",
            "Epoch 22/1000\n",
            "40000/40000 [==============================] - 1s 36us/step - loss: 15.3418 - val_loss: 15.4827\n",
            "Epoch 23/1000\n",
            "40000/40000 [==============================] - 1s 36us/step - loss: 15.0135 - val_loss: 15.1904\n",
            "Epoch 24/1000\n",
            "40000/40000 [==============================] - 1s 36us/step - loss: 14.6692 - val_loss: 15.0077\n",
            "Epoch 25/1000\n",
            "40000/40000 [==============================] - 1s 36us/step - loss: 14.4686 - val_loss: 15.0157\n",
            "Epoch 26/1000\n",
            "40000/40000 [==============================] - 1s 36us/step - loss: 14.3447 - val_loss: 14.9341\n",
            "Epoch 27/1000\n",
            "40000/40000 [==============================] - 1s 36us/step - loss: 14.1624 - val_loss: 14.7181\n",
            "Epoch 28/1000\n",
            "40000/40000 [==============================] - 1s 35us/step - loss: 14.3088 - val_loss: 14.4085\n",
            "Epoch 29/1000\n",
            "40000/40000 [==============================] - 1s 36us/step - loss: 13.8854 - val_loss: 15.0827\n",
            "Epoch 30/1000\n",
            "40000/40000 [==============================] - 1s 35us/step - loss: 13.6599 - val_loss: 14.2069\n",
            "Epoch 31/1000\n",
            "40000/40000 [==============================] - 1s 37us/step - loss: 13.5778 - val_loss: 14.2736\n",
            "Epoch 32/1000\n",
            "40000/40000 [==============================] - 1s 36us/step - loss: 13.5138 - val_loss: 14.2603\n",
            "Epoch 33/1000\n",
            "40000/40000 [==============================] - 1s 37us/step - loss: 13.3385 - val_loss: 14.6638\n",
            "Epoch 34/1000\n",
            "40000/40000 [==============================] - 1s 36us/step - loss: 13.4345 - val_loss: 14.1310\n",
            "Epoch 35/1000\n",
            "40000/40000 [==============================] - 1s 36us/step - loss: 13.1549 - val_loss: 13.7018\n",
            "Epoch 36/1000\n",
            "40000/40000 [==============================] - 1s 36us/step - loss: 13.0481 - val_loss: 13.9853\n",
            "Epoch 37/1000\n",
            "40000/40000 [==============================] - 1s 35us/step - loss: 12.9776 - val_loss: 13.8810\n",
            "Epoch 38/1000\n",
            "40000/40000 [==============================] - 1s 37us/step - loss: 12.9833 - val_loss: 13.6350\n",
            "Epoch 39/1000\n",
            "40000/40000 [==============================] - 1s 36us/step - loss: 12.8246 - val_loss: 13.6067\n",
            "Epoch 40/1000\n",
            "40000/40000 [==============================] - 1s 37us/step - loss: 12.7569 - val_loss: 13.5746\n",
            "Epoch 41/1000\n",
            "40000/40000 [==============================] - 1s 36us/step - loss: 12.6900 - val_loss: 13.8799\n",
            "Epoch 42/1000\n",
            "40000/40000 [==============================] - 1s 37us/step - loss: 12.7566 - val_loss: 13.4556\n",
            "Epoch 43/1000\n",
            "40000/40000 [==============================] - 1s 36us/step - loss: 12.5955 - val_loss: 13.6691\n",
            "Epoch 44/1000\n",
            "40000/40000 [==============================] - 1s 36us/step - loss: 12.7111 - val_loss: 13.3128\n",
            "Epoch 45/1000\n",
            "40000/40000 [==============================] - 1s 36us/step - loss: 12.4611 - val_loss: 13.2636\n",
            "Epoch 46/1000\n",
            "40000/40000 [==============================] - 1s 36us/step - loss: 12.3383 - val_loss: 13.5646\n",
            "Epoch 47/1000\n",
            "40000/40000 [==============================] - 1s 37us/step - loss: 12.3232 - val_loss: 14.1147\n",
            "Epoch 48/1000\n",
            "40000/40000 [==============================] - 1s 36us/step - loss: 12.3251 - val_loss: 13.2063\n",
            "Epoch 49/1000\n",
            "40000/40000 [==============================] - 1s 34us/step - loss: 12.1726 - val_loss: 13.1560\n",
            "Epoch 50/1000\n",
            "40000/40000 [==============================] - 1s 36us/step - loss: 12.1625 - val_loss: 13.3836\n",
            "Epoch 51/1000\n",
            "40000/40000 [==============================] - 1s 36us/step - loss: 12.1708 - val_loss: 13.1822\n",
            "Epoch 52/1000\n",
            "40000/40000 [==============================] - 1s 36us/step - loss: 11.9994 - val_loss: 13.2840\n",
            "Epoch 53/1000\n",
            "40000/40000 [==============================] - 1s 36us/step - loss: 11.9717 - val_loss: 13.3980\n",
            "Epoch 54/1000\n",
            "40000/40000 [==============================] - 1s 36us/step - loss: 11.9317 - val_loss: 13.0975\n",
            "Epoch 55/1000\n",
            "40000/40000 [==============================] - 1s 37us/step - loss: 11.8694 - val_loss: 13.0649\n",
            "Epoch 56/1000\n",
            "40000/40000 [==============================] - 1s 36us/step - loss: 11.9177 - val_loss: 13.3021\n",
            "Epoch 57/1000\n",
            "40000/40000 [==============================] - 1s 36us/step - loss: 11.7322 - val_loss: 13.5238\n",
            "Epoch 58/1000\n",
            "40000/40000 [==============================] - 1s 36us/step - loss: 11.8078 - val_loss: 14.0335\n",
            "Epoch 59/1000\n",
            "40000/40000 [==============================] - 1s 36us/step - loss: 11.7685 - val_loss: 13.5770\n",
            "Epoch 60/1000\n",
            "40000/40000 [==============================] - 1s 36us/step - loss: 11.7125 - val_loss: 13.1213\n",
            "Epoch 61/1000\n",
            "40000/40000 [==============================] - 1s 35us/step - loss: 11.5466 - val_loss: 12.9187\n",
            "Epoch 62/1000\n",
            "40000/40000 [==============================] - 1s 36us/step - loss: 11.5536 - val_loss: 13.2177\n",
            "Epoch 63/1000\n",
            "40000/40000 [==============================] - 1s 36us/step - loss: 11.5626 - val_loss: 13.0355\n",
            "Epoch 64/1000\n",
            "40000/40000 [==============================] - 1s 37us/step - loss: 11.4456 - val_loss: 13.0465\n",
            "Epoch 65/1000\n",
            "40000/40000 [==============================] - 1s 36us/step - loss: 11.4375 - val_loss: 13.1375\n",
            "Epoch 66/1000\n",
            "40000/40000 [==============================] - 1s 36us/step - loss: 11.3518 - val_loss: 12.8781\n",
            "Epoch 67/1000\n",
            "40000/40000 [==============================] - 1s 36us/step - loss: 11.2312 - val_loss: 12.8262\n",
            "Epoch 68/1000\n",
            "40000/40000 [==============================] - 1s 36us/step - loss: 11.3879 - val_loss: 12.9867\n",
            "Epoch 69/1000\n",
            "40000/40000 [==============================] - 1s 37us/step - loss: 11.2539 - val_loss: 13.1079\n",
            "Epoch 70/1000\n",
            "40000/40000 [==============================] - 1s 36us/step - loss: 11.4260 - val_loss: 12.8120\n",
            "Epoch 71/1000\n",
            "40000/40000 [==============================] - 1s 36us/step - loss: 11.1187 - val_loss: 12.7601\n",
            "Epoch 72/1000\n",
            "40000/40000 [==============================] - 1s 36us/step - loss: 11.1455 - val_loss: 13.3691\n",
            "Epoch 73/1000\n",
            "40000/40000 [==============================] - 1s 35us/step - loss: 10.9795 - val_loss: 13.1100\n",
            "Epoch 74/1000\n",
            "40000/40000 [==============================] - 1s 36us/step - loss: 11.1241 - val_loss: 12.8062\n",
            "Epoch 75/1000\n",
            "40000/40000 [==============================] - 1s 36us/step - loss: 10.9352 - val_loss: 12.7204\n",
            "Epoch 76/1000\n",
            "40000/40000 [==============================] - 1s 37us/step - loss: 11.1047 - val_loss: 13.6912\n",
            "Epoch 77/1000\n",
            "40000/40000 [==============================] - 1s 36us/step - loss: 10.9447 - val_loss: 13.2281\n",
            "Epoch 78/1000\n",
            "40000/40000 [==============================] - 1s 36us/step - loss: 10.9337 - val_loss: 13.0058\n",
            "Epoch 79/1000\n",
            "40000/40000 [==============================] - 1s 36us/step - loss: 10.9816 - val_loss: 13.2487\n",
            "Epoch 80/1000\n",
            "40000/40000 [==============================] - 1s 35us/step - loss: 10.8428 - val_loss: 13.7736\n",
            "Epoch 81/1000\n",
            "40000/40000 [==============================] - 1s 37us/step - loss: 10.7600 - val_loss: 12.5674\n",
            "Epoch 82/1000\n",
            "40000/40000 [==============================] - 1s 36us/step - loss: 10.6687 - val_loss: 12.5979\n",
            "Epoch 83/1000\n",
            "40000/40000 [==============================] - 1s 37us/step - loss: 10.6863 - val_loss: 13.0303\n",
            "Epoch 84/1000\n",
            "40000/40000 [==============================] - 1s 36us/step - loss: 10.6431 - val_loss: 12.6469\n",
            "Epoch 85/1000\n",
            "40000/40000 [==============================] - 1s 35us/step - loss: 10.6711 - val_loss: 12.5854\n",
            "Epoch 86/1000\n",
            "40000/40000 [==============================] - 1s 36us/step - loss: 10.6232 - val_loss: 12.5440\n",
            "Epoch 87/1000\n",
            "40000/40000 [==============================] - 1s 36us/step - loss: 10.4300 - val_loss: 13.6808\n",
            "Epoch 88/1000\n",
            "40000/40000 [==============================] - 1s 36us/step - loss: 10.4106 - val_loss: 13.2861\n",
            "Epoch 89/1000\n",
            "40000/40000 [==============================] - 1s 35us/step - loss: 10.4861 - val_loss: 12.7250\n",
            "Epoch 90/1000\n",
            "40000/40000 [==============================] - 1s 36us/step - loss: 10.3723 - val_loss: 13.0301\n",
            "Epoch 91/1000\n",
            "40000/40000 [==============================] - 1s 37us/step - loss: 10.3703 - val_loss: 12.7740\n",
            "Epoch 92/1000\n",
            "40000/40000 [==============================] - 1s 36us/step - loss: 10.3253 - val_loss: 13.9969\n",
            "Epoch 93/1000\n",
            "40000/40000 [==============================] - 1s 36us/step - loss: 10.3120 - val_loss: 13.4185\n",
            "Epoch 94/1000\n",
            "40000/40000 [==============================] - 1s 36us/step - loss: 10.2229 - val_loss: 12.6952\n",
            "Epoch 95/1000\n",
            "40000/40000 [==============================] - 1s 36us/step - loss: 10.3450 - val_loss: 12.4094\n",
            "Epoch 96/1000\n",
            "40000/40000 [==============================] - 1s 37us/step - loss: 10.1023 - val_loss: 14.0197\n",
            "Epoch 97/1000\n",
            "40000/40000 [==============================] - 1s 36us/step - loss: 10.0157 - val_loss: 12.7838\n",
            "Epoch 98/1000\n",
            "40000/40000 [==============================] - 1s 36us/step - loss: 10.2322 - val_loss: 12.4542\n",
            "Epoch 99/1000\n",
            "40000/40000 [==============================] - 1s 37us/step - loss: 9.9625 - val_loss: 12.8928\n",
            "Epoch 100/1000\n",
            "40000/40000 [==============================] - 1s 36us/step - loss: 10.1306 - val_loss: 12.4456\n",
            "Epoch 101/1000\n",
            "40000/40000 [==============================] - 1s 36us/step - loss: 9.9620 - val_loss: 12.9905\n",
            "Epoch 102/1000\n",
            "40000/40000 [==============================] - 1s 36us/step - loss: 9.9566 - val_loss: 12.5991\n",
            "Epoch 103/1000\n",
            "40000/40000 [==============================] - 1s 36us/step - loss: 9.8195 - val_loss: 12.5072\n",
            "Epoch 104/1000\n",
            "40000/40000 [==============================] - 1s 37us/step - loss: 9.9093 - val_loss: 12.5438\n",
            "Epoch 105/1000\n",
            "40000/40000 [==============================] - 1s 36us/step - loss: 9.7478 - val_loss: 13.7244\n",
            "Epoch 106/1000\n",
            "40000/40000 [==============================] - 1s 36us/step - loss: 9.8714 - val_loss: 12.7828\n",
            "Epoch 107/1000\n",
            "40000/40000 [==============================] - 1s 35us/step - loss: 9.5569 - val_loss: 12.4734\n",
            "Epoch 108/1000\n",
            "40000/40000 [==============================] - 1s 35us/step - loss: 9.6049 - val_loss: 12.4293\n",
            "Epoch 109/1000\n",
            "40000/40000 [==============================] - 1s 37us/step - loss: 9.5614 - val_loss: 12.5678\n",
            "Epoch 110/1000\n",
            "40000/40000 [==============================] - 1s 36us/step - loss: 9.6807 - val_loss: 12.4033\n",
            "Epoch 111/1000\n",
            "40000/40000 [==============================] - 1s 35us/step - loss: 9.5837 - val_loss: 12.4315\n",
            "Epoch 112/1000\n",
            "40000/40000 [==============================] - 1s 36us/step - loss: 9.4069 - val_loss: 12.1228\n",
            "Epoch 113/1000\n",
            "40000/40000 [==============================] - 1s 36us/step - loss: 9.4424 - val_loss: 12.9498\n",
            "Epoch 114/1000\n",
            "40000/40000 [==============================] - 1s 36us/step - loss: 9.4453 - val_loss: 12.2972\n",
            "Epoch 115/1000\n",
            "40000/40000 [==============================] - 1s 36us/step - loss: 9.3241 - val_loss: 12.1203\n",
            "Epoch 116/1000\n",
            "40000/40000 [==============================] - 1s 36us/step - loss: 9.2917 - val_loss: 12.5877\n",
            "Epoch 117/1000\n",
            "25200/40000 [=================>............] - ETA: 0s - loss: 9.0561"
          ],
          "name": "stdout"
        }
      ]
    },
    {
      "cell_type": "code",
      "metadata": {
        "id": "TKZLtACYS8db",
        "colab_type": "code",
        "colab": {}
      },
      "source": [
        ""
      ],
      "execution_count": null,
      "outputs": []
    },
    {
      "cell_type": "code",
      "metadata": {
        "id": "PHfeXcR-1vuy",
        "colab_type": "code",
        "colab": {}
      },
      "source": [
        ""
      ],
      "execution_count": null,
      "outputs": []
    },
    {
      "cell_type": "code",
      "metadata": {
        "id": "sdJc9KsI2DVZ",
        "colab_type": "code",
        "colab": {}
      },
      "source": [
        ""
      ],
      "execution_count": null,
      "outputs": []
    }
  ]
}