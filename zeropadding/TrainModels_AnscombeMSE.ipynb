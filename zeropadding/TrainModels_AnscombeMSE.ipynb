{
  "nbformat": 4,
  "nbformat_minor": 0,
  "metadata": {
    "colab": {
      "name": "TrainModels_AnscombeMSE.ipynb",
      "provenance": [],
      "collapsed_sections": [],
      "include_colab_link": true
    },
    "kernelspec": {
      "name": "python3",
      "display_name": "Python 3"
    },
    "accelerator": "GPU"
  },
  "cells": [
    {
      "cell_type": "markdown",
      "metadata": {
        "id": "view-in-github",
        "colab_type": "text"
      },
      "source": [
        "<a href=\"https://colab.research.google.com/github/kundajelab/feature_interactions/blob/master/zeropadding/TrainModels_AnscombeMSE.ipynb\" target=\"_parent\"><img src=\"https://colab.research.google.com/assets/colab-badge.svg\" alt=\"Open In Colab\"/></a>"
      ]
    },
    {
      "cell_type": "code",
      "metadata": {
        "id": "qy6uELUUxZpx",
        "colab_type": "code",
        "colab": {
          "base_uri": "https://localhost:8080/",
          "height": 34
        },
        "outputId": "bc364a62-0ca0-446b-86ad-b46640ddbae7"
      },
      "source": [
        "%tensorflow_version 1.x"
      ],
      "execution_count": 1,
      "outputs": [
        {
          "output_type": "stream",
          "text": [
            "TensorFlow 1.x selected.\n"
          ],
          "name": "stdout"
        }
      ]
    },
    {
      "cell_type": "code",
      "metadata": {
        "id": "ikdAjY7YxzBI",
        "colab_type": "code",
        "colab": {
          "base_uri": "https://localhost:8080/",
          "height": 853
        },
        "outputId": "bf97f872-a7ae-4bb7-d5dc-e96cae598af7"
      },
      "source": [
        "#download raw data\n",
        "!wget https://github.com/kundajelab/feature_interactions/raw/2349aab/zeropadding/data/train_simulation.simdata.gz\n",
        "!wget https://github.com/kundajelab/feature_interactions/raw/2349aab/zeropadding/data/train_neg_labels.txt.gz\n",
        "!wget https://github.com/kundajelab/feature_interactions/raw/2349aab/zeropadding/data/train_pos_labels.txt.gz"
      ],
      "execution_count": 2,
      "outputs": [
        {
          "output_type": "stream",
          "text": [
            "--2020-06-25 16:53:40--  https://github.com/kundajelab/feature_interactions/raw/2349aab/zeropadding/data/train_simulation.simdata.gz\n",
            "Resolving github.com (github.com)... 140.82.112.4\n",
            "Connecting to github.com (github.com)|140.82.112.4|:443... connected.\n",
            "HTTP request sent, awaiting response... 302 Found\n",
            "Location: https://raw.githubusercontent.com/kundajelab/feature_interactions/2349aab4a9eea5e20861123641d84f04cfb8f853/zeropadding/data/train_simulation.simdata.gz [following]\n",
            "--2020-06-25 16:53:41--  https://raw.githubusercontent.com/kundajelab/feature_interactions/2349aab4a9eea5e20861123641d84f04cfb8f853/zeropadding/data/train_simulation.simdata.gz\n",
            "Resolving raw.githubusercontent.com (raw.githubusercontent.com)... 151.101.0.133, 151.101.64.133, 151.101.128.133, ...\n",
            "Connecting to raw.githubusercontent.com (raw.githubusercontent.com)|151.101.0.133|:443... connected.\n",
            "HTTP request sent, awaiting response... 200 OK\n",
            "Length: 2104123 (2.0M) [application/octet-stream]\n",
            "Saving to: ‘train_simulation.simdata.gz’\n",
            "\n",
            "train_simulation.si 100%[===================>]   2.01M  9.14MB/s    in 0.2s    \n",
            "\n",
            "2020-06-25 16:53:43 (9.14 MB/s) - ‘train_simulation.simdata.gz’ saved [2104123/2104123]\n",
            "\n",
            "--2020-06-25 16:53:45--  https://github.com/kundajelab/feature_interactions/raw/2349aab/zeropadding/data/train_neg_labels.txt.gz\n",
            "Resolving github.com (github.com)... 140.82.112.4\n",
            "Connecting to github.com (github.com)|140.82.112.4|:443... connected.\n",
            "HTTP request sent, awaiting response... 302 Found\n",
            "Location: https://raw.githubusercontent.com/kundajelab/feature_interactions/2349aab4a9eea5e20861123641d84f04cfb8f853/zeropadding/data/train_neg_labels.txt.gz [following]\n",
            "--2020-06-25 16:53:45--  https://raw.githubusercontent.com/kundajelab/feature_interactions/2349aab4a9eea5e20861123641d84f04cfb8f853/zeropadding/data/train_neg_labels.txt.gz\n",
            "Resolving raw.githubusercontent.com (raw.githubusercontent.com)... 151.101.0.133, 151.101.64.133, 151.101.128.133, ...\n",
            "Connecting to raw.githubusercontent.com (raw.githubusercontent.com)|151.101.0.133|:443... connected.\n",
            "HTTP request sent, awaiting response... 200 OK\n",
            "Length: 529319 (517K) [application/octet-stream]\n",
            "Saving to: ‘train_neg_labels.txt.gz’\n",
            "\n",
            "train_neg_labels.tx 100%[===================>] 516.91K  --.-KB/s    in 0.07s   \n",
            "\n",
            "2020-06-25 16:53:47 (7.58 MB/s) - ‘train_neg_labels.txt.gz’ saved [529319/529319]\n",
            "\n",
            "--2020-06-25 16:53:48--  https://github.com/kundajelab/feature_interactions/raw/2349aab/zeropadding/data/train_pos_labels.txt.gz\n",
            "Resolving github.com (github.com)... 140.82.112.4\n",
            "Connecting to github.com (github.com)|140.82.112.4|:443... connected.\n",
            "HTTP request sent, awaiting response... 302 Found\n",
            "Location: https://raw.githubusercontent.com/kundajelab/feature_interactions/2349aab4a9eea5e20861123641d84f04cfb8f853/zeropadding/data/train_pos_labels.txt.gz [following]\n",
            "--2020-06-25 16:53:49--  https://raw.githubusercontent.com/kundajelab/feature_interactions/2349aab4a9eea5e20861123641d84f04cfb8f853/zeropadding/data/train_pos_labels.txt.gz\n",
            "Resolving raw.githubusercontent.com (raw.githubusercontent.com)... 151.101.0.133, 151.101.64.133, 151.101.128.133, ...\n",
            "Connecting to raw.githubusercontent.com (raw.githubusercontent.com)|151.101.0.133|:443... connected.\n",
            "HTTP request sent, awaiting response... 200 OK\n",
            "Length: 524532 (512K) [application/octet-stream]\n",
            "Saving to: ‘train_pos_labels.txt.gz’\n",
            "\n",
            "train_pos_labels.tx 100%[===================>] 512.24K  --.-KB/s    in 0.07s   \n",
            "\n",
            "2020-06-25 16:53:50 (7.49 MB/s) - ‘train_pos_labels.txt.gz’ saved [524532/524532]\n",
            "\n"
          ],
          "name": "stdout"
        }
      ]
    },
    {
      "cell_type": "code",
      "metadata": {
        "id": "OQ-uVDc2tO38",
        "colab_type": "code",
        "colab": {}
      },
      "source": [
        "!gunzip *.gz"
      ],
      "execution_count": 3,
      "outputs": []
    },
    {
      "cell_type": "code",
      "metadata": {
        "id": "vhBwM80nyOa8",
        "colab_type": "code",
        "colab": {
          "base_uri": "https://localhost:8080/",
          "height": 119
        },
        "outputId": "3c8b3a77-0238-4c0e-d61c-0cd8ab448377"
      },
      "source": [
        "!md5sum *"
      ],
      "execution_count": 14,
      "outputs": [
        {
          "output_type": "stream",
          "text": [
            "md5sum: colab_notebook_data: Is a directory\n",
            "md5sum: drive: Is a directory\n",
            "md5sum: sample_data: Is a directory\n",
            "4b333f203544ecb389fdf8114297d874  train_neg_labels.txt\n",
            "306bf8d95f49454c117e664d3dc61030  train_pos_labels.txt\n",
            "fb82dd3c7dc4b53d34b4fd456394de42  train_simulation.simdata\n"
          ],
          "name": "stdout"
        }
      ]
    },
    {
      "cell_type": "code",
      "metadata": {
        "id": "LBtXarlUynn5",
        "colab_type": "code",
        "colab": {
          "base_uri": "https://localhost:8080/",
          "height": 360
        },
        "outputId": "02889af5-a72f-4348-923f-a9e45ac1b2a8"
      },
      "source": [
        "!pip install simdna"
      ],
      "execution_count": 5,
      "outputs": [
        {
          "output_type": "stream",
          "text": [
            "Collecting simdna\n",
            "\u001b[?25l  Downloading https://files.pythonhosted.org/packages/14/c6/dc6cc2e9ac09c85d5ec6d896c6c43c8dd5ef50bb9c14423e9290131dce27/simdna-0.4.3.2.tar.gz (634kB)\n",
            "\u001b[K     |████████████████████████████████| 634kB 2.7MB/s \n",
            "\u001b[?25hRequirement already satisfied: numpy>=1.9 in /usr/local/lib/python3.6/dist-packages (from simdna) (1.18.5)\n",
            "Requirement already satisfied: matplotlib in /usr/local/lib/python3.6/dist-packages (from simdna) (3.2.2)\n",
            "Requirement already satisfied: scipy in /usr/local/lib/python3.6/dist-packages (from simdna) (1.4.1)\n",
            "Requirement already satisfied: kiwisolver>=1.0.1 in /usr/local/lib/python3.6/dist-packages (from matplotlib->simdna) (1.2.0)\n",
            "Requirement already satisfied: pyparsing!=2.0.4,!=2.1.2,!=2.1.6,>=2.0.1 in /usr/local/lib/python3.6/dist-packages (from matplotlib->simdna) (2.4.7)\n",
            "Requirement already satisfied: cycler>=0.10 in /usr/local/lib/python3.6/dist-packages (from matplotlib->simdna) (0.10.0)\n",
            "Requirement already satisfied: python-dateutil>=2.1 in /usr/local/lib/python3.6/dist-packages (from matplotlib->simdna) (2.8.1)\n",
            "Requirement already satisfied: six in /usr/local/lib/python3.6/dist-packages (from cycler>=0.10->matplotlib->simdna) (1.12.0)\n",
            "Building wheels for collected packages: simdna\n",
            "  Building wheel for simdna (setup.py) ... \u001b[?25lerror\n",
            "\u001b[31m  ERROR: Failed building wheel for simdna\u001b[0m\n",
            "\u001b[?25h  Running setup.py clean for simdna\n",
            "Failed to build simdna\n",
            "Installing collected packages: simdna\n",
            "    Running setup.py install for simdna ... \u001b[?25l\u001b[?25hdone\n",
            "Successfully installed simdna-0.4.3.2\n"
          ],
          "name": "stdout"
        }
      ]
    },
    {
      "cell_type": "code",
      "metadata": {
        "id": "2a-rv5JUzGhk",
        "colab_type": "code",
        "colab": {}
      },
      "source": [
        "import simdna\n",
        "from simdna import synthetic"
      ],
      "execution_count": 6,
      "outputs": []
    },
    {
      "cell_type": "code",
      "metadata": {
        "id": "DDo9TZkQzKCc",
        "colab_type": "code",
        "colab": {}
      },
      "source": [
        "train_data = synthetic.read_simdata_file(\"train_simulation.simdata\")"
      ],
      "execution_count": 7,
      "outputs": []
    },
    {
      "cell_type": "code",
      "metadata": {
        "id": "NMQPKHf1zL-s",
        "colab_type": "code",
        "colab": {}
      },
      "source": [
        "import numpy as np\n",
        "\n",
        "\n",
        "#this is set up for 1d convolutions where examples\n",
        "#have dimensions (len, num_channels) \n",
        "#the channel axis is the axis for one-hot encoding.\n",
        "def one_hot_encode_along_channel_axis(sequence):\n",
        "    to_return = np.zeros((len(sequence),4), dtype=np.int8)\n",
        "    seq_to_one_hot_fill_in_array(zeros_array=to_return,\n",
        "                                 sequence=sequence, one_hot_axis=1)\n",
        "    return to_return\n",
        "\n",
        "\n",
        "def seq_to_one_hot_fill_in_array(zeros_array, sequence, one_hot_axis):\n",
        "    assert one_hot_axis==0 or one_hot_axis==1\n",
        "    if (one_hot_axis==0):\n",
        "        assert zeros_array.shape[1] == len(sequence)\n",
        "    elif (one_hot_axis==1): \n",
        "        assert zeros_array.shape[0] == len(sequence)\n",
        "    #will mutate zeros_array\n",
        "    for (i,char) in enumerate(sequence):\n",
        "        if (char==\"A\" or char==\"a\"):\n",
        "            char_idx = 0\n",
        "        elif (char==\"C\" or char==\"c\"):\n",
        "            char_idx = 1\n",
        "        elif (char==\"G\" or char==\"g\"):\n",
        "            char_idx = 2\n",
        "        elif (char==\"T\" or char==\"t\"):\n",
        "            char_idx = 3\n",
        "        elif (char==\"N\" or char==\"n\"):\n",
        "            continue #leave that pos as all 0's\n",
        "        else:\n",
        "            raise RuntimeError(\"Unsupported character: \"+str(char))\n",
        "        if (one_hot_axis==0):\n",
        "            zeros_array[char_idx,i] = 1\n",
        "        elif (one_hot_axis==1):\n",
        "            zeros_array[i,char_idx] = 1\n",
        "\n",
        "\n",
        "def anscombe_transform(vals):\n",
        "  return 2*np.sqrt(vals + 3.0/8)\n",
        "\n",
        "\n",
        "def inverse_anscombe_transform(vals):\n",
        "  return np.square(vals/2.0) - 3.0/8\n",
        "\n",
        "\n",
        "def read_labels_and_oracle(filename):\n",
        "  labels = anscombe_transform(np.array([float(x.split(\"\\t\")[0]) for\n",
        "                                          x in open(filename)]))\n",
        "  oracle = anscombe_transform(np.array([float(x.split(\"\\t\")[1]) for\n",
        "                                          x in open(filename)]))\n",
        "  return labels, oracle\n",
        "\n",
        "\n",
        "train_onehot_data = np.array([one_hot_encode_along_channel_axis(seq)\n",
        "                              for seq in train_data.sequences])\n",
        "\n",
        "train_pos_labels, train_pos_oracle =\\\n",
        "  read_labels_and_oracle(\"train_pos_labels.txt\")\n",
        "train_neg_labels, train_neg_oracle =\\\n",
        "  read_labels_and_oracle(\"train_neg_labels.txt\")"
      ],
      "execution_count": 8,
      "outputs": []
    },
    {
      "cell_type": "markdown",
      "metadata": {
        "id": "ARK27HEQzqrn",
        "colab_type": "text"
      },
      "source": [
        "Train models"
      ]
    },
    {
      "cell_type": "code",
      "metadata": {
        "id": "Oq1mcODizcry",
        "colab_type": "code",
        "colab": {}
      },
      "source": [
        "#define model architectures\n",
        "\n",
        "import keras\n",
        "import string\n",
        "import random\n",
        "\n",
        "\n",
        "def model_arch1(l1_reg):\n",
        "  model = keras.models.Sequential()\n",
        "  for i in range(4):\n",
        "    added_kwarg = {}\n",
        "    if (i==0):\n",
        "      added_kwarg[\"input_shape\"] = (100,4)\n",
        "    model.add(keras.layers.Conv1D(\n",
        "                filters=15, kernel_size=7, \n",
        "                activation = \"relu\",\n",
        "                kernel_initializer=\"he_normal\",\n",
        "                padding=\"same\",\n",
        "                kernel_regularizer=keras.regularizers.l1(l1_reg),\n",
        "                **added_kwarg))\n",
        "  model.add(keras.layers.GlobalAveragePooling1D()) \n",
        "  for i in range(2):\n",
        "    model.add(keras.layers.Dense(50, activation=\"relu\",\n",
        "              kernel_initializer=\"he_normal\",\n",
        "              kernel_regularizer=keras.regularizers.l1(l1_reg)))\n",
        "  model.add(keras.layers.Dense(1, activation=\"linear\"))\n",
        "  adam = keras.optimizers.Adam()\n",
        "  model.compile(optimizer=adam, loss=\"mean_squared_error\")\n",
        "  return model\n",
        "\n",
        "\n",
        "def model_arch2(l1_reg):\n",
        "  model = keras.models.Sequential()\n",
        "  for i in range(4):\n",
        "    added_kwarg = {}\n",
        "    if (i==0):\n",
        "      added_kwarg[\"input_shape\"] = (100,4)\n",
        "    model.add(keras.layers.Conv1D(\n",
        "                filters=15, kernel_size=7, \n",
        "                activation = \"relu\",\n",
        "                kernel_initializer=\"he_normal\",\n",
        "                padding=\"same\",\n",
        "                kernel_regularizer=keras.regularizers.l1(l1_reg),\n",
        "                **added_kwarg))\n",
        "  model.add(keras.layers.GlobalAveragePooling1D()) \n",
        "  for i in range(3):\n",
        "    model.add(keras.layers.Dense(30, activation=\"relu\",\n",
        "              kernel_initializer=\"he_normal\",\n",
        "              kernel_regularizer=keras.regularizers.l1(l1_reg)))\n",
        "  model.add(keras.layers.Dense(1, activation=\"linear\"))\n",
        "  adam = keras.optimizers.Adam()\n",
        "  model.compile(optimizer=adam, loss=\"mean_squared_error\")\n",
        "  return model\n",
        "\n",
        "\n",
        "def model_arch3(l1_reg):\n",
        "  model = keras.models.Sequential()\n",
        "  for i in range(5):\n",
        "    added_kwarg = {}\n",
        "    if (i==0):\n",
        "      added_kwarg[\"input_shape\"] = (100,4)\n",
        "    model.add(keras.layers.Conv1D(\n",
        "                filters=15, kernel_size=5, \n",
        "                activation = \"relu\",\n",
        "                kernel_initializer=\"he_normal\",\n",
        "                padding=\"same\",\n",
        "                kernel_regularizer=keras.regularizers.l1(l1_reg),\n",
        "                **added_kwarg))\n",
        "  model.add(keras.layers.GlobalAveragePooling1D()) \n",
        "  for i in range(3):\n",
        "    model.add(keras.layers.Dense(30, activation=\"relu\",\n",
        "              kernel_initializer=\"he_normal\",\n",
        "              kernel_regularizer=keras.regularizers.l1(l1_reg)))\n",
        "  model.add(keras.layers.Dense(1, activation=\"linear\"))\n",
        "  adam = keras.optimizers.Adam()\n",
        "  model.compile(optimizer=adam, loss=\"mean_squared_error\")\n",
        "  return model\n",
        "\n",
        "\n",
        "def train_and_save_model(model_constructor, prefix, X_train, y_train,\n",
        "                         X_valid, y_valid, seed):\n",
        "  \n",
        "  barcode = ''.join(random.choice(string.ascii_lowercase) for i in range(5))\n",
        "  np.random.seed(seed)\n",
        "  model = model_constructor()\n",
        "  save_filename = prefix+\"_\"+barcode+\".h5\"\n",
        "  print(\"Training model\", save_filename)\n",
        "  print(model.summary())\n",
        "  model.fit(x=X_train, y=y_train, batch_size=200,\n",
        "            epochs=1000,\n",
        "            validation_data=(X_valid, y_valid),\n",
        "            callbacks=[keras.callbacks.EarlyStopping(\n",
        "                        monitor='val_loss',\n",
        "                        patience=15,\n",
        "                        restore_best_weights=True)])\n",
        "  \n",
        "  print(\"Save file name\", save_filename)\n",
        "  model.save(save_filename)\n",
        "  return model\n"
      ],
      "execution_count": 17,
      "outputs": []
    },
    {
      "cell_type": "code",
      "metadata": {
        "id": "Z9GIVdNb2Zk2",
        "colab_type": "code",
        "colab": {
          "base_uri": "https://localhost:8080/",
          "height": 122
        },
        "outputId": "38dac4f5-cb3d-401e-c5ab-582e314602d1"
      },
      "source": [
        "from google.colab import drive\n",
        "drive.mount('/content/drive')"
      ],
      "execution_count": 10,
      "outputs": [
        {
          "output_type": "stream",
          "text": [
            "Go to this URL in a browser: https://accounts.google.com/o/oauth2/auth?client_id=947318989803-6bn6qk8qdgf4n4g3pfee6491hc0brc4i.apps.googleusercontent.com&redirect_uri=urn%3aietf%3awg%3aoauth%3a2.0%3aoob&response_type=code&scope=email%20https%3a%2f%2fwww.googleapis.com%2fauth%2fdocs.test%20https%3a%2f%2fwww.googleapis.com%2fauth%2fdrive%20https%3a%2f%2fwww.googleapis.com%2fauth%2fdrive.photos.readonly%20https%3a%2f%2fwww.googleapis.com%2fauth%2fpeopleapi.readonly\n",
            "\n",
            "Enter your authorization code:\n",
            "··········\n",
            "Mounted at /content/drive\n"
          ],
          "name": "stdout"
        }
      ]
    },
    {
      "cell_type": "code",
      "metadata": {
        "id": "IIreSCrC374p",
        "colab_type": "code",
        "colab": {
          "base_uri": "https://localhost:8080/",
          "height": 34
        },
        "outputId": "6bbdb693-e40b-427b-fc00-dd24b91e0af7"
      },
      "source": [
        "!ln -s /content/drive/My\\ Drive/colab_notebook_data/ ."
      ],
      "execution_count": 13,
      "outputs": [
        {
          "output_type": "stream",
          "text": [
            "ln: failed to create symbolic link './colab_notebook_data': File exists\n"
          ],
          "name": "stdout"
        }
      ]
    },
    {
      "cell_type": "code",
      "metadata": {
        "id": "r09RCv8Chh3I",
        "colab_type": "code",
        "colab": {}
      },
      "source": [
        "!mkdir -p colab_notebook_data/feature_interactions/trained_models/zeropadding"
      ],
      "execution_count": 19,
      "outputs": []
    },
    {
      "cell_type": "code",
      "metadata": {
        "id": "JxMH1hCHDAXb",
        "colab_type": "code",
        "colab": {
          "base_uri": "https://localhost:8080/",
          "height": 265
        },
        "outputId": "51ced5b5-529e-4555-c857-bb7d208f91eb"
      },
      "source": [
        "%matplotlib inline\n",
        "from matplotlib import pyplot as plt\n",
        "\n",
        "plt.hist(train_pos_labels, density=True, bins=20)\n",
        "plt.show()"
      ],
      "execution_count": 15,
      "outputs": [
        {
          "output_type": "display_data",
          "data": {
            "image/png": "[encoded data removed]",
            "text/plain": [
              "<Figure size 432x288 with 1 Axes>"
            ]
          },
          "metadata": {
            "tags": [],
            "needs_background": "light"
          }
        }
      ]
    },
    {
      "cell_type": "code",
      "metadata": {
        "id": "0Ee4yVMX3ISx",
        "colab_type": "code",
        "colab": {
          "base_uri": "https://localhost:8080/",
          "height": 1000
        },
        "outputId": "4cd2b1df-221e-4b42-d675-843b5cb43de5"
      },
      "source": [
        "#train the models\n",
        "\n",
        "indices_train = np.arange(0, int(0.8 * train_onehot_data.shape[0]))\n",
        "indices_valid = np.arange(int(0.8 * train_onehot_data.shape[0]),\n",
        "                              train_onehot_data.shape[0])\n",
        "\n",
        "SAVEDIR = \"colab_notebook_data/feature_interactions/trained_models/zeropadding\"\n",
        "\n",
        "for seed in [100, 200, 300, 400, 500]:\n",
        "  for l1_reg in [0.0, 0.0001, 0.001]:\n",
        "    for model_constructor, archname in [(model_arch1, 'anscombemse_arch1'),\n",
        "                                        (model_arch2, 'anscombemse_arch2'),\n",
        "                                        (model_arch3, 'anscombemse_arch3')]:\n",
        "        \"\"\"train_and_save_model(\n",
        "            model_constructor=lambda: model_constructor(l1_reg),\n",
        "            prefix=(SAVEDIR+\"/poscontrol_model-\"+archname\n",
        "                    +\"_l1reg-\"+str(l1_reg)+\"_seed\"+str(seed)),\n",
        "            X_train=train_onehot_data[indices_train],\n",
        "            y_train=train_pos_labels[indices_train],\n",
        "            X_valid=train_onehot_data[indices_valid],\n",
        "            y_valid=train_pos_labels[indices_valid],\n",
        "            seed=seed) #vary the seed for initialization diversity\"\"\"\n",
        "        \n",
        "        train_and_save_model(\n",
        "            model_constructor=lambda: model_constructor(l1_reg),\n",
        "            prefix=(SAVEDIR+\"/negcontrol_model-\"+archname\n",
        "                    +\"_l1reg-\"+str(l1_reg)+\"_seed\"+str(seed)),\n",
        "            X_train=train_onehot_data[indices_train],\n",
        "            y_train=train_neg_labels[indices_train],\n",
        "            X_valid=train_onehot_data[indices_valid],\n",
        "            y_valid=train_neg_labels[indices_valid],\n",
        "            seed=seed) #vary the seed for initialization diversity\n"
      ],
      "execution_count": null,
      "outputs": [
        {
          "output_type": "stream",
          "text": [
            "Training model colab_notebook_data/feature_interactions/trained_models/zeropadding/negcontrol_model-anscombemse_arch1_l1reg-0.0_seed100_gbywe.h5\n",
            "Model: \"sequential_8\"\n",
            "_________________________________________________________________\n",
            "Layer (type)                 Output Shape              Param #   \n",
            "=================================================================\n",
            "conv1d_31 (Conv1D)           (None, 100, 15)           435       \n",
            "_________________________________________________________________\n",
            "conv1d_32 (Conv1D)           (None, 100, 15)           1590      \n",
            "_________________________________________________________________\n",
            "conv1d_33 (Conv1D)           (None, 100, 15)           1590      \n",
            "_________________________________________________________________\n",
            "conv1d_34 (Conv1D)           (None, 100, 15)           1590      \n",
            "_________________________________________________________________\n",
            "global_average_pooling1d_8 ( (None, 15)                0         \n",
            "_________________________________________________________________\n",
            "dense_26 (Dense)             (None, 50)                800       \n",
            "_________________________________________________________________\n",
            "dense_27 (Dense)             (None, 50)                2550      \n",
            "_________________________________________________________________\n",
            "dense_28 (Dense)             (None, 1)                 51        \n",
            "=================================================================\n",
            "Total params: 8,606\n",
            "Trainable params: 8,606\n",
            "Non-trainable params: 0\n",
            "_________________________________________________________________\n",
            "None\n",
            "Train on 40000 samples, validate on 10000 samples\n",
            "Epoch 1/1000\n",
            "40000/40000 [==============================] - 2s 56us/step - loss: 189.5551 - val_loss: 74.6224\n",
            "Epoch 2/1000\n",
            "40000/40000 [==============================] - 2s 38us/step - loss: 68.3143 - val_loss: 53.7772\n",
            "Epoch 3/1000\n",
            "40000/40000 [==============================] - 2s 38us/step - loss: 37.4298 - val_loss: 28.8901\n",
            "Epoch 4/1000\n",
            "40000/40000 [==============================] - 1s 37us/step - loss: 22.5049 - val_loss: 18.3318\n",
            "Epoch 5/1000\n",
            "40000/40000 [==============================] - 1s 37us/step - loss: 16.4761 - val_loss: 15.2444\n",
            "Epoch 6/1000\n",
            "40000/40000 [==============================] - 2s 38us/step - loss: 13.7926 - val_loss: 13.1611\n",
            "Epoch 7/1000\n",
            "40000/40000 [==============================] - 2s 38us/step - loss: 11.9807 - val_loss: 11.8354\n",
            "Epoch 8/1000\n",
            "40000/40000 [==============================] - 2s 39us/step - loss: 10.5315 - val_loss: 10.3630\n",
            "Epoch 9/1000\n",
            "40000/40000 [==============================] - 1s 37us/step - loss: 9.4406 - val_loss: 9.6131\n",
            "Epoch 10/1000\n",
            "40000/40000 [==============================] - 2s 40us/step - loss: 8.5593 - val_loss: 8.3960\n",
            "Epoch 11/1000\n",
            "40000/40000 [==============================] - 2s 38us/step - loss: 7.8233 - val_loss: 7.6456\n",
            "Epoch 12/1000\n",
            "40000/40000 [==============================] - 2s 39us/step - loss: 7.2047 - val_loss: 7.0805\n",
            "Epoch 13/1000\n",
            "40000/40000 [==============================] - 2s 38us/step - loss: 6.5562 - val_loss: 6.6712\n",
            "Epoch 14/1000\n",
            "40000/40000 [==============================] - 2s 41us/step - loss: 5.8053 - val_loss: 5.9597\n",
            "Epoch 15/1000\n",
            " 3400/40000 [=>............................] - ETA: 1s - loss: 5.4400"
          ],
          "name": "stdout"
        }
      ]
    },
    {
      "cell_type": "code",
      "metadata": {
        "id": "TKZLtACYS8db",
        "colab_type": "code",
        "colab": {}
      },
      "source": [
        ""
      ],
      "execution_count": null,
      "outputs": []
    },
    {
      "cell_type": "code",
      "metadata": {
        "id": "PHfeXcR-1vuy",
        "colab_type": "code",
        "colab": {}
      },
      "source": [
        ""
      ],
      "execution_count": null,
      "outputs": []
    },
    {
      "cell_type": "code",
      "metadata": {
        "id": "sdJc9KsI2DVZ",
        "colab_type": "code",
        "colab": {}
      },
      "source": [
        ""
      ],
      "execution_count": null,
      "outputs": []
    }
  ]
}