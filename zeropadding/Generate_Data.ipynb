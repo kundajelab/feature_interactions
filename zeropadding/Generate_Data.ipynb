{
  "nbformat": 4,
  "nbformat_minor": 0,
  "metadata": {
    "colab": {
      "name": "Generate_Data.ipynb",
      "provenance": [],
      "authorship_tag": "ABX9TyOao7BoZEa39babIhBgFuXX",
      "include_colab_link": true
    },
    "kernelspec": {
      "name": "python3",
      "display_name": "Python 3"
    }
  },
  "cells": [
    {
      "cell_type": "markdown",
      "metadata": {
        "id": "view-in-github",
        "colab_type": "text"
      },
      "source": [
        "<a href=\"https://colab.research.google.com/github/kundajelab/feature_interactions/blob/master/zeropadding/Generate_Data.ipynb\" target=\"_parent\"><img src=\"https://colab.research.google.com/assets/colab-badge.svg\" alt=\"Open In Colab\"/></a>"
      ]
    },
    {
      "cell_type": "code",
      "metadata": {
        "id": "hGRxOSCMpU2U",
        "colab_type": "code",
        "colab": {}
      },
      "source": [
        "from __future__ import division, print_function"
      ],
      "execution_count": 1,
      "outputs": []
    },
    {
      "cell_type": "code",
      "metadata": {
        "id": "IQ_hbCn5pZIt",
        "colab_type": "code",
        "colab": {
          "base_uri": "https://localhost:8080/",
          "height": 340
        },
        "outputId": "ce0cd775-3b6f-460f-dfca-1cec1a9b4b12"
      },
      "source": [
        "!pip install simdna"
      ],
      "execution_count": 2,
      "outputs": [
        {
          "output_type": "stream",
          "text": [
            "Collecting simdna\n",
            "\u001b[?25l  Downloading https://files.pythonhosted.org/packages/14/c6/dc6cc2e9ac09c85d5ec6d896c6c43c8dd5ef50bb9c14423e9290131dce27/simdna-0.4.3.2.tar.gz (634kB)\n",
            "\u001b[K     |████████████████████████████████| 634kB 2.9MB/s \n",
            "\u001b[?25hRequirement already satisfied: numpy>=1.9 in /usr/local/lib/python3.6/dist-packages (from simdna) (1.18.5)\n",
            "Requirement already satisfied: matplotlib in /usr/local/lib/python3.6/dist-packages (from simdna) (3.2.2)\n",
            "Requirement already satisfied: scipy in /usr/local/lib/python3.6/dist-packages (from simdna) (1.4.1)\n",
            "Requirement already satisfied: cycler>=0.10 in /usr/local/lib/python3.6/dist-packages (from matplotlib->simdna) (0.10.0)\n",
            "Requirement already satisfied: pyparsing!=2.0.4,!=2.1.2,!=2.1.6,>=2.0.1 in /usr/local/lib/python3.6/dist-packages (from matplotlib->simdna) (2.4.7)\n",
            "Requirement already satisfied: python-dateutil>=2.1 in /usr/local/lib/python3.6/dist-packages (from matplotlib->simdna) (2.8.1)\n",
            "Requirement already satisfied: kiwisolver>=1.0.1 in /usr/local/lib/python3.6/dist-packages (from matplotlib->simdna) (1.2.0)\n",
            "Requirement already satisfied: six in /usr/local/lib/python3.6/dist-packages (from cycler>=0.10->matplotlib->simdna) (1.12.0)\n",
            "Building wheels for collected packages: simdna\n",
            "  Building wheel for simdna (setup.py) ... \u001b[?25lerror\n",
            "\u001b[31m  ERROR: Failed building wheel for simdna\u001b[0m\n",
            "\u001b[?25h  Running setup.py clean for simdna\n",
            "Failed to build simdna\n",
            "Installing collected packages: simdna\n",
            "    Running setup.py install for simdna ... \u001b[?25l\u001b[?25hdone\n",
            "Successfully installed simdna-0.4.3.2\n"
          ],
          "name": "stdout"
        }
      ]
    },
    {
      "cell_type": "code",
      "metadata": {
        "id": "mEcJTmxMpafK",
        "colab_type": "code",
        "colab": {}
      },
      "source": [
        "import simdna\n",
        "from simdna import synthetic\n",
        "import numpy as np\n",
        "from collections import OrderedDict\n",
        "import matplotlib.pyplot as plt"
      ],
      "execution_count": 3,
      "outputs": []
    },
    {
      "cell_type": "code",
      "metadata": {
        "id": "ZmhYykCJphSf",
        "colab_type": "code",
        "colab": {
          "base_uri": "https://localhost:8080/",
          "height": 34
        },
        "outputId": "2cc376b6-1417-4646-bf34-44a427989cc8"
      },
      "source": [
        "#set up the simulation\n",
        "simdna.random.seed(1234)\n",
        "np.random.seed(1234)\n",
        "\n",
        "seqLength = 100\n",
        "\n",
        "background_letter_freq = OrderedDict(\n",
        "    [('A', 0.27), ('C', 0.23), ('G', 0.23), ('T', 0.27)])\n",
        "letter_distribution = simdna.util.DiscreteDistribution(background_letter_freq)\n",
        "\n",
        "def get_single_embedder(loadedMotifs, motif_name):\n",
        "  return synthetic.SubstringEmbedder(\n",
        "            substringGenerator=synthetic.PwmSamplerFromLoadedMotifs(loadedMotifs, motif_name),\n",
        "            positionGenerator=synthetic.UniformPositionGenerator(),\n",
        "            name=motif_name)\n",
        "\n",
        "def get_embedder_or_none(loadedMotifs, motif_name):\n",
        "  return synthetic.XOREmbedder(\n",
        "            embedder1 = get_single_embedder(loadedMotifs = loadedMotifs, motif_name = motif_name),\n",
        "            embedder2 = synthetic.RandomSubsetOfEmbedders(\n",
        "                quantityGenerator = synthetic.FixedQuantityGenerator(0),\n",
        "                embedders = \n",
        "                [get_single_embedder(loadedMotifs = loadedMotifs, motif_name = motif_name)]),\n",
        "            probOfFirst = 0.5)\n",
        "\n",
        "loadedMotifs = synthetic.LoadedEncodeMotifs(simdna.ENCODE_MOTIFS_PATH, pseudocountProb=0.001)\n",
        "pwm_GATA_orig = loadedMotifs.loadedMotifs[\"GATA_disc1\"].getRows()\n",
        "pwm_TAL_orig = loadedMotifs.loadedMotifs[\"TAL1_known1\"].getRows()\n",
        "\n",
        "embedInBackground = synthetic.EmbedInABackground(\n",
        "        backgroundGenerator=synthetic.ZeroOrderBackgroundGenerator(\n",
        "            seqLength=seqLength,\n",
        "            discreteDistribution=letter_distribution), \n",
        "        embedders=[\n",
        "            get_embedder_or_none(loadedMotifs, \"GATA_disc1\"),\n",
        "            get_embedder_or_none(loadedMotifs, \"TAL1_known1\")] \n",
        "    )\n",
        "\n",
        "train_sequenceSet = synthetic.GenerateSequenceNTimes(embedInBackground, 50000)\n",
        "test_sequenceSet = synthetic.GenerateSequenceNTimes(embedInBackground, 50000)\n",
        "\n",
        "labelNames = [\"has_gata\", \"has_tal\", \"has_talandgata\"]\n",
        "\n",
        "def labelingFunc(self, generatedSequence):\n",
        "  has_gata = 1 if generatedSequence.additionalInfo.isInTrace(\"GATA_disc1\") else 0\n",
        "  has_tal = 1 if generatedSequence.additionalInfo.isInTrace(\"TAL1_known1\") else 0\n",
        "  has_talandgata = 1 if (has_gata and has_tal) else 0\n",
        "  return [has_gata, has_tal, has_talandgata]\n",
        "\n",
        "synthetic.printSequences(\"train_simulation.simdata\", train_sequenceSet,\n",
        "                         includeFasta=True,\n",
        "                         includeEmbeddings=True,\n",
        "                         labelGenerator=synthetic.LabelGenerator(\n",
        "                             labelNames=labelNames,\n",
        "                             labelsFromGeneratedSequenceFunction=labelingFunc),\n",
        "                         prefix=\"trainsim\")\n",
        "synthetic.printSequences(\"test_simulation.simdata\", test_sequenceSet,\n",
        "                         includeFasta=True,\n",
        "                         includeEmbeddings=True,\n",
        "                         labelGenerator=synthetic.LabelGenerator(\n",
        "                             labelNames=labelNames,\n",
        "                             labelsFromGeneratedSequenceFunction=labelingFunc),\n",
        "                         prefix=\"testsim\")"
      ],
      "execution_count": 4,
      "outputs": [
        {
          "output_type": "stream",
          "text": [
            "Warning: made 10 attemps at trying to embed TAL1_known1-GAGAACAGGTGTGCCG in region of length 100 with 10.0 occupied sites\n"
          ],
          "name": "stdout"
        }
      ]
    },
    {
      "cell_type": "code",
      "metadata": {
        "id": "h-YWPpZlprm2",
        "colab_type": "code",
        "colab": {
          "base_uri": "https://localhost:8080/",
          "height": 68
        },
        "outputId": "2a560fa9-039b-42f6-8207-4b445a9de0d9"
      },
      "source": [
        "!md5sum train_simulation.simdata\n",
        "!md5sum test_simulation.simdata\n",
        "\n",
        "train_data = synthetic.read_simdata_file(\"train_simulation.simdata\")\n",
        "test_data = synthetic.read_simdata_file(\"test_simulation.simdata\")\n",
        "count_hasgata, count_hastal, count_tal_and_gata =\\\n",
        "  np.sum(train_data.labels, axis=0)\n",
        "count_only_gata = count_hasgata - count_tal_and_gata\n",
        "count_only_tal = count_hastal - count_tal_and_gata\n",
        "print(count_only_gata, count_only_tal, count_tal_and_gata,\n",
        "      len(train_data.labels)\n",
        "      - (count_only_gata + count_only_tal + count_tal_and_gata))"
      ],
      "execution_count": 5,
      "outputs": [
        {
          "output_type": "stream",
          "text": [
            "fb82dd3c7dc4b53d34b4fd456394de42  train_simulation.simdata\n",
            "85c3688d157254921f64904e71c0372c  test_simulation.simdata\n",
            "12390 12430 12597 12583\n"
          ],
          "name": "stdout"
        }
      ]
    },
    {
      "cell_type": "code",
      "metadata": {
        "id": "c2Lldv9MpzgF",
        "colab_type": "code",
        "colab": {}
      },
      "source": [
        "#this is set up for 1d convolutions where examples\n",
        "#have dimensions (len, num_channels) \n",
        "#the channel axis is the axis for one-hot encoding.\n",
        "def one_hot_encode_along_channel_axis(sequence):\n",
        "    to_return = np.zeros((len(sequence),4), dtype=np.int8)\n",
        "    seq_to_one_hot_fill_in_array(zeros_array=to_return,\n",
        "                                 sequence=sequence, one_hot_axis=1)\n",
        "    return to_return\n",
        "\n",
        "def seq_to_one_hot_fill_in_array(zeros_array, sequence, one_hot_axis):\n",
        "    assert one_hot_axis==0 or one_hot_axis==1\n",
        "    if (one_hot_axis==0):\n",
        "        assert zeros_array.shape[1] == len(sequence)\n",
        "    elif (one_hot_axis==1): \n",
        "        assert zeros_array.shape[0] == len(sequence)\n",
        "    #will mutate zeros_array\n",
        "    for (i,char) in enumerate(sequence):\n",
        "        if (char==\"A\" or char==\"a\"):\n",
        "            char_idx = 0\n",
        "        elif (char==\"C\" or char==\"c\"):\n",
        "            char_idx = 1\n",
        "        elif (char==\"G\" or char==\"g\"):\n",
        "            char_idx = 2\n",
        "        elif (char==\"T\" or char==\"t\"):\n",
        "            char_idx = 3\n",
        "        elif (char==\"N\" or char==\"n\"):\n",
        "            continue #leave that pos as all 0's\n",
        "        else:\n",
        "            raise RuntimeError(\"Unsupported character: \"+str(char))\n",
        "        if (one_hot_axis==0):\n",
        "            zeros_array[char_idx,i] = 1\n",
        "        elif (one_hot_axis==1):\n",
        "            zeros_array[i,char_idx] = 1\n",
        "            \n",
        "train_onehot_data = np.array([one_hot_encode_along_channel_axis(seq)\n",
        "                              for seq in train_data.sequences])\n",
        "test_onehot_data = np.array([one_hot_encode_along_channel_axis(seq)\n",
        "                              for seq in test_data.sequences])"
      ],
      "execution_count": 6,
      "outputs": []
    },
    {
      "cell_type": "code",
      "metadata": {
        "id": "cgvPvOKWp-NJ",
        "colab_type": "code",
        "colab": {}
      },
      "source": [
        "def convert_pwm_to_deltadeltaG(pwm):\n",
        "  deltadeltaG = -np.log(pwm/np.array([background_letter_freq[x]\n",
        "                              for x in ['A', 'C', 'G', 'T']])[None,:])\n",
        "  return deltadeltaG\n",
        "\n",
        "pwm_GATA = convert_pwm_to_deltadeltaG(pwm_GATA_orig)\n",
        "pwm_TAL = convert_pwm_to_deltadeltaG(pwm_TAL_orig)"
      ],
      "execution_count": 7,
      "outputs": []
    },
    {
      "cell_type": "code",
      "metadata": {
        "id": "-61fKncrqFCY",
        "colab_type": "code",
        "colab": {}
      },
      "source": [
        "#do a fast PWM scan with numpy rolling statistics\n",
        "# based on http://www.rigtorp.se/2011/01/01/rolling-statistics-numpy.html\n",
        "MU = 0 #-5\n",
        "def rolling_window(a, window):\n",
        "    shape = a.shape[:-1] + (a.shape[-1] - window + 1, window)\n",
        "    strides = a.strides + (a.strides[-1],)\n",
        "    return np.lib.stride_tricks.as_strided(a, shape=shape, strides=strides)\n",
        "\n",
        "\n",
        "def score_pwm(pwm, onehot_data):\n",
        "  #PAD the one-hot encoding\n",
        "  leftpad = int((len(pwm)-1)/2)\n",
        "  rightpad = (len(pwm)-1) - leftpad\n",
        "  padded_onehot = np.pad(onehot_data, [(0,0), (leftpad, rightpad), (0,0)])\n",
        "  pwm = pwm.transpose((1,0)) #ACGT first\n",
        "  strided_onehot = rolling_window(a=padded_onehot.transpose(0,2,1),\n",
        "                                  window=pwm.shape[-1])\n",
        "  strided_scores = np.sum(strided_onehot*pwm[None,:,None,:],axis=(1,3))\n",
        "  assert strided_scores.shape[1] == onehot_data.shape[1], strided_scores.shape[1]\n",
        "  return strided_scores\n",
        "\n",
        "\n",
        "def get_count(pwm, onehot_data):\n",
        "  deltadeltaG_mat = score_pwm(pwm=pwm, onehot_data=onehot_data)\n",
        "  pStormo_mat = 1.0/(1.0 + np.exp(deltadeltaG_mat - MU))\n",
        "  expected_count = np.sum(pStormo_mat, axis=-1)\n",
        "  return deltadeltaG_mat, expected_count\n",
        "\n",
        "\n",
        "def get_oracle_preds(onehot_data):\n",
        "  deltadeltaG_mat_GATA, expected_count_GATA = get_count(pwm_GATA, onehot_data)\n",
        "  deltadeltaG_mat_TAL, expected_count_TAL = get_count(pwm_TAL, onehot_data)\n",
        "  sum_gata_and_tal_probs = expected_count_GATA + expected_count_TAL\n",
        "  expected_count_neg = 100 * (expected_count_GATA + expected_count_TAL)\n",
        "  expected_count_pos = 60*((expected_count_GATA + expected_count_TAL)**1.5)\n",
        "  return (expected_count_neg, expected_count_pos, sum_gata_and_tal_probs)\n",
        "\n",
        "\n",
        "def get_noisy_labels(expected_counts, rng):\n",
        "  return rng.poisson(lam=expected_counts,\n",
        "                     size=len(expected_counts))\n",
        "\n",
        "\n",
        "(train_expected_count_neg, train_expected_count_pos,\n",
        " train_sum_gata_and_tal_probs) =\\\n",
        "  get_oracle_preds(train_onehot_data)\n",
        "(test_expected_count_neg, test_expected_count_pos,\n",
        " test_sum_gata_and_tal_probs) =\\\n",
        "  get_oracle_preds(test_onehot_data)\n",
        "rng = np.random.RandomState(1234)\n",
        "train_labels_neg = get_noisy_labels(train_expected_count_neg, rng)\n",
        "train_labels_pos = get_noisy_labels(train_expected_count_pos, rng)\n",
        "test_labels_neg = get_noisy_labels(test_expected_count_neg, rng)\n",
        "test_labels_pos = get_noisy_labels(test_expected_count_pos, rng)\n"
      ],
      "execution_count": 12,
      "outputs": []
    },
    {
      "cell_type": "code",
      "metadata": {
        "id": "91BluooOMuyS",
        "colab_type": "code",
        "colab": {
          "base_uri": "https://localhost:8080/",
          "height": 304
        },
        "outputId": "96e3757b-d27c-4e03-bd53-4ee63eb945d2"
      },
      "source": [
        "%matplotlib inline\n",
        "\n",
        "plt.rc('font', size=13)\n",
        "handles = []\n",
        "handles.append(plt.scatter(test_sum_gata_and_tal_probs, test_expected_count_neg, color=\"red\", s=5))\n",
        "handles.append(plt.scatter(test_sum_gata_and_tal_probs, test_expected_count_pos, color=\"blue\", s=5))\n",
        "plt.xlabel(\"$q_i$ (Sum of occupancy probabilities\\nfor TAL1 and GATA1 across sequence)\")\n",
        "plt.ylabel(\"Expected counts\")\n",
        "plt.legend(handles, [\"Negative control\", \"Positive control\"])\n",
        "plt.show()"
      ],
      "execution_count": 13,
      "outputs": [
        {
          "output_type": "display_data",
          "data": {
            "image/png": "[encoded data removed]",
            "text/plain": [
              "<Figure size 432x288 with 1 Axes>"
            ]
          },
          "metadata": {
            "tags": [],
            "needs_background": "light"
          }
        }
      ]
    },
    {
      "cell_type": "code",
      "metadata": {
        "id": "0BxCEbbjqce4",
        "colab_type": "code",
        "colab": {
          "base_uri": "https://localhost:8080/",
          "height": 573
        },
        "outputId": "b339b4bd-359c-4476-e3a7-7ee7506b62b6"
      },
      "source": [
        "%matplotlib inline\n",
        "from matplotlib import pyplot as plt\n",
        "plt.plot(train_expected_count_neg, train_expected_count_neg, color=\"black\")\n",
        "plt.scatter(train_expected_count_neg, train_labels_neg, alpha=0.01)\n",
        "plt.title(\"Negative Control\")\n",
        "plt.xlabel(\"Oracle label\")\n",
        "plt.ylabel(\"Sampled label\")\n",
        "plt.show()\n",
        "\n",
        "plt.plot(train_expected_count_pos, train_expected_count_pos, color=\"black\")\n",
        "plt.scatter(train_expected_count_pos, train_labels_pos, alpha=0.01)\n",
        "plt.title(\"Positive Control\")\n",
        "plt.xlabel(\"Oracle label\")\n",
        "plt.ylabel(\"Sampled label\")\n",
        "plt.show()"
      ],
      "execution_count": 14,
      "outputs": [
        {
          "output_type": "display_data",
          "data": {
            "image/png": "[encoded data removed]",
            "text/plain": [
              "<Figure size 432x288 with 1 Axes>"
            ]
          },
          "metadata": {
            "tags": [],
            "needs_background": "light"
          }
        },
        {
          "output_type": "display_data",
          "data": {
            "image/png": "[encoded data removed]",
            "text/plain": [
              "<Figure size 432x288 with 1 Axes>"
            ]
          },
          "metadata": {
            "tags": [],
            "needs_background": "light"
          }
        }
      ]
    },
    {
      "cell_type": "code",
      "metadata": {
        "id": "FBFXTfJ9-8UZ",
        "colab_type": "code",
        "colab": {
          "base_uri": "https://localhost:8080/",
          "height": 279
        },
        "outputId": "f92db13b-642e-4963-ecf0-1679d6bf5a6e"
      },
      "source": [
        "plt.plot(train_expected_count_neg, train_expected_count_neg, color=\"black\")\n",
        "plt.xlabel(\"Negative control oracle label\")\n",
        "plt.ylabel(\"Positive control oracle label\")\n",
        "plt.scatter(train_expected_count_neg, train_expected_count_pos)\n",
        "plt.show()"
      ],
      "execution_count": 15,
      "outputs": [
        {
          "output_type": "display_data",
          "data": {
            "image/png": "[encoded data removed]",
            "text/plain": [
              "<Figure size 432x288 with 1 Axes>"
            ]
          },
          "metadata": {
            "tags": [],
            "needs_background": "light"
          }
        }
      ]
    },
    {
      "cell_type": "code",
      "metadata": {
        "id": "cV-mcQyZaKb5",
        "colab_type": "code",
        "colab": {
          "base_uri": "https://localhost:8080/",
          "height": 513
        },
        "outputId": "3b7ee76d-afcd-4c90-c4e5-62758caaeaf6"
      },
      "source": [
        "plt.hist(train_labels_neg, density=True, alpha=0.5, bins=20)\n",
        "plt.hist(test_labels_neg, density=True, alpha=0.5, bins=20)\n",
        "plt.show()\n",
        "\n",
        "plt.hist(train_labels_pos, density=True, alpha=0.5, bins=20)\n",
        "plt.hist(test_labels_pos, density=True, alpha=0.5, bins=20)\n",
        "plt.show()"
      ],
      "execution_count": 16,
      "outputs": [
        {
          "output_type": "display_data",
          "data": {
            "image/png": "[encoded data removed]",
            "text/plain": [
              "<Figure size 432x288 with 1 Axes>"
            ]
          },
          "metadata": {
            "tags": [],
            "needs_background": "light"
          }
        },
        {
          "output_type": "display_data",
          "data": {
            "image/png": "[encoded data removed]",
            "text/plain": [
              "<Figure size 432x288 with 1 Axes>"
            ]
          },
          "metadata": {
            "tags": [],
            "needs_background": "light"
          }
        }
      ]
    },
    {
      "cell_type": "code",
      "metadata": {
        "id": "PIHg5e9Nqk1u",
        "colab_type": "code",
        "colab": {}
      },
      "source": [
        "def save_labels(filename, exp_count, labels):\n",
        "  labels_fh = open(filename, \"w\")\n",
        "  labels_fh.write(\"\\n\".join([str(lab)+\"\\t\"+str(exp) for (exp, lab)\n",
        "                      in zip(exp_count, labels)]))\n",
        "  labels_fh.close()  \n",
        "\n",
        "save_labels(\"train_neg_labels.txt\", train_expected_count_neg, train_labels_neg)\n",
        "save_labels(\"train_pos_labels.txt\", train_expected_count_pos, train_labels_pos)\n",
        "save_labels(\"test_neg_labels.txt\", test_expected_count_neg, test_labels_neg)\n",
        "save_labels(\"test_pos_labels.txt\", test_expected_count_pos, test_labels_pos)"
      ],
      "execution_count": 17,
      "outputs": []
    },
    {
      "cell_type": "markdown",
      "metadata": {
        "id": "aVhne3RGe6k6",
        "colab_type": "text"
      },
      "source": [
        "Prep the \"knocked out\" sequences"
      ]
    },
    {
      "cell_type": "code",
      "metadata": {
        "id": "2NpUVUVnkSCr",
        "colab_type": "code",
        "colab": {}
      },
      "source": [
        "\n",
        "def is_separation_valid(gata_start, tal_start):\n",
        "  #separation_needed is the separation needed between\n",
        "  # motifs so that there's no ground-truth interaction\n",
        "  separation_needed = max(len(pwm_TAL), len(pwm_GATA))-1\n",
        "  return ((gata_start-tal_start >= len(pwm_TAL)+separation_needed) or\n",
        "          (tal_start-gata_start >= len(pwm_GATA)+separation_needed))\n",
        "  \n",
        "def sample_gata_and_tal_positions(seqlen, rng):\n",
        "  while True:\n",
        "    gata_start = rng.randint(0, (seqlen-len(pwm_GATA)+1))\n",
        "    tal_start = rng.randint(0, (seqlen-len(pwm_TAL)+1))\n",
        "    if is_separation_valid(gata_start=gata_start, tal_start=tal_start):\n",
        "      return (gata_start, tal_start)\n",
        "\n",
        "def get_indices_and_motif_positions_to_analyze(embeddings_list, onehot_data):\n",
        "  rng = np.random.RandomState(1234)\n",
        "  #only consider sequences \n",
        "  toanalyze_info = []\n",
        "  toanalyze_info_control = [] #also get random positions as a control\n",
        "  for i in range(len(embeddings_list)):\n",
        "    embeddings = embeddings_list[i]\n",
        "    if (len(embeddings)==2):\n",
        "      if embeddings[0].what.stringDescription==\"GATA_disc1\":\n",
        "        assert embeddings[1].what.stringDescription==\"TAL1_known1\"\n",
        "        gata_start = embeddings[0].startPos\n",
        "        tal_start = embeddings[1].startPos\n",
        "      else:\n",
        "        assert embeddings[0].what.stringDescription==\"TAL1_known1\"\n",
        "        assert embeddings[1].what.stringDescription==\"GATA_disc1\"\n",
        "        gata_start = embeddings[1].startPos\n",
        "        tal_start = embeddings[0].startPos\n",
        "      if is_separation_valid(gata_start=gata_start, tal_start=tal_start):\n",
        "        gata_onehot = onehot_data[i][gata_start:gata_start+len(pwm_GATA)]\n",
        "        tal_onehot = onehot_data[i][tal_start:tal_start+len(pwm_TAL)]\n",
        "        gata_score = np.sum(pwm_GATA*gata_onehot)\n",
        "        tal_score = np.sum(pwm_TAL*tal_onehot)\n",
        "        if (gata_score < -2 and tal_score < -2):\n",
        "          toanalyze_info.append( (i, gata_start, tal_start) )\n",
        "          \n",
        "          #Get randomly sampled positions\n",
        "          new_gata_start, new_tal_start = sample_gata_and_tal_positions(\n",
        "              seqlen=len(onehot_data[i]), rng=rng)\n",
        "          toanalyze_info_control.append( (i, new_gata_start, new_tal_start) )\n",
        "  return toanalyze_info, toanalyze_info_control\n",
        "\n",
        "\n",
        "def sample_onehot(len, rng):\n",
        "  sampled_onehot = []\n",
        "  for i in range(len):\n",
        "    arr = [0,0,0,0]\n",
        "    arr[rng.randint(0, 4)] = 1\n",
        "    sampled_onehot.append(arr)\n",
        "  return np.array(sampled_onehot)\n",
        "\n",
        "\n",
        "def get_low_scoring_pwm_instance(pwm, rng):\n",
        "  score = None\n",
        "  while True:\n",
        "    sampled_onehot = sample_onehot(len=len(pwm), rng=rng)\n",
        "    score = np.sum(pwm*sampled_onehot)\n",
        "    if (score > 10):\n",
        "      break\n",
        "  return sampled_onehot\n",
        "\n",
        "\n",
        "def get_toanalyze_data(toanalyze_info, onehot_data, labels_pos, labels_neg):\n",
        "\n",
        "  rng = np.random.RandomState(1234)\n",
        "  toanalyze_bothoff = []\n",
        "  toanalyze_gataoff = []\n",
        "  toanalyze_taloff = []\n",
        "  toanalyze_orig = []\n",
        "  toanalyze_orig_neg_labels = []\n",
        "  toanalyze_orig_pos_labels = []\n",
        "\n",
        "  for test_idx, gata_start, tal_start in toanalyze_info:\n",
        "    onehot = onehot_data[test_idx]\n",
        "    toanalyze_orig_neg_labels.append(labels_neg[test_idx])\n",
        "    toanalyze_orig_pos_labels.append(labels_pos[test_idx])\n",
        "    tal_replacement = get_low_scoring_pwm_instance(pwm=pwm_TAL, rng=rng)\n",
        "    gata_replacement = get_low_scoring_pwm_instance(pwm=pwm_GATA, rng=rng)\n",
        "    tal_off = np.array(onehot)\n",
        "    tal_off[tal_start:tal_start+len(pwm_TAL)] = tal_replacement\n",
        "    gata_off = np.array(onehot)\n",
        "    gata_off[gata_start:gata_start+len(pwm_GATA)] = gata_replacement    \n",
        "    both_off = np.array(gata_off)\n",
        "    both_off[tal_start:tal_start+len(pwm_TAL)] = tal_replacement\n",
        "    toanalyze_orig.append(onehot)\n",
        "    toanalyze_taloff.append(tal_off)\n",
        "    toanalyze_gataoff.append(gata_off)\n",
        "    toanalyze_bothoff.append(both_off)\n",
        "\n",
        "  (toanalyze_orig, toanalyze_taloff, toanalyze_gataoff, toanalyze_bothoff,\n",
        "   toanalyze_orig_neg_labels, toanalyze_orig_pos_labels) =(\n",
        "    np.array(toanalyze_orig), np.array(toanalyze_taloff),\n",
        "    np.array(toanalyze_gataoff), np.array(toanalyze_bothoff),\n",
        "    np.array(toanalyze_orig_neg_labels), np.array(toanalyze_orig_pos_labels) )\n",
        "   \n",
        "  return (toanalyze_orig, toanalyze_taloff, toanalyze_gataoff,\n",
        "           toanalyze_bothoff, toanalyze_orig_neg_labels,\n",
        "           toanalyze_orig_pos_labels)"
      ],
      "execution_count": 18,
      "outputs": []
    },
    {
      "cell_type": "code",
      "metadata": {
        "id": "naH7pHtKfjsS",
        "colab_type": "code",
        "colab": {}
      },
      "source": [
        "test_toanalyze_info, controltest_toanalyze_info =\\\n",
        "  get_indices_and_motif_positions_to_analyze(\n",
        "      embeddings_list=test_data.embeddings,\n",
        "      onehot_data=test_onehot_data)\n",
        "\n",
        "(test_toanalyze_orig, test_toanalyze_taloff,\n",
        " test_toanalyze_gataoff, test_toanalyze_bothoff, test_toanalyze_orig_neg_labels,\n",
        " test_toanalyze_orig_pos_labels) = get_toanalyze_data(\n",
        "     toanalyze_info=test_toanalyze_info,\n",
        "     onehot_data=test_onehot_data,\n",
        "     labels_pos=test_labels_pos,\n",
        "     labels_neg=test_labels_neg)\n",
        "\n",
        "(controltest_toanalyze_orig,\n",
        " controltest_toanalyze_taloff,\n",
        " controltest_toanalyze_gataoff,\n",
        " controltest_toanalyze_bothoff,\n",
        " controltest_toanalyze_orig_neg_labels,\n",
        " controltest_toanalyze_orig_pos_labels) = get_toanalyze_data(\n",
        "     toanalyze_info=controltest_toanalyze_info,\n",
        "     onehot_data=test_onehot_data,\n",
        "     labels_pos=test_labels_pos,\n",
        "     labels_neg=test_labels_neg)\n",
        " \n",
        "assert np.max(np.abs(controltest_toanalyze_orig-test_toanalyze_orig))==0\n",
        "assert np.max(np.abs(controltest_toanalyze_orig_neg_labels\n",
        "                       -test_toanalyze_orig_neg_labels))==0\n",
        "assert np.max(np.abs(controltest_toanalyze_orig_pos_labels\n",
        "                       -test_toanalyze_orig_pos_labels))==0\n",
        "\n",
        "\n",
        "train_set_size=int(0.8*len(train_onehot_data))\n",
        "train_toanalyze_info, controltrain_toanalyze_info =\\\n",
        "  get_indices_and_motif_positions_to_analyze(\n",
        "                        embeddings_list=train_data.embeddings[:train_set_size],\n",
        "                        onehot_data=train_onehot_data[:train_set_size])\n",
        "\n",
        "(train_toanalyze_orig, train_toanalyze_taloff,\n",
        " train_toanalyze_gataoff, train_toanalyze_bothoff,\n",
        " train_toanalyze_orig_neg_labels, train_toanalyze_orig_pos_labels) = get_toanalyze_data(\n",
        "     toanalyze_info=train_toanalyze_info,\n",
        "     onehot_data=train_onehot_data[:train_set_size],\n",
        "     labels_pos=train_labels_pos[:train_set_size],\n",
        "     labels_neg=train_labels_neg[:train_set_size])\n",
        " \n",
        "(controltrain_toanalyze_orig,\n",
        " controltrain_toanalyze_taloff,\n",
        " controltrain_toanalyze_gataoff,\n",
        " controltrain_toanalyze_bothoff,\n",
        " controltrain_toanalyze_orig_neg_labels,\n",
        " controltrain_toanalyze_orig_pos_labels) = get_toanalyze_data(\n",
        "     toanalyze_info=controltrain_toanalyze_info,\n",
        "     onehot_data=train_onehot_data,\n",
        "     labels_pos=train_labels_pos,\n",
        "     labels_neg=train_labels_neg)\n",
        " \n",
        "assert np.max(np.abs(controltrain_toanalyze_orig-train_toanalyze_orig))==0\n",
        "assert np.max(np.abs(controltrain_toanalyze_orig_neg_labels\n",
        "                       -train_toanalyze_orig_neg_labels))==0\n",
        "assert np.max(np.abs(controltrain_toanalyze_orig_pos_labels\n",
        "                       -train_toanalyze_orig_pos_labels))==0\n"
      ],
      "execution_count": 19,
      "outputs": []
    },
    {
      "cell_type": "code",
      "metadata": {
        "id": "uDCjj951f40K",
        "colab_type": "code",
        "colab": {
          "base_uri": "https://localhost:8080/",
          "height": 1000
        },
        "outputId": "9f33ef76-328b-4c29-e64a-1498cf2a8ac2"
      },
      "source": [
        "#sanity check the labels/expected\n",
        "\n",
        "def sanity_check(toanalyze_orig, toanalyze_taloff, toanalyze_gataoff,\n",
        "                 toanalyze_bothoff, toanalyze_orig_neg_labels=None,\n",
        "                 toanalyze_orig_pos_labels=None):\n",
        "\n",
        "  print(\"Numbed in toanalyze_orig\", len(toanalyze_orig))\n",
        "\n",
        "  (toanalyze_orig_expected_count_neg,\n",
        "  toanalyze_orig_expected_count_pos, _) =\\\n",
        "    get_oracle_preds(toanalyze_orig)\n",
        "  (toanalyze_gataoff_expected_count_neg,\n",
        "  toanalyze_gataoff_expected_count_pos, _) =\\\n",
        "    get_oracle_preds(toanalyze_gataoff)\n",
        "  (toanalyze_taloff_expected_count_neg,\n",
        "  toanalyze_taloff_expected_count_pos, _) =\\\n",
        "    get_oracle_preds(toanalyze_taloff)\n",
        "  (toanalyze_bothoff_expected_count_neg,\n",
        "  toanalyze_bothoff_expected_count_pos, _) =\\\n",
        "    get_oracle_preds(toanalyze_bothoff)\n",
        "\n",
        "  if (toanalyze_orig_neg_labels is not None):  \n",
        "    plt.plot(toanalyze_orig_expected_count_neg,\n",
        "            toanalyze_orig_expected_count_neg,\n",
        "            color=\"black\")\n",
        "    plt.scatter(toanalyze_orig_expected_count_neg,\n",
        "                toanalyze_orig_neg_labels)\n",
        "    plt.show()\n",
        "  if (toanalyze_orig_pos_labels is not None):\n",
        "    plt.plot(toanalyze_orig_expected_count_pos,\n",
        "            toanalyze_orig_expected_count_pos,\n",
        "            color=\"black\")\n",
        "    plt.scatter(toanalyze_orig_expected_count_pos,\n",
        "                toanalyze_orig_pos_labels)\n",
        "    plt.show()\n",
        "  \n",
        "  plt.plot(toanalyze_orig_expected_count_neg,\n",
        "          toanalyze_orig_expected_count_neg,\n",
        "          color=\"black\")\n",
        "  plt.scatter(toanalyze_orig_expected_count_neg,\n",
        "              toanalyze_orig_expected_count_pos)\n",
        "  plt.show()\n",
        "\n",
        "  #sanity check negative control and positive control interactions\n",
        "  groundtruth_gatacontrib_neg = (toanalyze_taloff_expected_count_neg -\n",
        "                                toanalyze_bothoff_expected_count_neg)\n",
        "  groundtruth_talcontrib_neg = (toanalyze_gataoff_expected_count_neg -\n",
        "                                toanalyze_bothoff_expected_count_neg)\n",
        "  groundtruth_jointcontrib_neg = (toanalyze_orig_expected_count_neg -\n",
        "                                  toanalyze_bothoff_expected_count_neg)\n",
        "\n",
        "  groundtruth_gatacontrib_pos = (toanalyze_taloff_expected_count_pos -\n",
        "                                toanalyze_bothoff_expected_count_pos)\n",
        "  groundtruth_talcontrib_pos = (toanalyze_gataoff_expected_count_pos -\n",
        "                                toanalyze_bothoff_expected_count_pos)\n",
        "  groundtruth_jointcontrib_pos = (toanalyze_orig_expected_count_pos -\n",
        "                                  toanalyze_bothoff_expected_count_pos)\n",
        "\n",
        "  groundtruth_neg_maineff = (groundtruth_gatacontrib_neg\n",
        "                             + groundtruth_talcontrib_neg)\n",
        "\n",
        "  groundtruth_neg_interactions = (groundtruth_jointcontrib_neg -\n",
        "    (groundtruth_gatacontrib_neg + groundtruth_talcontrib_neg))\n",
        "  groundtruth_pos_interactions = (groundtruth_jointcontrib_pos -\n",
        "    (groundtruth_gatacontrib_pos + groundtruth_talcontrib_pos))\n",
        "\n",
        "  print(\"max neg control interaction:\", max(groundtruth_neg_interactions))\n",
        "  assert max(groundtruth_neg_interactions) < 1e-7\n",
        "\n",
        "  plt.hist(groundtruth_pos_interactions, density=True, bins=20)\n",
        "  plt.title(\"pos control interactions\")\n",
        "  plt.show()\n",
        "\n",
        "  return (toanalyze_orig_expected_count_neg,\n",
        "          toanalyze_orig_expected_count_pos,\n",
        "          groundtruth_pos_interactions,\n",
        "          groundtruth_neg_maineff)\n",
        "\n",
        "\n",
        "print(\"test set sanity check:\")\n",
        "(test_toanalyze_groundtruth_orig_neg,\n",
        " test_toanalyze_groundtruth_orig_pos,\n",
        " test_toanalyze_groundtruth_pos_interactions,\n",
        " test_toanalyze_groundtruth_neg_maineff) = sanity_check(\n",
        "             toanalyze_orig=test_toanalyze_orig,\n",
        "             toanalyze_taloff=test_toanalyze_taloff,\n",
        "             toanalyze_gataoff=test_toanalyze_gataoff,\n",
        "             toanalyze_bothoff=test_toanalyze_bothoff,\n",
        "             toanalyze_orig_neg_labels=test_toanalyze_orig_neg_labels,\n",
        "             toanalyze_orig_pos_labels=test_toanalyze_orig_pos_labels)\n",
        "\n",
        "print(\"controltest set sanity check:\")\n",
        "_ = sanity_check(toanalyze_orig=controltest_toanalyze_orig,\n",
        "             toanalyze_taloff=controltest_toanalyze_taloff,\n",
        "             toanalyze_gataoff=controltest_toanalyze_gataoff,\n",
        "             toanalyze_bothoff=controltest_toanalyze_bothoff,\n",
        "             toanalyze_orig_neg_labels=controltest_toanalyze_orig_neg_labels,\n",
        "             toanalyze_orig_pos_labels=controltest_toanalyze_orig_pos_labels)\n",
        "\n",
        "print(\"train set sanity check:\")\n",
        "_ = sanity_check(toanalyze_orig=train_toanalyze_orig,\n",
        "             toanalyze_taloff=train_toanalyze_taloff,\n",
        "             toanalyze_gataoff=train_toanalyze_gataoff,\n",
        "             toanalyze_bothoff=train_toanalyze_bothoff,\n",
        "             toanalyze_orig_neg_labels=train_toanalyze_orig_neg_labels,\n",
        "             toanalyze_orig_pos_labels=train_toanalyze_orig_pos_labels)\n",
        "\n",
        "print(\"controltrain set sanity check:\")\n",
        "_ = sanity_check(toanalyze_orig=controltrain_toanalyze_orig,\n",
        "             toanalyze_taloff=controltrain_toanalyze_taloff,\n",
        "             toanalyze_gataoff=controltrain_toanalyze_gataoff,\n",
        "             toanalyze_bothoff=controltrain_toanalyze_bothoff,\n",
        "             toanalyze_orig_neg_labels=controltrain_toanalyze_orig_neg_labels,\n",
        "             toanalyze_orig_pos_labels=controltrain_toanalyze_orig_pos_labels)"
      ],
      "execution_count": 20,
      "outputs": [
        {
          "output_type": "stream",
          "text": [
            "test set sanity check:\n",
            "Numbed in toanalyze_orig 7971\n"
          ],
          "name": "stdout"
        },
        {
          "output_type": "display_data",
          "data": {
            "image/png": "[encoded data removed]",
            "text/plain": [
              "<Figure size 432x288 with 1 Axes>"
            ]
          },
          "metadata": {
            "tags": [],
            "needs_background": "light"
          }
        },
        {
          "output_type": "display_data",
          "data": {
            "image/png": "[encoded data removed]",
            "text/plain": [
              "<Figure size 432x288 with 1 Axes>"
            ]
          },
          "metadata": {
            "tags": [],
            "needs_background": "light"
          }
        },
        {
          "output_type": "display_data",
          "data": {
            "image/png": "[encoded data removed]",
            "text/plain": [
              "<Figure size 432x288 with 1 Axes>"
            ]
          },
          "metadata": {
            "tags": [],
            "needs_background": "light"
          }
        },
        {
          "output_type": "stream",
          "text": [
            "max neg control interaction: 1.7053025658242404e-13\n"
          ],
          "name": "stdout"
        },
        {
          "output_type": "display_data",
          "data": {
            "image/png": "[encoded data removed]",
            "text/plain": [
              "<Figure size 432x288 with 1 Axes>"
            ]
          },
          "metadata": {
            "tags": [],
            "needs_background": "light"
          }
        },
        {
          "output_type": "stream",
          "text": [
            "controltest set sanity check:\n",
            "Numbed in toanalyze_orig 7971\n"
          ],
          "name": "stdout"
        },
        {
          "output_type": "display_data",
          "data": {
            "image/png": "[encoded data removed]",
            "text/plain": [
              "<Figure size 432x288 with 1 Axes>"
            ]
          },
          "metadata": {
            "tags": [],
            "needs_background": "light"
          }
        },
        {
          "output_type": "display_data",
          "data": {
            "image/png": "[encoded data removed]",
            "text/plain": [
              "<Figure size 432x288 with 1 Axes>"
            ]
          },
          "metadata": {
            "tags": [],
            "needs_background": "light"
          }
        },
        {
          "output_type": "display_data",
          "data": {
            "image/png": "[encoded data removed]",
            "text/plain": [
              "<Figure size 432x288 with 1 Axes>"
            ]
          },
          "metadata": {
            "tags": [],
            "needs_background": "light"
          }
        },
        {
          "output_type": "stream",
          "text": [
            "max neg control interaction: 1.9895196601282805e-13\n"
          ],
          "name": "stdout"
        },
        {
          "output_type": "display_data",
          "data": {
            "image/png": "[encoded data removed]",
            "text/plain": [
              "<Figure size 432x288 with 1 Axes>"
            ]
          },
          "metadata": {
            "tags": [],
            "needs_background": "light"
          }
        },
        {
          "output_type": "stream",
          "text": [
            "train set sanity check:\n",
            "Numbed in toanalyze_orig 6451\n"
          ],
          "name": "stdout"
        },
        {
          "output_type": "display_data",
          "data": {
            "image/png": "[encoded data removed]",
            "text/plain": [
              "<Figure size 432x288 with 1 Axes>"
            ]
          },
          "metadata": {
            "tags": [],
            "needs_background": "light"
          }
        },
        {
          "output_type": "display_data",
          "data": {
            "image/png": "[encoded data removed]",
            "text/plain": [
              "<Figure size 432x288 with 1 Axes>"
            ]
          },
          "metadata": {
            "tags": [],
            "needs_background": "light"
          }
        },
        {
          "output_type": "display_data",
          "data": {
            "image/png": "[encoded data removed]",
            "text/plain": [
              "<Figure size 432x288 with 1 Axes>"
            ]
          },
          "metadata": {
            "tags": [],
            "needs_background": "light"
          }
        },
        {
          "output_type": "stream",
          "text": [
            "max neg control interaction: 2.2737367544323206e-13\n"
          ],
          "name": "stdout"
        },
        {
          "output_type": "display_data",
          "data": {
            "image/png": "[encoded data removed]",
            "text/plain": [
              "<Figure size 432x288 with 1 Axes>"
            ]
          },
          "metadata": {
            "tags": [],
            "needs_background": "light"
          }
        },
        {
          "output_type": "stream",
          "text": [
            "controltrain set sanity check:\n",
            "Numbed in toanalyze_orig 6451\n"
          ],
          "name": "stdout"
        },
        {
          "output_type": "display_data",
          "data": {
            "image/png": "[encoded data removed]",
            "text/plain": [
              "<Figure size 432x288 with 1 Axes>"
            ]
          },
          "metadata": {
            "tags": [],
            "needs_background": "light"
          }
        },
        {
          "output_type": "display_data",
          "data": {
            "image/png": "[encoded data removed]",
            "text/plain": [
              "<Figure size 432x288 with 1 Axes>"
            ]
          },
          "metadata": {
            "tags": [],
            "needs_background": "light"
          }
        },
        {
          "output_type": "display_data",
          "data": {
            "image/png": "[encoded data removed]",
            "text/plain": [
              "<Figure size 432x288 with 1 Axes>"
            ]
          },
          "metadata": {
            "tags": [],
            "needs_background": "light"
          }
        },
        {
          "output_type": "stream",
          "text": [
            "max neg control interaction: 1.7053025658242404e-13\n"
          ],
          "name": "stdout"
        },
        {
          "output_type": "display_data",
          "data": {
            "image/png": "[encoded data removed]",
            "text/plain": [
              "<Figure size 432x288 with 1 Axes>"
            ]
          },
          "metadata": {
            "tags": [],
            "needs_background": "light"
          }
        }
      ]
    },
    {
      "cell_type": "markdown",
      "metadata": {
        "id": "2urblVnx_a2E",
        "colab_type": "text"
      },
      "source": [
        "Write out the info pertaining to the sequences to analyze"
      ]
    },
    {
      "cell_type": "code",
      "metadata": {
        "id": "A8d8DYN4_lgy",
        "colab_type": "code",
        "colab": {}
      },
      "source": [
        "acgt_string = \"ACGT\"\n",
        "\n",
        "\n",
        "def onehots_to_seqs(onehots):\n",
        "  return [\"\".join([acgt_string[acgt_idx] for acgt_idx in x])\n",
        "          for x in np.argmax(onehots, axis=-1)]\n",
        "\n",
        "\n",
        "def write_arr_to_file(arr, filename):\n",
        "  with open(filename,'w') as fh:\n",
        "    fh.write(\"\\n\".join([str(x) for x in arr]))\n",
        "\n",
        "\n",
        "write_arr_to_file(arr=onehots_to_seqs(test_toanalyze_orig),\n",
        "                  filename=\"test_toanalyze_orig_seqs.txt\")\n",
        "write_arr_to_file(arr=onehots_to_seqs(test_toanalyze_gataoff),\n",
        "                  filename=\"test_toanalyze_gataoff_seqs.txt\")\n",
        "write_arr_to_file(arr=onehots_to_seqs(test_toanalyze_taloff),\n",
        "                  filename=\"test_toanalyze_taloff_seqs.txt\")\n",
        "write_arr_to_file(arr=onehots_to_seqs(test_toanalyze_bothoff),\n",
        "                  filename=\"test_toanalyze_bothoff_seqs.txt\")\n",
        "\n",
        "write_arr_to_file(arr=test_toanalyze_orig_neg_labels,\n",
        "                  filename=\"test_toanalyze_orig_neg_labels.txt\")\n",
        "write_arr_to_file(arr=test_toanalyze_orig_pos_labels,\n",
        "                  filename=\"test_toanalyze_orig_pos_labels.txt\")\n",
        "\n",
        "write_arr_to_file(arr=onehots_to_seqs(controltest_toanalyze_gataoff),\n",
        "                  filename=\"controltest_toanalyze_gataoff_seqs.txt\")\n",
        "write_arr_to_file(arr=onehots_to_seqs(controltest_toanalyze_taloff),\n",
        "                  filename=\"controltest_toanalyze_taloff_seqs.txt\")\n",
        "write_arr_to_file(arr=onehots_to_seqs(controltest_toanalyze_bothoff),\n",
        "                  filename=\"controltest_toanalyze_bothoff_seqs.txt\")\n",
        "\n",
        "write_arr_to_file(arr=test_toanalyze_groundtruth_orig_neg,\n",
        "                  filename=\"test_toanalyze_groundtruth_orig_neg.txt\")\n",
        "write_arr_to_file(arr=test_toanalyze_groundtruth_orig_pos,\n",
        "                  filename=\"test_toanalyze_groundtruth_orig_pos.txt\")\n",
        "write_arr_to_file(arr=test_toanalyze_groundtruth_pos_interactions,\n",
        "                  filename=\"test_toanalyze_groundtruth_pos_interactions.txt\")\n",
        "write_arr_to_file(arr=test_toanalyze_groundtruth_neg_maineff,\n",
        "                  filename=\"test_toanalyze_groundtruth_neg_maineff.txt\")\n",
        "\n",
        "write_arr_to_file(arr=onehots_to_seqs(train_toanalyze_orig),\n",
        "                  filename=\"train_toanalyze_orig_seqs.txt\")\n",
        "write_arr_to_file(arr=onehots_to_seqs(train_toanalyze_gataoff),\n",
        "                  filename=\"train_toanalyze_gataoff_seqs.txt\")\n",
        "write_arr_to_file(arr=onehots_to_seqs(train_toanalyze_taloff),\n",
        "                  filename=\"train_toanalyze_taloff_seqs.txt\")\n",
        "write_arr_to_file(arr=onehots_to_seqs(train_toanalyze_bothoff),\n",
        "                  filename=\"train_toanalyze_bothoff_seqs.txt\")\n",
        "\n",
        "write_arr_to_file(arr=train_toanalyze_orig_neg_labels,\n",
        "                  filename=\"train_toanalyze_orig_neg_labels.txt\")\n",
        "write_arr_to_file(arr=train_toanalyze_orig_pos_labels,\n",
        "                  filename=\"train_toanalyze_orig_pos_labels.txt\")\n",
        "\n",
        "write_arr_to_file(arr=onehots_to_seqs(controltrain_toanalyze_gataoff),\n",
        "                  filename=\"controltrain_toanalyze_gataoff_seqs.txt\")\n",
        "write_arr_to_file(arr=onehots_to_seqs(controltrain_toanalyze_taloff),\n",
        "                  filename=\"controltrain_toanalyze_taloff_seqs.txt\")\n",
        "write_arr_to_file(arr=onehots_to_seqs(controltrain_toanalyze_bothoff),\n",
        "                  filename=\"controltrain_toanalyze_bothoff_seqs.txt\")\n"
      ],
      "execution_count": 21,
      "outputs": []
    },
    {
      "cell_type": "code",
      "metadata": {
        "id": "24LRONW-93kk",
        "colab_type": "code",
        "colab": {
          "base_uri": "https://localhost:8080/",
          "height": 207
        },
        "outputId": "d88f8040-c4f8-4351-cfb7-3a4e3f8d4240"
      },
      "source": [
        "!pip install deeplift"
      ],
      "execution_count": 22,
      "outputs": [
        {
          "output_type": "stream",
          "text": [
            "Collecting deeplift\n",
            "  Downloading https://files.pythonhosted.org/packages/6f/7a/905c4f87229f5d5e6939e146f6c5864433c1c244632a4a4af31c403942ae/deeplift-0.6.10.0.tar.gz\n",
            "Requirement already satisfied: numpy>=1.9 in /usr/local/lib/python3.6/dist-packages (from deeplift) (1.18.5)\n",
            "Building wheels for collected packages: deeplift\n",
            "  Building wheel for deeplift (setup.py) ... \u001b[?25l\u001b[?25hdone\n",
            "  Created wheel for deeplift: filename=deeplift-0.6.10.0-cp36-none-any.whl size=34063 sha256=745daff317aba3e09f62f497eceefbc65f221991c2fbe269c6e64f19c4e67c13\n",
            "  Stored in directory: /root/.cache/pip/wheels/3a/16/f1/d6b985cafb1dbe671cf9254d1b08c18dcd8f4487a09ff778a9\n",
            "Successfully built deeplift\n",
            "Installing collected packages: deeplift\n",
            "Successfully installed deeplift-0.6.10.0\n"
          ],
          "name": "stdout"
        }
      ]
    },
    {
      "cell_type": "code",
      "metadata": {
        "id": "GYHY2SC39jxs",
        "colab_type": "code",
        "colab": {}
      },
      "source": [
        "from deeplift.dinuc_shuffle import dinuc_shuffle\n",
        "#similarly create a bunch of shuffled sequences to see how\n",
        "# that behaves as a control\n",
        "\n",
        "rng = np.random.RandomState(1234)\n",
        "shuff_toanalyze_bothoff = []\n",
        "shuff_toanalyze_gataoff = []\n",
        "shuff_toanalyze_taloff = []\n",
        "shuff_toanalyze_orig = []\n",
        "\n",
        "for test_idx, gata_start, tal_start in test_toanalyze_info:\n",
        "  onehot = dinuc_shuffle(test_onehot_data[test_idx], rng=rng)\n",
        "  tal_replacement = sample_onehot(len=len(pwm_TAL), rng=rng)\n",
        "  gata_replacement = sample_onehot(len=len(pwm_GATA), rng=rng)\n",
        "  tal_off = np.array(onehot)\n",
        "  tal_off[tal_start:tal_start+len(pwm_TAL)] = tal_replacement\n",
        "  gata_off = np.array(onehot)\n",
        "  gata_off[gata_start:gata_start+len(pwm_GATA)] = gata_replacement    \n",
        "  both_off = np.array(gata_off)\n",
        "  both_off[tal_start:tal_start+len(pwm_TAL)] = tal_replacement\n",
        "  shuff_toanalyze_orig.append(onehot)\n",
        "  shuff_toanalyze_taloff.append(tal_off)\n",
        "  shuff_toanalyze_gataoff.append(gata_off)\n",
        "  shuff_toanalyze_bothoff.append(both_off)\n",
        "\n",
        "(shuff_toanalyze_orig, shuff_toanalyze_taloff,\n",
        " shuff_toanalyze_gataoff, shuff_toanalyze_bothoff) =(\n",
        "  np.array(shuff_toanalyze_orig), np.array(shuff_toanalyze_taloff),\n",
        "  np.array(shuff_toanalyze_gataoff), np.array(shuff_toanalyze_bothoff))\n",
        " \n",
        " "
      ],
      "execution_count": 23,
      "outputs": []
    },
    {
      "cell_type": "code",
      "metadata": {
        "id": "z_d5oVbsr2Qr",
        "colab_type": "code",
        "colab": {}
      },
      "source": [
        "(shuff_toanalyze_orig_expected_count_neg,\n",
        " shuff_toanalyze_orig_expected_count_pos, _) =\\\n",
        "  get_oracle_preds(shuff_toanalyze_orig)"
      ],
      "execution_count": 24,
      "outputs": []
    },
    {
      "cell_type": "code",
      "metadata": {
        "id": "nLNWBGmVRqbe",
        "colab_type": "code",
        "colab": {
          "base_uri": "https://localhost:8080/",
          "height": 701
        },
        "outputId": "26456a0d-65a3-469f-989e-975cbab7654c"
      },
      "source": [
        "sanity_check(toanalyze_orig=shuff_toanalyze_orig,\n",
        "             toanalyze_taloff=shuff_toanalyze_taloff,\n",
        "             toanalyze_gataoff=shuff_toanalyze_gataoff,\n",
        "             toanalyze_bothoff=shuff_toanalyze_bothoff,\n",
        "             toanalyze_orig_neg_labels=None,\n",
        "             toanalyze_orig_pos_labels=None)\n"
      ],
      "execution_count": 25,
      "outputs": [
        {
          "output_type": "stream",
          "text": [
            "Numbed in toanalyze_orig 7971\n"
          ],
          "name": "stdout"
        },
        {
          "output_type": "display_data",
          "data": {
            "image/png": "[encoded data removed]",
            "text/plain": [
              "<Figure size 432x288 with 1 Axes>"
            ]
          },
          "metadata": {
            "tags": [],
            "needs_background": "light"
          }
        },
        {
          "output_type": "stream",
          "text": [
            "max neg control interaction: 1.4210854715202004e-13\n"
          ],
          "name": "stdout"
        },
        {
          "output_type": "display_data",
          "data": {
            "image/png": "[encoded data removed]",
            "text/plain": [
              "<Figure size 432x288 with 1 Axes>"
            ]
          },
          "metadata": {
            "tags": [],
            "needs_background": "light"
          }
        },
        {
          "output_type": "execute_result",
          "data": {
            "text/plain": [
              "(array([107.06760643, 154.62068975,  10.00250366, ...,  26.63498953,\n",
              "        100.33423771,  10.00765108]),\n",
              " array([ 66.47194569, 115.35931268,   1.89807919, ...,   8.24764664,\n",
              "         60.30106516,   1.89954455]),\n",
              " array([ 2.69994828e-01, -1.05269771e-04, -8.36276082e-01, ...,\n",
              "         3.24379912e-04, -5.85370660e-04,  3.53843893e-01]),\n",
              " array([ 99.40717325, -34.22654035,   4.68553067, ...,   2.59940506,\n",
              "          2.2829723 , -95.14068895]))"
            ]
          },
          "metadata": {
            "tags": []
          },
          "execution_count": 25
        }
      ]
    },
    {
      "cell_type": "code",
      "metadata": {
        "id": "sbEa2kDKFbOB",
        "colab_type": "code",
        "colab": {
          "base_uri": "https://localhost:8080/",
          "height": 281
        },
        "outputId": "a345a056-8e1b-47e4-9df2-be57f075eed8"
      },
      "source": [
        "#Another sanity check...what are the labels on the shuff sequences\n",
        "plt.hist(shuff_toanalyze_orig_expected_count_neg, density=True, bins=20)\n",
        "plt.title(\"Shuff labels\")\n",
        "plt.show()"
      ],
      "execution_count": 26,
      "outputs": [
        {
          "output_type": "display_data",
          "data": {
            "image/png": "[encoded data removed]",
            "text/plain": [
              "<Figure size 432x288 with 1 Axes>"
            ]
          },
          "metadata": {
            "tags": [],
            "needs_background": "light"
          }
        }
      ]
    },
    {
      "cell_type": "code",
      "metadata": {
        "id": "nxjlsADaFaDs",
        "colab_type": "code",
        "colab": {}
      },
      "source": [
        "write_arr_to_file(arr=onehots_to_seqs(shuff_toanalyze_orig),\n",
        "                  filename=\"shuff_toanalyze_orig_seqs.txt\")\n",
        "write_arr_to_file(arr=onehots_to_seqs(shuff_toanalyze_gataoff),\n",
        "                  filename=\"shuff_toanalyze_gataoff_seqs.txt\")\n",
        "write_arr_to_file(arr=onehots_to_seqs(shuff_toanalyze_taloff),\n",
        "                  filename=\"shuff_toanalyze_taloff_seqs.txt\")\n",
        "write_arr_to_file(arr=onehots_to_seqs(shuff_toanalyze_bothoff),\n",
        "                  filename=\"shuff_toanalyze_bothoff_seqs.txt\")\n",
        "write_arr_to_file(arr=shuff_toanalyze_orig_expected_count_neg,\n",
        "                  filename=\"shuff_toanalyze_orig_oraclepred_neg.txt\")\n",
        "write_arr_to_file(arr=shuff_toanalyze_orig_expected_count_pos,\n",
        "                  filename=\"shuff_toanalyze_orig_oraclepred_pos.txt\")"
      ],
      "execution_count": 27,
      "outputs": []
    },
    {
      "cell_type": "code",
      "metadata": {
        "id": "CXpMlMbrr2jD",
        "colab_type": "code",
        "colab": {
          "base_uri": "https://localhost:8080/",
          "height": 187
        },
        "outputId": "2c0b5585-9ba4-4b92-8f10-de786c48b3e7"
      },
      "source": [
        "!head train_neg_labels.txt"
      ],
      "execution_count": 28,
      "outputs": [
        {
          "output_type": "stream",
          "text": [
            "5\t4.1374591488666725\n",
            "0\t0.8894499415936051\n",
            "183\t166.25329508816046\n",
            "83\t82.91508944371164\n",
            "111\t104.91835614070793\n",
            "151\t149.40111329104008\n",
            "0\t0.5022485914813974\n",
            "115\t119.86269159026799\n",
            "208\t235.77425634113337\n",
            "245\t217.36801797093275\n"
          ],
          "name": "stdout"
        }
      ]
    },
    {
      "cell_type": "code",
      "metadata": {
        "id": "KVcxGHd2uDEB",
        "colab_type": "code",
        "colab": {
          "base_uri": "https://localhost:8080/",
          "height": 187
        },
        "outputId": "66079fb5-9713-4b9f-c5c9-ddfcda20797b"
      },
      "source": [
        "!head train_pos_labels.txt"
      ],
      "execution_count": 29,
      "outputs": [
        {
          "output_type": "stream",
          "text": [
            "0\t0.5049540136881051\n",
            "0\t0.05033076329642157\n",
            "125\t128.61944843506038\n",
            "47\t45.30035555470423\n",
            "57\t64.4805104092789\n",
            "114\t109.56756269176232\n",
            "0\t0.021356463686967742\n",
            "79\t78.73671456864167\n",
            "234\t217.218007638963\n",
            "187\t192.28469531150978\n"
          ],
          "name": "stdout"
        }
      ]
    },
    {
      "cell_type": "code",
      "metadata": {
        "id": "1QCgCRJ2r3wc",
        "colab_type": "code",
        "colab": {
          "base_uri": "https://localhost:8080/",
          "height": 680
        },
        "outputId": "ed94c6b9-14b8-461f-ea39-2fda42e10cd9"
      },
      "source": [
        "!gzip -f *.txt\n",
        "!gzip -f *.simdata\n",
        "\n",
        "!du -h *"
      ],
      "execution_count": 30,
      "outputs": [
        {
          "output_type": "stream",
          "text": [
            "240K\tcontroltest_toanalyze_bothoff_seqs.txt.gz\n",
            "240K\tcontroltest_toanalyze_gataoff_seqs.txt.gz\n",
            "240K\tcontroltest_toanalyze_taloff_seqs.txt.gz\n",
            "196K\tcontroltrain_toanalyze_bothoff_seqs.txt.gz\n",
            "192K\tcontroltrain_toanalyze_gataoff_seqs.txt.gz\n",
            "192K\tcontroltrain_toanalyze_taloff_seqs.txt.gz\n",
            "55M\tsample_data\n",
            "240K\tshuff_toanalyze_bothoff_seqs.txt.gz\n",
            "244K\tshuff_toanalyze_gataoff_seqs.txt.gz\n",
            "72K\tshuff_toanalyze_orig_oraclepred_neg.txt.gz\n",
            "72K\tshuff_toanalyze_orig_oraclepred_pos.txt.gz\n",
            "244K\tshuff_toanalyze_orig_seqs.txt.gz\n",
            "244K\tshuff_toanalyze_taloff_seqs.txt.gz\n",
            "520K\ttest_neg_labels.txt.gz\n",
            "516K\ttest_pos_labels.txt.gz\n",
            "5.8M\ttest_simulation.fa\n",
            "4.0K\ttest_simulation_info.txt.gz\n",
            "2.1M\ttest_simulation.simdata.gz\n",
            "244K\ttest_toanalyze_bothoff_seqs.txt.gz\n",
            "240K\ttest_toanalyze_gataoff_seqs.txt.gz\n",
            "72K\ttest_toanalyze_groundtruth_neg_maineff.txt.gz\n",
            "72K\ttest_toanalyze_groundtruth_orig_neg.txt.gz\n",
            "72K\ttest_toanalyze_groundtruth_orig_pos.txt.gz\n",
            "72K\ttest_toanalyze_groundtruth_pos_interactions.txt.gz\n",
            "12K\ttest_toanalyze_orig_neg_labels.txt.gz\n",
            "12K\ttest_toanalyze_orig_pos_labels.txt.gz\n",
            "236K\ttest_toanalyze_orig_seqs.txt.gz\n",
            "240K\ttest_toanalyze_taloff_seqs.txt.gz\n",
            "520K\ttrain_neg_labels.txt.gz\n",
            "516K\ttrain_pos_labels.txt.gz\n",
            "5.9M\ttrain_simulation.fa\n",
            "4.0K\ttrain_simulation_info.txt.gz\n",
            "2.1M\ttrain_simulation.simdata.gz\n",
            "196K\ttrain_toanalyze_bothoff_seqs.txt.gz\n",
            "196K\ttrain_toanalyze_gataoff_seqs.txt.gz\n",
            "12K\ttrain_toanalyze_orig_neg_labels.txt.gz\n",
            "12K\ttrain_toanalyze_orig_pos_labels.txt.gz\n",
            "192K\ttrain_toanalyze_orig_seqs.txt.gz\n",
            "196K\ttrain_toanalyze_taloff_seqs.txt.gz\n"
          ],
          "name": "stdout"
        }
      ]
    },
    {
      "cell_type": "code",
      "metadata": {
        "id": "AcIpVASdsDyj",
        "colab_type": "code",
        "colab": {
          "base_uri": "https://localhost:8080/",
          "height": 17
        },
        "outputId": "f3c7446e-c0ba-4930-a712-d35aab8a05c3"
      },
      "source": [
        "from google.colab import files\n",
        "files.download(\"train_simulation.simdata.gz\")\n",
        "files.download(\"train_neg_labels.txt.gz\")\n",
        "files.download(\"train_pos_labels.txt.gz\")\n",
        "\n",
        "files.download(\"test_simulation.simdata.gz\")\n",
        "files.download(\"test_neg_labels.txt.gz\")\n",
        "files.download(\"test_pos_labels.txt.gz\")\n",
        "\n",
        "files.download(\"test_toanalyze_orig_seqs.txt.gz\")\n",
        "files.download(\"test_toanalyze_taloff_seqs.txt.gz\")\n",
        "files.download(\"test_toanalyze_gataoff_seqs.txt.gz\")\n",
        "files.download(\"test_toanalyze_bothoff_seqs.txt.gz\")\n",
        "\n",
        "files.download(\"test_toanalyze_orig_pos_labels.txt.gz\")\n",
        "files.download(\"test_toanalyze_orig_neg_labels.txt.gz\")\n",
        "\n",
        "files.download(\"test_toanalyze_groundtruth_orig_neg.txt.gz\")\n",
        "files.download(\"test_toanalyze_groundtruth_orig_pos.txt.gz\")\n",
        "files.download(\"test_toanalyze_groundtruth_pos_interactions.txt.gz\")\n",
        "files.download(\"test_toanalyze_groundtruth_neg_maineff.txt.gz\")\n",
        "\n",
        "\n",
        "files.download(\"controltest_toanalyze_taloff_seqs.txt.gz\")\n",
        "files.download(\"controltest_toanalyze_gataoff_seqs.txt.gz\")\n",
        "files.download(\"controltest_toanalyze_bothoff_seqs.txt.gz\")\n",
        "\n",
        "files.download(\"train_toanalyze_orig_seqs.txt.gz\")\n",
        "files.download(\"train_toanalyze_taloff_seqs.txt.gz\")\n",
        "files.download(\"train_toanalyze_gataoff_seqs.txt.gz\")\n",
        "files.download(\"train_toanalyze_bothoff_seqs.txt.gz\")\n",
        "\n",
        "files.download(\"train_toanalyze_orig_pos_labels.txt.gz\")\n",
        "files.download(\"train_toanalyze_orig_neg_labels.txt.gz\")\n",
        "\n",
        "files.download(\"controltrain_toanalyze_taloff_seqs.txt.gz\")\n",
        "files.download(\"controltrain_toanalyze_gataoff_seqs.txt.gz\")\n",
        "files.download(\"controltrain_toanalyze_bothoff_seqs.txt.gz\")\n",
        "\n",
        "files.download(\"shuff_toanalyze_orig_seqs.txt.gz\")\n",
        "files.download(\"shuff_toanalyze_taloff_seqs.txt.gz\")\n",
        "files.download(\"shuff_toanalyze_gataoff_seqs.txt.gz\")\n",
        "files.download(\"shuff_toanalyze_bothoff_seqs.txt.gz\")\n",
        "\n",
        "files.download(\"shuff_toanalyze_orig_oraclepred_neg.txt.gz\")\n",
        "files.download(\"shuff_toanalyze_orig_oraclepred_pos.txt.gz\")"
      ],
      "execution_count": 31,
      "outputs": [
        {
          "output_type": "display_data",
          "data": {
            "application/javascript": [
              "\n",
              "    async function download(id, filename, size) {\n",
              "      if (!google.colab.kernel.accessAllowed) {\n",
              "        return;\n",
              "      }\n",
              "      const div = document.createElement('div');\n",
              "      const label = document.createElement('label');\n",
              "      label.textContent = `Downloading \"${filename}\": `;\n",
              "      div.appendChild(label);\n",
              "      const progress = document.createElement('progress');\n",
              "      progress.max = size;\n",
              "      div.appendChild(progress);\n",
              "      document.body.appendChild(div);\n",
              "\n",
              "      const buffers = [];\n",
              "      let downloaded = 0;\n",
              "\n",
              "      const channel = await google.colab.kernel.comms.open(id);\n",
              "      // Send a message to notify the kernel that we're ready.\n",
              "      channel.send({})\n",
              "\n",
              "      for await (const message of channel.messages) {\n",
              "        // Send a message to notify the kernel that we're ready.\n",
              "        channel.send({})\n",
              "        if (message.buffers) {\n",
              "          for (const buffer of message.buffers) {\n",
              "            buffers.push(buffer);\n",
              "            downloaded += buffer.byteLength;\n",
              "            progress.value = downloaded;\n",
              "          }\n",
              "        }\n",
              "      }\n",
              "      const blob = new Blob(buffers, {type: 'application/binary'});\n",
              "      const a = document.createElement('a');\n",
              "      a.href = window.URL.createObjectURL(blob);\n",
              "      a.download = filename;\n",
              "      div.appendChild(a);\n",
              "      a.click();\n",
              "      div.remove();\n",
              "    }\n",
              "  "
            ],
            "text/plain": [
              "<IPython.core.display.Javascript object>"
            ]
          },
          "metadata": {
            "tags": []
          }
        },
        {
          "output_type": "display_data",
          "data": {
            "application/javascript": [
              "download(\"download_78192dcf-c104-4ead-9b6a-3fbb984ace8b\", \"train_simulation.simdata.gz\", 2104123)"
            ],
            "text/plain": [
              "<IPython.core.display.Javascript object>"
            ]
          },
          "metadata": {
            "tags": []
          }
        },
        {
          "output_type": "display_data",
          "data": {
            "application/javascript": [
              "\n",
              "    async function download(id, filename, size) {\n",
              "      if (!google.colab.kernel.accessAllowed) {\n",
              "        return;\n",
              "      }\n",
              "      const div = document.createElement('div');\n",
              "      const label = document.createElement('label');\n",
              "      label.textContent = `Downloading \"${filename}\": `;\n",
              "      div.appendChild(label);\n",
              "      const progress = document.createElement('progress');\n",
              "      progress.max = size;\n",
              "      div.appendChild(progress);\n",
              "      document.body.appendChild(div);\n",
              "\n",
              "      const buffers = [];\n",
              "      let downloaded = 0;\n",
              "\n",
              "      const channel = await google.colab.kernel.comms.open(id);\n",
              "      // Send a message to notify the kernel that we're ready.\n",
              "      channel.send({})\n",
              "\n",
              "      for await (const message of channel.messages) {\n",
              "        // Send a message to notify the kernel that we're ready.\n",
              "        channel.send({})\n",
              "        if (message.buffers) {\n",
              "          for (const buffer of message.buffers) {\n",
              "            buffers.push(buffer);\n",
              "            downloaded += buffer.byteLength;\n",
              "            progress.value = downloaded;\n",
              "          }\n",
              "        }\n",
              "      }\n",
              "      const blob = new Blob(buffers, {type: 'application/binary'});\n",
              "      const a = document.createElement('a');\n",
              "      a.href = window.URL.createObjectURL(blob);\n",
              "      a.download = filename;\n",
              "      div.appendChild(a);\n",
              "      a.click();\n",
              "      div.remove();\n",
              "    }\n",
              "  "
            ],
            "text/plain": [
              "<IPython.core.display.Javascript object>"
            ]
          },
          "metadata": {
            "tags": []
          }
        },
        {
          "output_type": "display_data",
          "data": {
            "application/javascript": [
              "download(\"download_50542920-a694-458d-8184-af2f73fd966b\", \"train_neg_labels.txt.gz\", 529319)"
            ],
            "text/plain": [
              "<IPython.core.display.Javascript object>"
            ]
          },
          "metadata": {
            "tags": []
          }
        },
        {
          "output_type": "display_data",
          "data": {
            "application/javascript": [
              "\n",
              "    async function download(id, filename, size) {\n",
              "      if (!google.colab.kernel.accessAllowed) {\n",
              "        return;\n",
              "      }\n",
              "      const div = document.createElement('div');\n",
              "      const label = document.createElement('label');\n",
              "      label.textContent = `Downloading \"${filename}\": `;\n",
              "      div.appendChild(label);\n",
              "      const progress = document.createElement('progress');\n",
              "      progress.max = size;\n",
              "      div.appendChild(progress);\n",
              "      document.body.appendChild(div);\n",
              "\n",
              "      const buffers = [];\n",
              "      let downloaded = 0;\n",
              "\n",
              "      const channel = await google.colab.kernel.comms.open(id);\n",
              "      // Send a message to notify the kernel that we're ready.\n",
              "      channel.send({})\n",
              "\n",
              "      for await (const message of channel.messages) {\n",
              "        // Send a message to notify the kernel that we're ready.\n",
              "        channel.send({})\n",
              "        if (message.buffers) {\n",
              "          for (const buffer of message.buffers) {\n",
              "            buffers.push(buffer);\n",
              "            downloaded += buffer.byteLength;\n",
              "            progress.value = downloaded;\n",
              "          }\n",
              "        }\n",
              "      }\n",
              "      const blob = new Blob(buffers, {type: 'application/binary'});\n",
              "      const a = document.createElement('a');\n",
              "      a.href = window.URL.createObjectURL(blob);\n",
              "      a.download = filename;\n",
              "      div.appendChild(a);\n",
              "      a.click();\n",
              "      div.remove();\n",
              "    }\n",
              "  "
            ],
            "text/plain": [
              "<IPython.core.display.Javascript object>"
            ]
          },
          "metadata": {
            "tags": []
          }
        },
        {
          "output_type": "display_data",
          "data": {
            "application/javascript": [
              "download(\"download_db27a0ca-bf9e-46d1-9433-707a1cf95a35\", \"train_pos_labels.txt.gz\", 524532)"
            ],
            "text/plain": [
              "<IPython.core.display.Javascript object>"
            ]
          },
          "metadata": {
            "tags": []
          }
        },
        {
          "output_type": "display_data",
          "data": {
            "application/javascript": [
              "\n",
              "    async function download(id, filename, size) {\n",
              "      if (!google.colab.kernel.accessAllowed) {\n",
              "        return;\n",
              "      }\n",
              "      const div = document.createElement('div');\n",
              "      const label = document.createElement('label');\n",
              "      label.textContent = `Downloading \"${filename}\": `;\n",
              "      div.appendChild(label);\n",
              "      const progress = document.createElement('progress');\n",
              "      progress.max = size;\n",
              "      div.appendChild(progress);\n",
              "      document.body.appendChild(div);\n",
              "\n",
              "      const buffers = [];\n",
              "      let downloaded = 0;\n",
              "\n",
              "      const channel = await google.colab.kernel.comms.open(id);\n",
              "      // Send a message to notify the kernel that we're ready.\n",
              "      channel.send({})\n",
              "\n",
              "      for await (const message of channel.messages) {\n",
              "        // Send a message to notify the kernel that we're ready.\n",
              "        channel.send({})\n",
              "        if (message.buffers) {\n",
              "          for (const buffer of message.buffers) {\n",
              "            buffers.push(buffer);\n",
              "            downloaded += buffer.byteLength;\n",
              "            progress.value = downloaded;\n",
              "          }\n",
              "        }\n",
              "      }\n",
              "      const blob = new Blob(buffers, {type: 'application/binary'});\n",
              "      const a = document.createElement('a');\n",
              "      a.href = window.URL.createObjectURL(blob);\n",
              "      a.download = filename;\n",
              "      div.appendChild(a);\n",
              "      a.click();\n",
              "      div.remove();\n",
              "    }\n",
              "  "
            ],
            "text/plain": [
              "<IPython.core.display.Javascript object>"
            ]
          },
          "metadata": {
            "tags": []
          }
        },
        {
          "output_type": "display_data",
          "data": {
            "application/javascript": [
              "download(\"download_53d6b0a4-da54-493f-88c2-e1b5a15a37a9\", \"test_simulation.simdata.gz\", 2103069)"
            ],
            "text/plain": [
              "<IPython.core.display.Javascript object>"
            ]
          },
          "metadata": {
            "tags": []
          }
        },
        {
          "output_type": "display_data",
          "data": {
            "application/javascript": [
              "\n",
              "    async function download(id, filename, size) {\n",
              "      if (!google.colab.kernel.accessAllowed) {\n",
              "        return;\n",
              "      }\n",
              "      const div = document.createElement('div');\n",
              "      const label = document.createElement('label');\n",
              "      label.textContent = `Downloading \"${filename}\": `;\n",
              "      div.appendChild(label);\n",
              "      const progress = document.createElement('progress');\n",
              "      progress.max = size;\n",
              "      div.appendChild(progress);\n",
              "      document.body.appendChild(div);\n",
              "\n",
              "      const buffers = [];\n",
              "      let downloaded = 0;\n",
              "\n",
              "      const channel = await google.colab.kernel.comms.open(id);\n",
              "      // Send a message to notify the kernel that we're ready.\n",
              "      channel.send({})\n",
              "\n",
              "      for await (const message of channel.messages) {\n",
              "        // Send a message to notify the kernel that we're ready.\n",
              "        channel.send({})\n",
              "        if (message.buffers) {\n",
              "          for (const buffer of message.buffers) {\n",
              "            buffers.push(buffer);\n",
              "            downloaded += buffer.byteLength;\n",
              "            progress.value = downloaded;\n",
              "          }\n",
              "        }\n",
              "      }\n",
              "      const blob = new Blob(buffers, {type: 'application/binary'});\n",
              "      const a = document.createElement('a');\n",
              "      a.href = window.URL.createObjectURL(blob);\n",
              "      a.download = filename;\n",
              "      div.appendChild(a);\n",
              "      a.click();\n",
              "      div.remove();\n",
              "    }\n",
              "  "
            ],
            "text/plain": [
              "<IPython.core.display.Javascript object>"
            ]
          },
          "metadata": {
            "tags": []
          }
        },
        {
          "output_type": "display_data",
          "data": {
            "application/javascript": [
              "download(\"download_87570c89-2a3f-41ce-a7af-345d6b5d5dfb\", \"test_neg_labels.txt.gz\", 529495)"
            ],
            "text/plain": [
              "<IPython.core.display.Javascript object>"
            ]
          },
          "metadata": {
            "tags": []
          }
        },
        {
          "output_type": "display_data",
          "data": {
            "application/javascript": [
              "\n",
              "    async function download(id, filename, size) {\n",
              "      if (!google.colab.kernel.accessAllowed) {\n",
              "        return;\n",
              "      }\n",
              "      const div = document.createElement('div');\n",
              "      const label = document.createElement('label');\n",
              "      label.textContent = `Downloading \"${filename}\": `;\n",
              "      div.appendChild(label);\n",
              "      const progress = document.createElement('progress');\n",
              "      progress.max = size;\n",
              "      div.appendChild(progress);\n",
              "      document.body.appendChild(div);\n",
              "\n",
              "      const buffers = [];\n",
              "      let downloaded = 0;\n",
              "\n",
              "      const channel = await google.colab.kernel.comms.open(id);\n",
              "      // Send a message to notify the kernel that we're ready.\n",
              "      channel.send({})\n",
              "\n",
              "      for await (const message of channel.messages) {\n",
              "        // Send a message to notify the kernel that we're ready.\n",
              "        channel.send({})\n",
              "        if (message.buffers) {\n",
              "          for (const buffer of message.buffers) {\n",
              "            buffers.push(buffer);\n",
              "            downloaded += buffer.byteLength;\n",
              "            progress.value = downloaded;\n",
              "          }\n",
              "        }\n",
              "      }\n",
              "      const blob = new Blob(buffers, {type: 'application/binary'});\n",
              "      const a = document.createElement('a');\n",
              "      a.href = window.URL.createObjectURL(blob);\n",
              "      a.download = filename;\n",
              "      div.appendChild(a);\n",
              "      a.click();\n",
              "      div.remove();\n",
              "    }\n",
              "  "
            ],
            "text/plain": [
              "<IPython.core.display.Javascript object>"
            ]
          },
          "metadata": {
            "tags": []
          }
        },
        {
          "output_type": "display_data",
          "data": {
            "application/javascript": [
              "download(\"download_0ff4f67c-9bc2-4173-a7ad-7d2fb2c1399c\", \"test_pos_labels.txt.gz\", 524461)"
            ],
            "text/plain": [
              "<IPython.core.display.Javascript object>"
            ]
          },
          "metadata": {
            "tags": []
          }
        },
        {
          "output_type": "display_data",
          "data": {
            "application/javascript": [
              "\n",
              "    async function download(id, filename, size) {\n",
              "      if (!google.colab.kernel.accessAllowed) {\n",
              "        return;\n",
              "      }\n",
              "      const div = document.createElement('div');\n",
              "      const label = document.createElement('label');\n",
              "      label.textContent = `Downloading \"${filename}\": `;\n",
              "      div.appendChild(label);\n",
              "      const progress = document.createElement('progress');\n",
              "      progress.max = size;\n",
              "      div.appendChild(progress);\n",
              "      document.body.appendChild(div);\n",
              "\n",
              "      const buffers = [];\n",
              "      let downloaded = 0;\n",
              "\n",
              "      const channel = await google.colab.kernel.comms.open(id);\n",
              "      // Send a message to notify the kernel that we're ready.\n",
              "      channel.send({})\n",
              "\n",
              "      for await (const message of channel.messages) {\n",
              "        // Send a message to notify the kernel that we're ready.\n",
              "        channel.send({})\n",
              "        if (message.buffers) {\n",
              "          for (const buffer of message.buffers) {\n",
              "            buffers.push(buffer);\n",
              "            downloaded += buffer.byteLength;\n",
              "            progress.value = downloaded;\n",
              "          }\n",
              "        }\n",
              "      }\n",
              "      const blob = new Blob(buffers, {type: 'application/binary'});\n",
              "      const a = document.createElement('a');\n",
              "      a.href = window.URL.createObjectURL(blob);\n",
              "      a.download = filename;\n",
              "      div.appendChild(a);\n",
              "      a.click();\n",
              "      div.remove();\n",
              "    }\n",
              "  "
            ],
            "text/plain": [
              "<IPython.core.display.Javascript object>"
            ]
          },
          "metadata": {
            "tags": []
          }
        },
        {
          "output_type": "display_data",
          "data": {
            "application/javascript": [
              "download(\"download_e9b26180-6a7c-4b47-b19d-2aaaf5fd359c\", \"test_toanalyze_orig_seqs.txt.gz\", 241558)"
            ],
            "text/plain": [
              "<IPython.core.display.Javascript object>"
            ]
          },
          "metadata": {
            "tags": []
          }
        },
        {
          "output_type": "display_data",
          "data": {
            "application/javascript": [
              "\n",
              "    async function download(id, filename, size) {\n",
              "      if (!google.colab.kernel.accessAllowed) {\n",
              "        return;\n",
              "      }\n",
              "      const div = document.createElement('div');\n",
              "      const label = document.createElement('label');\n",
              "      label.textContent = `Downloading \"${filename}\": `;\n",
              "      div.appendChild(label);\n",
              "      const progress = document.createElement('progress');\n",
              "      progress.max = size;\n",
              "      div.appendChild(progress);\n",
              "      document.body.appendChild(div);\n",
              "\n",
              "      const buffers = [];\n",
              "      let downloaded = 0;\n",
              "\n",
              "      const channel = await google.colab.kernel.comms.open(id);\n",
              "      // Send a message to notify the kernel that we're ready.\n",
              "      channel.send({})\n",
              "\n",
              "      for await (const message of channel.messages) {\n",
              "        // Send a message to notify the kernel that we're ready.\n",
              "        channel.send({})\n",
              "        if (message.buffers) {\n",
              "          for (const buffer of message.buffers) {\n",
              "            buffers.push(buffer);\n",
              "            downloaded += buffer.byteLength;\n",
              "            progress.value = downloaded;\n",
              "          }\n",
              "        }\n",
              "      }\n",
              "      const blob = new Blob(buffers, {type: 'application/binary'});\n",
              "      const a = document.createElement('a');\n",
              "      a.href = window.URL.createObjectURL(blob);\n",
              "      a.download = filename;\n",
              "      div.appendChild(a);\n",
              "      a.click();\n",
              "      div.remove();\n",
              "    }\n",
              "  "
            ],
            "text/plain": [
              "<IPython.core.display.Javascript object>"
            ]
          },
          "metadata": {
            "tags": []
          }
        },
        {
          "output_type": "display_data",
          "data": {
            "application/javascript": [
              "download(\"download_080610af-079d-47ba-88fc-ba6ee6a05560\", \"test_toanalyze_taloff_seqs.txt.gz\", 244506)"
            ],
            "text/plain": [
              "<IPython.core.display.Javascript object>"
            ]
          },
          "metadata": {
            "tags": []
          }
        },
        {
          "output_type": "display_data",
          "data": {
            "application/javascript": [
              "\n",
              "    async function download(id, filename, size) {\n",
              "      if (!google.colab.kernel.accessAllowed) {\n",
              "        return;\n",
              "      }\n",
              "      const div = document.createElement('div');\n",
              "      const label = document.createElement('label');\n",
              "      label.textContent = `Downloading \"${filename}\": `;\n",
              "      div.appendChild(label);\n",
              "      const progress = document.createElement('progress');\n",
              "      progress.max = size;\n",
              "      div.appendChild(progress);\n",
              "      document.body.appendChild(div);\n",
              "\n",
              "      const buffers = [];\n",
              "      let downloaded = 0;\n",
              "\n",
              "      const channel = await google.colab.kernel.comms.open(id);\n",
              "      // Send a message to notify the kernel that we're ready.\n",
              "      channel.send({})\n",
              "\n",
              "      for await (const message of channel.messages) {\n",
              "        // Send a message to notify the kernel that we're ready.\n",
              "        channel.send({})\n",
              "        if (message.buffers) {\n",
              "          for (const buffer of message.buffers) {\n",
              "            buffers.push(buffer);\n",
              "            downloaded += buffer.byteLength;\n",
              "            progress.value = downloaded;\n",
              "          }\n",
              "        }\n",
              "      }\n",
              "      const blob = new Blob(buffers, {type: 'application/binary'});\n",
              "      const a = document.createElement('a');\n",
              "      a.href = window.URL.createObjectURL(blob);\n",
              "      a.download = filename;\n",
              "      div.appendChild(a);\n",
              "      a.click();\n",
              "      div.remove();\n",
              "    }\n",
              "  "
            ],
            "text/plain": [
              "<IPython.core.display.Javascript object>"
            ]
          },
          "metadata": {
            "tags": []
          }
        },
        {
          "output_type": "display_data",
          "data": {
            "application/javascript": [
              "download(\"download_e96def45-b6b3-4e41-96f1-82c7237dd66d\", \"test_toanalyze_gataoff_seqs.txt.gz\", 243493)"
            ],
            "text/plain": [
              "<IPython.core.display.Javascript object>"
            ]
          },
          "metadata": {
            "tags": []
          }
        },
        {
          "output_type": "display_data",
          "data": {
            "application/javascript": [
              "\n",
              "    async function download(id, filename, size) {\n",
              "      if (!google.colab.kernel.accessAllowed) {\n",
              "        return;\n",
              "      }\n",
              "      const div = document.createElement('div');\n",
              "      const label = document.createElement('label');\n",
              "      label.textContent = `Downloading \"${filename}\": `;\n",
              "      div.appendChild(label);\n",
              "      const progress = document.createElement('progress');\n",
              "      progress.max = size;\n",
              "      div.appendChild(progress);\n",
              "      document.body.appendChild(div);\n",
              "\n",
              "      const buffers = [];\n",
              "      let downloaded = 0;\n",
              "\n",
              "      const channel = await google.colab.kernel.comms.open(id);\n",
              "      // Send a message to notify the kernel that we're ready.\n",
              "      channel.send({})\n",
              "\n",
              "      for await (const message of channel.messages) {\n",
              "        // Send a message to notify the kernel that we're ready.\n",
              "        channel.send({})\n",
              "        if (message.buffers) {\n",
              "          for (const buffer of message.buffers) {\n",
              "            buffers.push(buffer);\n",
              "            downloaded += buffer.byteLength;\n",
              "            progress.value = downloaded;\n",
              "          }\n",
              "        }\n",
              "      }\n",
              "      const blob = new Blob(buffers, {type: 'application/binary'});\n",
              "      const a = document.createElement('a');\n",
              "      a.href = window.URL.createObjectURL(blob);\n",
              "      a.download = filename;\n",
              "      div.appendChild(a);\n",
              "      a.click();\n",
              "      div.remove();\n",
              "    }\n",
              "  "
            ],
            "text/plain": [
              "<IPython.core.display.Javascript object>"
            ]
          },
          "metadata": {
            "tags": []
          }
        },
        {
          "output_type": "display_data",
          "data": {
            "application/javascript": [
              "download(\"download_b81809f2-7de9-428c-8644-bfc0d41c25bb\", \"test_toanalyze_bothoff_seqs.txt.gz\", 245828)"
            ],
            "text/plain": [
              "<IPython.core.display.Javascript object>"
            ]
          },
          "metadata": {
            "tags": []
          }
        },
        {
          "output_type": "display_data",
          "data": {
            "application/javascript": [
              "\n",
              "    async function download(id, filename, size) {\n",
              "      if (!google.colab.kernel.accessAllowed) {\n",
              "        return;\n",
              "      }\n",
              "      const div = document.createElement('div');\n",
              "      const label = document.createElement('label');\n",
              "      label.textContent = `Downloading \"${filename}\": `;\n",
              "      div.appendChild(label);\n",
              "      const progress = document.createElement('progress');\n",
              "      progress.max = size;\n",
              "      div.appendChild(progress);\n",
              "      document.body.appendChild(div);\n",
              "\n",
              "      const buffers = [];\n",
              "      let downloaded = 0;\n",
              "\n",
              "      const channel = await google.colab.kernel.comms.open(id);\n",
              "      // Send a message to notify the kernel that we're ready.\n",
              "      channel.send({})\n",
              "\n",
              "      for await (const message of channel.messages) {\n",
              "        // Send a message to notify the kernel that we're ready.\n",
              "        channel.send({})\n",
              "        if (message.buffers) {\n",
              "          for (const buffer of message.buffers) {\n",
              "            buffers.push(buffer);\n",
              "            downloaded += buffer.byteLength;\n",
              "            progress.value = downloaded;\n",
              "          }\n",
              "        }\n",
              "      }\n",
              "      const blob = new Blob(buffers, {type: 'application/binary'});\n",
              "      const a = document.createElement('a');\n",
              "      a.href = window.URL.createObjectURL(blob);\n",
              "      a.download = filename;\n",
              "      div.appendChild(a);\n",
              "      a.click();\n",
              "      div.remove();\n",
              "    }\n",
              "  "
            ],
            "text/plain": [
              "<IPython.core.display.Javascript object>"
            ]
          },
          "metadata": {
            "tags": []
          }
        },
        {
          "output_type": "display_data",
          "data": {
            "application/javascript": [
              "download(\"download_d87f0478-79dd-447f-a7f4-f3c8eea12b47\", \"test_toanalyze_orig_pos_labels.txt.gz\", 11727)"
            ],
            "text/plain": [
              "<IPython.core.display.Javascript object>"
            ]
          },
          "metadata": {
            "tags": []
          }
        },
        {
          "output_type": "display_data",
          "data": {
            "application/javascript": [
              "\n",
              "    async function download(id, filename, size) {\n",
              "      if (!google.colab.kernel.accessAllowed) {\n",
              "        return;\n",
              "      }\n",
              "      const div = document.createElement('div');\n",
              "      const label = document.createElement('label');\n",
              "      label.textContent = `Downloading \"${filename}\": `;\n",
              "      div.appendChild(label);\n",
              "      const progress = document.createElement('progress');\n",
              "      progress.max = size;\n",
              "      div.appendChild(progress);\n",
              "      document.body.appendChild(div);\n",
              "\n",
              "      const buffers = [];\n",
              "      let downloaded = 0;\n",
              "\n",
              "      const channel = await google.colab.kernel.comms.open(id);\n",
              "      // Send a message to notify the kernel that we're ready.\n",
              "      channel.send({})\n",
              "\n",
              "      for await (const message of channel.messages) {\n",
              "        // Send a message to notify the kernel that we're ready.\n",
              "        channel.send({})\n",
              "        if (message.buffers) {\n",
              "          for (const buffer of message.buffers) {\n",
              "            buffers.push(buffer);\n",
              "            downloaded += buffer.byteLength;\n",
              "            progress.value = downloaded;\n",
              "          }\n",
              "        }\n",
              "      }\n",
              "      const blob = new Blob(buffers, {type: 'application/binary'});\n",
              "      const a = document.createElement('a');\n",
              "      a.href = window.URL.createObjectURL(blob);\n",
              "      a.download = filename;\n",
              "      div.appendChild(a);\n",
              "      a.click();\n",
              "      div.remove();\n",
              "    }\n",
              "  "
            ],
            "text/plain": [
              "<IPython.core.display.Javascript object>"
            ]
          },
          "metadata": {
            "tags": []
          }
        },
        {
          "output_type": "display_data",
          "data": {
            "application/javascript": [
              "download(\"download_ad089d70-aace-46d8-806b-abba955c3010\", \"test_toanalyze_orig_neg_labels.txt.gz\", 11277)"
            ],
            "text/plain": [
              "<IPython.core.display.Javascript object>"
            ]
          },
          "metadata": {
            "tags": []
          }
        },
        {
          "output_type": "display_data",
          "data": {
            "application/javascript": [
              "\n",
              "    async function download(id, filename, size) {\n",
              "      if (!google.colab.kernel.accessAllowed) {\n",
              "        return;\n",
              "      }\n",
              "      const div = document.createElement('div');\n",
              "      const label = document.createElement('label');\n",
              "      label.textContent = `Downloading \"${filename}\": `;\n",
              "      div.appendChild(label);\n",
              "      const progress = document.createElement('progress');\n",
              "      progress.max = size;\n",
              "      div.appendChild(progress);\n",
              "      document.body.appendChild(div);\n",
              "\n",
              "      const buffers = [];\n",
              "      let downloaded = 0;\n",
              "\n",
              "      const channel = await google.colab.kernel.comms.open(id);\n",
              "      // Send a message to notify the kernel that we're ready.\n",
              "      channel.send({})\n",
              "\n",
              "      for await (const message of channel.messages) {\n",
              "        // Send a message to notify the kernel that we're ready.\n",
              "        channel.send({})\n",
              "        if (message.buffers) {\n",
              "          for (const buffer of message.buffers) {\n",
              "            buffers.push(buffer);\n",
              "            downloaded += buffer.byteLength;\n",
              "            progress.value = downloaded;\n",
              "          }\n",
              "        }\n",
              "      }\n",
              "      const blob = new Blob(buffers, {type: 'application/binary'});\n",
              "      const a = document.createElement('a');\n",
              "      a.href = window.URL.createObjectURL(blob);\n",
              "      a.download = filename;\n",
              "      div.appendChild(a);\n",
              "      a.click();\n",
              "      div.remove();\n",
              "    }\n",
              "  "
            ],
            "text/plain": [
              "<IPython.core.display.Javascript object>"
            ]
          },
          "metadata": {
            "tags": []
          }
        },
        {
          "output_type": "display_data",
          "data": {
            "application/javascript": [
              "download(\"download_f9720f85-26ab-47e4-9302-2a2d8f44ba83\", \"test_toanalyze_groundtruth_orig_neg.txt.gz\", 71104)"
            ],
            "text/plain": [
              "<IPython.core.display.Javascript object>"
            ]
          },
          "metadata": {
            "tags": []
          }
        },
        {
          "output_type": "display_data",
          "data": {
            "application/javascript": [
              "\n",
              "    async function download(id, filename, size) {\n",
              "      if (!google.colab.kernel.accessAllowed) {\n",
              "        return;\n",
              "      }\n",
              "      const div = document.createElement('div');\n",
              "      const label = document.createElement('label');\n",
              "      label.textContent = `Downloading \"${filename}\": `;\n",
              "      div.appendChild(label);\n",
              "      const progress = document.createElement('progress');\n",
              "      progress.max = size;\n",
              "      div.appendChild(progress);\n",
              "      document.body.appendChild(div);\n",
              "\n",
              "      const buffers = [];\n",
              "      let downloaded = 0;\n",
              "\n",
              "      const channel = await google.colab.kernel.comms.open(id);\n",
              "      // Send a message to notify the kernel that we're ready.\n",
              "      channel.send({})\n",
              "\n",
              "      for await (const message of channel.messages) {\n",
              "        // Send a message to notify the kernel that we're ready.\n",
              "        channel.send({})\n",
              "        if (message.buffers) {\n",
              "          for (const buffer of message.buffers) {\n",
              "            buffers.push(buffer);\n",
              "            downloaded += buffer.byteLength;\n",
              "            progress.value = downloaded;\n",
              "          }\n",
              "        }\n",
              "      }\n",
              "      const blob = new Blob(buffers, {type: 'application/binary'});\n",
              "      const a = document.createElement('a');\n",
              "      a.href = window.URL.createObjectURL(blob);\n",
              "      a.download = filename;\n",
              "      div.appendChild(a);\n",
              "      a.click();\n",
              "      div.remove();\n",
              "    }\n",
              "  "
            ],
            "text/plain": [
              "<IPython.core.display.Javascript object>"
            ]
          },
          "metadata": {
            "tags": []
          }
        },
        {
          "output_type": "display_data",
          "data": {
            "application/javascript": [
              "download(\"download_7eedfd15-c1a8-4934-99d3-cbfbb2f7b521\", \"test_toanalyze_groundtruth_orig_pos.txt.gz\", 71446)"
            ],
            "text/plain": [
              "<IPython.core.display.Javascript object>"
            ]
          },
          "metadata": {
            "tags": []
          }
        },
        {
          "output_type": "display_data",
          "data": {
            "application/javascript": [
              "\n",
              "    async function download(id, filename, size) {\n",
              "      if (!google.colab.kernel.accessAllowed) {\n",
              "        return;\n",
              "      }\n",
              "      const div = document.createElement('div');\n",
              "      const label = document.createElement('label');\n",
              "      label.textContent = `Downloading \"${filename}\": `;\n",
              "      div.appendChild(label);\n",
              "      const progress = document.createElement('progress');\n",
              "      progress.max = size;\n",
              "      div.appendChild(progress);\n",
              "      document.body.appendChild(div);\n",
              "\n",
              "      const buffers = [];\n",
              "      let downloaded = 0;\n",
              "\n",
              "      const channel = await google.colab.kernel.comms.open(id);\n",
              "      // Send a message to notify the kernel that we're ready.\n",
              "      channel.send({})\n",
              "\n",
              "      for await (const message of channel.messages) {\n",
              "        // Send a message to notify the kernel that we're ready.\n",
              "        channel.send({})\n",
              "        if (message.buffers) {\n",
              "          for (const buffer of message.buffers) {\n",
              "            buffers.push(buffer);\n",
              "            downloaded += buffer.byteLength;\n",
              "            progress.value = downloaded;\n",
              "          }\n",
              "        }\n",
              "      }\n",
              "      const blob = new Blob(buffers, {type: 'application/binary'});\n",
              "      const a = document.createElement('a');\n",
              "      a.href = window.URL.createObjectURL(blob);\n",
              "      a.download = filename;\n",
              "      div.appendChild(a);\n",
              "      a.click();\n",
              "      div.remove();\n",
              "    }\n",
              "  "
            ],
            "text/plain": [
              "<IPython.core.display.Javascript object>"
            ]
          },
          "metadata": {
            "tags": []
          }
        },
        {
          "output_type": "display_data",
          "data": {
            "application/javascript": [
              "download(\"download_1f7c9199-b021-4566-93fc-7302f403b69d\", \"test_toanalyze_groundtruth_pos_interactions.txt.gz\", 71100)"
            ],
            "text/plain": [
              "<IPython.core.display.Javascript object>"
            ]
          },
          "metadata": {
            "tags": []
          }
        },
        {
          "output_type": "display_data",
          "data": {
            "application/javascript": [
              "\n",
              "    async function download(id, filename, size) {\n",
              "      if (!google.colab.kernel.accessAllowed) {\n",
              "        return;\n",
              "      }\n",
              "      const div = document.createElement('div');\n",
              "      const label = document.createElement('label');\n",
              "      label.textContent = `Downloading \"${filename}\": `;\n",
              "      div.appendChild(label);\n",
              "      const progress = document.createElement('progress');\n",
              "      progress.max = size;\n",
              "      div.appendChild(progress);\n",
              "      document.body.appendChild(div);\n",
              "\n",
              "      const buffers = [];\n",
              "      let downloaded = 0;\n",
              "\n",
              "      const channel = await google.colab.kernel.comms.open(id);\n",
              "      // Send a message to notify the kernel that we're ready.\n",
              "      channel.send({})\n",
              "\n",
              "      for await (const message of channel.messages) {\n",
              "        // Send a message to notify the kernel that we're ready.\n",
              "        channel.send({})\n",
              "        if (message.buffers) {\n",
              "          for (const buffer of message.buffers) {\n",
              "            buffers.push(buffer);\n",
              "            downloaded += buffer.byteLength;\n",
              "            progress.value = downloaded;\n",
              "          }\n",
              "        }\n",
              "      }\n",
              "      const blob = new Blob(buffers, {type: 'application/binary'});\n",
              "      const a = document.createElement('a');\n",
              "      a.href = window.URL.createObjectURL(blob);\n",
              "      a.download = filename;\n",
              "      div.appendChild(a);\n",
              "      a.click();\n",
              "      div.remove();\n",
              "    }\n",
              "  "
            ],
            "text/plain": [
              "<IPython.core.display.Javascript object>"
            ]
          },
          "metadata": {
            "tags": []
          }
        },
        {
          "output_type": "display_data",
          "data": {
            "application/javascript": [
              "download(\"download_4b28c3f5-b90b-45d5-b8c2-79b499765854\", \"test_toanalyze_groundtruth_neg_maineff.txt.gz\", 70342)"
            ],
            "text/plain": [
              "<IPython.core.display.Javascript object>"
            ]
          },
          "metadata": {
            "tags": []
          }
        },
        {
          "output_type": "display_data",
          "data": {
            "application/javascript": [
              "\n",
              "    async function download(id, filename, size) {\n",
              "      if (!google.colab.kernel.accessAllowed) {\n",
              "        return;\n",
              "      }\n",
              "      const div = document.createElement('div');\n",
              "      const label = document.createElement('label');\n",
              "      label.textContent = `Downloading \"${filename}\": `;\n",
              "      div.appendChild(label);\n",
              "      const progress = document.createElement('progress');\n",
              "      progress.max = size;\n",
              "      div.appendChild(progress);\n",
              "      document.body.appendChild(div);\n",
              "\n",
              "      const buffers = [];\n",
              "      let downloaded = 0;\n",
              "\n",
              "      const channel = await google.colab.kernel.comms.open(id);\n",
              "      // Send a message to notify the kernel that we're ready.\n",
              "      channel.send({})\n",
              "\n",
              "      for await (const message of channel.messages) {\n",
              "        // Send a message to notify the kernel that we're ready.\n",
              "        channel.send({})\n",
              "        if (message.buffers) {\n",
              "          for (const buffer of message.buffers) {\n",
              "            buffers.push(buffer);\n",
              "            downloaded += buffer.byteLength;\n",
              "            progress.value = downloaded;\n",
              "          }\n",
              "        }\n",
              "      }\n",
              "      const blob = new Blob(buffers, {type: 'application/binary'});\n",
              "      const a = document.createElement('a');\n",
              "      a.href = window.URL.createObjectURL(blob);\n",
              "      a.download = filename;\n",
              "      div.appendChild(a);\n",
              "      a.click();\n",
              "      div.remove();\n",
              "    }\n",
              "  "
            ],
            "text/plain": [
              "<IPython.core.display.Javascript object>"
            ]
          },
          "metadata": {
            "tags": []
          }
        },
        {
          "output_type": "display_data",
          "data": {
            "application/javascript": [
              "download(\"download_8c75beb8-55e4-4a79-957c-658e9f049d6d\", \"controltest_toanalyze_taloff_seqs.txt.gz\", 243024)"
            ],
            "text/plain": [
              "<IPython.core.display.Javascript object>"
            ]
          },
          "metadata": {
            "tags": []
          }
        },
        {
          "output_type": "display_data",
          "data": {
            "application/javascript": [
              "\n",
              "    async function download(id, filename, size) {\n",
              "      if (!google.colab.kernel.accessAllowed) {\n",
              "        return;\n",
              "      }\n",
              "      const div = document.createElement('div');\n",
              "      const label = document.createElement('label');\n",
              "      label.textContent = `Downloading \"${filename}\": `;\n",
              "      div.appendChild(label);\n",
              "      const progress = document.createElement('progress');\n",
              "      progress.max = size;\n",
              "      div.appendChild(progress);\n",
              "      document.body.appendChild(div);\n",
              "\n",
              "      const buffers = [];\n",
              "      let downloaded = 0;\n",
              "\n",
              "      const channel = await google.colab.kernel.comms.open(id);\n",
              "      // Send a message to notify the kernel that we're ready.\n",
              "      channel.send({})\n",
              "\n",
              "      for await (const message of channel.messages) {\n",
              "        // Send a message to notify the kernel that we're ready.\n",
              "        channel.send({})\n",
              "        if (message.buffers) {\n",
              "          for (const buffer of message.buffers) {\n",
              "            buffers.push(buffer);\n",
              "            downloaded += buffer.byteLength;\n",
              "            progress.value = downloaded;\n",
              "          }\n",
              "        }\n",
              "      }\n",
              "      const blob = new Blob(buffers, {type: 'application/binary'});\n",
              "      const a = document.createElement('a');\n",
              "      a.href = window.URL.createObjectURL(blob);\n",
              "      a.download = filename;\n",
              "      div.appendChild(a);\n",
              "      a.click();\n",
              "      div.remove();\n",
              "    }\n",
              "  "
            ],
            "text/plain": [
              "<IPython.core.display.Javascript object>"
            ]
          },
          "metadata": {
            "tags": []
          }
        },
        {
          "output_type": "display_data",
          "data": {
            "application/javascript": [
              "download(\"download_a309d9c9-4405-4528-9b08-fa89e7fa9784\", \"controltest_toanalyze_gataoff_seqs.txt.gz\", 242545)"
            ],
            "text/plain": [
              "<IPython.core.display.Javascript object>"
            ]
          },
          "metadata": {
            "tags": []
          }
        },
        {
          "output_type": "display_data",
          "data": {
            "application/javascript": [
              "\n",
              "    async function download(id, filename, size) {\n",
              "      if (!google.colab.kernel.accessAllowed) {\n",
              "        return;\n",
              "      }\n",
              "      const div = document.createElement('div');\n",
              "      const label = document.createElement('label');\n",
              "      label.textContent = `Downloading \"${filename}\": `;\n",
              "      div.appendChild(label);\n",
              "      const progress = document.createElement('progress');\n",
              "      progress.max = size;\n",
              "      div.appendChild(progress);\n",
              "      document.body.appendChild(div);\n",
              "\n",
              "      const buffers = [];\n",
              "      let downloaded = 0;\n",
              "\n",
              "      const channel = await google.colab.kernel.comms.open(id);\n",
              "      // Send a message to notify the kernel that we're ready.\n",
              "      channel.send({})\n",
              "\n",
              "      for await (const message of channel.messages) {\n",
              "        // Send a message to notify the kernel that we're ready.\n",
              "        channel.send({})\n",
              "        if (message.buffers) {\n",
              "          for (const buffer of message.buffers) {\n",
              "            buffers.push(buffer);\n",
              "            downloaded += buffer.byteLength;\n",
              "            progress.value = downloaded;\n",
              "          }\n",
              "        }\n",
              "      }\n",
              "      const blob = new Blob(buffers, {type: 'application/binary'});\n",
              "      const a = document.createElement('a');\n",
              "      a.href = window.URL.createObjectURL(blob);\n",
              "      a.download = filename;\n",
              "      div.appendChild(a);\n",
              "      a.click();\n",
              "      div.remove();\n",
              "    }\n",
              "  "
            ],
            "text/plain": [
              "<IPython.core.display.Javascript object>"
            ]
          },
          "metadata": {
            "tags": []
          }
        },
        {
          "output_type": "display_data",
          "data": {
            "application/javascript": [
              "download(\"download_b4706b24-1b1f-4763-868e-122c3d3fba2d\", \"controltest_toanalyze_bothoff_seqs.txt.gz\", 243765)"
            ],
            "text/plain": [
              "<IPython.core.display.Javascript object>"
            ]
          },
          "metadata": {
            "tags": []
          }
        },
        {
          "output_type": "display_data",
          "data": {
            "application/javascript": [
              "\n",
              "    async function download(id, filename, size) {\n",
              "      if (!google.colab.kernel.accessAllowed) {\n",
              "        return;\n",
              "      }\n",
              "      const div = document.createElement('div');\n",
              "      const label = document.createElement('label');\n",
              "      label.textContent = `Downloading \"${filename}\": `;\n",
              "      div.appendChild(label);\n",
              "      const progress = document.createElement('progress');\n",
              "      progress.max = size;\n",
              "      div.appendChild(progress);\n",
              "      document.body.appendChild(div);\n",
              "\n",
              "      const buffers = [];\n",
              "      let downloaded = 0;\n",
              "\n",
              "      const channel = await google.colab.kernel.comms.open(id);\n",
              "      // Send a message to notify the kernel that we're ready.\n",
              "      channel.send({})\n",
              "\n",
              "      for await (const message of channel.messages) {\n",
              "        // Send a message to notify the kernel that we're ready.\n",
              "        channel.send({})\n",
              "        if (message.buffers) {\n",
              "          for (const buffer of message.buffers) {\n",
              "            buffers.push(buffer);\n",
              "            downloaded += buffer.byteLength;\n",
              "            progress.value = downloaded;\n",
              "          }\n",
              "        }\n",
              "      }\n",
              "      const blob = new Blob(buffers, {type: 'application/binary'});\n",
              "      const a = document.createElement('a');\n",
              "      a.href = window.URL.createObjectURL(blob);\n",
              "      a.download = filename;\n",
              "      div.appendChild(a);\n",
              "      a.click();\n",
              "      div.remove();\n",
              "    }\n",
              "  "
            ],
            "text/plain": [
              "<IPython.core.display.Javascript object>"
            ]
          },
          "metadata": {
            "tags": []
          }
        },
        {
          "output_type": "display_data",
          "data": {
            "application/javascript": [
              "download(\"download_52306055-e008-4cd6-8ac2-47cdac1ef6b1\", \"train_toanalyze_orig_seqs.txt.gz\", 195346)"
            ],
            "text/plain": [
              "<IPython.core.display.Javascript object>"
            ]
          },
          "metadata": {
            "tags": []
          }
        },
        {
          "output_type": "display_data",
          "data": {
            "application/javascript": [
              "\n",
              "    async function download(id, filename, size) {\n",
              "      if (!google.colab.kernel.accessAllowed) {\n",
              "        return;\n",
              "      }\n",
              "      const div = document.createElement('div');\n",
              "      const label = document.createElement('label');\n",
              "      label.textContent = `Downloading \"${filename}\": `;\n",
              "      div.appendChild(label);\n",
              "      const progress = document.createElement('progress');\n",
              "      progress.max = size;\n",
              "      div.appendChild(progress);\n",
              "      document.body.appendChild(div);\n",
              "\n",
              "      const buffers = [];\n",
              "      let downloaded = 0;\n",
              "\n",
              "      const channel = await google.colab.kernel.comms.open(id);\n",
              "      // Send a message to notify the kernel that we're ready.\n",
              "      channel.send({})\n",
              "\n",
              "      for await (const message of channel.messages) {\n",
              "        // Send a message to notify the kernel that we're ready.\n",
              "        channel.send({})\n",
              "        if (message.buffers) {\n",
              "          for (const buffer of message.buffers) {\n",
              "            buffers.push(buffer);\n",
              "            downloaded += buffer.byteLength;\n",
              "            progress.value = downloaded;\n",
              "          }\n",
              "        }\n",
              "      }\n",
              "      const blob = new Blob(buffers, {type: 'application/binary'});\n",
              "      const a = document.createElement('a');\n",
              "      a.href = window.URL.createObjectURL(blob);\n",
              "      a.download = filename;\n",
              "      div.appendChild(a);\n",
              "      a.click();\n",
              "      div.remove();\n",
              "    }\n",
              "  "
            ],
            "text/plain": [
              "<IPython.core.display.Javascript object>"
            ]
          },
          "metadata": {
            "tags": []
          }
        },
        {
          "output_type": "display_data",
          "data": {
            "application/javascript": [
              "download(\"download_6035145b-c9a7-43aa-b1b5-acaee6901cc9\", \"train_toanalyze_taloff_seqs.txt.gz\", 197874)"
            ],
            "text/plain": [
              "<IPython.core.display.Javascript object>"
            ]
          },
          "metadata": {
            "tags": []
          }
        },
        {
          "output_type": "display_data",
          "data": {
            "application/javascript": [
              "\n",
              "    async function download(id, filename, size) {\n",
              "      if (!google.colab.kernel.accessAllowed) {\n",
              "        return;\n",
              "      }\n",
              "      const div = document.createElement('div');\n",
              "      const label = document.createElement('label');\n",
              "      label.textContent = `Downloading \"${filename}\": `;\n",
              "      div.appendChild(label);\n",
              "      const progress = document.createElement('progress');\n",
              "      progress.max = size;\n",
              "      div.appendChild(progress);\n",
              "      document.body.appendChild(div);\n",
              "\n",
              "      const buffers = [];\n",
              "      let downloaded = 0;\n",
              "\n",
              "      const channel = await google.colab.kernel.comms.open(id);\n",
              "      // Send a message to notify the kernel that we're ready.\n",
              "      channel.send({})\n",
              "\n",
              "      for await (const message of channel.messages) {\n",
              "        // Send a message to notify the kernel that we're ready.\n",
              "        channel.send({})\n",
              "        if (message.buffers) {\n",
              "          for (const buffer of message.buffers) {\n",
              "            buffers.push(buffer);\n",
              "            downloaded += buffer.byteLength;\n",
              "            progress.value = downloaded;\n",
              "          }\n",
              "        }\n",
              "      }\n",
              "      const blob = new Blob(buffers, {type: 'application/binary'});\n",
              "      const a = document.createElement('a');\n",
              "      a.href = window.URL.createObjectURL(blob);\n",
              "      a.download = filename;\n",
              "      div.appendChild(a);\n",
              "      a.click();\n",
              "      div.remove();\n",
              "    }\n",
              "  "
            ],
            "text/plain": [
              "<IPython.core.display.Javascript object>"
            ]
          },
          "metadata": {
            "tags": []
          }
        },
        {
          "output_type": "display_data",
          "data": {
            "application/javascript": [
              "download(\"download_45e40043-1536-455e-8c7e-aadbc126e35d\", \"train_toanalyze_gataoff_seqs.txt.gz\", 196983)"
            ],
            "text/plain": [
              "<IPython.core.display.Javascript object>"
            ]
          },
          "metadata": {
            "tags": []
          }
        },
        {
          "output_type": "display_data",
          "data": {
            "application/javascript": [
              "\n",
              "    async function download(id, filename, size) {\n",
              "      if (!google.colab.kernel.accessAllowed) {\n",
              "        return;\n",
              "      }\n",
              "      const div = document.createElement('div');\n",
              "      const label = document.createElement('label');\n",
              "      label.textContent = `Downloading \"${filename}\": `;\n",
              "      div.appendChild(label);\n",
              "      const progress = document.createElement('progress');\n",
              "      progress.max = size;\n",
              "      div.appendChild(progress);\n",
              "      document.body.appendChild(div);\n",
              "\n",
              "      const buffers = [];\n",
              "      let downloaded = 0;\n",
              "\n",
              "      const channel = await google.colab.kernel.comms.open(id);\n",
              "      // Send a message to notify the kernel that we're ready.\n",
              "      channel.send({})\n",
              "\n",
              "      for await (const message of channel.messages) {\n",
              "        // Send a message to notify the kernel that we're ready.\n",
              "        channel.send({})\n",
              "        if (message.buffers) {\n",
              "          for (const buffer of message.buffers) {\n",
              "            buffers.push(buffer);\n",
              "            downloaded += buffer.byteLength;\n",
              "            progress.value = downloaded;\n",
              "          }\n",
              "        }\n",
              "      }\n",
              "      const blob = new Blob(buffers, {type: 'application/binary'});\n",
              "      const a = document.createElement('a');\n",
              "      a.href = window.URL.createObjectURL(blob);\n",
              "      a.download = filename;\n",
              "      div.appendChild(a);\n",
              "      a.click();\n",
              "      div.remove();\n",
              "    }\n",
              "  "
            ],
            "text/plain": [
              "<IPython.core.display.Javascript object>"
            ]
          },
          "metadata": {
            "tags": []
          }
        },
        {
          "output_type": "display_data",
          "data": {
            "application/javascript": [
              "download(\"download_76725632-9c7f-449b-a3a3-f9de5af74dfe\", \"train_toanalyze_bothoff_seqs.txt.gz\", 198943)"
            ],
            "text/plain": [
              "<IPython.core.display.Javascript object>"
            ]
          },
          "metadata": {
            "tags": []
          }
        },
        {
          "output_type": "display_data",
          "data": {
            "application/javascript": [
              "\n",
              "    async function download(id, filename, size) {\n",
              "      if (!google.colab.kernel.accessAllowed) {\n",
              "        return;\n",
              "      }\n",
              "      const div = document.createElement('div');\n",
              "      const label = document.createElement('label');\n",
              "      label.textContent = `Downloading \"${filename}\": `;\n",
              "      div.appendChild(label);\n",
              "      const progress = document.createElement('progress');\n",
              "      progress.max = size;\n",
              "      div.appendChild(progress);\n",
              "      document.body.appendChild(div);\n",
              "\n",
              "      const buffers = [];\n",
              "      let downloaded = 0;\n",
              "\n",
              "      const channel = await google.colab.kernel.comms.open(id);\n",
              "      // Send a message to notify the kernel that we're ready.\n",
              "      channel.send({})\n",
              "\n",
              "      for await (const message of channel.messages) {\n",
              "        // Send a message to notify the kernel that we're ready.\n",
              "        channel.send({})\n",
              "        if (message.buffers) {\n",
              "          for (const buffer of message.buffers) {\n",
              "            buffers.push(buffer);\n",
              "            downloaded += buffer.byteLength;\n",
              "            progress.value = downloaded;\n",
              "          }\n",
              "        }\n",
              "      }\n",
              "      const blob = new Blob(buffers, {type: 'application/binary'});\n",
              "      const a = document.createElement('a');\n",
              "      a.href = window.URL.createObjectURL(blob);\n",
              "      a.download = filename;\n",
              "      div.appendChild(a);\n",
              "      a.click();\n",
              "      div.remove();\n",
              "    }\n",
              "  "
            ],
            "text/plain": [
              "<IPython.core.display.Javascript object>"
            ]
          },
          "metadata": {
            "tags": []
          }
        },
        {
          "output_type": "display_data",
          "data": {
            "application/javascript": [
              "download(\"download_30e0891a-5a63-4be0-aa87-f68d5022b32a\", \"train_toanalyze_orig_pos_labels.txt.gz\", 9581)"
            ],
            "text/plain": [
              "<IPython.core.display.Javascript object>"
            ]
          },
          "metadata": {
            "tags": []
          }
        },
        {
          "output_type": "display_data",
          "data": {
            "application/javascript": [
              "\n",
              "    async function download(id, filename, size) {\n",
              "      if (!google.colab.kernel.accessAllowed) {\n",
              "        return;\n",
              "      }\n",
              "      const div = document.createElement('div');\n",
              "      const label = document.createElement('label');\n",
              "      label.textContent = `Downloading \"${filename}\": `;\n",
              "      div.appendChild(label);\n",
              "      const progress = document.createElement('progress');\n",
              "      progress.max = size;\n",
              "      div.appendChild(progress);\n",
              "      document.body.appendChild(div);\n",
              "\n",
              "      const buffers = [];\n",
              "      let downloaded = 0;\n",
              "\n",
              "      const channel = await google.colab.kernel.comms.open(id);\n",
              "      // Send a message to notify the kernel that we're ready.\n",
              "      channel.send({})\n",
              "\n",
              "      for await (const message of channel.messages) {\n",
              "        // Send a message to notify the kernel that we're ready.\n",
              "        channel.send({})\n",
              "        if (message.buffers) {\n",
              "          for (const buffer of message.buffers) {\n",
              "            buffers.push(buffer);\n",
              "            downloaded += buffer.byteLength;\n",
              "            progress.value = downloaded;\n",
              "          }\n",
              "        }\n",
              "      }\n",
              "      const blob = new Blob(buffers, {type: 'application/binary'});\n",
              "      const a = document.createElement('a');\n",
              "      a.href = window.URL.createObjectURL(blob);\n",
              "      a.download = filename;\n",
              "      div.appendChild(a);\n",
              "      a.click();\n",
              "      div.remove();\n",
              "    }\n",
              "  "
            ],
            "text/plain": [
              "<IPython.core.display.Javascript object>"
            ]
          },
          "metadata": {
            "tags": []
          }
        },
        {
          "output_type": "display_data",
          "data": {
            "application/javascript": [
              "download(\"download_cb3277c3-595d-49dd-a52d-47d97876b271\", \"train_toanalyze_orig_neg_labels.txt.gz\", 9162)"
            ],
            "text/plain": [
              "<IPython.core.display.Javascript object>"
            ]
          },
          "metadata": {
            "tags": []
          }
        },
        {
          "output_type": "display_data",
          "data": {
            "application/javascript": [
              "\n",
              "    async function download(id, filename, size) {\n",
              "      if (!google.colab.kernel.accessAllowed) {\n",
              "        return;\n",
              "      }\n",
              "      const div = document.createElement('div');\n",
              "      const label = document.createElement('label');\n",
              "      label.textContent = `Downloading \"${filename}\": `;\n",
              "      div.appendChild(label);\n",
              "      const progress = document.createElement('progress');\n",
              "      progress.max = size;\n",
              "      div.appendChild(progress);\n",
              "      document.body.appendChild(div);\n",
              "\n",
              "      const buffers = [];\n",
              "      let downloaded = 0;\n",
              "\n",
              "      const channel = await google.colab.kernel.comms.open(id);\n",
              "      // Send a message to notify the kernel that we're ready.\n",
              "      channel.send({})\n",
              "\n",
              "      for await (const message of channel.messages) {\n",
              "        // Send a message to notify the kernel that we're ready.\n",
              "        channel.send({})\n",
              "        if (message.buffers) {\n",
              "          for (const buffer of message.buffers) {\n",
              "            buffers.push(buffer);\n",
              "            downloaded += buffer.byteLength;\n",
              "            progress.value = downloaded;\n",
              "          }\n",
              "        }\n",
              "      }\n",
              "      const blob = new Blob(buffers, {type: 'application/binary'});\n",
              "      const a = document.createElement('a');\n",
              "      a.href = window.URL.createObjectURL(blob);\n",
              "      a.download = filename;\n",
              "      div.appendChild(a);\n",
              "      a.click();\n",
              "      div.remove();\n",
              "    }\n",
              "  "
            ],
            "text/plain": [
              "<IPython.core.display.Javascript object>"
            ]
          },
          "metadata": {
            "tags": []
          }
        },
        {
          "output_type": "display_data",
          "data": {
            "application/javascript": [
              "download(\"download_e06ced22-5449-4636-b0c9-75ef4a32cbd8\", \"controltrain_toanalyze_taloff_seqs.txt.gz\", 196463)"
            ],
            "text/plain": [
              "<IPython.core.display.Javascript object>"
            ]
          },
          "metadata": {
            "tags": []
          }
        },
        {
          "output_type": "display_data",
          "data": {
            "application/javascript": [
              "\n",
              "    async function download(id, filename, size) {\n",
              "      if (!google.colab.kernel.accessAllowed) {\n",
              "        return;\n",
              "      }\n",
              "      const div = document.createElement('div');\n",
              "      const label = document.createElement('label');\n",
              "      label.textContent = `Downloading \"${filename}\": `;\n",
              "      div.appendChild(label);\n",
              "      const progress = document.createElement('progress');\n",
              "      progress.max = size;\n",
              "      div.appendChild(progress);\n",
              "      document.body.appendChild(div);\n",
              "\n",
              "      const buffers = [];\n",
              "      let downloaded = 0;\n",
              "\n",
              "      const channel = await google.colab.kernel.comms.open(id);\n",
              "      // Send a message to notify the kernel that we're ready.\n",
              "      channel.send({})\n",
              "\n",
              "      for await (const message of channel.messages) {\n",
              "        // Send a message to notify the kernel that we're ready.\n",
              "        channel.send({})\n",
              "        if (message.buffers) {\n",
              "          for (const buffer of message.buffers) {\n",
              "            buffers.push(buffer);\n",
              "            downloaded += buffer.byteLength;\n",
              "            progress.value = downloaded;\n",
              "          }\n",
              "        }\n",
              "      }\n",
              "      const blob = new Blob(buffers, {type: 'application/binary'});\n",
              "      const a = document.createElement('a');\n",
              "      a.href = window.URL.createObjectURL(blob);\n",
              "      a.download = filename;\n",
              "      div.appendChild(a);\n",
              "      a.click();\n",
              "      div.remove();\n",
              "    }\n",
              "  "
            ],
            "text/plain": [
              "<IPython.core.display.Javascript object>"
            ]
          },
          "metadata": {
            "tags": []
          }
        },
        {
          "output_type": "display_data",
          "data": {
            "application/javascript": [
              "download(\"download_483b142d-56d6-4e7a-a537-57b96f540ceb\", \"controltrain_toanalyze_gataoff_seqs.txt.gz\", 196285)"
            ],
            "text/plain": [
              "<IPython.core.display.Javascript object>"
            ]
          },
          "metadata": {
            "tags": []
          }
        },
        {
          "output_type": "display_data",
          "data": {
            "application/javascript": [
              "\n",
              "    async function download(id, filename, size) {\n",
              "      if (!google.colab.kernel.accessAllowed) {\n",
              "        return;\n",
              "      }\n",
              "      const div = document.createElement('div');\n",
              "      const label = document.createElement('label');\n",
              "      label.textContent = `Downloading \"${filename}\": `;\n",
              "      div.appendChild(label);\n",
              "      const progress = document.createElement('progress');\n",
              "      progress.max = size;\n",
              "      div.appendChild(progress);\n",
              "      document.body.appendChild(div);\n",
              "\n",
              "      const buffers = [];\n",
              "      let downloaded = 0;\n",
              "\n",
              "      const channel = await google.colab.kernel.comms.open(id);\n",
              "      // Send a message to notify the kernel that we're ready.\n",
              "      channel.send({})\n",
              "\n",
              "      for await (const message of channel.messages) {\n",
              "        // Send a message to notify the kernel that we're ready.\n",
              "        channel.send({})\n",
              "        if (message.buffers) {\n",
              "          for (const buffer of message.buffers) {\n",
              "            buffers.push(buffer);\n",
              "            downloaded += buffer.byteLength;\n",
              "            progress.value = downloaded;\n",
              "          }\n",
              "        }\n",
              "      }\n",
              "      const blob = new Blob(buffers, {type: 'application/binary'});\n",
              "      const a = document.createElement('a');\n",
              "      a.href = window.URL.createObjectURL(blob);\n",
              "      a.download = filename;\n",
              "      div.appendChild(a);\n",
              "      a.click();\n",
              "      div.remove();\n",
              "    }\n",
              "  "
            ],
            "text/plain": [
              "<IPython.core.display.Javascript object>"
            ]
          },
          "metadata": {
            "tags": []
          }
        },
        {
          "output_type": "display_data",
          "data": {
            "application/javascript": [
              "download(\"download_3fd3a97a-86a7-46be-9b3c-23b24a028b1c\", \"controltrain_toanalyze_bothoff_seqs.txt.gz\", 197363)"
            ],
            "text/plain": [
              "<IPython.core.display.Javascript object>"
            ]
          },
          "metadata": {
            "tags": []
          }
        },
        {
          "output_type": "display_data",
          "data": {
            "application/javascript": [
              "\n",
              "    async function download(id, filename, size) {\n",
              "      if (!google.colab.kernel.accessAllowed) {\n",
              "        return;\n",
              "      }\n",
              "      const div = document.createElement('div');\n",
              "      const label = document.createElement('label');\n",
              "      label.textContent = `Downloading \"${filename}\": `;\n",
              "      div.appendChild(label);\n",
              "      const progress = document.createElement('progress');\n",
              "      progress.max = size;\n",
              "      div.appendChild(progress);\n",
              "      document.body.appendChild(div);\n",
              "\n",
              "      const buffers = [];\n",
              "      let downloaded = 0;\n",
              "\n",
              "      const channel = await google.colab.kernel.comms.open(id);\n",
              "      // Send a message to notify the kernel that we're ready.\n",
              "      channel.send({})\n",
              "\n",
              "      for await (const message of channel.messages) {\n",
              "        // Send a message to notify the kernel that we're ready.\n",
              "        channel.send({})\n",
              "        if (message.buffers) {\n",
              "          for (const buffer of message.buffers) {\n",
              "            buffers.push(buffer);\n",
              "            downloaded += buffer.byteLength;\n",
              "            progress.value = downloaded;\n",
              "          }\n",
              "        }\n",
              "      }\n",
              "      const blob = new Blob(buffers, {type: 'application/binary'});\n",
              "      const a = document.createElement('a');\n",
              "      a.href = window.URL.createObjectURL(blob);\n",
              "      a.download = filename;\n",
              "      div.appendChild(a);\n",
              "      a.click();\n",
              "      div.remove();\n",
              "    }\n",
              "  "
            ],
            "text/plain": [
              "<IPython.core.display.Javascript object>"
            ]
          },
          "metadata": {
            "tags": []
          }
        },
        {
          "output_type": "display_data",
          "data": {
            "application/javascript": [
              "download(\"download_8c461925-9358-434f-a248-fd40cb2ae2a7\", \"shuff_toanalyze_orig_seqs.txt.gz\", 245809)"
            ],
            "text/plain": [
              "<IPython.core.display.Javascript object>"
            ]
          },
          "metadata": {
            "tags": []
          }
        },
        {
          "output_type": "display_data",
          "data": {
            "application/javascript": [
              "\n",
              "    async function download(id, filename, size) {\n",
              "      if (!google.colab.kernel.accessAllowed) {\n",
              "        return;\n",
              "      }\n",
              "      const div = document.createElement('div');\n",
              "      const label = document.createElement('label');\n",
              "      label.textContent = `Downloading \"${filename}\": `;\n",
              "      div.appendChild(label);\n",
              "      const progress = document.createElement('progress');\n",
              "      progress.max = size;\n",
              "      div.appendChild(progress);\n",
              "      document.body.appendChild(div);\n",
              "\n",
              "      const buffers = [];\n",
              "      let downloaded = 0;\n",
              "\n",
              "      const channel = await google.colab.kernel.comms.open(id);\n",
              "      // Send a message to notify the kernel that we're ready.\n",
              "      channel.send({})\n",
              "\n",
              "      for await (const message of channel.messages) {\n",
              "        // Send a message to notify the kernel that we're ready.\n",
              "        channel.send({})\n",
              "        if (message.buffers) {\n",
              "          for (const buffer of message.buffers) {\n",
              "            buffers.push(buffer);\n",
              "            downloaded += buffer.byteLength;\n",
              "            progress.value = downloaded;\n",
              "          }\n",
              "        }\n",
              "      }\n",
              "      const blob = new Blob(buffers, {type: 'application/binary'});\n",
              "      const a = document.createElement('a');\n",
              "      a.href = window.URL.createObjectURL(blob);\n",
              "      a.download = filename;\n",
              "      div.appendChild(a);\n",
              "      a.click();\n",
              "      div.remove();\n",
              "    }\n",
              "  "
            ],
            "text/plain": [
              "<IPython.core.display.Javascript object>"
            ]
          },
          "metadata": {
            "tags": []
          }
        },
        {
          "output_type": "display_data",
          "data": {
            "application/javascript": [
              "download(\"download_29203ed2-3221-4ed7-a813-00ec447072ab\", \"shuff_toanalyze_taloff_seqs.txt.gz\", 245804)"
            ],
            "text/plain": [
              "<IPython.core.display.Javascript object>"
            ]
          },
          "metadata": {
            "tags": []
          }
        },
        {
          "output_type": "display_data",
          "data": {
            "application/javascript": [
              "\n",
              "    async function download(id, filename, size) {\n",
              "      if (!google.colab.kernel.accessAllowed) {\n",
              "        return;\n",
              "      }\n",
              "      const div = document.createElement('div');\n",
              "      const label = document.createElement('label');\n",
              "      label.textContent = `Downloading \"${filename}\": `;\n",
              "      div.appendChild(label);\n",
              "      const progress = document.createElement('progress');\n",
              "      progress.max = size;\n",
              "      div.appendChild(progress);\n",
              "      document.body.appendChild(div);\n",
              "\n",
              "      const buffers = [];\n",
              "      let downloaded = 0;\n",
              "\n",
              "      const channel = await google.colab.kernel.comms.open(id);\n",
              "      // Send a message to notify the kernel that we're ready.\n",
              "      channel.send({})\n",
              "\n",
              "      for await (const message of channel.messages) {\n",
              "        // Send a message to notify the kernel that we're ready.\n",
              "        channel.send({})\n",
              "        if (message.buffers) {\n",
              "          for (const buffer of message.buffers) {\n",
              "            buffers.push(buffer);\n",
              "            downloaded += buffer.byteLength;\n",
              "            progress.value = downloaded;\n",
              "          }\n",
              "        }\n",
              "      }\n",
              "      const blob = new Blob(buffers, {type: 'application/binary'});\n",
              "      const a = document.createElement('a');\n",
              "      a.href = window.URL.createObjectURL(blob);\n",
              "      a.download = filename;\n",
              "      div.appendChild(a);\n",
              "      a.click();\n",
              "      div.remove();\n",
              "    }\n",
              "  "
            ],
            "text/plain": [
              "<IPython.core.display.Javascript object>"
            ]
          },
          "metadata": {
            "tags": []
          }
        },
        {
          "output_type": "display_data",
          "data": {
            "application/javascript": [
              "download(\"download_97b0cc0c-e210-4c59-bf73-05a6269fad5c\", \"shuff_toanalyze_gataoff_seqs.txt.gz\", 245790)"
            ],
            "text/plain": [
              "<IPython.core.display.Javascript object>"
            ]
          },
          "metadata": {
            "tags": []
          }
        },
        {
          "output_type": "display_data",
          "data": {
            "application/javascript": [
              "\n",
              "    async function download(id, filename, size) {\n",
              "      if (!google.colab.kernel.accessAllowed) {\n",
              "        return;\n",
              "      }\n",
              "      const div = document.createElement('div');\n",
              "      const label = document.createElement('label');\n",
              "      label.textContent = `Downloading \"${filename}\": `;\n",
              "      div.appendChild(label);\n",
              "      const progress = document.createElement('progress');\n",
              "      progress.max = size;\n",
              "      div.appendChild(progress);\n",
              "      document.body.appendChild(div);\n",
              "\n",
              "      const buffers = [];\n",
              "      let downloaded = 0;\n",
              "\n",
              "      const channel = await google.colab.kernel.comms.open(id);\n",
              "      // Send a message to notify the kernel that we're ready.\n",
              "      channel.send({})\n",
              "\n",
              "      for await (const message of channel.messages) {\n",
              "        // Send a message to notify the kernel that we're ready.\n",
              "        channel.send({})\n",
              "        if (message.buffers) {\n",
              "          for (const buffer of message.buffers) {\n",
              "            buffers.push(buffer);\n",
              "            downloaded += buffer.byteLength;\n",
              "            progress.value = downloaded;\n",
              "          }\n",
              "        }\n",
              "      }\n",
              "      const blob = new Blob(buffers, {type: 'application/binary'});\n",
              "      const a = document.createElement('a');\n",
              "      a.href = window.URL.createObjectURL(blob);\n",
              "      a.download = filename;\n",
              "      div.appendChild(a);\n",
              "      a.click();\n",
              "      div.remove();\n",
              "    }\n",
              "  "
            ],
            "text/plain": [
              "<IPython.core.display.Javascript object>"
            ]
          },
          "metadata": {
            "tags": []
          }
        },
        {
          "output_type": "display_data",
          "data": {
            "application/javascript": [
              "download(\"download_3c9e336e-d671-4b81-8cb0-1c6ad1c2fe31\", \"shuff_toanalyze_bothoff_seqs.txt.gz\", 245667)"
            ],
            "text/plain": [
              "<IPython.core.display.Javascript object>"
            ]
          },
          "metadata": {
            "tags": []
          }
        },
        {
          "output_type": "display_data",
          "data": {
            "application/javascript": [
              "\n",
              "    async function download(id, filename, size) {\n",
              "      if (!google.colab.kernel.accessAllowed) {\n",
              "        return;\n",
              "      }\n",
              "      const div = document.createElement('div');\n",
              "      const label = document.createElement('label');\n",
              "      label.textContent = `Downloading \"${filename}\": `;\n",
              "      div.appendChild(label);\n",
              "      const progress = document.createElement('progress');\n",
              "      progress.max = size;\n",
              "      div.appendChild(progress);\n",
              "      document.body.appendChild(div);\n",
              "\n",
              "      const buffers = [];\n",
              "      let downloaded = 0;\n",
              "\n",
              "      const channel = await google.colab.kernel.comms.open(id);\n",
              "      // Send a message to notify the kernel that we're ready.\n",
              "      channel.send({})\n",
              "\n",
              "      for await (const message of channel.messages) {\n",
              "        // Send a message to notify the kernel that we're ready.\n",
              "        channel.send({})\n",
              "        if (message.buffers) {\n",
              "          for (const buffer of message.buffers) {\n",
              "            buffers.push(buffer);\n",
              "            downloaded += buffer.byteLength;\n",
              "            progress.value = downloaded;\n",
              "          }\n",
              "        }\n",
              "      }\n",
              "      const blob = new Blob(buffers, {type: 'application/binary'});\n",
              "      const a = document.createElement('a');\n",
              "      a.href = window.URL.createObjectURL(blob);\n",
              "      a.download = filename;\n",
              "      div.appendChild(a);\n",
              "      a.click();\n",
              "      div.remove();\n",
              "    }\n",
              "  "
            ],
            "text/plain": [
              "<IPython.core.display.Javascript object>"
            ]
          },
          "metadata": {
            "tags": []
          }
        },
        {
          "output_type": "display_data",
          "data": {
            "application/javascript": [
              "download(\"download_6d3416f7-4f48-4043-b724-69ae23f7df27\", \"shuff_toanalyze_orig_oraclepred_neg.txt.gz\", 72780)"
            ],
            "text/plain": [
              "<IPython.core.display.Javascript object>"
            ]
          },
          "metadata": {
            "tags": []
          }
        },
        {
          "output_type": "display_data",
          "data": {
            "application/javascript": [
              "\n",
              "    async function download(id, filename, size) {\n",
              "      if (!google.colab.kernel.accessAllowed) {\n",
              "        return;\n",
              "      }\n",
              "      const div = document.createElement('div');\n",
              "      const label = document.createElement('label');\n",
              "      label.textContent = `Downloading \"${filename}\": `;\n",
              "      div.appendChild(label);\n",
              "      const progress = document.createElement('progress');\n",
              "      progress.max = size;\n",
              "      div.appendChild(progress);\n",
              "      document.body.appendChild(div);\n",
              "\n",
              "      const buffers = [];\n",
              "      let downloaded = 0;\n",
              "\n",
              "      const channel = await google.colab.kernel.comms.open(id);\n",
              "      // Send a message to notify the kernel that we're ready.\n",
              "      channel.send({})\n",
              "\n",
              "      for await (const message of channel.messages) {\n",
              "        // Send a message to notify the kernel that we're ready.\n",
              "        channel.send({})\n",
              "        if (message.buffers) {\n",
              "          for (const buffer of message.buffers) {\n",
              "            buffers.push(buffer);\n",
              "            downloaded += buffer.byteLength;\n",
              "            progress.value = downloaded;\n",
              "          }\n",
              "        }\n",
              "      }\n",
              "      const blob = new Blob(buffers, {type: 'application/binary'});\n",
              "      const a = document.createElement('a');\n",
              "      a.href = window.URL.createObjectURL(blob);\n",
              "      a.download = filename;\n",
              "      div.appendChild(a);\n",
              "      a.click();\n",
              "      div.remove();\n",
              "    }\n",
              "  "
            ],
            "text/plain": [
              "<IPython.core.display.Javascript object>"
            ]
          },
          "metadata": {
            "tags": []
          }
        },
        {
          "output_type": "display_data",
          "data": {
            "application/javascript": [
              "download(\"download_a222715c-8bcb-497c-b5fe-1543244a6763\", \"shuff_toanalyze_orig_oraclepred_pos.txt.gz\", 73395)"
            ],
            "text/plain": [
              "<IPython.core.display.Javascript object>"
            ]
          },
          "metadata": {
            "tags": []
          }
        }
      ]
    },
    {
      "cell_type": "code",
      "metadata": {
        "id": "yhoGpicRIUiI",
        "colab_type": "code",
        "colab": {}
      },
      "source": [
        ""
      ],
      "execution_count": null,
      "outputs": []
    }
  ]
}